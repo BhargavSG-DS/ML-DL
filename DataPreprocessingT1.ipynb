{
    "metadata": {
        "kernelspec": {
            "name": "python3",
            "display_name": "Python 3 (ipykernel)",
            "language": "python"
        },
        "language_info": {
            "name": "python",
            "version": "3.10.4",
            "mimetype": "text/x-python",
            "codemirror_mode": {
                "name": "ipython",
                "version": 3
            },
            "pygments_lexer": "ipython3",
            "nbconvert_exporter": "python",
            "file_extension": ".py"
        }
    },
    "nbformat_minor": 2,
    "nbformat": 4,
    "cells": [
        {
            "cell_type": "code",
            "source": [
                "import pandas as pd\r\n",
                "import numpy as np\r\n",
                "import matplotlib.pyplot as plt"
            ],
            "metadata": {
                "azdata_cell_guid": "c531f7cb-9953-44cb-b829-09ccac5b5e4a",
                "language": "python"
            },
            "outputs": [],
            "execution_count": 2
        },
        {
            "cell_type": "code",
            "source": [
                "dataset = pd.read_csv(\"Data.csv\") \r\n",
                "# X is the independent variable and Y is the Dependant variable.\r\n",
                "X = dataset.iloc[:,:-1].values\r\n",
                "Y = dataset.iloc[:,-1].values"
            ],
            "metadata": {
                "azdata_cell_guid": "e40c8dec-1f1d-46e1-8563-9e8a91072962",
                "language": "python",
                "tags": [
                    "hide_input"
                ]
            },
            "outputs": [],
            "execution_count": 3
        },
        {
            "cell_type": "code",
            "source": [
                "print(X)\r\n",
                "# print(dataset)"
            ],
            "metadata": {
                "azdata_cell_guid": "d460d054-366d-4ce6-80a4-6fad9da6f4e8",
                "language": "python"
            },
            "outputs": [
                {
                    "output_type": "stream",
                    "name": "stdout",
                    "text": "[['France' 44.0 72000.0]\n ['Spain' 27.0 48000.0]\n ['Germany' 30.0 54000.0]\n ['Spain' 38.0 61000.0]\n ['Germany' 40.0 nan]\n ['France' 35.0 58000.0]\n ['Spain' nan 52000.0]\n ['France' 48.0 79000.0]\n ['Germany' 50.0 83000.0]\n ['France' 37.0 67000.0]]\n"
                }
            ],
            "execution_count": 4
        },
        {
            "cell_type": "code",
            "source": [
                "print(Y)"
            ],
            "metadata": {
                "language": "python",
                "azdata_cell_guid": "39f1d165-2a94-4352-83b5-a83dde98110d"
            },
            "outputs": [
                {
                    "output_type": "stream",
                    "name": "stdout",
                    "text": "['No' 'Yes' 'No' 'No' 'Yes' 'Yes' 'No' 'Yes' 'No' 'Yes']\n"
                }
            ],
            "execution_count": 5
        },
        {
            "cell_type": "code",
            "source": [
                "from sklearn.impute import SimpleImputer\r\n",
                "# Handling missing values in Dependant variable columns\r\n",
                "imputer = SimpleImputer(missing_values=np.nan, strategy='mean')\r\n",
                "imputer.fit(X[:,1:3])\r\n",
                "X[:,1:3] = imputer.transform(X[:,1:3])"
            ],
            "metadata": {
                "language": "python",
                "azdata_cell_guid": "df1948f9-1735-4127-8f95-d454fd2f2c29",
                "tags": []
            },
            "outputs": [],
            "execution_count": 6
        },
        {
            "cell_type": "code",
            "source": [
                "print(X)"
            ],
            "metadata": {
                "language": "python",
                "azdata_cell_guid": "88cd4f51-5bf3-4a33-8a5c-1492719ed3d0"
            },
            "outputs": [
                {
                    "output_type": "stream",
                    "name": "stdout",
                    "text": "[['France' 44.0 72000.0]\n ['Spain' 27.0 48000.0]\n ['Germany' 30.0 54000.0]\n ['Spain' 38.0 61000.0]\n ['Germany' 40.0 63777.77777777778]\n ['France' 35.0 58000.0]\n ['Spain' 38.77777777777778 52000.0]\n ['France' 48.0 79000.0]\n ['Germany' 50.0 83000.0]\n ['France' 37.0 67000.0]]\n"
                }
            ],
            "execution_count": 7
        },
        {
            "cell_type": "code",
            "source": [
                "from sklearn.compose import ColumnTransformer\r\n",
                "from sklearn.preprocessing import OneHotEncoder\r\n",
                "ct = ColumnTransformer(transformers=[('encoder',OneHotEncoder(),[0])],remainder='passthrough')\r\n",
                "X = np.array(ct.fit_transform(X))"
            ],
            "metadata": {
                "language": "python",
                "azdata_cell_guid": "042c6d1b-845f-4e5f-b9c2-0f7989365ac8",
                "tags": []
            },
            "outputs": [],
            "execution_count": 8
        },
        {
            "cell_type": "code",
            "source": [
                "print(X)"
            ],
            "metadata": {
                "language": "python",
                "azdata_cell_guid": "2610dd8a-b7c8-4879-8dd9-c0f990fb423b"
            },
            "outputs": [
                {
                    "output_type": "stream",
                    "name": "stdout",
                    "text": "[[1.0 0.0 0.0 44.0 72000.0]\n [0.0 0.0 1.0 27.0 48000.0]\n [0.0 1.0 0.0 30.0 54000.0]\n [0.0 0.0 1.0 38.0 61000.0]\n [0.0 1.0 0.0 40.0 63777.77777777778]\n [1.0 0.0 0.0 35.0 58000.0]\n [0.0 0.0 1.0 38.77777777777778 52000.0]\n [1.0 0.0 0.0 48.0 79000.0]\n [0.0 1.0 0.0 50.0 83000.0]\n [1.0 0.0 0.0 37.0 67000.0]]\n"
                }
            ],
            "execution_count": 9
        },
        {
            "cell_type": "code",
            "source": [
                "from sklearn.preprocessing import LabelEncoder\r\n",
                "le = LabelEncoder()\r\n",
                "Y = le.fit_transform(Y)"
            ],
            "metadata": {
                "language": "python",
                "azdata_cell_guid": "757ce8cf-980b-4454-b924-2cec5ae21b60"
            },
            "outputs": [],
            "execution_count": 10
        },
        {
            "cell_type": "code",
            "source": [
                "print(Y)"
            ],
            "metadata": {
                "language": "python",
                "azdata_cell_guid": "01176ee7-f2ab-4ed6-a482-c74e3ecb2456"
            },
            "outputs": [
                {
                    "output_type": "stream",
                    "name": "stdout",
                    "text": "[0 1 0 0 1 1 0 1 0 1]\n"
                }
            ],
            "execution_count": 11
        },
        {
            "cell_type": "code",
            "source": [
                "# Split the dataset into training set and test set : an 4:1 ratio is recommended for the split \r\n",
                "from sklearn.model_selection import train_test_split\r\n",
                "X_train, X_test, Y_train, Y_test = train_test_split(X, Y, test_size = 0.2, random_state = 1)"
            ],
            "metadata": {
                "language": "python",
                "azdata_cell_guid": "8377e8d0-33b7-4235-9cc3-16074c5af684"
            },
            "outputs": [],
            "execution_count": 12
        },
        {
            "cell_type": "code",
            "source": [
                "print(X_train)"
            ],
            "metadata": {
                "language": "python",
                "azdata_cell_guid": "163905a9-d7e8-40d5-a7d4-9d89c3624468"
            },
            "outputs": [
                {
                    "output_type": "stream",
                    "name": "stdout",
                    "text": "[[0.0 0.0 1.0 38.77777777777778 52000.0]\n [0.0 1.0 0.0 40.0 63777.77777777778]\n [1.0 0.0 0.0 44.0 72000.0]\n [0.0 0.0 1.0 38.0 61000.0]\n [0.0 0.0 1.0 27.0 48000.0]\n [1.0 0.0 0.0 48.0 79000.0]\n [0.0 1.0 0.0 50.0 83000.0]\n [1.0 0.0 0.0 35.0 58000.0]]\n"
                }
            ],
            "execution_count": 13
        },
        {
            "cell_type": "code",
            "source": [
                "print(X_test)"
            ],
            "metadata": {
                "language": "python",
                "azdata_cell_guid": "c1a6e045-d053-4d9a-bf93-70570713518b"
            },
            "outputs": [
                {
                    "output_type": "stream",
                    "name": "stdout",
                    "text": "[[0.0 1.0 0.0 30.0 54000.0]\n [1.0 0.0 0.0 37.0 67000.0]]\n"
                }
            ],
            "execution_count": 14
        },
        {
            "cell_type": "code",
            "source": [
                "print(Y_train)"
            ],
            "metadata": {
                "language": "python",
                "azdata_cell_guid": "37c9517e-f24d-4dfa-bd32-bc4d87f001ad"
            },
            "outputs": [
                {
                    "output_type": "stream",
                    "name": "stdout",
                    "text": "[0 1 0 0 1 1 0 1]\n"
                }
            ],
            "execution_count": 15
        },
        {
            "cell_type": "code",
            "source": [
                "print(Y_test)"
            ],
            "metadata": {
                "language": "python",
                "azdata_cell_guid": "952926b8-081f-4993-8270-ac8d57ed1a14"
            },
            "outputs": [
                {
                    "output_type": "stream",
                    "name": "stdout",
                    "text": "[0 1]\n"
                }
            ],
            "execution_count": 16
        },
        {
            "cell_type": "code",
            "source": [
                "from sklearn.preprocessing import StandardScaler\r\n",
                "sc = StandardScaler()\r\n",
                "X_train[:, 3:] = sc.fit_transform(X_train[:, 3:])\r\n",
                "X_test[:, 3:] = sc.transform(X_test[:, 3:])"
            ],
            "metadata": {
                "language": "python",
                "azdata_cell_guid": "4c293b31-9995-4a19-b15e-95897bc1753b"
            },
            "outputs": [],
            "execution_count": 17
        },
        {
            "cell_type": "code",
            "source": [
                "print(X_train)"
            ],
            "metadata": {
                "language": "python",
                "azdata_cell_guid": "7459871a-34ec-4df5-8584-fb88eee183f1"
            },
            "outputs": [
                {
                    "output_type": "stream",
                    "name": "stdout",
                    "text": "[[0.0 0.0 1.0 -0.19159184384578545 -1.0781259408412425]\n [0.0 1.0 0.0 -0.014117293757057777 -0.07013167641635372]\n [1.0 0.0 0.0 0.566708506533324 0.633562432710455]\n [0.0 0.0 1.0 -0.30453019390224867 -0.30786617274297867]\n [0.0 0.0 1.0 -1.9018011447007988 -1.420463615551582]\n [1.0 0.0 0.0 1.1475343068237058 1.232653363453549]\n [0.0 1.0 0.0 1.4379472069688968 1.5749910381638885]\n [1.0 0.0 0.0 -0.7401495441200351 -0.5646194287757332]]\n"
                }
            ],
            "execution_count": 18
        },
        {
            "cell_type": "code",
            "source": [
                "print(X_test)"
            ],
            "metadata": {
                "language": "python",
                "azdata_cell_guid": "dd835d00-8d57-4b55-afea-3f8e96098853"
            },
            "outputs": [
                {
                    "output_type": "stream",
                    "name": "stdout",
                    "text": "[[0.0 1.0 0.0 -1.4661817944830124 -0.9069571034860727]\n [1.0 0.0 0.0 -0.44973664397484414 0.2056403393225306]]\n"
                }
            ],
            "execution_count": 19
        }
    ]
}