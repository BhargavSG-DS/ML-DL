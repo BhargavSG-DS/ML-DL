{
    "metadata": {
        "kernelspec": {
            "name": "python3",
            "display_name": "Python 3 (ipykernel)",
            "language": "python"
        },
        "language_info": {
            "name": "python",
            "version": "3.11.1",
            "mimetype": "text/x-python",
            "codemirror_mode": {
                "name": "ipython",
                "version": 3
            },
            "pygments_lexer": "ipython3",
            "nbconvert_exporter": "python",
            "file_extension": ".py"
        }
    },
    "nbformat_minor": 2,
    "nbformat": 4,
    "cells": [
        {
            "cell_type": "markdown",
            "source": [
                "# Recurrent Neural Networks\n",
                "\n",
                "LSTM : Nifty50 Price Prediction"
            ],
            "metadata": {
                "azdata_cell_guid": "bba37cd6-a7f2-49ab-823f-5428a6ee5872"
            },
            "attachments": {}
        },
        {
            "cell_type": "markdown",
            "source": [
                "## Data Preprocessing"
            ],
            "metadata": {
                "azdata_cell_guid": "1282d814-eb34-430a-a3ae-f38d6790c382"
            },
            "attachments": {}
        },
        {
            "cell_type": "markdown",
            "source": [
                "Importing Libraries"
            ],
            "metadata": {
                "azdata_cell_guid": "cfe723c4-d1fa-48dc-a509-54879e95a160"
            },
            "attachments": {}
        },
        {
            "cell_type": "code",
            "source": [
                "import numpy as np\r\n",
                "import matplotlib.pyplot as plt\r\n",
                "import pandas as pd\r\n",
                "from sklearn.preprocessing import MinMaxScaler\r\n",
                "\r\n",
                "from keras.models import Sequential\r\n",
                "from keras.layers import Dense,LSTM,Dropout"
            ],
            "metadata": {
                "azdata_cell_guid": "b3edd810-01de-4e08-b15b-b9365826dab6",
                "language": "python",
                "tags": []
            },
            "outputs": [],
            "execution_count": 31
        },
        {
            "cell_type": "markdown",
            "source": [
                "Importing Training Set"
            ],
            "metadata": {
                "language": "python",
                "azdata_cell_guid": "3152b282-c39d-4d79-9c08-3d8489239cb3"
            },
            "attachments": {}
        },
        {
            "cell_type": "code",
            "source": [
                "dataset_train = pd.read_csv(\"dataset/NIFTY50_Training.csv\") \r\n",
                "training_set = dataset_train.iloc[:,1:2].values"
            ],
            "metadata": {
                "language": "python",
                "azdata_cell_guid": "8f9eb847-fd21-4870-ae69-32c1ddffd45a",
                "tags": []
            },
            "outputs": [],
            "execution_count": 32
        },
        {
            "cell_type": "markdown",
            "source": [
                "Feature Scaling"
            ],
            "metadata": {
                "language": "python",
                "azdata_cell_guid": "2de07b71-11f8-46f9-92b3-0fd9ab5906bb"
            },
            "attachments": {}
        },
        {
            "cell_type": "code",
            "source": [
                "sc = MinMaxScaler(feature_range=(0,1))\r\n",
                "training_set_scaled = sc.fit_transform(training_set)"
            ],
            "metadata": {
                "language": "python",
                "azdata_cell_guid": "7399ead5-17f0-488e-a282-f68d2a2a6e4f"
            },
            "outputs": [],
            "execution_count": 33
        },
        {
            "cell_type": "markdown",
            "source": [
                "Creating a data structure with 60 timesteps and 1 output"
            ],
            "metadata": {
                "language": "python",
                "azdata_cell_guid": "2870d3c8-a88d-475b-b7f2-c368ab9cc6c1"
            },
            "attachments": {}
        },
        {
            "cell_type": "code",
            "source": [
                "X_train = []\r\n",
                "y_train = []\r\n",
                "\r\n",
                "for i in np.arange(60, 991):\r\n",
                "    X_train.append(training_set_scaled[i-60:i, 0])\r\n",
                "    y_train.append(training_set_scaled[i, 0])\r\n",
                "X_train, y_train = np.array(X_train), np.array(y_train)"
            ],
            "metadata": {
                "language": "python",
                "azdata_cell_guid": "d97a31c5-8dcd-4e52-a1d4-58201a7436db"
            },
            "outputs": [],
            "execution_count": 34
        },
        {
            "cell_type": "markdown",
            "source": [
                "Reshaping"
            ],
            "metadata": {
                "language": "python",
                "azdata_cell_guid": "613fc8bb-307c-417d-9316-ce8c58478a34"
            },
            "attachments": {}
        },
        {
            "cell_type": "code",
            "source": [
                "X_train = np.reshape(X_train,(X_train.shape[0],X_train.shape[1] ,1))"
            ],
            "metadata": {
                "language": "python",
                "azdata_cell_guid": "39466bd8-b0ac-496e-9646-e75d8d9e4968"
            },
            "outputs": [],
            "execution_count": 35
        },
        {
            "cell_type": "markdown",
            "source": [
                "## Building the LSTM RNN"
            ],
            "metadata": {
                "language": "python",
                "azdata_cell_guid": "8c12f004-b877-44e0-81b8-9c3da9eb6d2a"
            },
            "attachments": {}
        },
        {
            "cell_type": "markdown",
            "source": [
                "Initailizing the RNN"
            ],
            "metadata": {
                "language": "python",
                "azdata_cell_guid": "3c287514-6636-4d4a-a848-46112ce54e77"
            },
            "attachments": {}
        },
        {
            "cell_type": "code",
            "source": [
                "RNN = Sequential()"
            ],
            "metadata": {
                "language": "python",
                "azdata_cell_guid": "1d2fcd8c-7313-4d2b-8079-b2c3a79ee274"
            },
            "outputs": [],
            "execution_count": 36
        },
        {
            "cell_type": "markdown",
            "source": [
                "Adding the first LSTM layer and some Dropout regularities"
            ],
            "metadata": {
                "language": "python",
                "azdata_cell_guid": "aabe13f1-20cb-46c2-a91b-e8bebda7fe53"
            },
            "attachments": {}
        },
        {
            "cell_type": "code",
            "source": [
                "RNN.add(LSTM(units=50, return_sequences = True, input_shape = (X_train.shape[1], 1)))\r\n",
                "RNN.add(Dropout(rate=0.2))"
            ],
            "metadata": {
                "language": "python",
                "azdata_cell_guid": "4e646e23-dcc3-4e5b-a253-048738a2f82b"
            },
            "outputs": [],
            "execution_count": 37
        },
        {
            "cell_type": "markdown",
            "source": [
                "Adding the Second LSTM Layer and some Dropout regularities"
            ],
            "metadata": {
                "language": "python",
                "azdata_cell_guid": "f8906298-94fb-47cb-9703-9bd015aac4b5"
            },
            "attachments": {}
        },
        {
            "cell_type": "code",
            "source": [
                "RNN.add(LSTM(units=50, return_sequences = True))\r\n",
                "RNN.add(Dropout(rate=0.2))"
            ],
            "metadata": {
                "language": "python",
                "azdata_cell_guid": "ff48879b-f3d8-4b2a-8c69-ef311afa75ad"
            },
            "outputs": [],
            "execution_count": 38
        },
        {
            "cell_type": "markdown",
            "source": [
                "Adding the Third LSTM Layer and some Dropout regularities"
            ],
            "metadata": {
                "language": "python",
                "azdata_cell_guid": "b0ed522f-ff93-4d37-be73-461adb113341"
            },
            "attachments": {}
        },
        {
            "cell_type": "code",
            "source": [
                "RNN.add(LSTM(units=50, return_sequences = True))\r\n",
                "RNN.add(Dropout(rate=0.2))"
            ],
            "metadata": {
                "language": "python",
                "azdata_cell_guid": "088087cb-cc4b-4fd6-9413-c4beb2242cb6"
            },
            "outputs": [],
            "execution_count": 39
        },
        {
            "cell_type": "markdown",
            "source": [
                "Adding the Fourth LSTM Layer and some Dropout regularities"
            ],
            "metadata": {
                "language": "python",
                "azdata_cell_guid": "e2523dd4-c72c-4ceb-b179-7678dc672653"
            },
            "attachments": {}
        },
        {
            "cell_type": "code",
            "source": [
                "RNN.add(LSTM(units=50, return_sequences = False))\r\n",
                "RNN.add(Dropout(rate=0.2))"
            ],
            "metadata": {
                "language": "python",
                "azdata_cell_guid": "7d5ad31f-e6a3-49d1-9b64-65f3b3d30a3c",
                "tags": []
            },
            "outputs": [],
            "execution_count": 40
        },
        {
            "cell_type": "markdown",
            "source": [
                "Adding the output layer"
            ],
            "metadata": {
                "language": "python",
                "azdata_cell_guid": "33b28397-c130-44ed-9283-25ed9ab00aea"
            },
            "attachments": {}
        },
        {
            "cell_type": "code",
            "source": [
                "RNN.add(Dense(units=1))"
            ],
            "metadata": {
                "language": "python",
                "azdata_cell_guid": "bb0a7e45-c3fa-45e0-99b6-799e126b5cdd"
            },
            "outputs": [],
            "execution_count": 41
        },
        {
            "cell_type": "markdown",
            "source": [
                "Compiling the RNN"
            ],
            "metadata": {
                "language": "python",
                "azdata_cell_guid": "d174c584-7f20-4186-a5e2-4211cd2c518f"
            },
            "attachments": {}
        },
        {
            "cell_type": "code",
            "source": [
                "RNN.compile(optimizer='adam',loss='mean_squared_error')"
            ],
            "metadata": {
                "language": "python",
                "azdata_cell_guid": "942fe2b1-2f0f-4f1b-aafb-a925929138ad"
            },
            "outputs": [],
            "execution_count": 42
        },
        {
            "cell_type": "markdown",
            "source": [
                "Training the RNN"
            ],
            "metadata": {
                "language": "python",
                "azdata_cell_guid": "bb208274-4f1d-4fec-9b86-666d160a2f04"
            },
            "attachments": {}
        },
        {
            "cell_type": "code",
            "source": [
                "RNN.fit(X_train, y_train, epochs = 25, batch_size = 32)"
            ],
            "metadata": {
                "language": "python",
                "azdata_cell_guid": "e277ad97-e811-47e3-9a2d-a9bb2ec48fb3"
            },
            "outputs": [
                {
                    "name": "stdout",
                    "text": "Epoch 1/25\n",
                    "output_type": "stream"
                },
                {
                    "name": "stdout",
                    "text": "\r 1/30 [>.............................] - ETA: 6:30 - loss: 0.3734",
                    "output_type": "stream"
                },
                {
                    "name": "stdout",
                    "text": "\b\b\b\b\b\b\b\b\b\b\b\b\b\b\b\b\b\b\b\b\b\b\b\b\b\b\b\b\b\b\b\b\b\b\b\b\b\b\b\b\b\b\b\b\b\b\b\b\b\b\b\b\b\b\b\b\b\b\b\b\b\b\b\b\b\r 2/30 [=>............................] - ETA: 2s - loss: 0.3675  ",
                    "output_type": "stream"
                },
                {
                    "name": "stdout",
                    "text": "\b\b\b\b\b\b\b\b\b\b\b\b\b\b\b\b\b\b\b\b\b\b\b\b\b\b\b\b\b\b\b\b\b\b\b\b\b\b\b\b\b\b\b\b\b\b\b\b\b\b\b\b\b\b\b\b\b\b\b\b\b\b\b\r 3/30 [==>...........................] - ETA: 2s - loss: 0.3230",
                    "output_type": "stream"
                },
                {
                    "name": "stdout",
                    "text": "\b\b\b\b\b\b\b\b\b\b\b\b\b\b\b\b\b\b\b\b\b\b\b\b\b\b\b\b\b\b\b\b\b\b\b\b\b\b\b\b\b\b\b\b\b\b\b\b\b\b\b\b\b\b\b\b\b\b\b\b\b\b\b\r 4/30 [===>..........................] - ETA: 2s - loss: 0.2932",
                    "output_type": "stream"
                },
                {
                    "name": "stdout",
                    "text": "\b\b\b\b\b\b\b\b\b\b\b\b\b\b\b\b\b\b\b\b\b\b\b\b\b\b\b\b\b\b\b\b\b\b\b\b\b\b\b\b\b\b\b\b\b\b\b\b\b\b\b\b\b\b\b\b\b\b\b\b\b\b\b\r 5/30 [====>.........................] - ETA: 2s - loss: 0.2543",
                    "output_type": "stream"
                },
                {
                    "name": "stdout",
                    "text": "\b\b\b\b\b\b\b\b\b\b\b\b\b\b\b\b\b\b\b\b\b\b\b\b\b\b\b\b\b\b\b\b\b\b\b\b\b\b\b\b\b\b\b\b\b\b\b\b\b\b\b\b\b\b\b\b\b\b\b\b\b\b\b\r 6/30 [=====>........................] - ETA: 1s - loss: 0.2176",
                    "output_type": "stream"
                },
                {
                    "name": "stdout",
                    "text": "\b\b\b\b\b\b\b\b\b\b\b\b\b\b\b\b\b\b\b\b\b\b\b\b\b\b\b\b\b\b\b\b\b\b\b\b\b\b\b\b\b\b\b\b\b\b\b\b\b\b\b\b\b\b\b\b\b\b\b\b\b\b\b\r 7/30 [======>.......................] - ETA: 1s - loss: 0.1895",
                    "output_type": "stream"
                },
                {
                    "name": "stdout",
                    "text": "\b\b\b\b\b\b\b\b\b\b\b\b\b\b\b\b\b\b\b\b\b\b\b\b\b\b\b\b\b\b\b\b\b\b\b\b\b\b\b\b\b\b\b\b\b\b\b\b\b\b\b\b\b\b\b\b\b\b\b\b\b\b\b\r 8/30 [=======>......................] - ETA: 1s - loss: 0.1728",
                    "output_type": "stream"
                },
                {
                    "name": "stdout",
                    "text": "\b\b\b\b\b\b\b\b\b\b\b\b\b\b\b\b\b\b\b\b\b\b\b\b\b\b\b\b\b\b\b\b\b\b\b\b\b\b\b\b\b\b\b\b\b\b\b\b\b\b\b\b\b\b\b\b\b\b\b\b\b\b\b\r 9/30 [========>.....................] - ETA: 1s - loss: 0.1641",
                    "output_type": "stream"
                },
                {
                    "name": "stdout",
                    "text": "\b\b\b\b\b\b\b\b\b\b\b\b\b\b\b\b\b\b\b\b\b\b\b\b\b\b\b\b\b\b\b\b\b\b\b\b\b\b\b\b\b\b\b\b\b\b\b\b\b\b\b\b\b\b\b\b\b\b\b\b\b\b\b\r10/30 [=========>....................] - ETA: 1s - loss: 0.1519",
                    "output_type": "stream"
                },
                {
                    "name": "stdout",
                    "text": "\b\b\b\b\b\b\b\b\b\b\b\b\b\b\b\b\b\b\b\b\b\b\b\b\b\b\b\b\b\b\b\b\b\b\b\b\b\b\b\b\b\b\b\b\b\b\b\b\b\b\b\b\b\b\b\b\b\b\b\b\b\b\b\r11/30 [==========>...................] - ETA: 1s - loss: 0.1406",
                    "output_type": "stream"
                },
                {
                    "name": "stdout",
                    "text": "\b\b\b\b\b\b\b\b\b\b\b\b\b\b\b\b\b\b\b\b\b\b\b\b\b\b\b\b\b\b\b\b\b\b\b\b\b\b\b\b\b\b\b\b\b\b\b\b\b\b\b\b\b\b\b\b\b\b\b\b\b\b\b\r12/30 [===========>..................] - ETA: 1s - loss: 0.1308",
                    "output_type": "stream"
                },
                {
                    "name": "stdout",
                    "text": "\b\b\b\b\b\b\b\b\b\b\b\b\b\b\b\b\b\b\b\b\b\b\b\b\b\b\b\b\b\b\b\b\b\b\b\b\b\b\b\b\b\b\b\b\b\b\b\b\b\b\b\b\b\b\b\b\b\b\b\b\b\b\b\r13/30 [============>.................] - ETA: 1s - loss: 0.1226",
                    "output_type": "stream"
                },
                {
                    "name": "stdout",
                    "text": "\b\b\b\b\b\b\b\b\b\b\b\b\b\b\b\b\b\b\b\b\b\b\b\b\b\b\b\b\b\b\b\b\b\b\b\b\b\b\b\b\b\b\b\b\b\b\b\b\b\b\b\b\b\b\b\b\b\b\b\b\b\b\b\r14/30 [=============>................] - ETA: 1s - loss: 0.1158",
                    "output_type": "stream"
                },
                {
                    "name": "stdout",
                    "text": "\b\b\b\b\b\b\b\b\b\b\b\b\b\b\b\b\b\b\b\b\b\b\b\b\b\b\b\b\b\b\b\b\b\b\b\b\b\b\b\b\b\b\b\b\b\b\b\b\b\b\b\b\b\b\b\b\b\b\b\b\b\b\b\r15/30 [==============>...............] - ETA: 1s - loss: 0.1098",
                    "output_type": "stream"
                },
                {
                    "name": "stdout",
                    "text": "\b\b\b\b\b\b\b\b\b\b\b\b\b\b\b\b\b\b\b\b\b\b\b\b\b\b\b\b\b\b\b\b\b\b\b\b\b\b\b\b\b\b\b\b\b\b\b\b\b\b\b\b\b\b\b\b\b\b\b\b\b\b\b\r16/30 [===============>..............] - ETA: 1s - loss: 0.1066",
                    "output_type": "stream"
                },
                {
                    "name": "stdout",
                    "text": "\b\b\b\b\b\b\b\b\b\b\b\b\b\b\b\b\b\b\b\b\b\b\b\b\b\b\b\b\b\b\b\b\b\b\b\b\b\b\b\b\b\b\b\b\b\b\b\b\b\b\b\b\b\b\b\b\b\b\b\b\b\b\b\r17/30 [================>.............] - ETA: 1s - loss: 0.1026",
                    "output_type": "stream"
                },
                {
                    "name": "stdout",
                    "text": "\b\b\b\b\b\b\b\b\b\b\b\b\b\b\b\b\b\b\b\b\b\b\b\b\b\b\b\b\b\b\b\b\b\b\b\b\b\b\b\b\b\b\b\b\b\b\b\b\b\b\b\b\b\b\b\b\b\b\b\b\b\b\b\r18/30 [=================>............] - ETA: 1s - loss: 0.0986",
                    "output_type": "stream"
                },
                {
                    "name": "stdout",
                    "text": "\b\b\b\b\b\b\b\b\b\b\b\b\b\b\b\b\b\b\b\b\b\b\b\b\b\b\b\b\b\b\b\b\b\b\b\b\b\b\b\b\b\b\b\b\b\b\b\b\b\b\b\b\b\b\b\b\b\b\b\b\b\b\b\r19/30 [==================>...........] - ETA: 0s - loss: 0.0952",
                    "output_type": "stream"
                },
                {
                    "name": "stdout",
                    "text": "\b\b\b\b\b\b\b\b\b\b\b\b\b\b\b\b\b\b\b\b\b\b\b\b\b\b\b\b\b\b\b\b\b\b\b\b\b\b\b\b\b\b\b\b\b\b\b\b\b\b\b\b\b\b\b\b\b\b\b\b\b\b\b\r20/30 [===================>..........] - ETA: 0s - loss: 0.0917",
                    "output_type": "stream"
                },
                {
                    "name": "stdout",
                    "text": "\b\b\b\b\b\b\b\b\b\b\b\b\b\b\b\b\b\b\b\b\b\b\b\b\b\b\b\b\b\b\b\b\b\b\b\b\b\b\b\b\b\b\b\b\b\b\b\b\b\b\b\b\b\b\b\b\b\b\b\b\b\b\b\r21/30 [====================>.........] - ETA: 0s - loss: 0.0880",
                    "output_type": "stream"
                },
                {
                    "name": "stdout",
                    "text": "\b\b\b\b\b\b\b\b\b\b\b\b\b\b\b\b\b\b\b\b\b\b\b\b\b\b\b\b\b\b\b\b\b\b\b\b\b\b\b\b\b\b\b\b\b\b\b\b\b\b\b\b\b\b\b\b\b\b\b\b\b\b\b\r22/30 [=====================>........] - ETA: 0s - loss: 0.0849",
                    "output_type": "stream"
                },
                {
                    "name": "stdout",
                    "text": "\b\b\b\b\b\b\b\b\b\b\b\b\b\b\b\b\b\b\b\b\b\b\b\b\b\b\b\b\b\b\b\b\b\b\b\b\b\b\b\b\b\b\b\b\b\b\b\b\b\b\b\b\b\b\b\b\b\b\b\b\b\b\b\r23/30 [======================>.......] - ETA: 0s - loss: 0.0819",
                    "output_type": "stream"
                },
                {
                    "name": "stdout",
                    "text": "\b\b\b\b\b\b\b\b\b\b\b\b\b\b\b\b\b\b\b\b\b\b\b\b\b\b\b\b\b\b\b\b\b\b\b\b\b\b\b\b\b\b\b\b\b\b\b\b\b\b\b\b\b\b\b\b\b\b\b\b\b\b\b\r24/30 [=======================>......] - ETA: 0s - loss: 0.0795",
                    "output_type": "stream"
                },
                {
                    "name": "stdout",
                    "text": "\b\b\b\b\b\b\b\b\b\b\b\b\b\b\b\b\b\b\b\b\b\b\b\b\b\b\b\b\b\b\b\b\b\b\b\b\b\b\b\b\b\b\b\b\b\b\b\b\b\b\b\b\b\b\b\b\b\b\b\b\b\b\b\r25/30 [========================>.....] - ETA: 0s - loss: 0.0771",
                    "output_type": "stream"
                },
                {
                    "name": "stdout",
                    "text": "\b\b\b\b\b\b\b\b\b\b\b\b\b\b\b\b\b\b\b\b\b\b\b\b\b\b\b\b\b\b\b\b\b\b\b\b\b\b\b\b\b\b\b\b\b\b\b\b\b\b\b\b\b\b\b\b\b\b\b\b\b\b\b\r26/30 [=========================>....] - ETA: 0s - loss: 0.0746",
                    "output_type": "stream"
                },
                {
                    "name": "stdout",
                    "text": "\b\b\b\b\b\b\b\b\b\b\b\b\b\b\b\b\b\b\b\b\b\b\b\b\b\b\b\b\b\b\b\b\b\b\b\b\b\b\b\b\b\b\b\b\b\b\b\b\b\b\b\b\b\b\b\b\b\b\b\b\b\b\b\r27/30 [==========================>...] - ETA: 0s - loss: 0.0723",
                    "output_type": "stream"
                },
                {
                    "name": "stdout",
                    "text": "\b\b\b\b\b\b\b\b\b\b\b\b\b\b\b\b\b\b\b\b\b\b\b\b\b\b\b\b\b\b\b\b\b\b\b\b\b\b\b\b\b\b\b\b\b\b\b\b\b\b\b\b\b\b\b\b\b\b\b\b\b\b\b\r28/30 [===========================>..] - ETA: 0s - loss: 0.0701",
                    "output_type": "stream"
                },
                {
                    "name": "stdout",
                    "text": "\b\b\b\b\b\b\b\b\b\b\b\b\b\b\b\b\b\b\b\b\b\b\b\b\b\b\b\b\b\b\b\b\b\b\b\b\b\b\b\b\b\b\b\b\b\b\b\b\b\b\b\b\b\b\b\b\b\b\b\b\b\b\b\r29/30 [============================>.] - ETA: 0s - loss: 0.0681",
                    "output_type": "stream"
                },
                {
                    "name": "stdout",
                    "text": "\b\b\b\b\b\b\b\b\b\b\b\b\b\b\b\b\b\b\b\b\b\b\b\b\b\b\b\b\b\b\b\b\b\b\b\b\b\b\b\b\b\b\b\b\b\b\b\b\b\b\b\b\b\b\b\b\b\b\b\b\b\b\b\r30/30 [==============================] - ETA: 0s - loss: 0.0679",
                    "output_type": "stream"
                },
                {
                    "name": "stdout",
                    "text": "\b\b\b\b\b\b\b\b\b\b\b\b\b\b\b\b\b\b\b\b\b\b\b\b\b\b\b\b\b\b\b\b\b\b\b\b\b\b\b\b\b\b\b\b\b\b\b\b\b\b\b\b\b\b\b\b\b\b\b\b\b\b\b\r30/30 [==============================] - 16s 89ms/step - loss: 0.0679\n",
                    "output_type": "stream"
                },
                {
                    "name": "stdout",
                    "text": "Epoch 2/25\n",
                    "output_type": "stream"
                },
                {
                    "name": "stdout",
                    "text": "\r 1/30 [>.............................] - ETA: 3s - loss: 0.0099",
                    "output_type": "stream"
                },
                {
                    "name": "stdout",
                    "text": "\b\b\b\b\b\b\b\b\b\b\b\b\b\b\b\b\b\b\b\b\b\b\b\b\b\b\b\b\b\b\b\b\b\b\b\b\b\b\b\b\b\b\b\b\b\b\b\b\b\b\b\b\b\b\b\b\b\b\b\b\b\b\b\r 2/30 [=>............................] - ETA: 3s - loss: 0.0104",
                    "output_type": "stream"
                },
                {
                    "name": "stdout",
                    "text": "\b\b\b\b\b\b\b\b\b\b\b\b\b\b\b\b\b\b\b\b\b\b\b\b\b\b\b\b\b\b\b\b\b\b\b\b\b\b\b\b\b\b\b\b\b\b\b\b\b\b\b\b\b\b\b\b\b\b\b\b\b\b\b\r 3/30 [==>...........................] - ETA: 2s - loss: 0.0101",
                    "output_type": "stream"
                },
                {
                    "name": "stdout",
                    "text": "\b\b\b\b\b\b\b\b\b\b\b\b\b\b\b\b\b\b\b\b\b\b\b\b\b\b\b\b\b\b\b\b\b\b\b\b\b\b\b\b\b\b\b\b\b\b\b\b\b\b\b\b\b\b\b\b\b\b\b\b\b\b\b\r 4/30 [===>..........................] - ETA: 2s - loss: 0.0101",
                    "output_type": "stream"
                },
                {
                    "name": "stdout",
                    "text": "\b\b\b\b\b\b\b\b\b\b\b\b\b\b\b\b\b\b\b\b\b\b\b\b\b\b\b\b\b\b\b\b\b\b\b\b\b\b\b\b\b\b\b\b\b\b\b\b\b\b\b\b\b\b\b\b\b\b\b\b\b\b\b\r 5/30 [====>.........................] - ETA: 2s - loss: 0.0097",
                    "output_type": "stream"
                },
                {
                    "name": "stdout",
                    "text": "\b\b\b\b\b\b\b\b\b\b\b\b\b\b\b\b\b\b\b\b\b\b\b\b\b\b\b\b\b\b\b\b\b\b\b\b\b\b\b\b\b\b\b\b\b\b\b\b\b\b\b\b\b\b\b\b\b\b\b\b\b\b\b\r 6/30 [=====>........................] - ETA: 2s - loss: 0.0097",
                    "output_type": "stream"
                },
                {
                    "name": "stdout",
                    "text": "\b\b\b\b\b\b\b\b\b\b\b\b\b\b\b\b\b\b\b\b\b\b\b\b\b\b\b\b\b\b\b\b\b\b\b\b\b\b\b\b\b\b\b\b\b\b\b\b\b\b\b\b\b\b\b\b\b\b\b\b\b\b\b\r 7/30 [======>.......................] - ETA: 2s - loss: 0.0099",
                    "output_type": "stream"
                },
                {
                    "name": "stdout",
                    "text": "\b\b\b\b\b\b\b\b\b\b\b\b\b\b\b\b\b\b\b\b\b\b\b\b\b\b\b\b\b\b\b\b\b\b\b\b\b\b\b\b\b\b\b\b\b\b\b\b\b\b\b\b\b\b\b\b\b\b\b\b\b\b\b\r 8/30 [=======>......................] - ETA: 1s - loss: 0.0096",
                    "output_type": "stream"
                },
                {
                    "name": "stdout",
                    "text": "\b\b\b\b\b\b\b\b\b\b\b\b\b\b\b\b\b\b\b\b\b\b\b\b\b\b\b\b\b\b\b\b\b\b\b\b\b\b\b\b\b\b\b\b\b\b\b\b\b\b\b\b\b\b\b\b\b\b\b\b\b\b\b\r 9/30 [========>.....................] - ETA: 1s - loss: 0.0094",
                    "output_type": "stream"
                },
                {
                    "name": "stdout",
                    "text": "\b\b\b\b\b\b\b\b\b\b\b\b\b\b\b\b\b\b\b\b\b\b\b\b\b\b\b\b\b\b\b\b\b\b\b\b\b\b\b\b\b\b\b\b\b\b\b\b\b\b\b\b\b\b\b\b\b\b\b\b\b\b\b\r10/30 [=========>....................] - ETA: 1s - loss: 0.0092",
                    "output_type": "stream"
                },
                {
                    "name": "stdout",
                    "text": "\b\b\b\b\b\b\b\b\b\b\b\b\b\b\b\b\b\b\b\b\b\b\b\b\b\b\b\b\b\b\b\b\b\b\b\b\b\b\b\b\b\b\b\b\b\b\b\b\b\b\b\b\b\b\b\b\b\b\b\b\b\b\b\r11/30 [==========>...................] - ETA: 1s - loss: 0.0094",
                    "output_type": "stream"
                },
                {
                    "name": "stdout",
                    "text": "\b\b\b\b\b\b\b\b\b\b\b\b\b\b\b\b\b\b\b\b\b\b\b\b\b\b\b\b\b\b\b\b\b\b\b\b\b\b\b\b\b\b\b\b\b\b\b\b\b\b\b\b\b\b\b\b\b\b\b\b\b\b\b\r12/30 [===========>..................] - ETA: 1s - loss: 0.0092",
                    "output_type": "stream"
                },
                {
                    "name": "stdout",
                    "text": "\b\b\b\b\b\b\b\b\b\b\b\b\b\b\b\b\b\b\b\b\b\b\b\b\b\b\b\b\b\b\b\b\b\b\b\b\b\b\b\b\b\b\b\b\b\b\b\b\b\b\b\b\b\b\b\b\b\b\b\b\b\b\b\r13/30 [============>.................] - ETA: 1s - loss: 0.0091",
                    "output_type": "stream"
                },
                {
                    "name": "stdout",
                    "text": "\b\b\b\b\b\b\b\b\b\b\b\b\b\b\b\b\b\b\b\b\b\b\b\b\b\b\b\b\b\b\b\b\b\b\b\b\b\b\b\b\b\b\b\b\b\b\b\b\b\b\b\b\b\b\b\b\b\b\b\b\b\b\b\r14/30 [=============>................] - ETA: 1s - loss: 0.0091",
                    "output_type": "stream"
                },
                {
                    "name": "stdout",
                    "text": "\b\b\b\b\b\b\b\b\b\b\b\b\b\b\b\b\b\b\b\b\b\b\b\b\b\b\b\b\b\b\b\b\b\b\b\b\b\b\b\b\b\b\b\b\b\b\b\b\b\b\b\b\b\b\b\b\b\b\b\b\b\b\b\r15/30 [==============>...............] - ETA: 1s - loss: 0.0092",
                    "output_type": "stream"
                },
                {
                    "name": "stdout",
                    "text": "\b\b\b\b\b\b\b\b\b\b\b\b\b\b\b\b\b\b\b\b\b\b\b\b\b\b\b\b\b\b\b\b\b\b\b\b\b\b\b\b\b\b\b\b\b\b\b\b\b\b\b\b\b\b\b\b\b\b\b\b\b\b\b\r16/30 [===============>..............] - ETA: 1s - loss: 0.0093",
                    "output_type": "stream"
                },
                {
                    "name": "stdout",
                    "text": "\b\b\b\b\b\b\b\b\b\b\b\b\b\b\b\b\b\b\b\b\b\b\b\b\b\b\b\b\b\b\b\b\b\b\b\b\b\b\b\b\b\b\b\b\b\b\b\b\b\b\b\b\b\b\b\b\b\b\b\b\b\b\b\r17/30 [================>.............] - ETA: 1s - loss: 0.0091",
                    "output_type": "stream"
                },
                {
                    "name": "stdout",
                    "text": "\b\b\b\b\b\b\b\b\b\b\b\b\b\b\b\b\b\b\b\b\b\b\b\b\b\b\b\b\b\b\b\b\b\b\b\b\b\b\b\b\b\b\b\b\b\b\b\b\b\b\b\b\b\b\b\b\b\b\b\b\b\b\b\r18/30 [=================>............] - ETA: 1s - loss: 0.0091",
                    "output_type": "stream"
                },
                {
                    "name": "stdout",
                    "text": "\b\b\b\b\b\b\b\b\b\b\b\b\b\b\b\b\b\b\b\b\b\b\b\b\b\b\b\b\b\b\b\b\b\b\b\b\b\b\b\b\b\b\b\b\b\b\b\b\b\b\b\b\b\b\b\b\b\b\b\b\b\b\b\r19/30 [==================>...........] - ETA: 1s - loss: 0.0093",
                    "output_type": "stream"
                },
                {
                    "name": "stdout",
                    "text": "\b\b\b\b\b\b\b\b\b\b\b\b\b\b\b\b\b\b\b\b\b\b\b\b\b\b\b\b\b\b\b\b\b\b\b\b\b\b\b\b\b\b\b\b\b\b\b\b\b\b\b\b\b\b\b\b\b\b\b\b\b\b\b\r20/30 [===================>..........] - ETA: 0s - loss: 0.0093",
                    "output_type": "stream"
                },
                {
                    "name": "stdout",
                    "text": "\b\b\b\b\b\b\b\b\b\b\b\b\b\b\b\b\b\b\b\b\b\b\b\b\b\b\b\b\b\b\b\b\b\b\b\b\b\b\b\b\b\b\b\b\b\b\b\b\b\b\b\b\b\b\b\b\b\b\b\b\b\b\b\r21/30 [====================>.........] - ETA: 0s - loss: 0.0091",
                    "output_type": "stream"
                },
                {
                    "name": "stdout",
                    "text": "\b\b\b\b\b\b\b\b\b\b\b\b\b\b\b\b\b\b\b\b\b\b\b\b\b\b\b\b\b\b\b\b\b\b\b\b\b\b\b\b\b\b\b\b\b\b\b\b\b\b\b\b\b\b\b\b\b\b\b\b\b\b\b\r22/30 [=====================>........] - ETA: 0s - loss: 0.0091",
                    "output_type": "stream"
                },
                {
                    "name": "stdout",
                    "text": "\b\b\b\b\b\b\b\b\b\b\b\b\b\b\b\b\b\b\b\b\b\b\b\b\b\b\b\b\b\b\b\b\b\b\b\b\b\b\b\b\b\b\b\b\b\b\b\b\b\b\b\b\b\b\b\b\b\b\b\b\b\b\b\r23/30 [======================>.......] - ETA: 0s - loss: 0.0091",
                    "output_type": "stream"
                },
                {
                    "name": "stdout",
                    "text": "\b\b\b\b\b\b\b\b\b\b\b\b\b\b\b\b\b\b\b\b\b\b\b\b\b\b\b\b\b\b\b\b\b\b\b\b\b\b\b\b\b\b\b\b\b\b\b\b\b\b\b\b\b\b\b\b\b\b\b\b\b\b\b\r24/30 [=======================>......] - ETA: 0s - loss: 0.0091",
                    "output_type": "stream"
                },
                {
                    "name": "stdout",
                    "text": "\b\b\b\b\b\b\b\b\b\b\b\b\b\b\b\b\b\b\b\b\b\b\b\b\b\b\b\b\b\b\b\b\b\b\b\b\b\b\b\b\b\b\b\b\b\b\b\b\b\b\b\b\b\b\b\b\b\b\b\b\b\b\b\r25/30 [========================>.....] - ETA: 0s - loss: 0.0092",
                    "output_type": "stream"
                },
                {
                    "name": "stdout",
                    "text": "\b\b\b\b\b\b\b\b\b\b\b\b\b\b\b\b\b\b\b\b\b\b\b\b\b\b\b\b\b\b\b\b\b\b\b\b\b\b\b\b\b\b\b\b\b\b\b\b\b\b\b\b\b\b\b\b\b\b\b\b\b\b\b\r26/30 [=========================>....] - ETA: 0s - loss: 0.0092",
                    "output_type": "stream"
                },
                {
                    "name": "stdout",
                    "text": "\b\b\b\b\b\b\b\b\b\b\b\b\b\b\b\b\b\b\b\b\b\b\b\b\b\b\b\b\b\b\b\b\b\b\b\b\b\b\b\b\b\b\b\b\b\b\b\b\b\b\b\b\b\b\b\b\b\b\b\b\b\b\b\r27/30 [==========================>...] - ETA: 0s - loss: 0.0091",
                    "output_type": "stream"
                },
                {
                    "name": "stdout",
                    "text": "\b\b\b\b\b\b\b\b\b\b\b\b\b\b\b\b\b\b\b\b\b\b\b\b\b\b\b\b\b\b\b\b\b\b\b\b\b\b\b\b\b\b\b\b\b\b\b\b\b\b\b\b\b\b\b\b\b\b\b\b\b\b\b\r28/30 [===========================>..] - ETA: 0s - loss: 0.0090",
                    "output_type": "stream"
                },
                {
                    "name": "stdout",
                    "text": "\b\b\b\b\b\b\b\b\b\b\b\b\b\b\b\b\b\b\b\b\b\b\b\b\b\b\b\b\b\b\b\b\b\b\b\b\b\b\b\b\b\b\b\b\b\b\b\b\b\b\b\b\b\b\b\b\b\b\b\b\b\b\b\r29/30 [============================>.] - ETA: 0s - loss: 0.0090",
                    "output_type": "stream"
                },
                {
                    "name": "stdout",
                    "text": "\b\b\b\b\b\b\b\b\b\b\b\b\b\b\b\b\b\b\b\b\b\b\b\b\b\b\b\b\b\b\b\b\b\b\b\b\b\b\b\b\b\b\b\b\b\b\b\b\b\b\b\b\b\b\b\b\b\b\b\b\b\b\b\r30/30 [==============================] - ETA: 0s - loss: 0.0090",
                    "output_type": "stream"
                },
                {
                    "name": "stdout",
                    "text": "\b\b\b\b\b\b\b\b\b\b\b\b\b\b\b\b\b\b\b\b\b\b\b\b\b\b\b\b\b\b\b\b\b\b\b\b\b\b\b\b\b\b\b\b\b\b\b\b\b\b\b\b\b\b\b\b\b\b\b\b\b\b\b\r30/30 [==============================] - 3s 94ms/step - loss: 0.0090\n",
                    "output_type": "stream"
                },
                {
                    "name": "stdout",
                    "text": "Epoch 3/25\n",
                    "output_type": "stream"
                },
                {
                    "name": "stdout",
                    "text": "\r 1/30 [>.............................] - ETA: 3s - loss: 0.0094",
                    "output_type": "stream"
                },
                {
                    "name": "stdout",
                    "text": "\b\b\b\b\b\b\b\b\b\b\b\b\b\b\b\b\b\b\b\b\b\b\b\b\b\b\b\b\b\b\b\b\b\b\b\b\b\b\b\b\b\b\b\b\b\b\b\b\b\b\b\b\b\b\b\b\b\b\b\b\b\b\b\r 2/30 [=>............................] - ETA: 2s - loss: 0.0083",
                    "output_type": "stream"
                },
                {
                    "name": "stdout",
                    "text": "\b\b\b\b\b\b\b\b\b\b\b\b\b\b\b\b\b\b\b\b\b\b\b\b\b\b\b\b\b\b\b\b\b\b\b\b\b\b\b\b\b\b\b\b\b\b\b\b\b\b\b\b\b\b\b\b\b\b\b\b\b\b\b\r 3/30 [==>...........................] - ETA: 2s - loss: 0.0082",
                    "output_type": "stream"
                },
                {
                    "name": "stdout",
                    "text": "\b\b\b\b\b\b\b\b\b\b\b\b\b\b\b\b\b\b\b\b\b\b\b\b\b\b\b\b\b\b\b\b\b\b\b\b\b\b\b\b\b\b\b\b\b\b\b\b\b\b\b\b\b\b\b\b\b\b\b\b\b\b\b\r 4/30 [===>..........................] - ETA: 2s - loss: 0.0077",
                    "output_type": "stream"
                },
                {
                    "name": "stdout",
                    "text": "\b\b\b\b\b\b\b\b\b\b\b\b\b\b\b\b\b\b\b\b\b\b\b\b\b\b\b\b\b\b\b\b\b\b\b\b\b\b\b\b\b\b\b\b\b\b\b\b\b\b\b\b\b\b\b\b\b\b\b\b\b\b\b\r 5/30 [====>.........................] - ETA: 2s - loss: 0.0087",
                    "output_type": "stream"
                },
                {
                    "name": "stdout",
                    "text": "\b\b\b\b\b\b\b\b\b\b\b\b\b\b\b\b\b\b\b\b\b\b\b\b\b\b\b\b\b\b\b\b\b\b\b\b\b\b\b\b\b\b\b\b\b\b\b\b\b\b\b\b\b\b\b\b\b\b\b\b\b\b\b\r 6/30 [=====>........................] - ETA: 2s - loss: 0.0081",
                    "output_type": "stream"
                },
                {
                    "name": "stdout",
                    "text": "\b\b\b\b\b\b\b\b\b\b\b\b\b\b\b\b\b\b\b\b\b\b\b\b\b\b\b\b\b\b\b\b\b\b\b\b\b\b\b\b\b\b\b\b\b\b\b\b\b\b\b\b\b\b\b\b\b\b\b\b\b\b\b\r 7/30 [======>.......................] - ETA: 2s - loss: 0.0079",
                    "output_type": "stream"
                },
                {
                    "name": "stdout",
                    "text": "\b\b\b\b\b\b\b\b\b\b\b\b\b\b\b\b\b\b\b\b\b\b\b\b\b\b\b\b\b\b\b\b\b\b\b\b\b\b\b\b\b\b\b\b\b\b\b\b\b\b\b\b\b\b\b\b\b\b\b\b\b\b\b\r 8/30 [=======>......................] - ETA: 2s - loss: 0.0075",
                    "output_type": "stream"
                },
                {
                    "name": "stdout",
                    "text": "\b\b\b\b\b\b\b\b\b\b\b\b\b\b\b\b\b\b\b\b\b\b\b\b\b\b\b\b\b\b\b\b\b\b\b\b\b\b\b\b\b\b\b\b\b\b\b\b\b\b\b\b\b\b\b\b\b\b\b\b\b\b\b\r 9/30 [========>.....................] - ETA: 2s - loss: 0.0073",
                    "output_type": "stream"
                },
                {
                    "name": "stdout",
                    "text": "\b\b\b\b\b\b\b\b\b\b\b\b\b\b\b\b\b\b\b\b\b\b\b\b\b\b\b\b\b\b\b\b\b\b\b\b\b\b\b\b\b\b\b\b\b\b\b\b\b\b\b\b\b\b\b\b\b\b\b\b\b\b\b\r10/30 [=========>....................] - ETA: 1s - loss: 0.0074",
                    "output_type": "stream"
                },
                {
                    "name": "stdout",
                    "text": "\b\b\b\b\b\b\b\b\b\b\b\b\b\b\b\b\b\b\b\b\b\b\b\b\b\b\b\b\b\b\b\b\b\b\b\b\b\b\b\b\b\b\b\b\b\b\b\b\b\b\b\b\b\b\b\b\b\b\b\b\b\b\b\r11/30 [==========>...................] - ETA: 1s - loss: 0.0074",
                    "output_type": "stream"
                },
                {
                    "name": "stdout",
                    "text": "\b\b\b\b\b\b\b\b\b\b\b\b\b\b\b\b\b\b\b\b\b\b\b\b\b\b\b\b\b\b\b\b\b\b\b\b\b\b\b\b\b\b\b\b\b\b\b\b\b\b\b\b\b\b\b\b\b\b\b\b\b\b\b\r12/30 [===========>..................] - ETA: 1s - loss: 0.0073",
                    "output_type": "stream"
                },
                {
                    "name": "stdout",
                    "text": "\b\b\b\b\b\b\b\b\b\b\b\b\b\b\b\b\b\b\b\b\b\b\b\b\b\b\b\b\b\b\b\b\b\b\b\b\b\b\b\b\b\b\b\b\b\b\b\b\b\b\b\b\b\b\b\b\b\b\b\b\b\b\b\r13/30 [============>.................] - ETA: 1s - loss: 0.0072",
                    "output_type": "stream"
                },
                {
                    "name": "stdout",
                    "text": "\b\b\b\b\b\b\b\b\b\b\b\b\b\b\b\b\b\b\b\b\b\b\b\b\b\b\b\b\b\b\b\b\b\b\b\b\b\b\b\b\b\b\b\b\b\b\b\b\b\b\b\b\b\b\b\b\b\b\b\b\b\b\b\r14/30 [=============>................] - ETA: 1s - loss: 0.0074",
                    "output_type": "stream"
                },
                {
                    "name": "stdout",
                    "text": "\b\b\b\b\b\b\b\b\b\b\b\b\b\b\b\b\b\b\b\b\b\b\b\b\b\b\b\b\b\b\b\b\b\b\b\b\b\b\b\b\b\b\b\b\b\b\b\b\b\b\b\b\b\b\b\b\b\b\b\b\b\b\b\r15/30 [==============>...............] - ETA: 1s - loss: 0.0075",
                    "output_type": "stream"
                },
                {
                    "name": "stdout",
                    "text": "\b\b\b\b\b\b\b\b\b\b\b\b\b\b\b\b\b\b\b\b\b\b\b\b\b\b\b\b\b\b\b\b\b\b\b\b\b\b\b\b\b\b\b\b\b\b\b\b\b\b\b\b\b\b\b\b\b\b\b\b\b\b\b\r16/30 [===============>..............] - ETA: 1s - loss: 0.0076",
                    "output_type": "stream"
                },
                {
                    "name": "stdout",
                    "text": "\b\b\b\b\b\b\b\b\b\b\b\b\b\b\b\b\b\b\b\b\b\b\b\b\b\b\b\b\b\b\b\b\b\b\b\b\b\b\b\b\b\b\b\b\b\b\b\b\b\b\b\b\b\b\b\b\b\b\b\b\b\b\b\r17/30 [================>.............] - ETA: 1s - loss: 0.0077",
                    "output_type": "stream"
                },
                {
                    "name": "stdout",
                    "text": "\b\b\b\b\b\b\b\b\b\b\b\b\b\b\b\b\b\b\b\b\b\b\b\b\b\b\b\b\b\b\b\b\b\b\b\b\b\b\b\b\b\b\b\b\b\b\b\b\b\b\b\b\b\b\b\b\b\b\b\b\b\b\b\r18/30 [=================>............] - ETA: 1s - loss: 0.0081",
                    "output_type": "stream"
                },
                {
                    "name": "stdout",
                    "text": "\b\b\b\b\b\b\b\b\b\b\b\b\b\b\b\b\b\b\b\b\b\b\b\b\b\b\b\b\b\b\b\b\b\b\b\b\b\b\b\b\b\b\b\b\b\b\b\b\b\b\b\b\b\b\b\b\b\b\b\b\b\b\b\r19/30 [==================>...........] - ETA: 1s - loss: 0.0080",
                    "output_type": "stream"
                },
                {
                    "name": "stdout",
                    "text": "\b\b\b\b\b\b\b\b\b\b\b\b\b\b\b\b\b\b\b\b\b\b\b\b\b\b\b\b\b\b\b\b\b\b\b\b\b\b\b\b\b\b\b\b\b\b\b\b\b\b\b\b\b\b\b\b\b\b\b\b\b\b\b\r20/30 [===================>..........] - ETA: 0s - loss: 0.0080",
                    "output_type": "stream"
                },
                {
                    "name": "stdout",
                    "text": "\b\b\b\b\b\b\b\b\b\b\b\b\b\b\b\b\b\b\b\b\b\b\b\b\b\b\b\b\b\b\b\b\b\b\b\b\b\b\b\b\b\b\b\b\b\b\b\b\b\b\b\b\b\b\b\b\b\b\b\b\b\b\b\r21/30 [====================>.........] - ETA: 0s - loss: 0.0078",
                    "output_type": "stream"
                },
                {
                    "name": "stdout",
                    "text": "\b\b\b\b\b\b\b\b\b\b\b\b\b\b\b\b\b\b\b\b\b\b\b\b\b\b\b\b\b\b\b\b\b\b\b\b\b\b\b\b\b\b\b\b\b\b\b\b\b\b\b\b\b\b\b\b\b\b\b\b\b\b\b\r22/30 [=====================>........] - ETA: 0s - loss: 0.0079",
                    "output_type": "stream"
                },
                {
                    "name": "stdout",
                    "text": "\b\b\b\b\b\b\b\b\b\b\b\b\b\b\b\b\b\b\b\b\b\b\b\b\b\b\b\b\b\b\b\b\b\b\b\b\b\b\b\b\b\b\b\b\b\b\b\b\b\b\b\b\b\b\b\b\b\b\b\b\b\b\b\r23/30 [======================>.......] - ETA: 0s - loss: 0.0078",
                    "output_type": "stream"
                },
                {
                    "name": "stdout",
                    "text": "\b\b\b\b\b\b\b\b\b\b\b\b\b\b\b\b\b\b\b\b\b\b\b\b\b\b\b\b\b\b\b\b\b\b\b\b\b\b\b\b\b\b\b\b\b\b\b\b\b\b\b\b\b\b\b\b\b\b\b\b\b\b\b\r24/30 [=======================>......] - ETA: 0s - loss: 0.0076",
                    "output_type": "stream"
                },
                {
                    "name": "stdout",
                    "text": "\b\b\b\b\b\b\b\b\b\b\b\b\b\b\b\b\b\b\b\b\b\b\b\b\b\b\b\b\b\b\b\b\b\b\b\b\b\b\b\b\b\b\b\b\b\b\b\b\b\b\b\b\b\b\b\b\b\b\b\b\b\b\b\r25/30 [========================>.....] - ETA: 0s - loss: 0.0075",
                    "output_type": "stream"
                },
                {
                    "name": "stdout",
                    "text": "\b\b\b\b\b\b\b\b\b\b\b\b\b\b\b\b\b\b\b\b\b\b\b\b\b\b\b\b\b\b\b\b\b\b\b\b\b\b\b\b\b\b\b\b\b\b\b\b\b\b\b\b\b\b\b\b\b\b\b\b\b\b\b\r26/30 [=========================>....] - ETA: 0s - loss: 0.0076",
                    "output_type": "stream"
                },
                {
                    "name": "stdout",
                    "text": "\b\b\b\b\b\b\b\b\b\b\b\b\b\b\b\b\b\b\b\b\b\b\b\b\b\b\b\b\b\b\b\b\b\b\b\b\b\b\b\b\b\b\b\b\b\b\b\b\b\b\b\b\b\b\b\b\b\b\b\b\b\b\b\r27/30 [==========================>...] - ETA: 0s - loss: 0.0076",
                    "output_type": "stream"
                },
                {
                    "name": "stdout",
                    "text": "\b\b\b\b\b\b\b\b\b\b\b\b\b\b\b\b\b\b\b\b\b\b\b\b\b\b\b\b\b\b\b\b\b\b\b\b\b\b\b\b\b\b\b\b\b\b\b\b\b\b\b\b\b\b\b\b\b\b\b\b\b\b\b\r28/30 [===========================>..] - ETA: 0s - loss: 0.0076",
                    "output_type": "stream"
                },
                {
                    "name": "stdout",
                    "text": "\b\b\b\b\b\b\b\b\b\b\b\b\b\b\b\b\b\b\b\b\b\b\b\b\b\b\b\b\b\b\b\b\b\b\b\b\b\b\b\b\b\b\b\b\b\b\b\b\b\b\b\b\b\b\b\b\b\b\b\b\b\b\b\r29/30 [============================>.] - ETA: 0s - loss: 0.0075",
                    "output_type": "stream"
                },
                {
                    "name": "stdout",
                    "text": "\b\b\b\b\b\b\b\b\b\b\b\b\b\b\b\b\b\b\b\b\b\b\b\b\b\b\b\b\b\b\b\b\b\b\b\b\b\b\b\b\b\b\b\b\b\b\b\b\b\b\b\b\b\b\b\b\b\b\b\b\b\b\b\r30/30 [==============================] - ETA: 0s - loss: 0.0075",
                    "output_type": "stream"
                },
                {
                    "name": "stdout",
                    "text": "\b\b\b\b\b\b\b\b\b\b\b\b\b\b\b\b\b\b\b\b\b\b\b\b\b\b\b\b\b\b\b\b\b\b\b\b\b\b\b\b\b\b\b\b\b\b\b\b\b\b\b\b\b\b\b\b\b\b\b\b\b\b\b\r30/30 [==============================] - 3s 96ms/step - loss: 0.0075\n",
                    "output_type": "stream"
                },
                {
                    "name": "stdout",
                    "text": "Epoch 4/25\n",
                    "output_type": "stream"
                },
                {
                    "name": "stdout",
                    "text": "\r 1/30 [>.............................] - ETA: 2s - loss: 0.0055",
                    "output_type": "stream"
                },
                {
                    "name": "stdout",
                    "text": "\b\b\b\b\b\b\b\b\b\b\b\b\b\b\b\b\b\b\b\b\b\b\b\b\b\b\b\b\b\b\b\b\b\b\b\b\b\b\b\b\b\b\b\b\b\b\b\b\b\b\b\b\b\b\b\b\b\b\b\b\b\b\b\r 2/30 [=>............................] - ETA: 2s - loss: 0.0073",
                    "output_type": "stream"
                },
                {
                    "name": "stdout",
                    "text": "\b\b\b\b\b\b\b\b\b\b\b\b\b\b\b\b\b\b\b\b\b\b\b\b\b\b\b\b\b\b\b\b\b\b\b\b\b\b\b\b\b\b\b\b\b\b\b\b\b\b\b\b\b\b\b\b\b\b\b\b\b\b\b\r 3/30 [==>...........................] - ETA: 2s - loss: 0.0074",
                    "output_type": "stream"
                },
                {
                    "name": "stdout",
                    "text": "\b\b\b\b\b\b\b\b\b\b\b\b\b\b\b\b\b\b\b\b\b\b\b\b\b\b\b\b\b\b\b\b\b\b\b\b\b\b\b\b\b\b\b\b\b\b\b\b\b\b\b\b\b\b\b\b\b\b\b\b\b\b\b\r 4/30 [===>..........................] - ETA: 2s - loss: 0.0068",
                    "output_type": "stream"
                },
                {
                    "name": "stdout",
                    "text": "\b\b\b\b\b\b\b\b\b\b\b\b\b\b\b\b\b\b\b\b\b\b\b\b\b\b\b\b\b\b\b\b\b\b\b\b\b\b\b\b\b\b\b\b\b\b\b\b\b\b\b\b\b\b\b\b\b\b\b\b\b\b\b\r 5/30 [====>.........................] - ETA: 2s - loss: 0.0068",
                    "output_type": "stream"
                },
                {
                    "name": "stdout",
                    "text": "\b\b\b\b\b\b\b\b\b\b\b\b\b\b\b\b\b\b\b\b\b\b\b\b\b\b\b\b\b\b\b\b\b\b\b\b\b\b\b\b\b\b\b\b\b\b\b\b\b\b\b\b\b\b\b\b\b\b\b\b\b\b\b\r 6/30 [=====>........................] - ETA: 2s - loss: 0.0070",
                    "output_type": "stream"
                },
                {
                    "name": "stdout",
                    "text": "\b\b\b\b\b\b\b\b\b\b\b\b\b\b\b\b\b\b\b\b\b\b\b\b\b\b\b\b\b\b\b\b\b\b\b\b\b\b\b\b\b\b\b\b\b\b\b\b\b\b\b\b\b\b\b\b\b\b\b\b\b\b\b\r 7/30 [======>.......................] - ETA: 2s - loss: 0.0074",
                    "output_type": "stream"
                },
                {
                    "name": "stdout",
                    "text": "\b\b\b\b\b\b\b\b\b\b\b\b\b\b\b\b\b\b\b\b\b\b\b\b\b\b\b\b\b\b\b\b\b\b\b\b\b\b\b\b\b\b\b\b\b\b\b\b\b\b\b\b\b\b\b\b\b\b\b\b\b\b\b\r 8/30 [=======>......................] - ETA: 1s - loss: 0.0076",
                    "output_type": "stream"
                },
                {
                    "name": "stdout",
                    "text": "\b\b\b\b\b\b\b\b\b\b\b\b\b\b\b\b\b\b\b\b\b\b\b\b\b\b\b\b\b\b\b\b\b\b\b\b\b\b\b\b\b\b\b\b\b\b\b\b\b\b\b\b\b\b\b\b\b\b\b\b\b\b\b\r 9/30 [========>.....................] - ETA: 1s - loss: 0.0073",
                    "output_type": "stream"
                },
                {
                    "name": "stdout",
                    "text": "\b\b\b\b\b\b\b\b\b\b\b\b\b\b\b\b\b\b\b\b\b\b\b\b\b\b\b\b\b\b\b\b\b\b\b\b\b\b\b\b\b\b\b\b\b\b\b\b\b\b\b\b\b\b\b\b\b\b\b\b\b\b\b\r10/30 [=========>....................] - ETA: 1s - loss: 0.0072",
                    "output_type": "stream"
                },
                {
                    "name": "stdout",
                    "text": "\b\b\b\b\b\b\b\b\b\b\b\b\b\b\b\b\b\b\b\b\b\b\b\b\b\b\b\b\b\b\b\b\b\b\b\b\b\b\b\b\b\b\b\b\b\b\b\b\b\b\b\b\b\b\b\b\b\b\b\b\b\b\b\r11/30 [==========>...................] - ETA: 1s - loss: 0.0072",
                    "output_type": "stream"
                },
                {
                    "name": "stdout",
                    "text": "\b\b\b\b\b\b\b\b\b\b\b\b\b\b\b\b\b\b\b\b\b\b\b\b\b\b\b\b\b\b\b\b\b\b\b\b\b\b\b\b\b\b\b\b\b\b\b\b\b\b\b\b\b\b\b\b\b\b\b\b\b\b\b\r12/30 [===========>..................] - ETA: 1s - loss: 0.0075",
                    "output_type": "stream"
                },
                {
                    "name": "stdout",
                    "text": "\b\b\b\b\b\b\b\b\b\b\b\b\b\b\b\b\b\b\b\b\b\b\b\b\b\b\b\b\b\b\b\b\b\b\b\b\b\b\b\b\b\b\b\b\b\b\b\b\b\b\b\b\b\b\b\b\b\b\b\b\b\b\b\r13/30 [============>.................] - ETA: 1s - loss: 0.0075",
                    "output_type": "stream"
                },
                {
                    "name": "stdout",
                    "text": "\b\b\b\b\b\b\b\b\b\b\b\b\b\b\b\b\b\b\b\b\b\b\b\b\b\b\b\b\b\b\b\b\b\b\b\b\b\b\b\b\b\b\b\b\b\b\b\b\b\b\b\b\b\b\b\b\b\b\b\b\b\b\b\r14/30 [=============>................] - ETA: 1s - loss: 0.0074",
                    "output_type": "stream"
                },
                {
                    "name": "stdout",
                    "text": "\b\b\b\b\b\b\b\b\b\b\b\b\b\b\b\b\b\b\b\b\b\b\b\b\b\b\b\b\b\b\b\b\b\b\b\b\b\b\b\b\b\b\b\b\b\b\b\b\b\b\b\b\b\b\b\b\b\b\b\b\b\b\b\r15/30 [==============>...............] - ETA: 1s - loss: 0.0073",
                    "output_type": "stream"
                },
                {
                    "name": "stdout",
                    "text": "\b\b\b\b\b\b\b\b\b\b\b\b\b\b\b\b\b\b\b\b\b\b\b\b\b\b\b\b\b\b\b\b\b\b\b\b\b\b\b\b\b\b\b\b\b\b\b\b\b\b\b\b\b\b\b\b\b\b\b\b\b\b\b\r16/30 [===============>..............] - ETA: 1s - loss: 0.0073",
                    "output_type": "stream"
                },
                {
                    "name": "stdout",
                    "text": "\b\b\b\b\b\b\b\b\b\b\b\b\b\b\b\b\b\b\b\b\b\b\b\b\b\b\b\b\b\b\b\b\b\b\b\b\b\b\b\b\b\b\b\b\b\b\b\b\b\b\b\b\b\b\b\b\b\b\b\b\b\b\b\r17/30 [================>.............] - ETA: 1s - loss: 0.0073",
                    "output_type": "stream"
                },
                {
                    "name": "stdout",
                    "text": "\b\b\b\b\b\b\b\b\b\b\b\b\b\b\b\b\b\b\b\b\b\b\b\b\b\b\b\b\b\b\b\b\b\b\b\b\b\b\b\b\b\b\b\b\b\b\b\b\b\b\b\b\b\b\b\b\b\b\b\b\b\b\b\r18/30 [=================>............] - ETA: 1s - loss: 0.0072",
                    "output_type": "stream"
                },
                {
                    "name": "stdout",
                    "text": "\b\b\b\b\b\b\b\b\b\b\b\b\b\b\b\b\b\b\b\b\b\b\b\b\b\b\b\b\b\b\b\b\b\b\b\b\b\b\b\b\b\b\b\b\b\b\b\b\b\b\b\b\b\b\b\b\b\b\b\b\b\b\b\r19/30 [==================>...........] - ETA: 1s - loss: 0.0072",
                    "output_type": "stream"
                },
                {
                    "name": "stdout",
                    "text": "\b\b\b\b\b\b\b\b\b\b\b\b\b\b\b\b\b\b\b\b\b\b\b\b\b\b\b\b\b\b\b\b\b\b\b\b\b\b\b\b\b\b\b\b\b\b\b\b\b\b\b\b\b\b\b\b\b\b\b\b\b\b\b\r20/30 [===================>..........] - ETA: 0s - loss: 0.0074",
                    "output_type": "stream"
                },
                {
                    "name": "stdout",
                    "text": "\b\b\b\b\b\b\b\b\b\b\b\b\b\b\b\b\b\b\b\b\b\b\b\b\b\b\b\b\b\b\b\b\b\b\b\b\b\b\b\b\b\b\b\b\b\b\b\b\b\b\b\b\b\b\b\b\b\b\b\b\b\b\b\r21/30 [====================>.........] - ETA: 0s - loss: 0.0075",
                    "output_type": "stream"
                },
                {
                    "name": "stdout",
                    "text": "\b\b\b\b\b\b\b\b\b\b\b\b\b\b\b\b\b\b\b\b\b\b\b\b\b\b\b\b\b\b\b\b\b\b\b\b\b\b\b\b\b\b\b\b\b\b\b\b\b\b\b\b\b\b\b\b\b\b\b\b\b\b\b\r22/30 [=====================>........] - ETA: 0s - loss: 0.0075",
                    "output_type": "stream"
                },
                {
                    "name": "stdout",
                    "text": "\b\b\b\b\b\b\b\b\b\b\b\b\b\b\b\b\b\b\b\b\b\b\b\b\b\b\b\b\b\b\b\b\b\b\b\b\b\b\b\b\b\b\b\b\b\b\b\b\b\b\b\b\b\b\b\b\b\b\b\b\b\b\b\r23/30 [======================>.......] - ETA: 0s - loss: 0.0075",
                    "output_type": "stream"
                },
                {
                    "name": "stdout",
                    "text": "\b\b\b\b\b\b\b\b\b\b\b\b\b\b\b\b\b\b\b\b\b\b\b\b\b\b\b\b\b\b\b\b\b\b\b\b\b\b\b\b\b\b\b\b\b\b\b\b\b\b\b\b\b\b\b\b\b\b\b\b\b\b\b\r24/30 [=======================>......] - ETA: 0s - loss: 0.0076",
                    "output_type": "stream"
                },
                {
                    "name": "stdout",
                    "text": "\b\b\b\b\b\b\b\b\b\b\b\b\b\b\b\b\b\b\b\b\b\b\b\b\b\b\b\b\b\b\b\b\b\b\b\b\b\b\b\b\b\b\b\b\b\b\b\b\b\b\b\b\b\b\b\b\b\b\b\b\b\b\b\r25/30 [========================>.....] - ETA: 0s - loss: 0.0077",
                    "output_type": "stream"
                },
                {
                    "name": "stdout",
                    "text": "\b\b\b\b\b\b\b\b\b\b\b\b\b\b\b\b\b\b\b\b\b\b\b\b\b\b\b\b\b\b\b\b\b\b\b\b\b\b\b\b\b\b\b\b\b\b\b\b\b\b\b\b\b\b\b\b\b\b\b\b\b\b\b\r26/30 [=========================>....] - ETA: 0s - loss: 0.0076",
                    "output_type": "stream"
                },
                {
                    "name": "stdout",
                    "text": "\b\b\b\b\b\b\b\b\b\b\b\b\b\b\b\b\b\b\b\b\b\b\b\b\b\b\b\b\b\b\b\b\b\b\b\b\b\b\b\b\b\b\b\b\b\b\b\b\b\b\b\b\b\b\b\b\b\b\b\b\b\b\b\r27/30 [==========================>...] - ETA: 0s - loss: 0.0076",
                    "output_type": "stream"
                },
                {
                    "name": "stdout",
                    "text": "\b\b\b\b\b\b\b\b\b\b\b\b\b\b\b\b\b\b\b\b\b\b\b\b\b\b\b\b\b\b\b\b\b\b\b\b\b\b\b\b\b\b\b\b\b\b\b\b\b\b\b\b\b\b\b\b\b\b\b\b\b\b\b\r28/30 [===========================>..] - ETA: 0s - loss: 0.0075",
                    "output_type": "stream"
                },
                {
                    "name": "stdout",
                    "text": "\b\b\b\b\b\b\b\b\b\b\b\b\b\b\b\b\b\b\b\b\b\b\b\b\b\b\b\b\b\b\b\b\b\b\b\b\b\b\b\b\b\b\b\b\b\b\b\b\b\b\b\b\b\b\b\b\b\b\b\b\b\b\b\r29/30 [============================>.] - ETA: 0s - loss: 0.0074",
                    "output_type": "stream"
                },
                {
                    "name": "stdout",
                    "text": "\b\b\b\b\b\b\b\b\b\b\b\b\b\b\b\b\b\b\b\b\b\b\b\b\b\b\b\b\b\b\b\b\b\b\b\b\b\b\b\b\b\b\b\b\b\b\b\b\b\b\b\b\b\b\b\b\b\b\b\b\b\b\b\r30/30 [==============================] - ETA: 0s - loss: 0.0074",
                    "output_type": "stream"
                },
                {
                    "name": "stdout",
                    "text": "\b\b\b\b\b\b\b\b\b\b\b\b\b\b\b\b\b\b\b\b\b\b\b\b\b\b\b\b\b\b\b\b\b\b\b\b\b\b\b\b\b\b\b\b\b\b\b\b\b\b\b\b\b\b\b\b\b\b\b\b\b\b\b\r30/30 [==============================] - 3s 97ms/step - loss: 0.0074\n",
                    "output_type": "stream"
                },
                {
                    "name": "stdout",
                    "text": "Epoch 5/25\n",
                    "output_type": "stream"
                },
                {
                    "name": "stdout",
                    "text": "\r 1/30 [>.............................] - ETA: 2s - loss: 0.0085",
                    "output_type": "stream"
                },
                {
                    "name": "stdout",
                    "text": "\b\b\b\b\b\b\b\b\b\b\b\b\b\b\b\b\b\b\b\b\b\b\b\b\b\b\b\b\b\b\b\b\b\b\b\b\b\b\b\b\b\b\b\b\b\b\b\b\b\b\b\b\b\b\b\b\b\b\b\b\b\b\b\r 2/30 [=>............................] - ETA: 2s - loss: 0.0069",
                    "output_type": "stream"
                },
                {
                    "name": "stdout",
                    "text": "\b\b\b\b\b\b\b\b\b\b\b\b\b\b\b\b\b\b\b\b\b\b\b\b\b\b\b\b\b\b\b\b\b\b\b\b\b\b\b\b\b\b\b\b\b\b\b\b\b\b\b\b\b\b\b\b\b\b\b\b\b\b\b\r 3/30 [==>...........................] - ETA: 2s - loss: 0.0077",
                    "output_type": "stream"
                },
                {
                    "name": "stdout",
                    "text": "\b\b\b\b\b\b\b\b\b\b\b\b\b\b\b\b\b\b\b\b\b\b\b\b\b\b\b\b\b\b\b\b\b\b\b\b\b\b\b\b\b\b\b\b\b\b\b\b\b\b\b\b\b\b\b\b\b\b\b\b\b\b\b\r 4/30 [===>..........................] - ETA: 2s - loss: 0.0070",
                    "output_type": "stream"
                },
                {
                    "name": "stdout",
                    "text": "\b\b\b\b\b\b\b\b\b\b\b\b\b\b\b\b\b\b\b\b\b\b\b\b\b\b\b\b\b\b\b\b\b\b\b\b\b\b\b\b\b\b\b\b\b\b\b\b\b\b\b\b\b\b\b\b\b\b\b\b\b\b\b\r 5/30 [====>.........................] - ETA: 2s - loss: 0.0069",
                    "output_type": "stream"
                },
                {
                    "name": "stdout",
                    "text": "\b\b\b\b\b\b\b\b\b\b\b\b\b\b\b\b\b\b\b\b\b\b\b\b\b\b\b\b\b\b\b\b\b\b\b\b\b\b\b\b\b\b\b\b\b\b\b\b\b\b\b\b\b\b\b\b\b\b\b\b\b\b\b\r 6/30 [=====>........................] - ETA: 2s - loss: 0.0069",
                    "output_type": "stream"
                },
                {
                    "name": "stdout",
                    "text": "\b\b\b\b\b\b\b\b\b\b\b\b\b\b\b\b\b\b\b\b\b\b\b\b\b\b\b\b\b\b\b\b\b\b\b\b\b\b\b\b\b\b\b\b\b\b\b\b\b\b\b\b\b\b\b\b\b\b\b\b\b\b\b\r 7/30 [======>.......................] - ETA: 2s - loss: 0.0065",
                    "output_type": "stream"
                },
                {
                    "name": "stdout",
                    "text": "\b\b\b\b\b\b\b\b\b\b\b\b\b\b\b\b\b\b\b\b\b\b\b\b\b\b\b\b\b\b\b\b\b\b\b\b\b\b\b\b\b\b\b\b\b\b\b\b\b\b\b\b\b\b\b\b\b\b\b\b\b\b\b\r 8/30 [=======>......................] - ETA: 1s - loss: 0.0064",
                    "output_type": "stream"
                },
                {
                    "name": "stdout",
                    "text": "\b\b\b\b\b\b\b\b\b\b\b\b\b\b\b\b\b\b\b\b\b\b\b\b\b\b\b\b\b\b\b\b\b\b\b\b\b\b\b\b\b\b\b\b\b\b\b\b\b\b\b\b\b\b\b\b\b\b\b\b\b\b\b\r 9/30 [========>.....................] - ETA: 1s - loss: 0.0062",
                    "output_type": "stream"
                },
                {
                    "name": "stdout",
                    "text": "\b\b\b\b\b\b\b\b\b\b\b\b\b\b\b\b\b\b\b\b\b\b\b\b\b\b\b\b\b\b\b\b\b\b\b\b\b\b\b\b\b\b\b\b\b\b\b\b\b\b\b\b\b\b\b\b\b\b\b\b\b\b\b\r10/30 [=========>....................] - ETA: 1s - loss: 0.0063",
                    "output_type": "stream"
                },
                {
                    "name": "stdout",
                    "text": "\b\b\b\b\b\b\b\b\b\b\b\b\b\b\b\b\b\b\b\b\b\b\b\b\b\b\b\b\b\b\b\b\b\b\b\b\b\b\b\b\b\b\b\b\b\b\b\b\b\b\b\b\b\b\b\b\b\b\b\b\b\b\b\r11/30 [==========>...................] - ETA: 1s - loss: 0.0064",
                    "output_type": "stream"
                },
                {
                    "name": "stdout",
                    "text": "\b\b\b\b\b\b\b\b\b\b\b\b\b\b\b\b\b\b\b\b\b\b\b\b\b\b\b\b\b\b\b\b\b\b\b\b\b\b\b\b\b\b\b\b\b\b\b\b\b\b\b\b\b\b\b\b\b\b\b\b\b\b\b\r12/30 [===========>..................] - ETA: 1s - loss: 0.0062",
                    "output_type": "stream"
                },
                {
                    "name": "stdout",
                    "text": "\b\b\b\b\b\b\b\b\b\b\b\b\b\b\b\b\b\b\b\b\b\b\b\b\b\b\b\b\b\b\b\b\b\b\b\b\b\b\b\b\b\b\b\b\b\b\b\b\b\b\b\b\b\b\b\b\b\b\b\b\b\b\b\r13/30 [============>.................] - ETA: 1s - loss: 0.0063",
                    "output_type": "stream"
                },
                {
                    "name": "stdout",
                    "text": "\b\b\b\b\b\b\b\b\b\b\b\b\b\b\b\b\b\b\b\b\b\b\b\b\b\b\b\b\b\b\b\b\b\b\b\b\b\b\b\b\b\b\b\b\b\b\b\b\b\b\b\b\b\b\b\b\b\b\b\b\b\b\b\r14/30 [=============>................] - ETA: 1s - loss: 0.0063",
                    "output_type": "stream"
                },
                {
                    "name": "stdout",
                    "text": "\b\b\b\b\b\b\b\b\b\b\b\b\b\b\b\b\b\b\b\b\b\b\b\b\b\b\b\b\b\b\b\b\b\b\b\b\b\b\b\b\b\b\b\b\b\b\b\b\b\b\b\b\b\b\b\b\b\b\b\b\b\b\b\r15/30 [==============>...............] - ETA: 1s - loss: 0.0063",
                    "output_type": "stream"
                },
                {
                    "name": "stdout",
                    "text": "\b\b\b\b\b\b\b\b\b\b\b\b\b\b\b\b\b\b\b\b\b\b\b\b\b\b\b\b\b\b\b\b\b\b\b\b\b\b\b\b\b\b\b\b\b\b\b\b\b\b\b\b\b\b\b\b\b\b\b\b\b\b\b\r16/30 [===============>..............] - ETA: 1s - loss: 0.0063",
                    "output_type": "stream"
                },
                {
                    "name": "stdout",
                    "text": "\b\b\b\b\b\b\b\b\b\b\b\b\b\b\b\b\b\b\b\b\b\b\b\b\b\b\b\b\b\b\b\b\b\b\b\b\b\b\b\b\b\b\b\b\b\b\b\b\b\b\b\b\b\b\b\b\b\b\b\b\b\b\b\r17/30 [================>.............] - ETA: 1s - loss: 0.0065",
                    "output_type": "stream"
                },
                {
                    "name": "stdout",
                    "text": "\b\b\b\b\b\b\b\b\b\b\b\b\b\b\b\b\b\b\b\b\b\b\b\b\b\b\b\b\b\b\b\b\b\b\b\b\b\b\b\b\b\b\b\b\b\b\b\b\b\b\b\b\b\b\b\b\b\b\b\b\b\b\b\r18/30 [=================>............] - ETA: 0s - loss: 0.0066",
                    "output_type": "stream"
                },
                {
                    "name": "stdout",
                    "text": "\b\b\b\b\b\b\b\b\b\b\b\b\b\b\b\b\b\b\b\b\b\b\b\b\b\b\b\b\b\b\b\b\b\b\b\b\b\b\b\b\b\b\b\b\b\b\b\b\b\b\b\b\b\b\b\b\b\b\b\b\b\b\b\r19/30 [==================>...........] - ETA: 0s - loss: 0.0065",
                    "output_type": "stream"
                },
                {
                    "name": "stdout",
                    "text": "\b\b\b\b\b\b\b\b\b\b\b\b\b\b\b\b\b\b\b\b\b\b\b\b\b\b\b\b\b\b\b\b\b\b\b\b\b\b\b\b\b\b\b\b\b\b\b\b\b\b\b\b\b\b\b\b\b\b\b\b\b\b\b\r20/30 [===================>..........] - ETA: 0s - loss: 0.0067",
                    "output_type": "stream"
                },
                {
                    "name": "stdout",
                    "text": "\b\b\b\b\b\b\b\b\b\b\b\b\b\b\b\b\b\b\b\b\b\b\b\b\b\b\b\b\b\b\b\b\b\b\b\b\b\b\b\b\b\b\b\b\b\b\b\b\b\b\b\b\b\b\b\b\b\b\b\b\b\b\b\r21/30 [====================>.........] - ETA: 0s - loss: 0.0067",
                    "output_type": "stream"
                },
                {
                    "name": "stdout",
                    "text": "\b\b\b\b\b\b\b\b\b\b\b\b\b\b\b\b\b\b\b\b\b\b\b\b\b\b\b\b\b\b\b\b\b\b\b\b\b\b\b\b\b\b\b\b\b\b\b\b\b\b\b\b\b\b\b\b\b\b\b\b\b\b\b\r22/30 [=====================>........] - ETA: 0s - loss: 0.0066",
                    "output_type": "stream"
                },
                {
                    "name": "stdout",
                    "text": "\b\b\b\b\b\b\b\b\b\b\b\b\b\b\b\b\b\b\b\b\b\b\b\b\b\b\b\b\b\b\b\b\b\b\b\b\b\b\b\b\b\b\b\b\b\b\b\b\b\b\b\b\b\b\b\b\b\b\b\b\b\b\b\r23/30 [======================>.......] - ETA: 0s - loss: 0.0068",
                    "output_type": "stream"
                },
                {
                    "name": "stdout",
                    "text": "\b\b\b\b\b\b\b\b\b\b\b\b\b\b\b\b\b\b\b\b\b\b\b\b\b\b\b\b\b\b\b\b\b\b\b\b\b\b\b\b\b\b\b\b\b\b\b\b\b\b\b\b\b\b\b\b\b\b\b\b\b\b\b\r24/30 [=======================>......] - ETA: 0s - loss: 0.0068",
                    "output_type": "stream"
                },
                {
                    "name": "stdout",
                    "text": "\b\b\b\b\b\b\b\b\b\b\b\b\b\b\b\b\b\b\b\b\b\b\b\b\b\b\b\b\b\b\b\b\b\b\b\b\b\b\b\b\b\b\b\b\b\b\b\b\b\b\b\b\b\b\b\b\b\b\b\b\b\b\b\r25/30 [========================>.....] - ETA: 0s - loss: 0.0068",
                    "output_type": "stream"
                },
                {
                    "name": "stdout",
                    "text": "\b\b\b\b\b\b\b\b\b\b\b\b\b\b\b\b\b\b\b\b\b\b\b\b\b\b\b\b\b\b\b\b\b\b\b\b\b\b\b\b\b\b\b\b\b\b\b\b\b\b\b\b\b\b\b\b\b\b\b\b\b\b\b\r26/30 [=========================>....] - ETA: 0s - loss: 0.0068",
                    "output_type": "stream"
                },
                {
                    "name": "stdout",
                    "text": "\b\b\b\b\b\b\b\b\b\b\b\b\b\b\b\b\b\b\b\b\b\b\b\b\b\b\b\b\b\b\b\b\b\b\b\b\b\b\b\b\b\b\b\b\b\b\b\b\b\b\b\b\b\b\b\b\b\b\b\b\b\b\b\r27/30 [==========================>...] - ETA: 0s - loss: 0.0068",
                    "output_type": "stream"
                },
                {
                    "name": "stdout",
                    "text": "\b\b\b\b\b\b\b\b\b\b\b\b\b\b\b\b\b\b\b\b\b\b\b\b\b\b\b\b\b\b\b\b\b\b\b\b\b\b\b\b\b\b\b\b\b\b\b\b\b\b\b\b\b\b\b\b\b\b\b\b\b\b\b\r28/30 [===========================>..] - ETA: 0s - loss: 0.0068",
                    "output_type": "stream"
                },
                {
                    "name": "stdout",
                    "text": "\b\b\b\b\b\b\b\b\b\b\b\b\b\b\b\b\b\b\b\b\b\b\b\b\b\b\b\b\b\b\b\b\b\b\b\b\b\b\b\b\b\b\b\b\b\b\b\b\b\b\b\b\b\b\b\b\b\b\b\b\b\b\b\r29/30 [============================>.] - ETA: 0s - loss: 0.0068",
                    "output_type": "stream"
                },
                {
                    "name": "stdout",
                    "text": "\b\b\b\b\b\b\b\b\b\b\b\b\b\b\b\b\b\b\b\b\b\b\b\b\b\b\b\b\b\b\b\b\b\b\b\b\b\b\b\b\b\b\b\b\b\b\b\b\b\b\b\b\b\b\b\b\b\b\b\b\b\b\b\r30/30 [==============================] - ETA: 0s - loss: 0.0068",
                    "output_type": "stream"
                },
                {
                    "name": "stdout",
                    "text": "\b\b\b\b\b\b\b\b\b\b\b\b\b\b\b\b\b\b\b\b\b\b\b\b\b\b\b\b\b\b\b\b\b\b\b\b\b\b\b\b\b\b\b\b\b\b\b\b\b\b\b\b\b\b\b\b\b\b\b\b\b\b\b\r30/30 [==============================] - 3s 87ms/step - loss: 0.0068\n",
                    "output_type": "stream"
                },
                {
                    "name": "stdout",
                    "text": "Epoch 6/25\n",
                    "output_type": "stream"
                },
                {
                    "name": "stdout",
                    "text": "\r 1/30 [>.............................] - ETA: 2s - loss: 0.0090",
                    "output_type": "stream"
                },
                {
                    "name": "stdout",
                    "text": "\b\b\b\b\b\b\b\b\b\b\b\b\b\b\b\b\b\b\b\b\b\b\b\b\b\b\b\b\b\b\b\b\b\b\b\b\b\b\b\b\b\b\b\b\b\b\b\b\b\b\b\b\b\b\b\b\b\b\b\b\b\b\b\r 2/30 [=>............................] - ETA: 2s - loss: 0.0078",
                    "output_type": "stream"
                },
                {
                    "name": "stdout",
                    "text": "\b\b\b\b\b\b\b\b\b\b\b\b\b\b\b\b\b\b\b\b\b\b\b\b\b\b\b\b\b\b\b\b\b\b\b\b\b\b\b\b\b\b\b\b\b\b\b\b\b\b\b\b\b\b\b\b\b\b\b\b\b\b\b\r 3/30 [==>...........................] - ETA: 2s - loss: 0.0071",
                    "output_type": "stream"
                },
                {
                    "name": "stdout",
                    "text": "\b\b\b\b\b\b\b\b\b\b\b\b\b\b\b\b\b\b\b\b\b\b\b\b\b\b\b\b\b\b\b\b\b\b\b\b\b\b\b\b\b\b\b\b\b\b\b\b\b\b\b\b\b\b\b\b\b\b\b\b\b\b\b\r 4/30 [===>..........................] - ETA: 2s - loss: 0.0074",
                    "output_type": "stream"
                },
                {
                    "name": "stdout",
                    "text": "\b\b\b\b\b\b\b\b\b\b\b\b\b\b\b\b\b\b\b\b\b\b\b\b\b\b\b\b\b\b\b\b\b\b\b\b\b\b\b\b\b\b\b\b\b\b\b\b\b\b\b\b\b\b\b\b\b\b\b\b\b\b\b\r 5/30 [====>.........................] - ETA: 2s - loss: 0.0074",
                    "output_type": "stream"
                },
                {
                    "name": "stdout",
                    "text": "\b\b\b\b\b\b\b\b\b\b\b\b\b\b\b\b\b\b\b\b\b\b\b\b\b\b\b\b\b\b\b\b\b\b\b\b\b\b\b\b\b\b\b\b\b\b\b\b\b\b\b\b\b\b\b\b\b\b\b\b\b\b\b\r 6/30 [=====>........................] - ETA: 2s - loss: 0.0072",
                    "output_type": "stream"
                },
                {
                    "name": "stdout",
                    "text": "\b\b\b\b\b\b\b\b\b\b\b\b\b\b\b\b\b\b\b\b\b\b\b\b\b\b\b\b\b\b\b\b\b\b\b\b\b\b\b\b\b\b\b\b\b\b\b\b\b\b\b\b\b\b\b\b\b\b\b\b\b\b\b\r 7/30 [======>.......................] - ETA: 1s - loss: 0.0072",
                    "output_type": "stream"
                },
                {
                    "name": "stdout",
                    "text": "\b\b\b\b\b\b\b\b\b\b\b\b\b\b\b\b\b\b\b\b\b\b\b\b\b\b\b\b\b\b\b\b\b\b\b\b\b\b\b\b\b\b\b\b\b\b\b\b\b\b\b\b\b\b\b\b\b\b\b\b\b\b\b\r 8/30 [=======>......................] - ETA: 1s - loss: 0.0073",
                    "output_type": "stream"
                },
                {
                    "name": "stdout",
                    "text": "\b\b\b\b\b\b\b\b\b\b\b\b\b\b\b\b\b\b\b\b\b\b\b\b\b\b\b\b\b\b\b\b\b\b\b\b\b\b\b\b\b\b\b\b\b\b\b\b\b\b\b\b\b\b\b\b\b\b\b\b\b\b\b\r 9/30 [========>.....................] - ETA: 1s - loss: 0.0072",
                    "output_type": "stream"
                },
                {
                    "name": "stdout",
                    "text": "\b\b\b\b\b\b\b\b\b\b\b\b\b\b\b\b\b\b\b\b\b\b\b\b\b\b\b\b\b\b\b\b\b\b\b\b\b\b\b\b\b\b\b\b\b\b\b\b\b\b\b\b\b\b\b\b\b\b\b\b\b\b\b\r10/30 [=========>....................] - ETA: 1s - loss: 0.0070",
                    "output_type": "stream"
                },
                {
                    "name": "stdout",
                    "text": "\b\b\b\b\b\b\b\b\b\b\b\b\b\b\b\b\b\b\b\b\b\b\b\b\b\b\b\b\b\b\b\b\b\b\b\b\b\b\b\b\b\b\b\b\b\b\b\b\b\b\b\b\b\b\b\b\b\b\b\b\b\b\b\r11/30 [==========>...................] - ETA: 1s - loss: 0.0070",
                    "output_type": "stream"
                },
                {
                    "name": "stdout",
                    "text": "\b\b\b\b\b\b\b\b\b\b\b\b\b\b\b\b\b\b\b\b\b\b\b\b\b\b\b\b\b\b\b\b\b\b\b\b\b\b\b\b\b\b\b\b\b\b\b\b\b\b\b\b\b\b\b\b\b\b\b\b\b\b\b\r12/30 [===========>..................] - ETA: 1s - loss: 0.0069",
                    "output_type": "stream"
                },
                {
                    "name": "stdout",
                    "text": "\b\b\b\b\b\b\b\b\b\b\b\b\b\b\b\b\b\b\b\b\b\b\b\b\b\b\b\b\b\b\b\b\b\b\b\b\b\b\b\b\b\b\b\b\b\b\b\b\b\b\b\b\b\b\b\b\b\b\b\b\b\b\b\r13/30 [============>.................] - ETA: 1s - loss: 0.0068",
                    "output_type": "stream"
                },
                {
                    "name": "stdout",
                    "text": "\b\b\b\b\b\b\b\b\b\b\b\b\b\b\b\b\b\b\b\b\b\b\b\b\b\b\b\b\b\b\b\b\b\b\b\b\b\b\b\b\b\b\b\b\b\b\b\b\b\b\b\b\b\b\b\b\b\b\b\b\b\b\b\r14/30 [=============>................] - ETA: 1s - loss: 0.0069",
                    "output_type": "stream"
                },
                {
                    "name": "stdout",
                    "text": "\b\b\b\b\b\b\b\b\b\b\b\b\b\b\b\b\b\b\b\b\b\b\b\b\b\b\b\b\b\b\b\b\b\b\b\b\b\b\b\b\b\b\b\b\b\b\b\b\b\b\b\b\b\b\b\b\b\b\b\b\b\b\b\r15/30 [==============>...............] - ETA: 1s - loss: 0.0067",
                    "output_type": "stream"
                },
                {
                    "name": "stdout",
                    "text": "\b\b\b\b\b\b\b\b\b\b\b\b\b\b\b\b\b\b\b\b\b\b\b\b\b\b\b\b\b\b\b\b\b\b\b\b\b\b\b\b\b\b\b\b\b\b\b\b\b\b\b\b\b\b\b\b\b\b\b\b\b\b\b\r16/30 [===============>..............] - ETA: 1s - loss: 0.0070",
                    "output_type": "stream"
                },
                {
                    "name": "stdout",
                    "text": "\b\b\b\b\b\b\b\b\b\b\b\b\b\b\b\b\b\b\b\b\b\b\b\b\b\b\b\b\b\b\b\b\b\b\b\b\b\b\b\b\b\b\b\b\b\b\b\b\b\b\b\b\b\b\b\b\b\b\b\b\b\b\b\r17/30 [================>.............] - ETA: 1s - loss: 0.0070",
                    "output_type": "stream"
                },
                {
                    "name": "stdout",
                    "text": "\b\b\b\b\b\b\b\b\b\b\b\b\b\b\b\b\b\b\b\b\b\b\b\b\b\b\b\b\b\b\b\b\b\b\b\b\b\b\b\b\b\b\b\b\b\b\b\b\b\b\b\b\b\b\b\b\b\b\b\b\b\b\b\r18/30 [=================>............] - ETA: 1s - loss: 0.0069",
                    "output_type": "stream"
                },
                {
                    "name": "stdout",
                    "text": "\b\b\b\b\b\b\b\b\b\b\b\b\b\b\b\b\b\b\b\b\b\b\b\b\b\b\b\b\b\b\b\b\b\b\b\b\b\b\b\b\b\b\b\b\b\b\b\b\b\b\b\b\b\b\b\b\b\b\b\b\b\b\b\r19/30 [==================>...........] - ETA: 1s - loss: 0.0068",
                    "output_type": "stream"
                },
                {
                    "name": "stdout",
                    "text": "\b\b\b\b\b\b\b\b\b\b\b\b\b\b\b\b\b\b\b\b\b\b\b\b\b\b\b\b\b\b\b\b\b\b\b\b\b\b\b\b\b\b\b\b\b\b\b\b\b\b\b\b\b\b\b\b\b\b\b\b\b\b\b\r20/30 [===================>..........] - ETA: 0s - loss: 0.0068",
                    "output_type": "stream"
                },
                {
                    "name": "stdout",
                    "text": "\b\b\b\b\b\b\b\b\b\b\b\b\b\b\b\b\b\b\b\b\b\b\b\b\b\b\b\b\b\b\b\b\b\b\b\b\b\b\b\b\b\b\b\b\b\b\b\b\b\b\b\b\b\b\b\b\b\b\b\b\b\b\b\r21/30 [====================>.........] - ETA: 0s - loss: 0.0069",
                    "output_type": "stream"
                },
                {
                    "name": "stdout",
                    "text": "\b\b\b\b\b\b\b\b\b\b\b\b\b\b\b\b\b\b\b\b\b\b\b\b\b\b\b\b\b\b\b\b\b\b\b\b\b\b\b\b\b\b\b\b\b\b\b\b\b\b\b\b\b\b\b\b\b\b\b\b\b\b\b\r22/30 [=====================>........] - ETA: 0s - loss: 0.0068",
                    "output_type": "stream"
                },
                {
                    "name": "stdout",
                    "text": "\b\b\b\b\b\b\b\b\b\b\b\b\b\b\b\b\b\b\b\b\b\b\b\b\b\b\b\b\b\b\b\b\b\b\b\b\b\b\b\b\b\b\b\b\b\b\b\b\b\b\b\b\b\b\b\b\b\b\b\b\b\b\b\r23/30 [======================>.......] - ETA: 0s - loss: 0.0067",
                    "output_type": "stream"
                },
                {
                    "name": "stdout",
                    "text": "\b\b\b\b\b\b\b\b\b\b\b\b\b\b\b\b\b\b\b\b\b\b\b\b\b\b\b\b\b\b\b\b\b\b\b\b\b\b\b\b\b\b\b\b\b\b\b\b\b\b\b\b\b\b\b\b\b\b\b\b\b\b\b\r24/30 [=======================>......] - ETA: 0s - loss: 0.0066",
                    "output_type": "stream"
                },
                {
                    "name": "stdout",
                    "text": "\b\b\b\b\b\b\b\b\b\b\b\b\b\b\b\b\b\b\b\b\b\b\b\b\b\b\b\b\b\b\b\b\b\b\b\b\b\b\b\b\b\b\b\b\b\b\b\b\b\b\b\b\b\b\b\b\b\b\b\b\b\b\b\r25/30 [========================>.....] - ETA: 0s - loss: 0.0065",
                    "output_type": "stream"
                },
                {
                    "name": "stdout",
                    "text": "\b\b\b\b\b\b\b\b\b\b\b\b\b\b\b\b\b\b\b\b\b\b\b\b\b\b\b\b\b\b\b\b\b\b\b\b\b\b\b\b\b\b\b\b\b\b\b\b\b\b\b\b\b\b\b\b\b\b\b\b\b\b\b\r26/30 [=========================>....] - ETA: 0s - loss: 0.0065",
                    "output_type": "stream"
                },
                {
                    "name": "stdout",
                    "text": "\b\b\b\b\b\b\b\b\b\b\b\b\b\b\b\b\b\b\b\b\b\b\b\b\b\b\b\b\b\b\b\b\b\b\b\b\b\b\b\b\b\b\b\b\b\b\b\b\b\b\b\b\b\b\b\b\b\b\b\b\b\b\b\r27/30 [==========================>...] - ETA: 0s - loss: 0.0066",
                    "output_type": "stream"
                },
                {
                    "name": "stdout",
                    "text": "\b\b\b\b\b\b\b\b\b\b\b\b\b\b\b\b\b\b\b\b\b\b\b\b\b\b\b\b\b\b\b\b\b\b\b\b\b\b\b\b\b\b\b\b\b\b\b\b\b\b\b\b\b\b\b\b\b\b\b\b\b\b\b\r28/30 [===========================>..] - ETA: 0s - loss: 0.0066",
                    "output_type": "stream"
                },
                {
                    "name": "stdout",
                    "text": "\b\b\b\b\b\b\b\b\b\b\b\b\b\b\b\b\b\b\b\b\b\b\b\b\b\b\b\b\b\b\b\b\b\b\b\b\b\b\b\b\b\b\b\b\b\b\b\b\b\b\b\b\b\b\b\b\b\b\b\b\b\b\b\r29/30 [============================>.] - ETA: 0s - loss: 0.0066",
                    "output_type": "stream"
                },
                {
                    "name": "stdout",
                    "text": "\b\b\b\b\b\b\b\b\b\b\b\b\b\b\b\b\b\b\b\b\b\b\b\b\b\b\b\b\b\b\b\b\b\b\b\b\b\b\b\b\b\b\b\b\b\b\b\b\b\b\b\b\b\b\b\b\b\b\b\b\b\b\b\r30/30 [==============================] - ETA: 0s - loss: 0.0066",
                    "output_type": "stream"
                },
                {
                    "name": "stdout",
                    "text": "\b\b\b\b\b\b\b\b\b\b\b\b\b\b\b\b\b\b\b\b\b\b\b\b\b\b\b\b\b\b\b\b\b\b\b\b\b\b\b\b\b\b\b\b\b\b\b\b\b\b\b\b\b\b\b\b\b\b\b\b\b\b\b\r30/30 [==============================] - 3s 93ms/step - loss: 0.0066\n",
                    "output_type": "stream"
                },
                {
                    "name": "stdout",
                    "text": "Epoch 7/25\n",
                    "output_type": "stream"
                },
                {
                    "name": "stdout",
                    "text": "\r 1/30 [>.............................] - ETA: 2s - loss: 0.0067",
                    "output_type": "stream"
                },
                {
                    "name": "stdout",
                    "text": "\b\b\b\b\b\b\b\b\b\b\b\b\b\b\b\b\b\b\b\b\b\b\b\b\b\b\b\b\b\b\b\b\b\b\b\b\b\b\b\b\b\b\b\b\b\b\b\b\b\b\b\b\b\b\b\b\b\b\b\b\b\b\b\r 2/30 [=>............................] - ETA: 2s - loss: 0.0056",
                    "output_type": "stream"
                },
                {
                    "name": "stdout",
                    "text": "\b\b\b\b\b\b\b\b\b\b\b\b\b\b\b\b\b\b\b\b\b\b\b\b\b\b\b\b\b\b\b\b\b\b\b\b\b\b\b\b\b\b\b\b\b\b\b\b\b\b\b\b\b\b\b\b\b\b\b\b\b\b\b\r 3/30 [==>...........................] - ETA: 2s - loss: 0.0058",
                    "output_type": "stream"
                },
                {
                    "name": "stdout",
                    "text": "\b\b\b\b\b\b\b\b\b\b\b\b\b\b\b\b\b\b\b\b\b\b\b\b\b\b\b\b\b\b\b\b\b\b\b\b\b\b\b\b\b\b\b\b\b\b\b\b\b\b\b\b\b\b\b\b\b\b\b\b\b\b\b\r 4/30 [===>..........................] - ETA: 2s - loss: 0.0066",
                    "output_type": "stream"
                },
                {
                    "name": "stdout",
                    "text": "\b\b\b\b\b\b\b\b\b\b\b\b\b\b\b\b\b\b\b\b\b\b\b\b\b\b\b\b\b\b\b\b\b\b\b\b\b\b\b\b\b\b\b\b\b\b\b\b\b\b\b\b\b\b\b\b\b\b\b\b\b\b\b\r 5/30 [====>.........................] - ETA: 2s - loss: 0.0065",
                    "output_type": "stream"
                },
                {
                    "name": "stdout",
                    "text": "\b\b\b\b\b\b\b\b\b\b\b\b\b\b\b\b\b\b\b\b\b\b\b\b\b\b\b\b\b\b\b\b\b\b\b\b\b\b\b\b\b\b\b\b\b\b\b\b\b\b\b\b\b\b\b\b\b\b\b\b\b\b\b\r 6/30 [=====>........................] - ETA: 2s - loss: 0.0064",
                    "output_type": "stream"
                },
                {
                    "name": "stdout",
                    "text": "\b\b\b\b\b\b\b\b\b\b\b\b\b\b\b\b\b\b\b\b\b\b\b\b\b\b\b\b\b\b\b\b\b\b\b\b\b\b\b\b\b\b\b\b\b\b\b\b\b\b\b\b\b\b\b\b\b\b\b\b\b\b\b\r 7/30 [======>.......................] - ETA: 2s - loss: 0.0063",
                    "output_type": "stream"
                },
                {
                    "name": "stdout",
                    "text": "\b\b\b\b\b\b\b\b\b\b\b\b\b\b\b\b\b\b\b\b\b\b\b\b\b\b\b\b\b\b\b\b\b\b\b\b\b\b\b\b\b\b\b\b\b\b\b\b\b\b\b\b\b\b\b\b\b\b\b\b\b\b\b\r 8/30 [=======>......................] - ETA: 2s - loss: 0.0062",
                    "output_type": "stream"
                },
                {
                    "name": "stdout",
                    "text": "\b\b\b\b\b\b\b\b\b\b\b\b\b\b\b\b\b\b\b\b\b\b\b\b\b\b\b\b\b\b\b\b\b\b\b\b\b\b\b\b\b\b\b\b\b\b\b\b\b\b\b\b\b\b\b\b\b\b\b\b\b\b\b\r 9/30 [========>.....................] - ETA: 1s - loss: 0.0060",
                    "output_type": "stream"
                },
                {
                    "name": "stdout",
                    "text": "\b\b\b\b\b\b\b\b\b\b\b\b\b\b\b\b\b\b\b\b\b\b\b\b\b\b\b\b\b\b\b\b\b\b\b\b\b\b\b\b\b\b\b\b\b\b\b\b\b\b\b\b\b\b\b\b\b\b\b\b\b\b\b\r10/30 [=========>....................] - ETA: 1s - loss: 0.0063",
                    "output_type": "stream"
                },
                {
                    "name": "stdout",
                    "text": "\b\b\b\b\b\b\b\b\b\b\b\b\b\b\b\b\b\b\b\b\b\b\b\b\b\b\b\b\b\b\b\b\b\b\b\b\b\b\b\b\b\b\b\b\b\b\b\b\b\b\b\b\b\b\b\b\b\b\b\b\b\b\b\r11/30 [==========>...................] - ETA: 1s - loss: 0.0063",
                    "output_type": "stream"
                },
                {
                    "name": "stdout",
                    "text": "\b\b\b\b\b\b\b\b\b\b\b\b\b\b\b\b\b\b\b\b\b\b\b\b\b\b\b\b\b\b\b\b\b\b\b\b\b\b\b\b\b\b\b\b\b\b\b\b\b\b\b\b\b\b\b\b\b\b\b\b\b\b\b\r12/30 [===========>..................] - ETA: 1s - loss: 0.0062",
                    "output_type": "stream"
                },
                {
                    "name": "stdout",
                    "text": "\b\b\b\b\b\b\b\b\b\b\b\b\b\b\b\b\b\b\b\b\b\b\b\b\b\b\b\b\b\b\b\b\b\b\b\b\b\b\b\b\b\b\b\b\b\b\b\b\b\b\b\b\b\b\b\b\b\b\b\b\b\b\b\r13/30 [============>.................] - ETA: 1s - loss: 0.0065",
                    "output_type": "stream"
                },
                {
                    "name": "stdout",
                    "text": "\b\b\b\b\b\b\b\b\b\b\b\b\b\b\b\b\b\b\b\b\b\b\b\b\b\b\b\b\b\b\b\b\b\b\b\b\b\b\b\b\b\b\b\b\b\b\b\b\b\b\b\b\b\b\b\b\b\b\b\b\b\b\b\r14/30 [=============>................] - ETA: 1s - loss: 0.0064",
                    "output_type": "stream"
                },
                {
                    "name": "stdout",
                    "text": "\b\b\b\b\b\b\b\b\b\b\b\b\b\b\b\b\b\b\b\b\b\b\b\b\b\b\b\b\b\b\b\b\b\b\b\b\b\b\b\b\b\b\b\b\b\b\b\b\b\b\b\b\b\b\b\b\b\b\b\b\b\b\b\r15/30 [==============>...............] - ETA: 1s - loss: 0.0066",
                    "output_type": "stream"
                },
                {
                    "name": "stdout",
                    "text": "\b\b\b\b\b\b\b\b\b\b\b\b\b\b\b\b\b\b\b\b\b\b\b\b\b\b\b\b\b\b\b\b\b\b\b\b\b\b\b\b\b\b\b\b\b\b\b\b\b\b\b\b\b\b\b\b\b\b\b\b\b\b\b\r16/30 [===============>..............] - ETA: 1s - loss: 0.0066",
                    "output_type": "stream"
                },
                {
                    "name": "stdout",
                    "text": "\b\b\b\b\b\b\b\b\b\b\b\b\b\b\b\b\b\b\b\b\b\b\b\b\b\b\b\b\b\b\b\b\b\b\b\b\b\b\b\b\b\b\b\b\b\b\b\b\b\b\b\b\b\b\b\b\b\b\b\b\b\b\b\r17/30 [================>.............] - ETA: 1s - loss: 0.0066",
                    "output_type": "stream"
                },
                {
                    "name": "stdout",
                    "text": "\b\b\b\b\b\b\b\b\b\b\b\b\b\b\b\b\b\b\b\b\b\b\b\b\b\b\b\b\b\b\b\b\b\b\b\b\b\b\b\b\b\b\b\b\b\b\b\b\b\b\b\b\b\b\b\b\b\b\b\b\b\b\b\r18/30 [=================>............] - ETA: 1s - loss: 0.0069",
                    "output_type": "stream"
                },
                {
                    "name": "stdout",
                    "text": "\b\b\b\b\b\b\b\b\b\b\b\b\b\b\b\b\b\b\b\b\b\b\b\b\b\b\b\b\b\b\b\b\b\b\b\b\b\b\b\b\b\b\b\b\b\b\b\b\b\b\b\b\b\b\b\b\b\b\b\b\b\b\b\r19/30 [==================>...........] - ETA: 1s - loss: 0.0068",
                    "output_type": "stream"
                },
                {
                    "name": "stdout",
                    "text": "\b\b\b\b\b\b\b\b\b\b\b\b\b\b\b\b\b\b\b\b\b\b\b\b\b\b\b\b\b\b\b\b\b\b\b\b\b\b\b\b\b\b\b\b\b\b\b\b\b\b\b\b\b\b\b\b\b\b\b\b\b\b\b\r20/30 [===================>..........] - ETA: 1s - loss: 0.0067",
                    "output_type": "stream"
                },
                {
                    "name": "stdout",
                    "text": "\b\b\b\b\b\b\b\b\b\b\b\b\b\b\b\b\b\b\b\b\b\b\b\b\b\b\b\b\b\b\b\b\b\b\b\b\b\b\b\b\b\b\b\b\b\b\b\b\b\b\b\b\b\b\b\b\b\b\b\b\b\b\b\r21/30 [====================>.........] - ETA: 0s - loss: 0.0067",
                    "output_type": "stream"
                },
                {
                    "name": "stdout",
                    "text": "\b\b\b\b\b\b\b\b\b\b\b\b\b\b\b\b\b\b\b\b\b\b\b\b\b\b\b\b\b\b\b\b\b\b\b\b\b\b\b\b\b\b\b\b\b\b\b\b\b\b\b\b\b\b\b\b\b\b\b\b\b\b\b\r22/30 [=====================>........] - ETA: 0s - loss: 0.0069",
                    "output_type": "stream"
                },
                {
                    "name": "stdout",
                    "text": "\b\b\b\b\b\b\b\b\b\b\b\b\b\b\b\b\b\b\b\b\b\b\b\b\b\b\b\b\b\b\b\b\b\b\b\b\b\b\b\b\b\b\b\b\b\b\b\b\b\b\b\b\b\b\b\b\b\b\b\b\b\b\b\r23/30 [======================>.......] - ETA: 0s - loss: 0.0069",
                    "output_type": "stream"
                },
                {
                    "name": "stdout",
                    "text": "\b\b\b\b\b\b\b\b\b\b\b\b\b\b\b\b\b\b\b\b\b\b\b\b\b\b\b\b\b\b\b\b\b\b\b\b\b\b\b\b\b\b\b\b\b\b\b\b\b\b\b\b\b\b\b\b\b\b\b\b\b\b\b\r24/30 [=======================>......] - ETA: 0s - loss: 0.0068",
                    "output_type": "stream"
                },
                {
                    "name": "stdout",
                    "text": "\b\b\b\b\b\b\b\b\b\b\b\b\b\b\b\b\b\b\b\b\b\b\b\b\b\b\b\b\b\b\b\b\b\b\b\b\b\b\b\b\b\b\b\b\b\b\b\b\b\b\b\b\b\b\b\b\b\b\b\b\b\b\b\r25/30 [========================>.....] - ETA: 0s - loss: 0.0067",
                    "output_type": "stream"
                },
                {
                    "name": "stdout",
                    "text": "\b\b\b\b\b\b\b\b\b\b\b\b\b\b\b\b\b\b\b\b\b\b\b\b\b\b\b\b\b\b\b\b\b\b\b\b\b\b\b\b\b\b\b\b\b\b\b\b\b\b\b\b\b\b\b\b\b\b\b\b\b\b\b\r26/30 [=========================>....] - ETA: 0s - loss: 0.0068",
                    "output_type": "stream"
                },
                {
                    "name": "stdout",
                    "text": "\b\b\b\b\b\b\b\b\b\b\b\b\b\b\b\b\b\b\b\b\b\b\b\b\b\b\b\b\b\b\b\b\b\b\b\b\b\b\b\b\b\b\b\b\b\b\b\b\b\b\b\b\b\b\b\b\b\b\b\b\b\b\b\r27/30 [==========================>...] - ETA: 0s - loss: 0.0068",
                    "output_type": "stream"
                },
                {
                    "name": "stdout",
                    "text": "\b\b\b\b\b\b\b\b\b\b\b\b\b\b\b\b\b\b\b\b\b\b\b\b\b\b\b\b\b\b\b\b\b\b\b\b\b\b\b\b\b\b\b\b\b\b\b\b\b\b\b\b\b\b\b\b\b\b\b\b\b\b\b\r28/30 [===========================>..] - ETA: 0s - loss: 0.0068",
                    "output_type": "stream"
                },
                {
                    "name": "stdout",
                    "text": "\b\b\b\b\b\b\b\b\b\b\b\b\b\b\b\b\b\b\b\b\b\b\b\b\b\b\b\b\b\b\b\b\b\b\b\b\b\b\b\b\b\b\b\b\b\b\b\b\b\b\b\b\b\b\b\b\b\b\b\b\b\b\b\r29/30 [============================>.] - ETA: 0s - loss: 0.0069",
                    "output_type": "stream"
                },
                {
                    "name": "stdout",
                    "text": "\b\b\b\b\b\b\b\b\b\b\b\b\b\b\b\b\b\b\b\b\b\b\b\b\b\b\b\b\b\b\b\b\b\b\b\b\b\b\b\b\b\b\b\b\b\b\b\b\b\b\b\b\b\b\b\b\b\b\b\b\b\b\b\r30/30 [==============================] - ETA: 0s - loss: 0.0070",
                    "output_type": "stream"
                },
                {
                    "name": "stdout",
                    "text": "\b\b\b\b\b\b\b\b\b\b\b\b\b\b\b\b\b\b\b\b\b\b\b\b\b\b\b\b\b\b\b\b\b\b\b\b\b\b\b\b\b\b\b\b\b\b\b\b\b\b\b\b\b\b\b\b\b\b\b\b\b\b\b\r30/30 [==============================] - 3s 98ms/step - loss: 0.0070\n",
                    "output_type": "stream"
                },
                {
                    "name": "stdout",
                    "text": "Epoch 8/25\n",
                    "output_type": "stream"
                },
                {
                    "name": "stdout",
                    "text": "\r 1/30 [>.............................] - ETA: 2s - loss: 0.0067",
                    "output_type": "stream"
                },
                {
                    "name": "stdout",
                    "text": "\b\b\b\b\b\b\b\b\b\b\b\b\b\b\b\b\b\b\b\b\b\b\b\b\b\b\b\b\b\b\b\b\b\b\b\b\b\b\b\b\b\b\b\b\b\b\b\b\b\b\b\b\b\b\b\b\b\b\b\b\b\b\b\r 2/30 [=>............................] - ETA: 2s - loss: 0.0081",
                    "output_type": "stream"
                },
                {
                    "name": "stdout",
                    "text": "\b\b\b\b\b\b\b\b\b\b\b\b\b\b\b\b\b\b\b\b\b\b\b\b\b\b\b\b\b\b\b\b\b\b\b\b\b\b\b\b\b\b\b\b\b\b\b\b\b\b\b\b\b\b\b\b\b\b\b\b\b\b\b\r 3/30 [==>...........................] - ETA: 2s - loss: 0.0073",
                    "output_type": "stream"
                },
                {
                    "name": "stdout",
                    "text": "\b\b\b\b\b\b\b\b\b\b\b\b\b\b\b\b\b\b\b\b\b\b\b\b\b\b\b\b\b\b\b\b\b\b\b\b\b\b\b\b\b\b\b\b\b\b\b\b\b\b\b\b\b\b\b\b\b\b\b\b\b\b\b\r 4/30 [===>..........................] - ETA: 2s - loss: 0.0069",
                    "output_type": "stream"
                },
                {
                    "name": "stdout",
                    "text": "\b\b\b\b\b\b\b\b\b\b\b\b\b\b\b\b\b\b\b\b\b\b\b\b\b\b\b\b\b\b\b\b\b\b\b\b\b\b\b\b\b\b\b\b\b\b\b\b\b\b\b\b\b\b\b\b\b\b\b\b\b\b\b\r 5/30 [====>.........................] - ETA: 2s - loss: 0.0074",
                    "output_type": "stream"
                },
                {
                    "name": "stdout",
                    "text": "\b\b\b\b\b\b\b\b\b\b\b\b\b\b\b\b\b\b\b\b\b\b\b\b\b\b\b\b\b\b\b\b\b\b\b\b\b\b\b\b\b\b\b\b\b\b\b\b\b\b\b\b\b\b\b\b\b\b\b\b\b\b\b\r 6/30 [=====>........................] - ETA: 2s - loss: 0.0073",
                    "output_type": "stream"
                },
                {
                    "name": "stdout",
                    "text": "\b\b\b\b\b\b\b\b\b\b\b\b\b\b\b\b\b\b\b\b\b\b\b\b\b\b\b\b\b\b\b\b\b\b\b\b\b\b\b\b\b\b\b\b\b\b\b\b\b\b\b\b\b\b\b\b\b\b\b\b\b\b\b\r 7/30 [======>.......................] - ETA: 2s - loss: 0.0079",
                    "output_type": "stream"
                },
                {
                    "name": "stdout",
                    "text": "\b\b\b\b\b\b\b\b\b\b\b\b\b\b\b\b\b\b\b\b\b\b\b\b\b\b\b\b\b\b\b\b\b\b\b\b\b\b\b\b\b\b\b\b\b\b\b\b\b\b\b\b\b\b\b\b\b\b\b\b\b\b\b\r 8/30 [=======>......................] - ETA: 2s - loss: 0.0077",
                    "output_type": "stream"
                },
                {
                    "name": "stdout",
                    "text": "\b\b\b\b\b\b\b\b\b\b\b\b\b\b\b\b\b\b\b\b\b\b\b\b\b\b\b\b\b\b\b\b\b\b\b\b\b\b\b\b\b\b\b\b\b\b\b\b\b\b\b\b\b\b\b\b\b\b\b\b\b\b\b\r 9/30 [========>.....................] - ETA: 1s - loss: 0.0075",
                    "output_type": "stream"
                },
                {
                    "name": "stdout",
                    "text": "\b\b\b\b\b\b\b\b\b\b\b\b\b\b\b\b\b\b\b\b\b\b\b\b\b\b\b\b\b\b\b\b\b\b\b\b\b\b\b\b\b\b\b\b\b\b\b\b\b\b\b\b\b\b\b\b\b\b\b\b\b\b\b\r10/30 [=========>....................] - ETA: 1s - loss: 0.0074",
                    "output_type": "stream"
                },
                {
                    "name": "stdout",
                    "text": "\b\b\b\b\b\b\b\b\b\b\b\b\b\b\b\b\b\b\b\b\b\b\b\b\b\b\b\b\b\b\b\b\b\b\b\b\b\b\b\b\b\b\b\b\b\b\b\b\b\b\b\b\b\b\b\b\b\b\b\b\b\b\b\r11/30 [==========>...................] - ETA: 1s - loss: 0.0073",
                    "output_type": "stream"
                },
                {
                    "name": "stdout",
                    "text": "\b\b\b\b\b\b\b\b\b\b\b\b\b\b\b\b\b\b\b\b\b\b\b\b\b\b\b\b\b\b\b\b\b\b\b\b\b\b\b\b\b\b\b\b\b\b\b\b\b\b\b\b\b\b\b\b\b\b\b\b\b\b\b\r12/30 [===========>..................] - ETA: 1s - loss: 0.0071",
                    "output_type": "stream"
                },
                {
                    "name": "stdout",
                    "text": "\b\b\b\b\b\b\b\b\b\b\b\b\b\b\b\b\b\b\b\b\b\b\b\b\b\b\b\b\b\b\b\b\b\b\b\b\b\b\b\b\b\b\b\b\b\b\b\b\b\b\b\b\b\b\b\b\b\b\b\b\b\b\b\r13/30 [============>.................] - ETA: 1s - loss: 0.0069",
                    "output_type": "stream"
                },
                {
                    "name": "stdout",
                    "text": "\b\b\b\b\b\b\b\b\b\b\b\b\b\b\b\b\b\b\b\b\b\b\b\b\b\b\b\b\b\b\b\b\b\b\b\b\b\b\b\b\b\b\b\b\b\b\b\b\b\b\b\b\b\b\b\b\b\b\b\b\b\b\b\r14/30 [=============>................] - ETA: 1s - loss: 0.0068",
                    "output_type": "stream"
                },
                {
                    "name": "stdout",
                    "text": "\b\b\b\b\b\b\b\b\b\b\b\b\b\b\b\b\b\b\b\b\b\b\b\b\b\b\b\b\b\b\b\b\b\b\b\b\b\b\b\b\b\b\b\b\b\b\b\b\b\b\b\b\b\b\b\b\b\b\b\b\b\b\b\r15/30 [==============>...............] - ETA: 1s - loss: 0.0066",
                    "output_type": "stream"
                },
                {
                    "name": "stdout",
                    "text": "\b\b\b\b\b\b\b\b\b\b\b\b\b\b\b\b\b\b\b\b\b\b\b\b\b\b\b\b\b\b\b\b\b\b\b\b\b\b\b\b\b\b\b\b\b\b\b\b\b\b\b\b\b\b\b\b\b\b\b\b\b\b\b\r16/30 [===============>..............] - ETA: 1s - loss: 0.0066",
                    "output_type": "stream"
                },
                {
                    "name": "stdout",
                    "text": "\b\b\b\b\b\b\b\b\b\b\b\b\b\b\b\b\b\b\b\b\b\b\b\b\b\b\b\b\b\b\b\b\b\b\b\b\b\b\b\b\b\b\b\b\b\b\b\b\b\b\b\b\b\b\b\b\b\b\b\b\b\b\b\r17/30 [================>.............] - ETA: 1s - loss: 0.0066",
                    "output_type": "stream"
                },
                {
                    "name": "stdout",
                    "text": "\b\b\b\b\b\b\b\b\b\b\b\b\b\b\b\b\b\b\b\b\b\b\b\b\b\b\b\b\b\b\b\b\b\b\b\b\b\b\b\b\b\b\b\b\b\b\b\b\b\b\b\b\b\b\b\b\b\b\b\b\b\b\b\r18/30 [=================>............] - ETA: 1s - loss: 0.0066",
                    "output_type": "stream"
                },
                {
                    "name": "stdout",
                    "text": "\b\b\b\b\b\b\b\b\b\b\b\b\b\b\b\b\b\b\b\b\b\b\b\b\b\b\b\b\b\b\b\b\b\b\b\b\b\b\b\b\b\b\b\b\b\b\b\b\b\b\b\b\b\b\b\b\b\b\b\b\b\b\b\r19/30 [==================>...........] - ETA: 0s - loss: 0.0066",
                    "output_type": "stream"
                },
                {
                    "name": "stdout",
                    "text": "\b\b\b\b\b\b\b\b\b\b\b\b\b\b\b\b\b\b\b\b\b\b\b\b\b\b\b\b\b\b\b\b\b\b\b\b\b\b\b\b\b\b\b\b\b\b\b\b\b\b\b\b\b\b\b\b\b\b\b\b\b\b\b\r20/30 [===================>..........] - ETA: 0s - loss: 0.0065",
                    "output_type": "stream"
                },
                {
                    "name": "stdout",
                    "text": "\b\b\b\b\b\b\b\b\b\b\b\b\b\b\b\b\b\b\b\b\b\b\b\b\b\b\b\b\b\b\b\b\b\b\b\b\b\b\b\b\b\b\b\b\b\b\b\b\b\b\b\b\b\b\b\b\b\b\b\b\b\b\b\r21/30 [====================>.........] - ETA: 0s - loss: 0.0063",
                    "output_type": "stream"
                },
                {
                    "name": "stdout",
                    "text": "\b\b\b\b\b\b\b\b\b\b\b\b\b\b\b\b\b\b\b\b\b\b\b\b\b\b\b\b\b\b\b\b\b\b\b\b\b\b\b\b\b\b\b\b\b\b\b\b\b\b\b\b\b\b\b\b\b\b\b\b\b\b\b\r22/30 [=====================>........] - ETA: 0s - loss: 0.0064",
                    "output_type": "stream"
                },
                {
                    "name": "stdout",
                    "text": "\b\b\b\b\b\b\b\b\b\b\b\b\b\b\b\b\b\b\b\b\b\b\b\b\b\b\b\b\b\b\b\b\b\b\b\b\b\b\b\b\b\b\b\b\b\b\b\b\b\b\b\b\b\b\b\b\b\b\b\b\b\b\b\r23/30 [======================>.......] - ETA: 0s - loss: 0.0063",
                    "output_type": "stream"
                },
                {
                    "name": "stdout",
                    "text": "\b\b\b\b\b\b\b\b\b\b\b\b\b\b\b\b\b\b\b\b\b\b\b\b\b\b\b\b\b\b\b\b\b\b\b\b\b\b\b\b\b\b\b\b\b\b\b\b\b\b\b\b\b\b\b\b\b\b\b\b\b\b\b\r24/30 [=======================>......] - ETA: 0s - loss: 0.0063",
                    "output_type": "stream"
                },
                {
                    "name": "stdout",
                    "text": "\b\b\b\b\b\b\b\b\b\b\b\b\b\b\b\b\b\b\b\b\b\b\b\b\b\b\b\b\b\b\b\b\b\b\b\b\b\b\b\b\b\b\b\b\b\b\b\b\b\b\b\b\b\b\b\b\b\b\b\b\b\b\b\r25/30 [========================>.....] - ETA: 0s - loss: 0.0063",
                    "output_type": "stream"
                },
                {
                    "name": "stdout",
                    "text": "\b\b\b\b\b\b\b\b\b\b\b\b\b\b\b\b\b\b\b\b\b\b\b\b\b\b\b\b\b\b\b\b\b\b\b\b\b\b\b\b\b\b\b\b\b\b\b\b\b\b\b\b\b\b\b\b\b\b\b\b\b\b\b\r26/30 [=========================>....] - ETA: 0s - loss: 0.0063",
                    "output_type": "stream"
                },
                {
                    "name": "stdout",
                    "text": "\b\b\b\b\b\b\b\b\b\b\b\b\b\b\b\b\b\b\b\b\b\b\b\b\b\b\b\b\b\b\b\b\b\b\b\b\b\b\b\b\b\b\b\b\b\b\b\b\b\b\b\b\b\b\b\b\b\b\b\b\b\b\b\r27/30 [==========================>...] - ETA: 0s - loss: 0.0063",
                    "output_type": "stream"
                },
                {
                    "name": "stdout",
                    "text": "\b\b\b\b\b\b\b\b\b\b\b\b\b\b\b\b\b\b\b\b\b\b\b\b\b\b\b\b\b\b\b\b\b\b\b\b\b\b\b\b\b\b\b\b\b\b\b\b\b\b\b\b\b\b\b\b\b\b\b\b\b\b\b\r28/30 [===========================>..] - ETA: 0s - loss: 0.0062",
                    "output_type": "stream"
                },
                {
                    "name": "stdout",
                    "text": "\b\b\b\b\b\b\b\b\b\b\b\b\b\b\b\b\b\b\b\b\b\b\b\b\b\b\b\b\b\b\b\b\b\b\b\b\b\b\b\b\b\b\b\b\b\b\b\b\b\b\b\b\b\b\b\b\b\b\b\b\b\b\b\r29/30 [============================>.] - ETA: 0s - loss: 0.0061",
                    "output_type": "stream"
                },
                {
                    "name": "stdout",
                    "text": "\b\b\b\b\b\b\b\b\b\b\b\b\b\b\b\b\b\b\b\b\b\b\b\b\b\b\b\b\b\b\b\b\b\b\b\b\b\b\b\b\b\b\b\b\b\b\b\b\b\b\b\b\b\b\b\b\b\b\b\b\b\b\b\r30/30 [==============================] - ETA: 0s - loss: 0.0061",
                    "output_type": "stream"
                },
                {
                    "name": "stdout",
                    "text": "\b\b\b\b\b\b\b\b\b\b\b\b\b\b\b\b\b\b\b\b\b\b\b\b\b\b\b\b\b\b\b\b\b\b\b\b\b\b\b\b\b\b\b\b\b\b\b\b\b\b\b\b\b\b\b\b\b\b\b\b\b\b\b\r30/30 [==============================] - 3s 92ms/step - loss: 0.0061\n",
                    "output_type": "stream"
                },
                {
                    "name": "stdout",
                    "text": "Epoch 9/25\n",
                    "output_type": "stream"
                },
                {
                    "name": "stdout",
                    "text": "\r 1/30 [>.............................] - ETA: 2s - loss: 0.0067",
                    "output_type": "stream"
                },
                {
                    "name": "stdout",
                    "text": "\b\b\b\b\b\b\b\b\b\b\b\b\b\b\b\b\b\b\b\b\b\b\b\b\b\b\b\b\b\b\b\b\b\b\b\b\b\b\b\b\b\b\b\b\b\b\b\b\b\b\b\b\b\b\b\b\b\b\b\b\b\b\b\r 2/30 [=>............................] - ETA: 2s - loss: 0.0075",
                    "output_type": "stream"
                },
                {
                    "name": "stdout",
                    "text": "\b\b\b\b\b\b\b\b\b\b\b\b\b\b\b\b\b\b\b\b\b\b\b\b\b\b\b\b\b\b\b\b\b\b\b\b\b\b\b\b\b\b\b\b\b\b\b\b\b\b\b\b\b\b\b\b\b\b\b\b\b\b\b\r 3/30 [==>...........................] - ETA: 2s - loss: 0.0080",
                    "output_type": "stream"
                },
                {
                    "name": "stdout",
                    "text": "\b\b\b\b\b\b\b\b\b\b\b\b\b\b\b\b\b\b\b\b\b\b\b\b\b\b\b\b\b\b\b\b\b\b\b\b\b\b\b\b\b\b\b\b\b\b\b\b\b\b\b\b\b\b\b\b\b\b\b\b\b\b\b\r 4/30 [===>..........................] - ETA: 2s - loss: 0.0075",
                    "output_type": "stream"
                },
                {
                    "name": "stdout",
                    "text": "\b\b\b\b\b\b\b\b\b\b\b\b\b\b\b\b\b\b\b\b\b\b\b\b\b\b\b\b\b\b\b\b\b\b\b\b\b\b\b\b\b\b\b\b\b\b\b\b\b\b\b\b\b\b\b\b\b\b\b\b\b\b\b\r 5/30 [====>.........................] - ETA: 2s - loss: 0.0084",
                    "output_type": "stream"
                },
                {
                    "name": "stdout",
                    "text": "\b\b\b\b\b\b\b\b\b\b\b\b\b\b\b\b\b\b\b\b\b\b\b\b\b\b\b\b\b\b\b\b\b\b\b\b\b\b\b\b\b\b\b\b\b\b\b\b\b\b\b\b\b\b\b\b\b\b\b\b\b\b\b\r 6/30 [=====>........................] - ETA: 2s - loss: 0.0090",
                    "output_type": "stream"
                },
                {
                    "name": "stdout",
                    "text": "\b\b\b\b\b\b\b\b\b\b\b\b\b\b\b\b\b\b\b\b\b\b\b\b\b\b\b\b\b\b\b\b\b\b\b\b\b\b\b\b\b\b\b\b\b\b\b\b\b\b\b\b\b\b\b\b\b\b\b\b\b\b\b\r 7/30 [======>.......................] - ETA: 2s - loss: 0.0089",
                    "output_type": "stream"
                },
                {
                    "name": "stdout",
                    "text": "\b\b\b\b\b\b\b\b\b\b\b\b\b\b\b\b\b\b\b\b\b\b\b\b\b\b\b\b\b\b\b\b\b\b\b\b\b\b\b\b\b\b\b\b\b\b\b\b\b\b\b\b\b\b\b\b\b\b\b\b\b\b\b\r 8/30 [=======>......................] - ETA: 2s - loss: 0.0089",
                    "output_type": "stream"
                },
                {
                    "name": "stdout",
                    "text": "\b\b\b\b\b\b\b\b\b\b\b\b\b\b\b\b\b\b\b\b\b\b\b\b\b\b\b\b\b\b\b\b\b\b\b\b\b\b\b\b\b\b\b\b\b\b\b\b\b\b\b\b\b\b\b\b\b\b\b\b\b\b\b\r 9/30 [========>.....................] - ETA: 2s - loss: 0.0088",
                    "output_type": "stream"
                },
                {
                    "name": "stdout",
                    "text": "\b\b\b\b\b\b\b\b\b\b\b\b\b\b\b\b\b\b\b\b\b\b\b\b\b\b\b\b\b\b\b\b\b\b\b\b\b\b\b\b\b\b\b\b\b\b\b\b\b\b\b\b\b\b\b\b\b\b\b\b\b\b\b\r10/30 [=========>....................] - ETA: 2s - loss: 0.0091",
                    "output_type": "stream"
                },
                {
                    "name": "stdout",
                    "text": "\b\b\b\b\b\b\b\b\b\b\b\b\b\b\b\b\b\b\b\b\b\b\b\b\b\b\b\b\b\b\b\b\b\b\b\b\b\b\b\b\b\b\b\b\b\b\b\b\b\b\b\b\b\b\b\b\b\b\b\b\b\b\b\r11/30 [==========>...................] - ETA: 2s - loss: 0.0088",
                    "output_type": "stream"
                },
                {
                    "name": "stdout",
                    "text": "\b\b\b\b\b\b\b\b\b\b\b\b\b\b\b\b\b\b\b\b\b\b\b\b\b\b\b\b\b\b\b\b\b\b\b\b\b\b\b\b\b\b\b\b\b\b\b\b\b\b\b\b\b\b\b\b\b\b\b\b\b\b\b\r12/30 [===========>..................] - ETA: 2s - loss: 0.0085",
                    "output_type": "stream"
                },
                {
                    "name": "stdout",
                    "text": "\b\b\b\b\b\b\b\b\b\b\b\b\b\b\b\b\b\b\b\b\b\b\b\b\b\b\b\b\b\b\b\b\b\b\b\b\b\b\b\b\b\b\b\b\b\b\b\b\b\b\b\b\b\b\b\b\b\b\b\b\b\b\b\r13/30 [============>.................] - ETA: 2s - loss: 0.0082",
                    "output_type": "stream"
                },
                {
                    "name": "stdout",
                    "text": "\b\b\b\b\b\b\b\b\b\b\b\b\b\b\b\b\b\b\b\b\b\b\b\b\b\b\b\b\b\b\b\b\b\b\b\b\b\b\b\b\b\b\b\b\b\b\b\b\b\b\b\b\b\b\b\b\b\b\b\b\b\b\b\r14/30 [=============>................] - ETA: 1s - loss: 0.0082",
                    "output_type": "stream"
                },
                {
                    "name": "stdout",
                    "text": "\b\b\b\b\b\b\b\b\b\b\b\b\b\b\b\b\b\b\b\b\b\b\b\b\b\b\b\b\b\b\b\b\b\b\b\b\b\b\b\b\b\b\b\b\b\b\b\b\b\b\b\b\b\b\b\b\b\b\b\b\b\b\b\r15/30 [==============>...............] - ETA: 1s - loss: 0.0081",
                    "output_type": "stream"
                },
                {
                    "name": "stdout",
                    "text": "\b\b\b\b\b\b\b\b\b\b\b\b\b\b\b\b\b\b\b\b\b\b\b\b\b\b\b\b\b\b\b\b\b\b\b\b\b\b\b\b\b\b\b\b\b\b\b\b\b\b\b\b\b\b\b\b\b\b\b\b\b\b\b\r16/30 [===============>..............] - ETA: 1s - loss: 0.0081",
                    "output_type": "stream"
                },
                {
                    "name": "stdout",
                    "text": "\b\b\b\b\b\b\b\b\b\b\b\b\b\b\b\b\b\b\b\b\b\b\b\b\b\b\b\b\b\b\b\b\b\b\b\b\b\b\b\b\b\b\b\b\b\b\b\b\b\b\b\b\b\b\b\b\b\b\b\b\b\b\b\r17/30 [================>.............] - ETA: 1s - loss: 0.0079",
                    "output_type": "stream"
                },
                {
                    "name": "stdout",
                    "text": "\b\b\b\b\b\b\b\b\b\b\b\b\b\b\b\b\b\b\b\b\b\b\b\b\b\b\b\b\b\b\b\b\b\b\b\b\b\b\b\b\b\b\b\b\b\b\b\b\b\b\b\b\b\b\b\b\b\b\b\b\b\b\b\r18/30 [=================>............] - ETA: 1s - loss: 0.0077",
                    "output_type": "stream"
                },
                {
                    "name": "stdout",
                    "text": "\b\b\b\b\b\b\b\b\b\b\b\b\b\b\b\b\b\b\b\b\b\b\b\b\b\b\b\b\b\b\b\b\b\b\b\b\b\b\b\b\b\b\b\b\b\b\b\b\b\b\b\b\b\b\b\b\b\b\b\b\b\b\b\r19/30 [==================>...........] - ETA: 1s - loss: 0.0077",
                    "output_type": "stream"
                },
                {
                    "name": "stdout",
                    "text": "\b\b\b\b\b\b\b\b\b\b\b\b\b\b\b\b\b\b\b\b\b\b\b\b\b\b\b\b\b\b\b\b\b\b\b\b\b\b\b\b\b\b\b\b\b\b\b\b\b\b\b\b\b\b\b\b\b\b\b\b\b\b\b\r20/30 [===================>..........] - ETA: 1s - loss: 0.0075",
                    "output_type": "stream"
                },
                {
                    "name": "stdout",
                    "text": "\b\b\b\b\b\b\b\b\b\b\b\b\b\b\b\b\b\b\b\b\b\b\b\b\b\b\b\b\b\b\b\b\b\b\b\b\b\b\b\b\b\b\b\b\b\b\b\b\b\b\b\b\b\b\b\b\b\b\b\b\b\b\b\r21/30 [====================>.........] - ETA: 1s - loss: 0.0075",
                    "output_type": "stream"
                },
                {
                    "name": "stdout",
                    "text": "\b\b\b\b\b\b\b\b\b\b\b\b\b\b\b\b\b\b\b\b\b\b\b\b\b\b\b\b\b\b\b\b\b\b\b\b\b\b\b\b\b\b\b\b\b\b\b\b\b\b\b\b\b\b\b\b\b\b\b\b\b\b\b\r22/30 [=====================>........] - ETA: 0s - loss: 0.0074",
                    "output_type": "stream"
                },
                {
                    "name": "stdout",
                    "text": "\b\b\b\b\b\b\b\b\b\b\b\b\b\b\b\b\b\b\b\b\b\b\b\b\b\b\b\b\b\b\b\b\b\b\b\b\b\b\b\b\b\b\b\b\b\b\b\b\b\b\b\b\b\b\b\b\b\b\b\b\b\b\b\r23/30 [======================>.......] - ETA: 0s - loss: 0.0073",
                    "output_type": "stream"
                },
                {
                    "name": "stdout",
                    "text": "\b\b\b\b\b\b\b\b\b\b\b\b\b\b\b\b\b\b\b\b\b\b\b\b\b\b\b\b\b\b\b\b\b\b\b\b\b\b\b\b\b\b\b\b\b\b\b\b\b\b\b\b\b\b\b\b\b\b\b\b\b\b\b\r24/30 [=======================>......] - ETA: 0s - loss: 0.0073",
                    "output_type": "stream"
                },
                {
                    "name": "stdout",
                    "text": "\b\b\b\b\b\b\b\b\b\b\b\b\b\b\b\b\b\b\b\b\b\b\b\b\b\b\b\b\b\b\b\b\b\b\b\b\b\b\b\b\b\b\b\b\b\b\b\b\b\b\b\b\b\b\b\b\b\b\b\b\b\b\b\r25/30 [========================>.....] - ETA: 0s - loss: 0.0073",
                    "output_type": "stream"
                },
                {
                    "name": "stdout",
                    "text": "\b\b\b\b\b\b\b\b\b\b\b\b\b\b\b\b\b\b\b\b\b\b\b\b\b\b\b\b\b\b\b\b\b\b\b\b\b\b\b\b\b\b\b\b\b\b\b\b\b\b\b\b\b\b\b\b\b\b\b\b\b\b\b\r26/30 [=========================>....] - ETA: 0s - loss: 0.0071",
                    "output_type": "stream"
                },
                {
                    "name": "stdout",
                    "text": "\b\b\b\b\b\b\b\b\b\b\b\b\b\b\b\b\b\b\b\b\b\b\b\b\b\b\b\b\b\b\b\b\b\b\b\b\b\b\b\b\b\b\b\b\b\b\b\b\b\b\b\b\b\b\b\b\b\b\b\b\b\b\b\r27/30 [==========================>...] - ETA: 0s - loss: 0.0071",
                    "output_type": "stream"
                },
                {
                    "name": "stdout",
                    "text": "\b\b\b\b\b\b\b\b\b\b\b\b\b\b\b\b\b\b\b\b\b\b\b\b\b\b\b\b\b\b\b\b\b\b\b\b\b\b\b\b\b\b\b\b\b\b\b\b\b\b\b\b\b\b\b\b\b\b\b\b\b\b\b\r28/30 [===========================>..] - ETA: 0s - loss: 0.0070",
                    "output_type": "stream"
                },
                {
                    "name": "stdout",
                    "text": "\b\b\b\b\b\b\b\b\b\b\b\b\b\b\b\b\b\b\b\b\b\b\b\b\b\b\b\b\b\b\b\b\b\b\b\b\b\b\b\b\b\b\b\b\b\b\b\b\b\b\b\b\b\b\b\b\b\b\b\b\b\b\b\r29/30 [============================>.] - ETA: 0s - loss: 0.0070",
                    "output_type": "stream"
                },
                {
                    "name": "stdout",
                    "text": "\b\b\b\b\b\b\b\b\b\b\b\b\b\b\b\b\b\b\b\b\b\b\b\b\b\b\b\b\b\b\b\b\b\b\b\b\b\b\b\b\b\b\b\b\b\b\b\b\b\b\b\b\b\b\b\b\b\b\b\b\b\b\b\r30/30 [==============================] - ETA: 0s - loss: 0.0070",
                    "output_type": "stream"
                },
                {
                    "name": "stdout",
                    "text": "\b\b\b\b\b\b\b\b\b\b\b\b\b\b\b\b\b\b\b\b\b\b\b\b\b\b\b\b\b\b\b\b\b\b\b\b\b\b\b\b\b\b\b\b\b\b\b\b\b\b\b\b\b\b\b\b\b\b\b\b\b\b\b\r30/30 [==============================] - 4s 120ms/step - loss: 0.0070\n",
                    "output_type": "stream"
                },
                {
                    "name": "stdout",
                    "text": "Epoch 10/25\n",
                    "output_type": "stream"
                },
                {
                    "name": "stdout",
                    "text": "\r 1/30 [>.............................] - ETA: 2s - loss: 0.0053",
                    "output_type": "stream"
                },
                {
                    "name": "stdout",
                    "text": "\b\b\b\b\b\b\b\b\b\b\b\b\b\b\b\b\b\b\b\b\b\b\b\b\b\b\b\b\b\b\b\b\b\b\b\b\b\b\b\b\b\b\b\b\b\b\b\b\b\b\b\b\b\b\b\b\b\b\b\b\b\b\b\r 2/30 [=>............................] - ETA: 2s - loss: 0.0053",
                    "output_type": "stream"
                },
                {
                    "name": "stdout",
                    "text": "\b\b\b\b\b\b\b\b\b\b\b\b\b\b\b\b\b\b\b\b\b\b\b\b\b\b\b\b\b\b\b\b\b\b\b\b\b\b\b\b\b\b\b\b\b\b\b\b\b\b\b\b\b\b\b\b\b\b\b\b\b\b\b\r 3/30 [==>...........................] - ETA: 2s - loss: 0.0055",
                    "output_type": "stream"
                },
                {
                    "name": "stdout",
                    "text": "\b\b\b\b\b\b\b\b\b\b\b\b\b\b\b\b\b\b\b\b\b\b\b\b\b\b\b\b\b\b\b\b\b\b\b\b\b\b\b\b\b\b\b\b\b\b\b\b\b\b\b\b\b\b\b\b\b\b\b\b\b\b\b\r 4/30 [===>..........................] - ETA: 2s - loss: 0.0061",
                    "output_type": "stream"
                },
                {
                    "name": "stdout",
                    "text": "\b\b\b\b\b\b\b\b\b\b\b\b\b\b\b\b\b\b\b\b\b\b\b\b\b\b\b\b\b\b\b\b\b\b\b\b\b\b\b\b\b\b\b\b\b\b\b\b\b\b\b\b\b\b\b\b\b\b\b\b\b\b\b\r 5/30 [====>.........................] - ETA: 2s - loss: 0.0057",
                    "output_type": "stream"
                },
                {
                    "name": "stdout",
                    "text": "\b\b\b\b\b\b\b\b\b\b\b\b\b\b\b\b\b\b\b\b\b\b\b\b\b\b\b\b\b\b\b\b\b\b\b\b\b\b\b\b\b\b\b\b\b\b\b\b\b\b\b\b\b\b\b\b\b\b\b\b\b\b\b\r 6/30 [=====>........................] - ETA: 2s - loss: 0.0057",
                    "output_type": "stream"
                },
                {
                    "name": "stdout",
                    "text": "\b\b\b\b\b\b\b\b\b\b\b\b\b\b\b\b\b\b\b\b\b\b\b\b\b\b\b\b\b\b\b\b\b\b\b\b\b\b\b\b\b\b\b\b\b\b\b\b\b\b\b\b\b\b\b\b\b\b\b\b\b\b\b\r 7/30 [======>.......................] - ETA: 2s - loss: 0.0055",
                    "output_type": "stream"
                },
                {
                    "name": "stdout",
                    "text": "\b\b\b\b\b\b\b\b\b\b\b\b\b\b\b\b\b\b\b\b\b\b\b\b\b\b\b\b\b\b\b\b\b\b\b\b\b\b\b\b\b\b\b\b\b\b\b\b\b\b\b\b\b\b\b\b\b\b\b\b\b\b\b\r 8/30 [=======>......................] - ETA: 1s - loss: 0.0057",
                    "output_type": "stream"
                },
                {
                    "name": "stdout",
                    "text": "\b\b\b\b\b\b\b\b\b\b\b\b\b\b\b\b\b\b\b\b\b\b\b\b\b\b\b\b\b\b\b\b\b\b\b\b\b\b\b\b\b\b\b\b\b\b\b\b\b\b\b\b\b\b\b\b\b\b\b\b\b\b\b\r 9/30 [========>.....................] - ETA: 1s - loss: 0.0062",
                    "output_type": "stream"
                },
                {
                    "name": "stdout",
                    "text": "\b\b\b\b\b\b\b\b\b\b\b\b\b\b\b\b\b\b\b\b\b\b\b\b\b\b\b\b\b\b\b\b\b\b\b\b\b\b\b\b\b\b\b\b\b\b\b\b\b\b\b\b\b\b\b\b\b\b\b\b\b\b\b\r10/30 [=========>....................] - ETA: 1s - loss: 0.0064",
                    "output_type": "stream"
                },
                {
                    "name": "stdout",
                    "text": "\b\b\b\b\b\b\b\b\b\b\b\b\b\b\b\b\b\b\b\b\b\b\b\b\b\b\b\b\b\b\b\b\b\b\b\b\b\b\b\b\b\b\b\b\b\b\b\b\b\b\b\b\b\b\b\b\b\b\b\b\b\b\b\r11/30 [==========>...................] - ETA: 1s - loss: 0.0061",
                    "output_type": "stream"
                },
                {
                    "name": "stdout",
                    "text": "\b\b\b\b\b\b\b\b\b\b\b\b\b\b\b\b\b\b\b\b\b\b\b\b\b\b\b\b\b\b\b\b\b\b\b\b\b\b\b\b\b\b\b\b\b\b\b\b\b\b\b\b\b\b\b\b\b\b\b\b\b\b\b\r12/30 [===========>..................] - ETA: 1s - loss: 0.0067",
                    "output_type": "stream"
                },
                {
                    "name": "stdout",
                    "text": "\b\b\b\b\b\b\b\b\b\b\b\b\b\b\b\b\b\b\b\b\b\b\b\b\b\b\b\b\b\b\b\b\b\b\b\b\b\b\b\b\b\b\b\b\b\b\b\b\b\b\b\b\b\b\b\b\b\b\b\b\b\b\b\r13/30 [============>.................] - ETA: 1s - loss: 0.0067",
                    "output_type": "stream"
                },
                {
                    "name": "stdout",
                    "text": "\b\b\b\b\b\b\b\b\b\b\b\b\b\b\b\b\b\b\b\b\b\b\b\b\b\b\b\b\b\b\b\b\b\b\b\b\b\b\b\b\b\b\b\b\b\b\b\b\b\b\b\b\b\b\b\b\b\b\b\b\b\b\b\r14/30 [=============>................] - ETA: 1s - loss: 0.0067",
                    "output_type": "stream"
                },
                {
                    "name": "stdout",
                    "text": "\b\b\b\b\b\b\b\b\b\b\b\b\b\b\b\b\b\b\b\b\b\b\b\b\b\b\b\b\b\b\b\b\b\b\b\b\b\b\b\b\b\b\b\b\b\b\b\b\b\b\b\b\b\b\b\b\b\b\b\b\b\b\b\r15/30 [==============>...............] - ETA: 1s - loss: 0.0068",
                    "output_type": "stream"
                },
                {
                    "name": "stdout",
                    "text": "\b\b\b\b\b\b\b\b\b\b\b\b\b\b\b\b\b\b\b\b\b\b\b\b\b\b\b\b\b\b\b\b\b\b\b\b\b\b\b\b\b\b\b\b\b\b\b\b\b\b\b\b\b\b\b\b\b\b\b\b\b\b\b\r16/30 [===============>..............] - ETA: 1s - loss: 0.0071",
                    "output_type": "stream"
                },
                {
                    "name": "stdout",
                    "text": "\b\b\b\b\b\b\b\b\b\b\b\b\b\b\b\b\b\b\b\b\b\b\b\b\b\b\b\b\b\b\b\b\b\b\b\b\b\b\b\b\b\b\b\b\b\b\b\b\b\b\b\b\b\b\b\b\b\b\b\b\b\b\b\r17/30 [================>.............] - ETA: 1s - loss: 0.0073",
                    "output_type": "stream"
                },
                {
                    "name": "stdout",
                    "text": "\b\b\b\b\b\b\b\b\b\b\b\b\b\b\b\b\b\b\b\b\b\b\b\b\b\b\b\b\b\b\b\b\b\b\b\b\b\b\b\b\b\b\b\b\b\b\b\b\b\b\b\b\b\b\b\b\b\b\b\b\b\b\b\r18/30 [=================>............] - ETA: 1s - loss: 0.0071",
                    "output_type": "stream"
                },
                {
                    "name": "stdout",
                    "text": "\b\b\b\b\b\b\b\b\b\b\b\b\b\b\b\b\b\b\b\b\b\b\b\b\b\b\b\b\b\b\b\b\b\b\b\b\b\b\b\b\b\b\b\b\b\b\b\b\b\b\b\b\b\b\b\b\b\b\b\b\b\b\b\r19/30 [==================>...........] - ETA: 1s - loss: 0.0071",
                    "output_type": "stream"
                },
                {
                    "name": "stdout",
                    "text": "\b\b\b\b\b\b\b\b\b\b\b\b\b\b\b\b\b\b\b\b\b\b\b\b\b\b\b\b\b\b\b\b\b\b\b\b\b\b\b\b\b\b\b\b\b\b\b\b\b\b\b\b\b\b\b\b\b\b\b\b\b\b\b\r20/30 [===================>..........] - ETA: 0s - loss: 0.0071",
                    "output_type": "stream"
                },
                {
                    "name": "stdout",
                    "text": "\b\b\b\b\b\b\b\b\b\b\b\b\b\b\b\b\b\b\b\b\b\b\b\b\b\b\b\b\b\b\b\b\b\b\b\b\b\b\b\b\b\b\b\b\b\b\b\b\b\b\b\b\b\b\b\b\b\b\b\b\b\b\b\r21/30 [====================>.........] - ETA: 0s - loss: 0.0070",
                    "output_type": "stream"
                },
                {
                    "name": "stdout",
                    "text": "\b\b\b\b\b\b\b\b\b\b\b\b\b\b\b\b\b\b\b\b\b\b\b\b\b\b\b\b\b\b\b\b\b\b\b\b\b\b\b\b\b\b\b\b\b\b\b\b\b\b\b\b\b\b\b\b\b\b\b\b\b\b\b\r22/30 [=====================>........] - ETA: 0s - loss: 0.0069",
                    "output_type": "stream"
                },
                {
                    "name": "stdout",
                    "text": "\b\b\b\b\b\b\b\b\b\b\b\b\b\b\b\b\b\b\b\b\b\b\b\b\b\b\b\b\b\b\b\b\b\b\b\b\b\b\b\b\b\b\b\b\b\b\b\b\b\b\b\b\b\b\b\b\b\b\b\b\b\b\b\r23/30 [======================>.......] - ETA: 0s - loss: 0.0068",
                    "output_type": "stream"
                },
                {
                    "name": "stdout",
                    "text": "\b\b\b\b\b\b\b\b\b\b\b\b\b\b\b\b\b\b\b\b\b\b\b\b\b\b\b\b\b\b\b\b\b\b\b\b\b\b\b\b\b\b\b\b\b\b\b\b\b\b\b\b\b\b\b\b\b\b\b\b\b\b\b\r24/30 [=======================>......] - ETA: 0s - loss: 0.0068",
                    "output_type": "stream"
                },
                {
                    "name": "stdout",
                    "text": "\b\b\b\b\b\b\b\b\b\b\b\b\b\b\b\b\b\b\b\b\b\b\b\b\b\b\b\b\b\b\b\b\b\b\b\b\b\b\b\b\b\b\b\b\b\b\b\b\b\b\b\b\b\b\b\b\b\b\b\b\b\b\b\r25/30 [========================>.....] - ETA: 0s - loss: 0.0068",
                    "output_type": "stream"
                },
                {
                    "name": "stdout",
                    "text": "\b\b\b\b\b\b\b\b\b\b\b\b\b\b\b\b\b\b\b\b\b\b\b\b\b\b\b\b\b\b\b\b\b\b\b\b\b\b\b\b\b\b\b\b\b\b\b\b\b\b\b\b\b\b\b\b\b\b\b\b\b\b\b\r26/30 [=========================>....] - ETA: 0s - loss: 0.0067",
                    "output_type": "stream"
                },
                {
                    "name": "stdout",
                    "text": "\b\b\b\b\b\b\b\b\b\b\b\b\b\b\b\b\b\b\b\b\b\b\b\b\b\b\b\b\b\b\b\b\b\b\b\b\b\b\b\b\b\b\b\b\b\b\b\b\b\b\b\b\b\b\b\b\b\b\b\b\b\b\b\r27/30 [==========================>...] - ETA: 0s - loss: 0.0068",
                    "output_type": "stream"
                },
                {
                    "name": "stdout",
                    "text": "\b\b\b\b\b\b\b\b\b\b\b\b\b\b\b\b\b\b\b\b\b\b\b\b\b\b\b\b\b\b\b\b\b\b\b\b\b\b\b\b\b\b\b\b\b\b\b\b\b\b\b\b\b\b\b\b\b\b\b\b\b\b\b\r28/30 [===========================>..] - ETA: 0s - loss: 0.0068",
                    "output_type": "stream"
                },
                {
                    "name": "stdout",
                    "text": "\b\b\b\b\b\b\b\b\b\b\b\b\b\b\b\b\b\b\b\b\b\b\b\b\b\b\b\b\b\b\b\b\b\b\b\b\b\b\b\b\b\b\b\b\b\b\b\b\b\b\b\b\b\b\b\b\b\b\b\b\b\b\b\r29/30 [============================>.] - ETA: 0s - loss: 0.0068",
                    "output_type": "stream"
                },
                {
                    "name": "stdout",
                    "text": "\b\b\b\b\b\b\b\b\b\b\b\b\b\b\b\b\b\b\b\b\b\b\b\b\b\b\b\b\b\b\b\b\b\b\b\b\b\b\b\b\b\b\b\b\b\b\b\b\b\b\b\b\b\b\b\b\b\b\b\b\b\b\b\r30/30 [==============================] - ETA: 0s - loss: 0.0068",
                    "output_type": "stream"
                },
                {
                    "name": "stdout",
                    "text": "\b\b\b\b\b\b\b\b\b\b\b\b\b\b\b\b\b\b\b\b\b\b\b\b\b\b\b\b\b\b\b\b\b\b\b\b\b\b\b\b\b\b\b\b\b\b\b\b\b\b\b\b\b\b\b\b\b\b\b\b\b\b\b\r30/30 [==============================] - 3s 95ms/step - loss: 0.0068\n",
                    "output_type": "stream"
                },
                {
                    "name": "stdout",
                    "text": "Epoch 11/25\n",
                    "output_type": "stream"
                },
                {
                    "name": "stdout",
                    "text": "\r 1/30 [>.............................] - ETA: 3s - loss: 0.0073",
                    "output_type": "stream"
                },
                {
                    "name": "stdout",
                    "text": "\b\b\b\b\b\b\b\b\b\b\b\b\b\b\b\b\b\b\b\b\b\b\b\b\b\b\b\b\b\b\b\b\b\b\b\b\b\b\b\b\b\b\b\b\b\b\b\b\b\b\b\b\b\b\b\b\b\b\b\b\b\b\b\r 2/30 [=>............................] - ETA: 2s - loss: 0.0076",
                    "output_type": "stream"
                },
                {
                    "name": "stdout",
                    "text": "\b\b\b\b\b\b\b\b\b\b\b\b\b\b\b\b\b\b\b\b\b\b\b\b\b\b\b\b\b\b\b\b\b\b\b\b\b\b\b\b\b\b\b\b\b\b\b\b\b\b\b\b\b\b\b\b\b\b\b\b\b\b\b\r 3/30 [==>...........................] - ETA: 2s - loss: 0.0083",
                    "output_type": "stream"
                },
                {
                    "name": "stdout",
                    "text": "\b\b\b\b\b\b\b\b\b\b\b\b\b\b\b\b\b\b\b\b\b\b\b\b\b\b\b\b\b\b\b\b\b\b\b\b\b\b\b\b\b\b\b\b\b\b\b\b\b\b\b\b\b\b\b\b\b\b\b\b\b\b\b\r 4/30 [===>..........................] - ETA: 2s - loss: 0.0078",
                    "output_type": "stream"
                },
                {
                    "name": "stdout",
                    "text": "\b\b\b\b\b\b\b\b\b\b\b\b\b\b\b\b\b\b\b\b\b\b\b\b\b\b\b\b\b\b\b\b\b\b\b\b\b\b\b\b\b\b\b\b\b\b\b\b\b\b\b\b\b\b\b\b\b\b\b\b\b\b\b\r 5/30 [====>.........................] - ETA: 2s - loss: 0.0072",
                    "output_type": "stream"
                },
                {
                    "name": "stdout",
                    "text": "\b\b\b\b\b\b\b\b\b\b\b\b\b\b\b\b\b\b\b\b\b\b\b\b\b\b\b\b\b\b\b\b\b\b\b\b\b\b\b\b\b\b\b\b\b\b\b\b\b\b\b\b\b\b\b\b\b\b\b\b\b\b\b\r 6/30 [=====>........................] - ETA: 2s - loss: 0.0071",
                    "output_type": "stream"
                },
                {
                    "name": "stdout",
                    "text": "\b\b\b\b\b\b\b\b\b\b\b\b\b\b\b\b\b\b\b\b\b\b\b\b\b\b\b\b\b\b\b\b\b\b\b\b\b\b\b\b\b\b\b\b\b\b\b\b\b\b\b\b\b\b\b\b\b\b\b\b\b\b\b\r 7/30 [======>.......................] - ETA: 2s - loss: 0.0070",
                    "output_type": "stream"
                },
                {
                    "name": "stdout",
                    "text": "\b\b\b\b\b\b\b\b\b\b\b\b\b\b\b\b\b\b\b\b\b\b\b\b\b\b\b\b\b\b\b\b\b\b\b\b\b\b\b\b\b\b\b\b\b\b\b\b\b\b\b\b\b\b\b\b\b\b\b\b\b\b\b\r 8/30 [=======>......................] - ETA: 2s - loss: 0.0070",
                    "output_type": "stream"
                },
                {
                    "name": "stdout",
                    "text": "\b\b\b\b\b\b\b\b\b\b\b\b\b\b\b\b\b\b\b\b\b\b\b\b\b\b\b\b\b\b\b\b\b\b\b\b\b\b\b\b\b\b\b\b\b\b\b\b\b\b\b\b\b\b\b\b\b\b\b\b\b\b\b\r 9/30 [========>.....................] - ETA: 2s - loss: 0.0067",
                    "output_type": "stream"
                },
                {
                    "name": "stdout",
                    "text": "\b\b\b\b\b\b\b\b\b\b\b\b\b\b\b\b\b\b\b\b\b\b\b\b\b\b\b\b\b\b\b\b\b\b\b\b\b\b\b\b\b\b\b\b\b\b\b\b\b\b\b\b\b\b\b\b\b\b\b\b\b\b\b\r10/30 [=========>....................] - ETA: 1s - loss: 0.0064",
                    "output_type": "stream"
                },
                {
                    "name": "stdout",
                    "text": "\b\b\b\b\b\b\b\b\b\b\b\b\b\b\b\b\b\b\b\b\b\b\b\b\b\b\b\b\b\b\b\b\b\b\b\b\b\b\b\b\b\b\b\b\b\b\b\b\b\b\b\b\b\b\b\b\b\b\b\b\b\b\b\r11/30 [==========>...................] - ETA: 1s - loss: 0.0062",
                    "output_type": "stream"
                },
                {
                    "name": "stdout",
                    "text": "\b\b\b\b\b\b\b\b\b\b\b\b\b\b\b\b\b\b\b\b\b\b\b\b\b\b\b\b\b\b\b\b\b\b\b\b\b\b\b\b\b\b\b\b\b\b\b\b\b\b\b\b\b\b\b\b\b\b\b\b\b\b\b\r12/30 [===========>..................] - ETA: 1s - loss: 0.0062",
                    "output_type": "stream"
                },
                {
                    "name": "stdout",
                    "text": "\b\b\b\b\b\b\b\b\b\b\b\b\b\b\b\b\b\b\b\b\b\b\b\b\b\b\b\b\b\b\b\b\b\b\b\b\b\b\b\b\b\b\b\b\b\b\b\b\b\b\b\b\b\b\b\b\b\b\b\b\b\b\b\r13/30 [============>.................] - ETA: 1s - loss: 0.0060",
                    "output_type": "stream"
                },
                {
                    "name": "stdout",
                    "text": "\b\b\b\b\b\b\b\b\b\b\b\b\b\b\b\b\b\b\b\b\b\b\b\b\b\b\b\b\b\b\b\b\b\b\b\b\b\b\b\b\b\b\b\b\b\b\b\b\b\b\b\b\b\b\b\b\b\b\b\b\b\b\b\r14/30 [=============>................] - ETA: 1s - loss: 0.0059",
                    "output_type": "stream"
                },
                {
                    "name": "stdout",
                    "text": "\b\b\b\b\b\b\b\b\b\b\b\b\b\b\b\b\b\b\b\b\b\b\b\b\b\b\b\b\b\b\b\b\b\b\b\b\b\b\b\b\b\b\b\b\b\b\b\b\b\b\b\b\b\b\b\b\b\b\b\b\b\b\b\r15/30 [==============>...............] - ETA: 1s - loss: 0.0060",
                    "output_type": "stream"
                },
                {
                    "name": "stdout",
                    "text": "\b\b\b\b\b\b\b\b\b\b\b\b\b\b\b\b\b\b\b\b\b\b\b\b\b\b\b\b\b\b\b\b\b\b\b\b\b\b\b\b\b\b\b\b\b\b\b\b\b\b\b\b\b\b\b\b\b\b\b\b\b\b\b\r16/30 [===============>..............] - ETA: 1s - loss: 0.0058",
                    "output_type": "stream"
                },
                {
                    "name": "stdout",
                    "text": "\b\b\b\b\b\b\b\b\b\b\b\b\b\b\b\b\b\b\b\b\b\b\b\b\b\b\b\b\b\b\b\b\b\b\b\b\b\b\b\b\b\b\b\b\b\b\b\b\b\b\b\b\b\b\b\b\b\b\b\b\b\b\b\r17/30 [================>.............] - ETA: 1s - loss: 0.0057",
                    "output_type": "stream"
                },
                {
                    "name": "stdout",
                    "text": "\b\b\b\b\b\b\b\b\b\b\b\b\b\b\b\b\b\b\b\b\b\b\b\b\b\b\b\b\b\b\b\b\b\b\b\b\b\b\b\b\b\b\b\b\b\b\b\b\b\b\b\b\b\b\b\b\b\b\b\b\b\b\b\r18/30 [=================>............] - ETA: 1s - loss: 0.0057",
                    "output_type": "stream"
                },
                {
                    "name": "stdout",
                    "text": "\b\b\b\b\b\b\b\b\b\b\b\b\b\b\b\b\b\b\b\b\b\b\b\b\b\b\b\b\b\b\b\b\b\b\b\b\b\b\b\b\b\b\b\b\b\b\b\b\b\b\b\b\b\b\b\b\b\b\b\b\b\b\b\r19/30 [==================>...........] - ETA: 1s - loss: 0.0058",
                    "output_type": "stream"
                },
                {
                    "name": "stdout",
                    "text": "\b\b\b\b\b\b\b\b\b\b\b\b\b\b\b\b\b\b\b\b\b\b\b\b\b\b\b\b\b\b\b\b\b\b\b\b\b\b\b\b\b\b\b\b\b\b\b\b\b\b\b\b\b\b\b\b\b\b\b\b\b\b\b\r20/30 [===================>..........] - ETA: 1s - loss: 0.0058",
                    "output_type": "stream"
                },
                {
                    "name": "stdout",
                    "text": "\b\b\b\b\b\b\b\b\b\b\b\b\b\b\b\b\b\b\b\b\b\b\b\b\b\b\b\b\b\b\b\b\b\b\b\b\b\b\b\b\b\b\b\b\b\b\b\b\b\b\b\b\b\b\b\b\b\b\b\b\b\b\b\r21/30 [====================>.........] - ETA: 0s - loss: 0.0059",
                    "output_type": "stream"
                },
                {
                    "name": "stdout",
                    "text": "\b\b\b\b\b\b\b\b\b\b\b\b\b\b\b\b\b\b\b\b\b\b\b\b\b\b\b\b\b\b\b\b\b\b\b\b\b\b\b\b\b\b\b\b\b\b\b\b\b\b\b\b\b\b\b\b\b\b\b\b\b\b\b\r22/30 [=====================>........] - ETA: 0s - loss: 0.0060",
                    "output_type": "stream"
                },
                {
                    "name": "stdout",
                    "text": "\b\b\b\b\b\b\b\b\b\b\b\b\b\b\b\b\b\b\b\b\b\b\b\b\b\b\b\b\b\b\b\b\b\b\b\b\b\b\b\b\b\b\b\b\b\b\b\b\b\b\b\b\b\b\b\b\b\b\b\b\b\b\b\r23/30 [======================>.......] - ETA: 0s - loss: 0.0059",
                    "output_type": "stream"
                },
                {
                    "name": "stdout",
                    "text": "\b\b\b\b\b\b\b\b\b\b\b\b\b\b\b\b\b\b\b\b\b\b\b\b\b\b\b\b\b\b\b\b\b\b\b\b\b\b\b\b\b\b\b\b\b\b\b\b\b\b\b\b\b\b\b\b\b\b\b\b\b\b\b\r24/30 [=======================>......] - ETA: 0s - loss: 0.0060",
                    "output_type": "stream"
                },
                {
                    "name": "stdout",
                    "text": "\b\b\b\b\b\b\b\b\b\b\b\b\b\b\b\b\b\b\b\b\b\b\b\b\b\b\b\b\b\b\b\b\b\b\b\b\b\b\b\b\b\b\b\b\b\b\b\b\b\b\b\b\b\b\b\b\b\b\b\b\b\b\b\r25/30 [========================>.....] - ETA: 0s - loss: 0.0060",
                    "output_type": "stream"
                },
                {
                    "name": "stdout",
                    "text": "\b\b\b\b\b\b\b\b\b\b\b\b\b\b\b\b\b\b\b\b\b\b\b\b\b\b\b\b\b\b\b\b\b\b\b\b\b\b\b\b\b\b\b\b\b\b\b\b\b\b\b\b\b\b\b\b\b\b\b\b\b\b\b\r26/30 [=========================>....] - ETA: 0s - loss: 0.0060",
                    "output_type": "stream"
                },
                {
                    "name": "stdout",
                    "text": "\b\b\b\b\b\b\b\b\b\b\b\b\b\b\b\b\b\b\b\b\b\b\b\b\b\b\b\b\b\b\b\b\b\b\b\b\b\b\b\b\b\b\b\b\b\b\b\b\b\b\b\b\b\b\b\b\b\b\b\b\b\b\b\r27/30 [==========================>...] - ETA: 0s - loss: 0.0059",
                    "output_type": "stream"
                },
                {
                    "name": "stdout",
                    "text": "\b\b\b\b\b\b\b\b\b\b\b\b\b\b\b\b\b\b\b\b\b\b\b\b\b\b\b\b\b\b\b\b\b\b\b\b\b\b\b\b\b\b\b\b\b\b\b\b\b\b\b\b\b\b\b\b\b\b\b\b\b\b\b\r28/30 [===========================>..] - ETA: 0s - loss: 0.0059",
                    "output_type": "stream"
                },
                {
                    "name": "stdout",
                    "text": "\b\b\b\b\b\b\b\b\b\b\b\b\b\b\b\b\b\b\b\b\b\b\b\b\b\b\b\b\b\b\b\b\b\b\b\b\b\b\b\b\b\b\b\b\b\b\b\b\b\b\b\b\b\b\b\b\b\b\b\b\b\b\b\r29/30 [============================>.] - ETA: 0s - loss: 0.0059",
                    "output_type": "stream"
                },
                {
                    "name": "stdout",
                    "text": "\b\b\b\b\b\b\b\b\b\b\b\b\b\b\b\b\b\b\b\b\b\b\b\b\b\b\b\b\b\b\b\b\b\b\b\b\b\b\b\b\b\b\b\b\b\b\b\b\b\b\b\b\b\b\b\b\b\b\b\b\b\b\b\r30/30 [==============================] - ETA: 0s - loss: 0.0059",
                    "output_type": "stream"
                },
                {
                    "name": "stdout",
                    "text": "\b\b\b\b\b\b\b\b\b\b\b\b\b\b\b\b\b\b\b\b\b\b\b\b\b\b\b\b\b\b\b\b\b\b\b\b\b\b\b\b\b\b\b\b\b\b\b\b\b\b\b\b\b\b\b\b\b\b\b\b\b\b\b\r30/30 [==============================] - 3s 99ms/step - loss: 0.0059\n",
                    "output_type": "stream"
                },
                {
                    "name": "stdout",
                    "text": "Epoch 12/25\n",
                    "output_type": "stream"
                },
                {
                    "name": "stdout",
                    "text": "\r 1/30 [>.............................] - ETA: 3s - loss: 0.0072",
                    "output_type": "stream"
                },
                {
                    "name": "stdout",
                    "text": "\b\b\b\b\b\b\b\b\b\b\b\b\b\b\b\b\b\b\b\b\b\b\b\b\b\b\b\b\b\b\b\b\b\b\b\b\b\b\b\b\b\b\b\b\b\b\b\b\b\b\b\b\b\b\b\b\b\b\b\b\b\b\b\r 2/30 [=>............................] - ETA: 2s - loss: 0.0070",
                    "output_type": "stream"
                },
                {
                    "name": "stdout",
                    "text": "\b\b\b\b\b\b\b\b\b\b\b\b\b\b\b\b\b\b\b\b\b\b\b\b\b\b\b\b\b\b\b\b\b\b\b\b\b\b\b\b\b\b\b\b\b\b\b\b\b\b\b\b\b\b\b\b\b\b\b\b\b\b\b\r 3/30 [==>...........................] - ETA: 2s - loss: 0.0069",
                    "output_type": "stream"
                },
                {
                    "name": "stdout",
                    "text": "\b\b\b\b\b\b\b\b\b\b\b\b\b\b\b\b\b\b\b\b\b\b\b\b\b\b\b\b\b\b\b\b\b\b\b\b\b\b\b\b\b\b\b\b\b\b\b\b\b\b\b\b\b\b\b\b\b\b\b\b\b\b\b\r 4/30 [===>..........................] - ETA: 2s - loss: 0.0072",
                    "output_type": "stream"
                },
                {
                    "name": "stdout",
                    "text": "\b\b\b\b\b\b\b\b\b\b\b\b\b\b\b\b\b\b\b\b\b\b\b\b\b\b\b\b\b\b\b\b\b\b\b\b\b\b\b\b\b\b\b\b\b\b\b\b\b\b\b\b\b\b\b\b\b\b\b\b\b\b\b\r 5/30 [====>.........................] - ETA: 2s - loss: 0.0069",
                    "output_type": "stream"
                },
                {
                    "name": "stdout",
                    "text": "\b\b\b\b\b\b\b\b\b\b\b\b\b\b\b\b\b\b\b\b\b\b\b\b\b\b\b\b\b\b\b\b\b\b\b\b\b\b\b\b\b\b\b\b\b\b\b\b\b\b\b\b\b\b\b\b\b\b\b\b\b\b\b\r 6/30 [=====>........................] - ETA: 2s - loss: 0.0068",
                    "output_type": "stream"
                },
                {
                    "name": "stdout",
                    "text": "\b\b\b\b\b\b\b\b\b\b\b\b\b\b\b\b\b\b\b\b\b\b\b\b\b\b\b\b\b\b\b\b\b\b\b\b\b\b\b\b\b\b\b\b\b\b\b\b\b\b\b\b\b\b\b\b\b\b\b\b\b\b\b\r 7/30 [======>.......................] - ETA: 2s - loss: 0.0073",
                    "output_type": "stream"
                },
                {
                    "name": "stdout",
                    "text": "\b\b\b\b\b\b\b\b\b\b\b\b\b\b\b\b\b\b\b\b\b\b\b\b\b\b\b\b\b\b\b\b\b\b\b\b\b\b\b\b\b\b\b\b\b\b\b\b\b\b\b\b\b\b\b\b\b\b\b\b\b\b\b\r 8/30 [=======>......................] - ETA: 2s - loss: 0.0076",
                    "output_type": "stream"
                },
                {
                    "name": "stdout",
                    "text": "\b\b\b\b\b\b\b\b\b\b\b\b\b\b\b\b\b\b\b\b\b\b\b\b\b\b\b\b\b\b\b\b\b\b\b\b\b\b\b\b\b\b\b\b\b\b\b\b\b\b\b\b\b\b\b\b\b\b\b\b\b\b\b\r 9/30 [========>.....................] - ETA: 1s - loss: 0.0075",
                    "output_type": "stream"
                },
                {
                    "name": "stdout",
                    "text": "\b\b\b\b\b\b\b\b\b\b\b\b\b\b\b\b\b\b\b\b\b\b\b\b\b\b\b\b\b\b\b\b\b\b\b\b\b\b\b\b\b\b\b\b\b\b\b\b\b\b\b\b\b\b\b\b\b\b\b\b\b\b\b\r10/30 [=========>....................] - ETA: 1s - loss: 0.0072",
                    "output_type": "stream"
                },
                {
                    "name": "stdout",
                    "text": "\b\b\b\b\b\b\b\b\b\b\b\b\b\b\b\b\b\b\b\b\b\b\b\b\b\b\b\b\b\b\b\b\b\b\b\b\b\b\b\b\b\b\b\b\b\b\b\b\b\b\b\b\b\b\b\b\b\b\b\b\b\b\b\r11/30 [==========>...................] - ETA: 1s - loss: 0.0076",
                    "output_type": "stream"
                },
                {
                    "name": "stdout",
                    "text": "\b\b\b\b\b\b\b\b\b\b\b\b\b\b\b\b\b\b\b\b\b\b\b\b\b\b\b\b\b\b\b\b\b\b\b\b\b\b\b\b\b\b\b\b\b\b\b\b\b\b\b\b\b\b\b\b\b\b\b\b\b\b\b\r12/30 [===========>..................] - ETA: 1s - loss: 0.0076",
                    "output_type": "stream"
                },
                {
                    "name": "stdout",
                    "text": "\b\b\b\b\b\b\b\b\b\b\b\b\b\b\b\b\b\b\b\b\b\b\b\b\b\b\b\b\b\b\b\b\b\b\b\b\b\b\b\b\b\b\b\b\b\b\b\b\b\b\b\b\b\b\b\b\b\b\b\b\b\b\b\r13/30 [============>.................] - ETA: 1s - loss: 0.0074",
                    "output_type": "stream"
                },
                {
                    "name": "stdout",
                    "text": "\b\b\b\b\b\b\b\b\b\b\b\b\b\b\b\b\b\b\b\b\b\b\b\b\b\b\b\b\b\b\b\b\b\b\b\b\b\b\b\b\b\b\b\b\b\b\b\b\b\b\b\b\b\b\b\b\b\b\b\b\b\b\b\r14/30 [=============>................] - ETA: 1s - loss: 0.0074",
                    "output_type": "stream"
                },
                {
                    "name": "stdout",
                    "text": "\b\b\b\b\b\b\b\b\b\b\b\b\b\b\b\b\b\b\b\b\b\b\b\b\b\b\b\b\b\b\b\b\b\b\b\b\b\b\b\b\b\b\b\b\b\b\b\b\b\b\b\b\b\b\b\b\b\b\b\b\b\b\b\r15/30 [==============>...............] - ETA: 1s - loss: 0.0072",
                    "output_type": "stream"
                },
                {
                    "name": "stdout",
                    "text": "\b\b\b\b\b\b\b\b\b\b\b\b\b\b\b\b\b\b\b\b\b\b\b\b\b\b\b\b\b\b\b\b\b\b\b\b\b\b\b\b\b\b\b\b\b\b\b\b\b\b\b\b\b\b\b\b\b\b\b\b\b\b\b\r16/30 [===============>..............] - ETA: 1s - loss: 0.0072",
                    "output_type": "stream"
                },
                {
                    "name": "stdout",
                    "text": "\b\b\b\b\b\b\b\b\b\b\b\b\b\b\b\b\b\b\b\b\b\b\b\b\b\b\b\b\b\b\b\b\b\b\b\b\b\b\b\b\b\b\b\b\b\b\b\b\b\b\b\b\b\b\b\b\b\b\b\b\b\b\b\r17/30 [================>.............] - ETA: 1s - loss: 0.0073",
                    "output_type": "stream"
                },
                {
                    "name": "stdout",
                    "text": "\b\b\b\b\b\b\b\b\b\b\b\b\b\b\b\b\b\b\b\b\b\b\b\b\b\b\b\b\b\b\b\b\b\b\b\b\b\b\b\b\b\b\b\b\b\b\b\b\b\b\b\b\b\b\b\b\b\b\b\b\b\b\b\r18/30 [=================>............] - ETA: 1s - loss: 0.0073",
                    "output_type": "stream"
                },
                {
                    "name": "stdout",
                    "text": "\b\b\b\b\b\b\b\b\b\b\b\b\b\b\b\b\b\b\b\b\b\b\b\b\b\b\b\b\b\b\b\b\b\b\b\b\b\b\b\b\b\b\b\b\b\b\b\b\b\b\b\b\b\b\b\b\b\b\b\b\b\b\b\r19/30 [==================>...........] - ETA: 1s - loss: 0.0071",
                    "output_type": "stream"
                },
                {
                    "name": "stdout",
                    "text": "\b\b\b\b\b\b\b\b\b\b\b\b\b\b\b\b\b\b\b\b\b\b\b\b\b\b\b\b\b\b\b\b\b\b\b\b\b\b\b\b\b\b\b\b\b\b\b\b\b\b\b\b\b\b\b\b\b\b\b\b\b\b\b\r20/30 [===================>..........] - ETA: 0s - loss: 0.0069",
                    "output_type": "stream"
                },
                {
                    "name": "stdout",
                    "text": "\b\b\b\b\b\b\b\b\b\b\b\b\b\b\b\b\b\b\b\b\b\b\b\b\b\b\b\b\b\b\b\b\b\b\b\b\b\b\b\b\b\b\b\b\b\b\b\b\b\b\b\b\b\b\b\b\b\b\b\b\b\b\b\r21/30 [====================>.........] - ETA: 0s - loss: 0.0068",
                    "output_type": "stream"
                },
                {
                    "name": "stdout",
                    "text": "\b\b\b\b\b\b\b\b\b\b\b\b\b\b\b\b\b\b\b\b\b\b\b\b\b\b\b\b\b\b\b\b\b\b\b\b\b\b\b\b\b\b\b\b\b\b\b\b\b\b\b\b\b\b\b\b\b\b\b\b\b\b\b\r22/30 [=====================>........] - ETA: 0s - loss: 0.0067",
                    "output_type": "stream"
                },
                {
                    "name": "stdout",
                    "text": "\b\b\b\b\b\b\b\b\b\b\b\b\b\b\b\b\b\b\b\b\b\b\b\b\b\b\b\b\b\b\b\b\b\b\b\b\b\b\b\b\b\b\b\b\b\b\b\b\b\b\b\b\b\b\b\b\b\b\b\b\b\b\b\r23/30 [======================>.......] - ETA: 0s - loss: 0.0068",
                    "output_type": "stream"
                },
                {
                    "name": "stdout",
                    "text": "\b\b\b\b\b\b\b\b\b\b\b\b\b\b\b\b\b\b\b\b\b\b\b\b\b\b\b\b\b\b\b\b\b\b\b\b\b\b\b\b\b\b\b\b\b\b\b\b\b\b\b\b\b\b\b\b\b\b\b\b\b\b\b\r24/30 [=======================>......] - ETA: 0s - loss: 0.0067",
                    "output_type": "stream"
                },
                {
                    "name": "stdout",
                    "text": "\b\b\b\b\b\b\b\b\b\b\b\b\b\b\b\b\b\b\b\b\b\b\b\b\b\b\b\b\b\b\b\b\b\b\b\b\b\b\b\b\b\b\b\b\b\b\b\b\b\b\b\b\b\b\b\b\b\b\b\b\b\b\b\r25/30 [========================>.....] - ETA: 0s - loss: 0.0066",
                    "output_type": "stream"
                },
                {
                    "name": "stdout",
                    "text": "\b\b\b\b\b\b\b\b\b\b\b\b\b\b\b\b\b\b\b\b\b\b\b\b\b\b\b\b\b\b\b\b\b\b\b\b\b\b\b\b\b\b\b\b\b\b\b\b\b\b\b\b\b\b\b\b\b\b\b\b\b\b\b\r26/30 [=========================>....] - ETA: 0s - loss: 0.0066",
                    "output_type": "stream"
                },
                {
                    "name": "stdout",
                    "text": "\b\b\b\b\b\b\b\b\b\b\b\b\b\b\b\b\b\b\b\b\b\b\b\b\b\b\b\b\b\b\b\b\b\b\b\b\b\b\b\b\b\b\b\b\b\b\b\b\b\b\b\b\b\b\b\b\b\b\b\b\b\b\b\r27/30 [==========================>...] - ETA: 0s - loss: 0.0066",
                    "output_type": "stream"
                },
                {
                    "name": "stdout",
                    "text": "\b\b\b\b\b\b\b\b\b\b\b\b\b\b\b\b\b\b\b\b\b\b\b\b\b\b\b\b\b\b\b\b\b\b\b\b\b\b\b\b\b\b\b\b\b\b\b\b\b\b\b\b\b\b\b\b\b\b\b\b\b\b\b\r28/30 [===========================>..] - ETA: 0s - loss: 0.0065",
                    "output_type": "stream"
                },
                {
                    "name": "stdout",
                    "text": "\b\b\b\b\b\b\b\b\b\b\b\b\b\b\b\b\b\b\b\b\b\b\b\b\b\b\b\b\b\b\b\b\b\b\b\b\b\b\b\b\b\b\b\b\b\b\b\b\b\b\b\b\b\b\b\b\b\b\b\b\b\b\b\r29/30 [============================>.] - ETA: 0s - loss: 0.0064",
                    "output_type": "stream"
                },
                {
                    "name": "stdout",
                    "text": "\b\b\b\b\b\b\b\b\b\b\b\b\b\b\b\b\b\b\b\b\b\b\b\b\b\b\b\b\b\b\b\b\b\b\b\b\b\b\b\b\b\b\b\b\b\b\b\b\b\b\b\b\b\b\b\b\b\b\b\b\b\b\b\r30/30 [==============================] - ETA: 0s - loss: 0.0064",
                    "output_type": "stream"
                },
                {
                    "name": "stdout",
                    "text": "\b\b\b\b\b\b\b\b\b\b\b\b\b\b\b\b\b\b\b\b\b\b\b\b\b\b\b\b\b\b\b\b\b\b\b\b\b\b\b\b\b\b\b\b\b\b\b\b\b\b\b\b\b\b\b\b\b\b\b\b\b\b\b\r30/30 [==============================] - 3s 95ms/step - loss: 0.0064\n",
                    "output_type": "stream"
                },
                {
                    "name": "stdout",
                    "text": "Epoch 13/25\n",
                    "output_type": "stream"
                },
                {
                    "name": "stdout",
                    "text": "\r 1/30 [>.............................] - ETA: 2s - loss: 0.0049",
                    "output_type": "stream"
                },
                {
                    "name": "stdout",
                    "text": "\b\b\b\b\b\b\b\b\b\b\b\b\b\b\b\b\b\b\b\b\b\b\b\b\b\b\b\b\b\b\b\b\b\b\b\b\b\b\b\b\b\b\b\b\b\b\b\b\b\b\b\b\b\b\b\b\b\b\b\b\b\b\b\r 2/30 [=>............................] - ETA: 2s - loss: 0.0055",
                    "output_type": "stream"
                },
                {
                    "name": "stdout",
                    "text": "\b\b\b\b\b\b\b\b\b\b\b\b\b\b\b\b\b\b\b\b\b\b\b\b\b\b\b\b\b\b\b\b\b\b\b\b\b\b\b\b\b\b\b\b\b\b\b\b\b\b\b\b\b\b\b\b\b\b\b\b\b\b\b\r 3/30 [==>...........................] - ETA: 2s - loss: 0.0060",
                    "output_type": "stream"
                },
                {
                    "name": "stdout",
                    "text": "\b\b\b\b\b\b\b\b\b\b\b\b\b\b\b\b\b\b\b\b\b\b\b\b\b\b\b\b\b\b\b\b\b\b\b\b\b\b\b\b\b\b\b\b\b\b\b\b\b\b\b\b\b\b\b\b\b\b\b\b\b\b\b\r 4/30 [===>..........................] - ETA: 2s - loss: 0.0061",
                    "output_type": "stream"
                },
                {
                    "name": "stdout",
                    "text": "\b\b\b\b\b\b\b\b\b\b\b\b\b\b\b\b\b\b\b\b\b\b\b\b\b\b\b\b\b\b\b\b\b\b\b\b\b\b\b\b\b\b\b\b\b\b\b\b\b\b\b\b\b\b\b\b\b\b\b\b\b\b\b\r 5/30 [====>.........................] - ETA: 2s - loss: 0.0067",
                    "output_type": "stream"
                },
                {
                    "name": "stdout",
                    "text": "\b\b\b\b\b\b\b\b\b\b\b\b\b\b\b\b\b\b\b\b\b\b\b\b\b\b\b\b\b\b\b\b\b\b\b\b\b\b\b\b\b\b\b\b\b\b\b\b\b\b\b\b\b\b\b\b\b\b\b\b\b\b\b\r 6/30 [=====>........................] - ETA: 2s - loss: 0.0067",
                    "output_type": "stream"
                },
                {
                    "name": "stdout",
                    "text": "\b\b\b\b\b\b\b\b\b\b\b\b\b\b\b\b\b\b\b\b\b\b\b\b\b\b\b\b\b\b\b\b\b\b\b\b\b\b\b\b\b\b\b\b\b\b\b\b\b\b\b\b\b\b\b\b\b\b\b\b\b\b\b\r 7/30 [======>.......................] - ETA: 2s - loss: 0.0070",
                    "output_type": "stream"
                },
                {
                    "name": "stdout",
                    "text": "\b\b\b\b\b\b\b\b\b\b\b\b\b\b\b\b\b\b\b\b\b\b\b\b\b\b\b\b\b\b\b\b\b\b\b\b\b\b\b\b\b\b\b\b\b\b\b\b\b\b\b\b\b\b\b\b\b\b\b\b\b\b\b\r 8/30 [=======>......................] - ETA: 2s - loss: 0.0067",
                    "output_type": "stream"
                },
                {
                    "name": "stdout",
                    "text": "\b\b\b\b\b\b\b\b\b\b\b\b\b\b\b\b\b\b\b\b\b\b\b\b\b\b\b\b\b\b\b\b\b\b\b\b\b\b\b\b\b\b\b\b\b\b\b\b\b\b\b\b\b\b\b\b\b\b\b\b\b\b\b\r 9/30 [========>.....................] - ETA: 2s - loss: 0.0068",
                    "output_type": "stream"
                },
                {
                    "name": "stdout",
                    "text": "\b\b\b\b\b\b\b\b\b\b\b\b\b\b\b\b\b\b\b\b\b\b\b\b\b\b\b\b\b\b\b\b\b\b\b\b\b\b\b\b\b\b\b\b\b\b\b\b\b\b\b\b\b\b\b\b\b\b\b\b\b\b\b\r10/30 [=========>....................] - ETA: 2s - loss: 0.0065",
                    "output_type": "stream"
                },
                {
                    "name": "stdout",
                    "text": "\b\b\b\b\b\b\b\b\b\b\b\b\b\b\b\b\b\b\b\b\b\b\b\b\b\b\b\b\b\b\b\b\b\b\b\b\b\b\b\b\b\b\b\b\b\b\b\b\b\b\b\b\b\b\b\b\b\b\b\b\b\b\b\r11/30 [==========>...................] - ETA: 2s - loss: 0.0070",
                    "output_type": "stream"
                },
                {
                    "name": "stdout",
                    "text": "\b\b\b\b\b\b\b\b\b\b\b\b\b\b\b\b\b\b\b\b\b\b\b\b\b\b\b\b\b\b\b\b\b\b\b\b\b\b\b\b\b\b\b\b\b\b\b\b\b\b\b\b\b\b\b\b\b\b\b\b\b\b\b\r12/30 [===========>..................] - ETA: 1s - loss: 0.0070",
                    "output_type": "stream"
                },
                {
                    "name": "stdout",
                    "text": "\b\b\b\b\b\b\b\b\b\b\b\b\b\b\b\b\b\b\b\b\b\b\b\b\b\b\b\b\b\b\b\b\b\b\b\b\b\b\b\b\b\b\b\b\b\b\b\b\b\b\b\b\b\b\b\b\b\b\b\b\b\b\b\r13/30 [============>.................] - ETA: 1s - loss: 0.0070",
                    "output_type": "stream"
                },
                {
                    "name": "stdout",
                    "text": "\b\b\b\b\b\b\b\b\b\b\b\b\b\b\b\b\b\b\b\b\b\b\b\b\b\b\b\b\b\b\b\b\b\b\b\b\b\b\b\b\b\b\b\b\b\b\b\b\b\b\b\b\b\b\b\b\b\b\b\b\b\b\b\r14/30 [=============>................] - ETA: 1s - loss: 0.0071",
                    "output_type": "stream"
                },
                {
                    "name": "stdout",
                    "text": "\b\b\b\b\b\b\b\b\b\b\b\b\b\b\b\b\b\b\b\b\b\b\b\b\b\b\b\b\b\b\b\b\b\b\b\b\b\b\b\b\b\b\b\b\b\b\b\b\b\b\b\b\b\b\b\b\b\b\b\b\b\b\b\r15/30 [==============>...............] - ETA: 1s - loss: 0.0069",
                    "output_type": "stream"
                },
                {
                    "name": "stdout",
                    "text": "\b\b\b\b\b\b\b\b\b\b\b\b\b\b\b\b\b\b\b\b\b\b\b\b\b\b\b\b\b\b\b\b\b\b\b\b\b\b\b\b\b\b\b\b\b\b\b\b\b\b\b\b\b\b\b\b\b\b\b\b\b\b\b\r16/30 [===============>..............] - ETA: 1s - loss: 0.0070",
                    "output_type": "stream"
                },
                {
                    "name": "stdout",
                    "text": "\b\b\b\b\b\b\b\b\b\b\b\b\b\b\b\b\b\b\b\b\b\b\b\b\b\b\b\b\b\b\b\b\b\b\b\b\b\b\b\b\b\b\b\b\b\b\b\b\b\b\b\b\b\b\b\b\b\b\b\b\b\b\b\r17/30 [================>.............] - ETA: 1s - loss: 0.0070",
                    "output_type": "stream"
                },
                {
                    "name": "stdout",
                    "text": "\b\b\b\b\b\b\b\b\b\b\b\b\b\b\b\b\b\b\b\b\b\b\b\b\b\b\b\b\b\b\b\b\b\b\b\b\b\b\b\b\b\b\b\b\b\b\b\b\b\b\b\b\b\b\b\b\b\b\b\b\b\b\b\r18/30 [=================>............] - ETA: 1s - loss: 0.0069",
                    "output_type": "stream"
                },
                {
                    "name": "stdout",
                    "text": "\b\b\b\b\b\b\b\b\b\b\b\b\b\b\b\b\b\b\b\b\b\b\b\b\b\b\b\b\b\b\b\b\b\b\b\b\b\b\b\b\b\b\b\b\b\b\b\b\b\b\b\b\b\b\b\b\b\b\b\b\b\b\b\r19/30 [==================>...........] - ETA: 1s - loss: 0.0069",
                    "output_type": "stream"
                },
                {
                    "name": "stdout",
                    "text": "\b\b\b\b\b\b\b\b\b\b\b\b\b\b\b\b\b\b\b\b\b\b\b\b\b\b\b\b\b\b\b\b\b\b\b\b\b\b\b\b\b\b\b\b\b\b\b\b\b\b\b\b\b\b\b\b\b\b\b\b\b\b\b\r20/30 [===================>..........] - ETA: 0s - loss: 0.0069",
                    "output_type": "stream"
                },
                {
                    "name": "stdout",
                    "text": "\b\b\b\b\b\b\b\b\b\b\b\b\b\b\b\b\b\b\b\b\b\b\b\b\b\b\b\b\b\b\b\b\b\b\b\b\b\b\b\b\b\b\b\b\b\b\b\b\b\b\b\b\b\b\b\b\b\b\b\b\b\b\b\r21/30 [====================>.........] - ETA: 0s - loss: 0.0068",
                    "output_type": "stream"
                },
                {
                    "name": "stdout",
                    "text": "\b\b\b\b\b\b\b\b\b\b\b\b\b\b\b\b\b\b\b\b\b\b\b\b\b\b\b\b\b\b\b\b\b\b\b\b\b\b\b\b\b\b\b\b\b\b\b\b\b\b\b\b\b\b\b\b\b\b\b\b\b\b\b\r22/30 [=====================>........] - ETA: 0s - loss: 0.0068",
                    "output_type": "stream"
                },
                {
                    "name": "stdout",
                    "text": "\b\b\b\b\b\b\b\b\b\b\b\b\b\b\b\b\b\b\b\b\b\b\b\b\b\b\b\b\b\b\b\b\b\b\b\b\b\b\b\b\b\b\b\b\b\b\b\b\b\b\b\b\b\b\b\b\b\b\b\b\b\b\b\r23/30 [======================>.......] - ETA: 0s - loss: 0.0068",
                    "output_type": "stream"
                },
                {
                    "name": "stdout",
                    "text": "\b\b\b\b\b\b\b\b\b\b\b\b\b\b\b\b\b\b\b\b\b\b\b\b\b\b\b\b\b\b\b\b\b\b\b\b\b\b\b\b\b\b\b\b\b\b\b\b\b\b\b\b\b\b\b\b\b\b\b\b\b\b\b\r24/30 [=======================>......] - ETA: 0s - loss: 0.0067",
                    "output_type": "stream"
                },
                {
                    "name": "stdout",
                    "text": "\b\b\b\b\b\b\b\b\b\b\b\b\b\b\b\b\b\b\b\b\b\b\b\b\b\b\b\b\b\b\b\b\b\b\b\b\b\b\b\b\b\b\b\b\b\b\b\b\b\b\b\b\b\b\b\b\b\b\b\b\b\b\b\r25/30 [========================>.....] - ETA: 0s - loss: 0.0066",
                    "output_type": "stream"
                },
                {
                    "name": "stdout",
                    "text": "\b\b\b\b\b\b\b\b\b\b\b\b\b\b\b\b\b\b\b\b\b\b\b\b\b\b\b\b\b\b\b\b\b\b\b\b\b\b\b\b\b\b\b\b\b\b\b\b\b\b\b\b\b\b\b\b\b\b\b\b\b\b\b\r26/30 [=========================>....] - ETA: 0s - loss: 0.0066",
                    "output_type": "stream"
                },
                {
                    "name": "stdout",
                    "text": "\b\b\b\b\b\b\b\b\b\b\b\b\b\b\b\b\b\b\b\b\b\b\b\b\b\b\b\b\b\b\b\b\b\b\b\b\b\b\b\b\b\b\b\b\b\b\b\b\b\b\b\b\b\b\b\b\b\b\b\b\b\b\b\r27/30 [==========================>...] - ETA: 0s - loss: 0.0066",
                    "output_type": "stream"
                },
                {
                    "name": "stdout",
                    "text": "\b\b\b\b\b\b\b\b\b\b\b\b\b\b\b\b\b\b\b\b\b\b\b\b\b\b\b\b\b\b\b\b\b\b\b\b\b\b\b\b\b\b\b\b\b\b\b\b\b\b\b\b\b\b\b\b\b\b\b\b\b\b\b\r28/30 [===========================>..] - ETA: 0s - loss: 0.0065",
                    "output_type": "stream"
                },
                {
                    "name": "stdout",
                    "text": "\b\b\b\b\b\b\b\b\b\b\b\b\b\b\b\b\b\b\b\b\b\b\b\b\b\b\b\b\b\b\b\b\b\b\b\b\b\b\b\b\b\b\b\b\b\b\b\b\b\b\b\b\b\b\b\b\b\b\b\b\b\b\b\r29/30 [============================>.] - ETA: 0s - loss: 0.0065",
                    "output_type": "stream"
                },
                {
                    "name": "stdout",
                    "text": "\b\b\b\b\b\b\b\b\b\b\b\b\b\b\b\b\b\b\b\b\b\b\b\b\b\b\b\b\b\b\b\b\b\b\b\b\b\b\b\b\b\b\b\b\b\b\b\b\b\b\b\b\b\b\b\b\b\b\b\b\b\b\b\r30/30 [==============================] - ETA: 0s - loss: 0.0065",
                    "output_type": "stream"
                },
                {
                    "name": "stdout",
                    "text": "\b\b\b\b\b\b\b\b\b\b\b\b\b\b\b\b\b\b\b\b\b\b\b\b\b\b\b\b\b\b\b\b\b\b\b\b\b\b\b\b\b\b\b\b\b\b\b\b\b\b\b\b\b\b\b\b\b\b\b\b\b\b\b\r30/30 [==============================] - 3s 95ms/step - loss: 0.0065\n",
                    "output_type": "stream"
                },
                {
                    "name": "stdout",
                    "text": "Epoch 14/25\n",
                    "output_type": "stream"
                },
                {
                    "name": "stdout",
                    "text": "\r 1/30 [>.............................] - ETA: 3s - loss: 0.0074",
                    "output_type": "stream"
                },
                {
                    "name": "stdout",
                    "text": "\b\b\b\b\b\b\b\b\b\b\b\b\b\b\b\b\b\b\b\b\b\b\b\b\b\b\b\b\b\b\b\b\b\b\b\b\b\b\b\b\b\b\b\b\b\b\b\b\b\b\b\b\b\b\b\b\b\b\b\b\b\b\b\r 2/30 [=>............................] - ETA: 2s - loss: 0.0062",
                    "output_type": "stream"
                },
                {
                    "name": "stdout",
                    "text": "\b\b\b\b\b\b\b\b\b\b\b\b\b\b\b\b\b\b\b\b\b\b\b\b\b\b\b\b\b\b\b\b\b\b\b\b\b\b\b\b\b\b\b\b\b\b\b\b\b\b\b\b\b\b\b\b\b\b\b\b\b\b\b\r 3/30 [==>...........................] - ETA: 2s - loss: 0.0058",
                    "output_type": "stream"
                },
                {
                    "name": "stdout",
                    "text": "\b\b\b\b\b\b\b\b\b\b\b\b\b\b\b\b\b\b\b\b\b\b\b\b\b\b\b\b\b\b\b\b\b\b\b\b\b\b\b\b\b\b\b\b\b\b\b\b\b\b\b\b\b\b\b\b\b\b\b\b\b\b\b\r 4/30 [===>..........................] - ETA: 2s - loss: 0.0054",
                    "output_type": "stream"
                },
                {
                    "name": "stdout",
                    "text": "\b\b\b\b\b\b\b\b\b\b\b\b\b\b\b\b\b\b\b\b\b\b\b\b\b\b\b\b\b\b\b\b\b\b\b\b\b\b\b\b\b\b\b\b\b\b\b\b\b\b\b\b\b\b\b\b\b\b\b\b\b\b\b\r 5/30 [====>.........................] - ETA: 2s - loss: 0.0054",
                    "output_type": "stream"
                },
                {
                    "name": "stdout",
                    "text": "\b\b\b\b\b\b\b\b\b\b\b\b\b\b\b\b\b\b\b\b\b\b\b\b\b\b\b\b\b\b\b\b\b\b\b\b\b\b\b\b\b\b\b\b\b\b\b\b\b\b\b\b\b\b\b\b\b\b\b\b\b\b\b\r 6/30 [=====>........................] - ETA: 2s - loss: 0.0054",
                    "output_type": "stream"
                },
                {
                    "name": "stdout",
                    "text": "\b\b\b\b\b\b\b\b\b\b\b\b\b\b\b\b\b\b\b\b\b\b\b\b\b\b\b\b\b\b\b\b\b\b\b\b\b\b\b\b\b\b\b\b\b\b\b\b\b\b\b\b\b\b\b\b\b\b\b\b\b\b\b\r 7/30 [======>.......................] - ETA: 2s - loss: 0.0054",
                    "output_type": "stream"
                },
                {
                    "name": "stdout",
                    "text": "\b\b\b\b\b\b\b\b\b\b\b\b\b\b\b\b\b\b\b\b\b\b\b\b\b\b\b\b\b\b\b\b\b\b\b\b\b\b\b\b\b\b\b\b\b\b\b\b\b\b\b\b\b\b\b\b\b\b\b\b\b\b\b\r 8/30 [=======>......................] - ETA: 2s - loss: 0.0053",
                    "output_type": "stream"
                },
                {
                    "name": "stdout",
                    "text": "\b\b\b\b\b\b\b\b\b\b\b\b\b\b\b\b\b\b\b\b\b\b\b\b\b\b\b\b\b\b\b\b\b\b\b\b\b\b\b\b\b\b\b\b\b\b\b\b\b\b\b\b\b\b\b\b\b\b\b\b\b\b\b\r 9/30 [========>.....................] - ETA: 1s - loss: 0.0053",
                    "output_type": "stream"
                },
                {
                    "name": "stdout",
                    "text": "\b\b\b\b\b\b\b\b\b\b\b\b\b\b\b\b\b\b\b\b\b\b\b\b\b\b\b\b\b\b\b\b\b\b\b\b\b\b\b\b\b\b\b\b\b\b\b\b\b\b\b\b\b\b\b\b\b\b\b\b\b\b\b\r10/30 [=========>....................] - ETA: 1s - loss: 0.0053",
                    "output_type": "stream"
                },
                {
                    "name": "stdout",
                    "text": "\b\b\b\b\b\b\b\b\b\b\b\b\b\b\b\b\b\b\b\b\b\b\b\b\b\b\b\b\b\b\b\b\b\b\b\b\b\b\b\b\b\b\b\b\b\b\b\b\b\b\b\b\b\b\b\b\b\b\b\b\b\b\b\r11/30 [==========>...................] - ETA: 1s - loss: 0.0054",
                    "output_type": "stream"
                },
                {
                    "name": "stdout",
                    "text": "\b\b\b\b\b\b\b\b\b\b\b\b\b\b\b\b\b\b\b\b\b\b\b\b\b\b\b\b\b\b\b\b\b\b\b\b\b\b\b\b\b\b\b\b\b\b\b\b\b\b\b\b\b\b\b\b\b\b\b\b\b\b\b\r12/30 [===========>..................] - ETA: 1s - loss: 0.0053",
                    "output_type": "stream"
                },
                {
                    "name": "stdout",
                    "text": "\b\b\b\b\b\b\b\b\b\b\b\b\b\b\b\b\b\b\b\b\b\b\b\b\b\b\b\b\b\b\b\b\b\b\b\b\b\b\b\b\b\b\b\b\b\b\b\b\b\b\b\b\b\b\b\b\b\b\b\b\b\b\b\r13/30 [============>.................] - ETA: 1s - loss: 0.0052",
                    "output_type": "stream"
                },
                {
                    "name": "stdout",
                    "text": "\b\b\b\b\b\b\b\b\b\b\b\b\b\b\b\b\b\b\b\b\b\b\b\b\b\b\b\b\b\b\b\b\b\b\b\b\b\b\b\b\b\b\b\b\b\b\b\b\b\b\b\b\b\b\b\b\b\b\b\b\b\b\b\r14/30 [=============>................] - ETA: 1s - loss: 0.0052",
                    "output_type": "stream"
                },
                {
                    "name": "stdout",
                    "text": "\b\b\b\b\b\b\b\b\b\b\b\b\b\b\b\b\b\b\b\b\b\b\b\b\b\b\b\b\b\b\b\b\b\b\b\b\b\b\b\b\b\b\b\b\b\b\b\b\b\b\b\b\b\b\b\b\b\b\b\b\b\b\b\r15/30 [==============>...............] - ETA: 1s - loss: 0.0052",
                    "output_type": "stream"
                },
                {
                    "name": "stdout",
                    "text": "\b\b\b\b\b\b\b\b\b\b\b\b\b\b\b\b\b\b\b\b\b\b\b\b\b\b\b\b\b\b\b\b\b\b\b\b\b\b\b\b\b\b\b\b\b\b\b\b\b\b\b\b\b\b\b\b\b\b\b\b\b\b\b\r16/30 [===============>..............] - ETA: 1s - loss: 0.0051",
                    "output_type": "stream"
                },
                {
                    "name": "stdout",
                    "text": "\b\b\b\b\b\b\b\b\b\b\b\b\b\b\b\b\b\b\b\b\b\b\b\b\b\b\b\b\b\b\b\b\b\b\b\b\b\b\b\b\b\b\b\b\b\b\b\b\b\b\b\b\b\b\b\b\b\b\b\b\b\b\b\r17/30 [================>.............] - ETA: 1s - loss: 0.0050",
                    "output_type": "stream"
                },
                {
                    "name": "stdout",
                    "text": "\b\b\b\b\b\b\b\b\b\b\b\b\b\b\b\b\b\b\b\b\b\b\b\b\b\b\b\b\b\b\b\b\b\b\b\b\b\b\b\b\b\b\b\b\b\b\b\b\b\b\b\b\b\b\b\b\b\b\b\b\b\b\b\r18/30 [=================>............] - ETA: 1s - loss: 0.0051",
                    "output_type": "stream"
                },
                {
                    "name": "stdout",
                    "text": "\b\b\b\b\b\b\b\b\b\b\b\b\b\b\b\b\b\b\b\b\b\b\b\b\b\b\b\b\b\b\b\b\b\b\b\b\b\b\b\b\b\b\b\b\b\b\b\b\b\b\b\b\b\b\b\b\b\b\b\b\b\b\b\r19/30 [==================>...........] - ETA: 1s - loss: 0.0051",
                    "output_type": "stream"
                },
                {
                    "name": "stdout",
                    "text": "\b\b\b\b\b\b\b\b\b\b\b\b\b\b\b\b\b\b\b\b\b\b\b\b\b\b\b\b\b\b\b\b\b\b\b\b\b\b\b\b\b\b\b\b\b\b\b\b\b\b\b\b\b\b\b\b\b\b\b\b\b\b\b\r20/30 [===================>..........] - ETA: 1s - loss: 0.0051",
                    "output_type": "stream"
                },
                {
                    "name": "stdout",
                    "text": "\b\b\b\b\b\b\b\b\b\b\b\b\b\b\b\b\b\b\b\b\b\b\b\b\b\b\b\b\b\b\b\b\b\b\b\b\b\b\b\b\b\b\b\b\b\b\b\b\b\b\b\b\b\b\b\b\b\b\b\b\b\b\b\r21/30 [====================>.........] - ETA: 1s - loss: 0.0051",
                    "output_type": "stream"
                },
                {
                    "name": "stdout",
                    "text": "\b\b\b\b\b\b\b\b\b\b\b\b\b\b\b\b\b\b\b\b\b\b\b\b\b\b\b\b\b\b\b\b\b\b\b\b\b\b\b\b\b\b\b\b\b\b\b\b\b\b\b\b\b\b\b\b\b\b\b\b\b\b\b\r22/30 [=====================>........] - ETA: 0s - loss: 0.0051",
                    "output_type": "stream"
                },
                {
                    "name": "stdout",
                    "text": "\b\b\b\b\b\b\b\b\b\b\b\b\b\b\b\b\b\b\b\b\b\b\b\b\b\b\b\b\b\b\b\b\b\b\b\b\b\b\b\b\b\b\b\b\b\b\b\b\b\b\b\b\b\b\b\b\b\b\b\b\b\b\b\r23/30 [======================>.......] - ETA: 0s - loss: 0.0050",
                    "output_type": "stream"
                },
                {
                    "name": "stdout",
                    "text": "\b\b\b\b\b\b\b\b\b\b\b\b\b\b\b\b\b\b\b\b\b\b\b\b\b\b\b\b\b\b\b\b\b\b\b\b\b\b\b\b\b\b\b\b\b\b\b\b\b\b\b\b\b\b\b\b\b\b\b\b\b\b\b\r24/30 [=======================>......] - ETA: 0s - loss: 0.0049",
                    "output_type": "stream"
                },
                {
                    "name": "stdout",
                    "text": "\b\b\b\b\b\b\b\b\b\b\b\b\b\b\b\b\b\b\b\b\b\b\b\b\b\b\b\b\b\b\b\b\b\b\b\b\b\b\b\b\b\b\b\b\b\b\b\b\b\b\b\b\b\b\b\b\b\b\b\b\b\b\b\r25/30 [========================>.....] - ETA: 0s - loss: 0.0049",
                    "output_type": "stream"
                },
                {
                    "name": "stdout",
                    "text": "\b\b\b\b\b\b\b\b\b\b\b\b\b\b\b\b\b\b\b\b\b\b\b\b\b\b\b\b\b\b\b\b\b\b\b\b\b\b\b\b\b\b\b\b\b\b\b\b\b\b\b\b\b\b\b\b\b\b\b\b\b\b\b\r26/30 [=========================>....] - ETA: 0s - loss: 0.0049",
                    "output_type": "stream"
                },
                {
                    "name": "stdout",
                    "text": "\b\b\b\b\b\b\b\b\b\b\b\b\b\b\b\b\b\b\b\b\b\b\b\b\b\b\b\b\b\b\b\b\b\b\b\b\b\b\b\b\b\b\b\b\b\b\b\b\b\b\b\b\b\b\b\b\b\b\b\b\b\b\b\r27/30 [==========================>...] - ETA: 0s - loss: 0.0049",
                    "output_type": "stream"
                },
                {
                    "name": "stdout",
                    "text": "\b\b\b\b\b\b\b\b\b\b\b\b\b\b\b\b\b\b\b\b\b\b\b\b\b\b\b\b\b\b\b\b\b\b\b\b\b\b\b\b\b\b\b\b\b\b\b\b\b\b\b\b\b\b\b\b\b\b\b\b\b\b\b\r28/30 [===========================>..] - ETA: 0s - loss: 0.0049",
                    "output_type": "stream"
                },
                {
                    "name": "stdout",
                    "text": "\b\b\b\b\b\b\b\b\b\b\b\b\b\b\b\b\b\b\b\b\b\b\b\b\b\b\b\b\b\b\b\b\b\b\b\b\b\b\b\b\b\b\b\b\b\b\b\b\b\b\b\b\b\b\b\b\b\b\b\b\b\b\b\r29/30 [============================>.] - ETA: 0s - loss: 0.0049",
                    "output_type": "stream"
                },
                {
                    "name": "stdout",
                    "text": "\b\b\b\b\b\b\b\b\b\b\b\b\b\b\b\b\b\b\b\b\b\b\b\b\b\b\b\b\b\b\b\b\b\b\b\b\b\b\b\b\b\b\b\b\b\b\b\b\b\b\b\b\b\b\b\b\b\b\b\b\b\b\b\r30/30 [==============================] - ETA: 0s - loss: 0.0049",
                    "output_type": "stream"
                },
                {
                    "name": "stdout",
                    "text": "\b\b\b\b\b\b\b\b\b\b\b\b\b\b\b\b\b\b\b\b\b\b\b\b\b\b\b\b\b\b\b\b\b\b\b\b\b\b\b\b\b\b\b\b\b\b\b\b\b\b\b\b\b\b\b\b\b\b\b\b\b\b\b\r30/30 [==============================] - 3s 105ms/step - loss: 0.0049\n",
                    "output_type": "stream"
                },
                {
                    "name": "stdout",
                    "text": "Epoch 15/25\n",
                    "output_type": "stream"
                },
                {
                    "name": "stdout",
                    "text": "\r 1/30 [>.............................] - ETA: 2s - loss: 0.0066",
                    "output_type": "stream"
                },
                {
                    "name": "stdout",
                    "text": "\b\b\b\b\b\b\b\b\b\b\b\b\b\b\b\b\b\b\b\b\b\b\b\b\b\b\b\b\b\b\b\b\b\b\b\b\b\b\b\b\b\b\b\b\b\b\b\b\b\b\b\b\b\b\b\b\b\b\b\b\b\b\b\r 2/30 [=>............................] - ETA: 2s - loss: 0.0057",
                    "output_type": "stream"
                },
                {
                    "name": "stdout",
                    "text": "\b\b\b\b\b\b\b\b\b\b\b\b\b\b\b\b\b\b\b\b\b\b\b\b\b\b\b\b\b\b\b\b\b\b\b\b\b\b\b\b\b\b\b\b\b\b\b\b\b\b\b\b\b\b\b\b\b\b\b\b\b\b\b\r 3/30 [==>...........................] - ETA: 2s - loss: 0.0056",
                    "output_type": "stream"
                },
                {
                    "name": "stdout",
                    "text": "\b\b\b\b\b\b\b\b\b\b\b\b\b\b\b\b\b\b\b\b\b\b\b\b\b\b\b\b\b\b\b\b\b\b\b\b\b\b\b\b\b\b\b\b\b\b\b\b\b\b\b\b\b\b\b\b\b\b\b\b\b\b\b\r 4/30 [===>..........................] - ETA: 2s - loss: 0.0052",
                    "output_type": "stream"
                },
                {
                    "name": "stdout",
                    "text": "\b\b\b\b\b\b\b\b\b\b\b\b\b\b\b\b\b\b\b\b\b\b\b\b\b\b\b\b\b\b\b\b\b\b\b\b\b\b\b\b\b\b\b\b\b\b\b\b\b\b\b\b\b\b\b\b\b\b\b\b\b\b\b\r 5/30 [====>.........................] - ETA: 2s - loss: 0.0055",
                    "output_type": "stream"
                },
                {
                    "name": "stdout",
                    "text": "\b\b\b\b\b\b\b\b\b\b\b\b\b\b\b\b\b\b\b\b\b\b\b\b\b\b\b\b\b\b\b\b\b\b\b\b\b\b\b\b\b\b\b\b\b\b\b\b\b\b\b\b\b\b\b\b\b\b\b\b\b\b\b\r 6/30 [=====>........................] - ETA: 2s - loss: 0.0053",
                    "output_type": "stream"
                },
                {
                    "name": "stdout",
                    "text": "\b\b\b\b\b\b\b\b\b\b\b\b\b\b\b\b\b\b\b\b\b\b\b\b\b\b\b\b\b\b\b\b\b\b\b\b\b\b\b\b\b\b\b\b\b\b\b\b\b\b\b\b\b\b\b\b\b\b\b\b\b\b\b\r 7/30 [======>.......................] - ETA: 2s - loss: 0.0048",
                    "output_type": "stream"
                },
                {
                    "name": "stdout",
                    "text": "\b\b\b\b\b\b\b\b\b\b\b\b\b\b\b\b\b\b\b\b\b\b\b\b\b\b\b\b\b\b\b\b\b\b\b\b\b\b\b\b\b\b\b\b\b\b\b\b\b\b\b\b\b\b\b\b\b\b\b\b\b\b\b\r 8/30 [=======>......................] - ETA: 2s - loss: 0.0049",
                    "output_type": "stream"
                },
                {
                    "name": "stdout",
                    "text": "\b\b\b\b\b\b\b\b\b\b\b\b\b\b\b\b\b\b\b\b\b\b\b\b\b\b\b\b\b\b\b\b\b\b\b\b\b\b\b\b\b\b\b\b\b\b\b\b\b\b\b\b\b\b\b\b\b\b\b\b\b\b\b\r 9/30 [========>.....................] - ETA: 2s - loss: 0.0050",
                    "output_type": "stream"
                },
                {
                    "name": "stdout",
                    "text": "\b\b\b\b\b\b\b\b\b\b\b\b\b\b\b\b\b\b\b\b\b\b\b\b\b\b\b\b\b\b\b\b\b\b\b\b\b\b\b\b\b\b\b\b\b\b\b\b\b\b\b\b\b\b\b\b\b\b\b\b\b\b\b\r10/30 [=========>....................] - ETA: 2s - loss: 0.0047",
                    "output_type": "stream"
                },
                {
                    "name": "stdout",
                    "text": "\b\b\b\b\b\b\b\b\b\b\b\b\b\b\b\b\b\b\b\b\b\b\b\b\b\b\b\b\b\b\b\b\b\b\b\b\b\b\b\b\b\b\b\b\b\b\b\b\b\b\b\b\b\b\b\b\b\b\b\b\b\b\b\r11/30 [==========>...................] - ETA: 1s - loss: 0.0049",
                    "output_type": "stream"
                },
                {
                    "name": "stdout",
                    "text": "\b\b\b\b\b\b\b\b\b\b\b\b\b\b\b\b\b\b\b\b\b\b\b\b\b\b\b\b\b\b\b\b\b\b\b\b\b\b\b\b\b\b\b\b\b\b\b\b\b\b\b\b\b\b\b\b\b\b\b\b\b\b\b\r12/30 [===========>..................] - ETA: 1s - loss: 0.0050",
                    "output_type": "stream"
                },
                {
                    "name": "stdout",
                    "text": "\b\b\b\b\b\b\b\b\b\b\b\b\b\b\b\b\b\b\b\b\b\b\b\b\b\b\b\b\b\b\b\b\b\b\b\b\b\b\b\b\b\b\b\b\b\b\b\b\b\b\b\b\b\b\b\b\b\b\b\b\b\b\b\r13/30 [============>.................] - ETA: 1s - loss: 0.0050",
                    "output_type": "stream"
                },
                {
                    "name": "stdout",
                    "text": "\b\b\b\b\b\b\b\b\b\b\b\b\b\b\b\b\b\b\b\b\b\b\b\b\b\b\b\b\b\b\b\b\b\b\b\b\b\b\b\b\b\b\b\b\b\b\b\b\b\b\b\b\b\b\b\b\b\b\b\b\b\b\b\r14/30 [=============>................] - ETA: 1s - loss: 0.0049",
                    "output_type": "stream"
                },
                {
                    "name": "stdout",
                    "text": "\b\b\b\b\b\b\b\b\b\b\b\b\b\b\b\b\b\b\b\b\b\b\b\b\b\b\b\b\b\b\b\b\b\b\b\b\b\b\b\b\b\b\b\b\b\b\b\b\b\b\b\b\b\b\b\b\b\b\b\b\b\b\b\r15/30 [==============>...............] - ETA: 1s - loss: 0.0049",
                    "output_type": "stream"
                },
                {
                    "name": "stdout",
                    "text": "\b\b\b\b\b\b\b\b\b\b\b\b\b\b\b\b\b\b\b\b\b\b\b\b\b\b\b\b\b\b\b\b\b\b\b\b\b\b\b\b\b\b\b\b\b\b\b\b\b\b\b\b\b\b\b\b\b\b\b\b\b\b\b\r16/30 [===============>..............] - ETA: 1s - loss: 0.0051",
                    "output_type": "stream"
                },
                {
                    "name": "stdout",
                    "text": "\b\b\b\b\b\b\b\b\b\b\b\b\b\b\b\b\b\b\b\b\b\b\b\b\b\b\b\b\b\b\b\b\b\b\b\b\b\b\b\b\b\b\b\b\b\b\b\b\b\b\b\b\b\b\b\b\b\b\b\b\b\b\b\r17/30 [================>.............] - ETA: 1s - loss: 0.0051",
                    "output_type": "stream"
                },
                {
                    "name": "stdout",
                    "text": "\b\b\b\b\b\b\b\b\b\b\b\b\b\b\b\b\b\b\b\b\b\b\b\b\b\b\b\b\b\b\b\b\b\b\b\b\b\b\b\b\b\b\b\b\b\b\b\b\b\b\b\b\b\b\b\b\b\b\b\b\b\b\b\r18/30 [=================>............] - ETA: 1s - loss: 0.0052",
                    "output_type": "stream"
                },
                {
                    "name": "stdout",
                    "text": "\b\b\b\b\b\b\b\b\b\b\b\b\b\b\b\b\b\b\b\b\b\b\b\b\b\b\b\b\b\b\b\b\b\b\b\b\b\b\b\b\b\b\b\b\b\b\b\b\b\b\b\b\b\b\b\b\b\b\b\b\b\b\b\r19/30 [==================>...........] - ETA: 1s - loss: 0.0050",
                    "output_type": "stream"
                },
                {
                    "name": "stdout",
                    "text": "\b\b\b\b\b\b\b\b\b\b\b\b\b\b\b\b\b\b\b\b\b\b\b\b\b\b\b\b\b\b\b\b\b\b\b\b\b\b\b\b\b\b\b\b\b\b\b\b\b\b\b\b\b\b\b\b\b\b\b\b\b\b\b\r20/30 [===================>..........] - ETA: 1s - loss: 0.0051",
                    "output_type": "stream"
                },
                {
                    "name": "stdout",
                    "text": "\b\b\b\b\b\b\b\b\b\b\b\b\b\b\b\b\b\b\b\b\b\b\b\b\b\b\b\b\b\b\b\b\b\b\b\b\b\b\b\b\b\b\b\b\b\b\b\b\b\b\b\b\b\b\b\b\b\b\b\b\b\b\b\r21/30 [====================>.........] - ETA: 0s - loss: 0.0051",
                    "output_type": "stream"
                },
                {
                    "name": "stdout",
                    "text": "\b\b\b\b\b\b\b\b\b\b\b\b\b\b\b\b\b\b\b\b\b\b\b\b\b\b\b\b\b\b\b\b\b\b\b\b\b\b\b\b\b\b\b\b\b\b\b\b\b\b\b\b\b\b\b\b\b\b\b\b\b\b\b\r22/30 [=====================>........] - ETA: 0s - loss: 0.0051",
                    "output_type": "stream"
                },
                {
                    "name": "stdout",
                    "text": "\b\b\b\b\b\b\b\b\b\b\b\b\b\b\b\b\b\b\b\b\b\b\b\b\b\b\b\b\b\b\b\b\b\b\b\b\b\b\b\b\b\b\b\b\b\b\b\b\b\b\b\b\b\b\b\b\b\b\b\b\b\b\b\r23/30 [======================>.......] - ETA: 0s - loss: 0.0051",
                    "output_type": "stream"
                },
                {
                    "name": "stdout",
                    "text": "\b\b\b\b\b\b\b\b\b\b\b\b\b\b\b\b\b\b\b\b\b\b\b\b\b\b\b\b\b\b\b\b\b\b\b\b\b\b\b\b\b\b\b\b\b\b\b\b\b\b\b\b\b\b\b\b\b\b\b\b\b\b\b\r24/30 [=======================>......] - ETA: 0s - loss: 0.0050",
                    "output_type": "stream"
                },
                {
                    "name": "stdout",
                    "text": "\b\b\b\b\b\b\b\b\b\b\b\b\b\b\b\b\b\b\b\b\b\b\b\b\b\b\b\b\b\b\b\b\b\b\b\b\b\b\b\b\b\b\b\b\b\b\b\b\b\b\b\b\b\b\b\b\b\b\b\b\b\b\b\r25/30 [========================>.....] - ETA: 0s - loss: 0.0051",
                    "output_type": "stream"
                },
                {
                    "name": "stdout",
                    "text": "\b\b\b\b\b\b\b\b\b\b\b\b\b\b\b\b\b\b\b\b\b\b\b\b\b\b\b\b\b\b\b\b\b\b\b\b\b\b\b\b\b\b\b\b\b\b\b\b\b\b\b\b\b\b\b\b\b\b\b\b\b\b\b\r26/30 [=========================>....] - ETA: 0s - loss: 0.0051",
                    "output_type": "stream"
                },
                {
                    "name": "stdout",
                    "text": "\b\b\b\b\b\b\b\b\b\b\b\b\b\b\b\b\b\b\b\b\b\b\b\b\b\b\b\b\b\b\b\b\b\b\b\b\b\b\b\b\b\b\b\b\b\b\b\b\b\b\b\b\b\b\b\b\b\b\b\b\b\b\b\r27/30 [==========================>...] - ETA: 0s - loss: 0.0051",
                    "output_type": "stream"
                },
                {
                    "name": "stdout",
                    "text": "\b\b\b\b\b\b\b\b\b\b\b\b\b\b\b\b\b\b\b\b\b\b\b\b\b\b\b\b\b\b\b\b\b\b\b\b\b\b\b\b\b\b\b\b\b\b\b\b\b\b\b\b\b\b\b\b\b\b\b\b\b\b\b\r28/30 [===========================>..] - ETA: 0s - loss: 0.0051",
                    "output_type": "stream"
                },
                {
                    "name": "stdout",
                    "text": "\b\b\b\b\b\b\b\b\b\b\b\b\b\b\b\b\b\b\b\b\b\b\b\b\b\b\b\b\b\b\b\b\b\b\b\b\b\b\b\b\b\b\b\b\b\b\b\b\b\b\b\b\b\b\b\b\b\b\b\b\b\b\b\r29/30 [============================>.] - ETA: 0s - loss: 0.0052",
                    "output_type": "stream"
                },
                {
                    "name": "stdout",
                    "text": "\b\b\b\b\b\b\b\b\b\b\b\b\b\b\b\b\b\b\b\b\b\b\b\b\b\b\b\b\b\b\b\b\b\b\b\b\b\b\b\b\b\b\b\b\b\b\b\b\b\b\b\b\b\b\b\b\b\b\b\b\b\b\b\r30/30 [==============================] - ETA: 0s - loss: 0.0051",
                    "output_type": "stream"
                },
                {
                    "name": "stdout",
                    "text": "\b\b\b\b\b\b\b\b\b\b\b\b\b\b\b\b\b\b\b\b\b\b\b\b\b\b\b\b\b\b\b\b\b\b\b\b\b\b\b\b\b\b\b\b\b\b\b\b\b\b\b\b\b\b\b\b\b\b\b\b\b\b\b\r30/30 [==============================] - 3s 99ms/step - loss: 0.0051\n",
                    "output_type": "stream"
                },
                {
                    "name": "stdout",
                    "text": "Epoch 16/25\n",
                    "output_type": "stream"
                },
                {
                    "name": "stdout",
                    "text": "\r 1/30 [>.............................] - ETA: 3s - loss: 0.0049",
                    "output_type": "stream"
                },
                {
                    "name": "stdout",
                    "text": "\b\b\b\b\b\b\b\b\b\b\b\b\b\b\b\b\b\b\b\b\b\b\b\b\b\b\b\b\b\b\b\b\b\b\b\b\b\b\b\b\b\b\b\b\b\b\b\b\b\b\b\b\b\b\b\b\b\b\b\b\b\b\b\r 2/30 [=>............................] - ETA: 3s - loss: 0.0052",
                    "output_type": "stream"
                },
                {
                    "name": "stdout",
                    "text": "\b\b\b\b\b\b\b\b\b\b\b\b\b\b\b\b\b\b\b\b\b\b\b\b\b\b\b\b\b\b\b\b\b\b\b\b\b\b\b\b\b\b\b\b\b\b\b\b\b\b\b\b\b\b\b\b\b\b\b\b\b\b\b\r 3/30 [==>...........................] - ETA: 3s - loss: 0.0057",
                    "output_type": "stream"
                },
                {
                    "name": "stdout",
                    "text": "\b\b\b\b\b\b\b\b\b\b\b\b\b\b\b\b\b\b\b\b\b\b\b\b\b\b\b\b\b\b\b\b\b\b\b\b\b\b\b\b\b\b\b\b\b\b\b\b\b\b\b\b\b\b\b\b\b\b\b\b\b\b\b\r 4/30 [===>..........................] - ETA: 3s - loss: 0.0059",
                    "output_type": "stream"
                },
                {
                    "name": "stdout",
                    "text": "\b\b\b\b\b\b\b\b\b\b\b\b\b\b\b\b\b\b\b\b\b\b\b\b\b\b\b\b\b\b\b\b\b\b\b\b\b\b\b\b\b\b\b\b\b\b\b\b\b\b\b\b\b\b\b\b\b\b\b\b\b\b\b\r 5/30 [====>.........................] - ETA: 2s - loss: 0.0054",
                    "output_type": "stream"
                },
                {
                    "name": "stdout",
                    "text": "\b\b\b\b\b\b\b\b\b\b\b\b\b\b\b\b\b\b\b\b\b\b\b\b\b\b\b\b\b\b\b\b\b\b\b\b\b\b\b\b\b\b\b\b\b\b\b\b\b\b\b\b\b\b\b\b\b\b\b\b\b\b\b\r 6/30 [=====>........................] - ETA: 2s - loss: 0.0055",
                    "output_type": "stream"
                },
                {
                    "name": "stdout",
                    "text": "\b\b\b\b\b\b\b\b\b\b\b\b\b\b\b\b\b\b\b\b\b\b\b\b\b\b\b\b\b\b\b\b\b\b\b\b\b\b\b\b\b\b\b\b\b\b\b\b\b\b\b\b\b\b\b\b\b\b\b\b\b\b\b\r 7/30 [======>.......................] - ETA: 2s - loss: 0.0052",
                    "output_type": "stream"
                },
                {
                    "name": "stdout",
                    "text": "\b\b\b\b\b\b\b\b\b\b\b\b\b\b\b\b\b\b\b\b\b\b\b\b\b\b\b\b\b\b\b\b\b\b\b\b\b\b\b\b\b\b\b\b\b\b\b\b\b\b\b\b\b\b\b\b\b\b\b\b\b\b\b\r 8/30 [=======>......................] - ETA: 2s - loss: 0.0051",
                    "output_type": "stream"
                },
                {
                    "name": "stdout",
                    "text": "\b\b\b\b\b\b\b\b\b\b\b\b\b\b\b\b\b\b\b\b\b\b\b\b\b\b\b\b\b\b\b\b\b\b\b\b\b\b\b\b\b\b\b\b\b\b\b\b\b\b\b\b\b\b\b\b\b\b\b\b\b\b\b\r 9/30 [========>.....................] - ETA: 2s - loss: 0.0050",
                    "output_type": "stream"
                },
                {
                    "name": "stdout",
                    "text": "\b\b\b\b\b\b\b\b\b\b\b\b\b\b\b\b\b\b\b\b\b\b\b\b\b\b\b\b\b\b\b\b\b\b\b\b\b\b\b\b\b\b\b\b\b\b\b\b\b\b\b\b\b\b\b\b\b\b\b\b\b\b\b\r10/30 [=========>....................] - ETA: 1s - loss: 0.0052",
                    "output_type": "stream"
                },
                {
                    "name": "stdout",
                    "text": "\b\b\b\b\b\b\b\b\b\b\b\b\b\b\b\b\b\b\b\b\b\b\b\b\b\b\b\b\b\b\b\b\b\b\b\b\b\b\b\b\b\b\b\b\b\b\b\b\b\b\b\b\b\b\b\b\b\b\b\b\b\b\b\r11/30 [==========>...................] - ETA: 1s - loss: 0.0051",
                    "output_type": "stream"
                },
                {
                    "name": "stdout",
                    "text": "\b\b\b\b\b\b\b\b\b\b\b\b\b\b\b\b\b\b\b\b\b\b\b\b\b\b\b\b\b\b\b\b\b\b\b\b\b\b\b\b\b\b\b\b\b\b\b\b\b\b\b\b\b\b\b\b\b\b\b\b\b\b\b\r12/30 [===========>..................] - ETA: 1s - loss: 0.0051",
                    "output_type": "stream"
                },
                {
                    "name": "stdout",
                    "text": "\b\b\b\b\b\b\b\b\b\b\b\b\b\b\b\b\b\b\b\b\b\b\b\b\b\b\b\b\b\b\b\b\b\b\b\b\b\b\b\b\b\b\b\b\b\b\b\b\b\b\b\b\b\b\b\b\b\b\b\b\b\b\b\r13/30 [============>.................] - ETA: 1s - loss: 0.0050",
                    "output_type": "stream"
                },
                {
                    "name": "stdout",
                    "text": "\b\b\b\b\b\b\b\b\b\b\b\b\b\b\b\b\b\b\b\b\b\b\b\b\b\b\b\b\b\b\b\b\b\b\b\b\b\b\b\b\b\b\b\b\b\b\b\b\b\b\b\b\b\b\b\b\b\b\b\b\b\b\b\r14/30 [=============>................] - ETA: 1s - loss: 0.0050",
                    "output_type": "stream"
                },
                {
                    "name": "stdout",
                    "text": "\b\b\b\b\b\b\b\b\b\b\b\b\b\b\b\b\b\b\b\b\b\b\b\b\b\b\b\b\b\b\b\b\b\b\b\b\b\b\b\b\b\b\b\b\b\b\b\b\b\b\b\b\b\b\b\b\b\b\b\b\b\b\b\r15/30 [==============>...............] - ETA: 1s - loss: 0.0049",
                    "output_type": "stream"
                },
                {
                    "name": "stdout",
                    "text": "\b\b\b\b\b\b\b\b\b\b\b\b\b\b\b\b\b\b\b\b\b\b\b\b\b\b\b\b\b\b\b\b\b\b\b\b\b\b\b\b\b\b\b\b\b\b\b\b\b\b\b\b\b\b\b\b\b\b\b\b\b\b\b\r16/30 [===============>..............] - ETA: 1s - loss: 0.0050",
                    "output_type": "stream"
                },
                {
                    "name": "stdout",
                    "text": "\b\b\b\b\b\b\b\b\b\b\b\b\b\b\b\b\b\b\b\b\b\b\b\b\b\b\b\b\b\b\b\b\b\b\b\b\b\b\b\b\b\b\b\b\b\b\b\b\b\b\b\b\b\b\b\b\b\b\b\b\b\b\b\r17/30 [================>.............] - ETA: 1s - loss: 0.0052",
                    "output_type": "stream"
                },
                {
                    "name": "stdout",
                    "text": "\b\b\b\b\b\b\b\b\b\b\b\b\b\b\b\b\b\b\b\b\b\b\b\b\b\b\b\b\b\b\b\b\b\b\b\b\b\b\b\b\b\b\b\b\b\b\b\b\b\b\b\b\b\b\b\b\b\b\b\b\b\b\b\r18/30 [=================>............] - ETA: 1s - loss: 0.0050",
                    "output_type": "stream"
                },
                {
                    "name": "stdout",
                    "text": "\b\b\b\b\b\b\b\b\b\b\b\b\b\b\b\b\b\b\b\b\b\b\b\b\b\b\b\b\b\b\b\b\b\b\b\b\b\b\b\b\b\b\b\b\b\b\b\b\b\b\b\b\b\b\b\b\b\b\b\b\b\b\b\r19/30 [==================>...........] - ETA: 0s - loss: 0.0050",
                    "output_type": "stream"
                },
                {
                    "name": "stdout",
                    "text": "\b\b\b\b\b\b\b\b\b\b\b\b\b\b\b\b\b\b\b\b\b\b\b\b\b\b\b\b\b\b\b\b\b\b\b\b\b\b\b\b\b\b\b\b\b\b\b\b\b\b\b\b\b\b\b\b\b\b\b\b\b\b\b\r20/30 [===================>..........] - ETA: 0s - loss: 0.0053",
                    "output_type": "stream"
                },
                {
                    "name": "stdout",
                    "text": "\b\b\b\b\b\b\b\b\b\b\b\b\b\b\b\b\b\b\b\b\b\b\b\b\b\b\b\b\b\b\b\b\b\b\b\b\b\b\b\b\b\b\b\b\b\b\b\b\b\b\b\b\b\b\b\b\b\b\b\b\b\b\b\r21/30 [====================>.........] - ETA: 0s - loss: 0.0054",
                    "output_type": "stream"
                },
                {
                    "name": "stdout",
                    "text": "\b\b\b\b\b\b\b\b\b\b\b\b\b\b\b\b\b\b\b\b\b\b\b\b\b\b\b\b\b\b\b\b\b\b\b\b\b\b\b\b\b\b\b\b\b\b\b\b\b\b\b\b\b\b\b\b\b\b\b\b\b\b\b\r22/30 [=====================>........] - ETA: 0s - loss: 0.0054",
                    "output_type": "stream"
                },
                {
                    "name": "stdout",
                    "text": "\b\b\b\b\b\b\b\b\b\b\b\b\b\b\b\b\b\b\b\b\b\b\b\b\b\b\b\b\b\b\b\b\b\b\b\b\b\b\b\b\b\b\b\b\b\b\b\b\b\b\b\b\b\b\b\b\b\b\b\b\b\b\b\r23/30 [======================>.......] - ETA: 0s - loss: 0.0054",
                    "output_type": "stream"
                },
                {
                    "name": "stdout",
                    "text": "\b\b\b\b\b\b\b\b\b\b\b\b\b\b\b\b\b\b\b\b\b\b\b\b\b\b\b\b\b\b\b\b\b\b\b\b\b\b\b\b\b\b\b\b\b\b\b\b\b\b\b\b\b\b\b\b\b\b\b\b\b\b\b\r24/30 [=======================>......] - ETA: 0s - loss: 0.0054",
                    "output_type": "stream"
                },
                {
                    "name": "stdout",
                    "text": "\b\b\b\b\b\b\b\b\b\b\b\b\b\b\b\b\b\b\b\b\b\b\b\b\b\b\b\b\b\b\b\b\b\b\b\b\b\b\b\b\b\b\b\b\b\b\b\b\b\b\b\b\b\b\b\b\b\b\b\b\b\b\b\r25/30 [========================>.....] - ETA: 0s - loss: 0.0053",
                    "output_type": "stream"
                },
                {
                    "name": "stdout",
                    "text": "\b\b\b\b\b\b\b\b\b\b\b\b\b\b\b\b\b\b\b\b\b\b\b\b\b\b\b\b\b\b\b\b\b\b\b\b\b\b\b\b\b\b\b\b\b\b\b\b\b\b\b\b\b\b\b\b\b\b\b\b\b\b\b\r26/30 [=========================>....] - ETA: 0s - loss: 0.0053",
                    "output_type": "stream"
                },
                {
                    "name": "stdout",
                    "text": "\b\b\b\b\b\b\b\b\b\b\b\b\b\b\b\b\b\b\b\b\b\b\b\b\b\b\b\b\b\b\b\b\b\b\b\b\b\b\b\b\b\b\b\b\b\b\b\b\b\b\b\b\b\b\b\b\b\b\b\b\b\b\b\r27/30 [==========================>...] - ETA: 0s - loss: 0.0053",
                    "output_type": "stream"
                },
                {
                    "name": "stdout",
                    "text": "\b\b\b\b\b\b\b\b\b\b\b\b\b\b\b\b\b\b\b\b\b\b\b\b\b\b\b\b\b\b\b\b\b\b\b\b\b\b\b\b\b\b\b\b\b\b\b\b\b\b\b\b\b\b\b\b\b\b\b\b\b\b\b\r28/30 [===========================>..] - ETA: 0s - loss: 0.0053",
                    "output_type": "stream"
                },
                {
                    "name": "stdout",
                    "text": "\b\b\b\b\b\b\b\b\b\b\b\b\b\b\b\b\b\b\b\b\b\b\b\b\b\b\b\b\b\b\b\b\b\b\b\b\b\b\b\b\b\b\b\b\b\b\b\b\b\b\b\b\b\b\b\b\b\b\b\b\b\b\b\r29/30 [============================>.] - ETA: 0s - loss: 0.0054",
                    "output_type": "stream"
                },
                {
                    "name": "stdout",
                    "text": "\b\b\b\b\b\b\b\b\b\b\b\b\b\b\b\b\b\b\b\b\b\b\b\b\b\b\b\b\b\b\b\b\b\b\b\b\b\b\b\b\b\b\b\b\b\b\b\b\b\b\b\b\b\b\b\b\b\b\b\b\b\b\b\r30/30 [==============================] - ETA: 0s - loss: 0.0054",
                    "output_type": "stream"
                },
                {
                    "name": "stdout",
                    "text": "\b\b\b\b\b\b\b\b\b\b\b\b\b\b\b\b\b\b\b\b\b\b\b\b\b\b\b\b\b\b\b\b\b\b\b\b\b\b\b\b\b\b\b\b\b\b\b\b\b\b\b\b\b\b\b\b\b\b\b\b\b\b\b\r30/30 [==============================] - 3s 88ms/step - loss: 0.0054\n",
                    "output_type": "stream"
                },
                {
                    "name": "stdout",
                    "text": "Epoch 17/25\n",
                    "output_type": "stream"
                },
                {
                    "name": "stdout",
                    "text": "\r 1/30 [>.............................] - ETA: 2s - loss: 0.0084",
                    "output_type": "stream"
                },
                {
                    "name": "stdout",
                    "text": "\b\b\b\b\b\b\b\b\b\b\b\b\b\b\b\b\b\b\b\b\b\b\b\b\b\b\b\b\b\b\b\b\b\b\b\b\b\b\b\b\b\b\b\b\b\b\b\b\b\b\b\b\b\b\b\b\b\b\b\b\b\b\b\r 2/30 [=>............................] - ETA: 2s - loss: 0.0102",
                    "output_type": "stream"
                },
                {
                    "name": "stdout",
                    "text": "\b\b\b\b\b\b\b\b\b\b\b\b\b\b\b\b\b\b\b\b\b\b\b\b\b\b\b\b\b\b\b\b\b\b\b\b\b\b\b\b\b\b\b\b\b\b\b\b\b\b\b\b\b\b\b\b\b\b\b\b\b\b\b\r 3/30 [==>...........................] - ETA: 2s - loss: 0.0095",
                    "output_type": "stream"
                },
                {
                    "name": "stdout",
                    "text": "\b\b\b\b\b\b\b\b\b\b\b\b\b\b\b\b\b\b\b\b\b\b\b\b\b\b\b\b\b\b\b\b\b\b\b\b\b\b\b\b\b\b\b\b\b\b\b\b\b\b\b\b\b\b\b\b\b\b\b\b\b\b\b\r 4/30 [===>..........................] - ETA: 2s - loss: 0.0083",
                    "output_type": "stream"
                },
                {
                    "name": "stdout",
                    "text": "\b\b\b\b\b\b\b\b\b\b\b\b\b\b\b\b\b\b\b\b\b\b\b\b\b\b\b\b\b\b\b\b\b\b\b\b\b\b\b\b\b\b\b\b\b\b\b\b\b\b\b\b\b\b\b\b\b\b\b\b\b\b\b\r 5/30 [====>.........................] - ETA: 2s - loss: 0.0078",
                    "output_type": "stream"
                },
                {
                    "name": "stdout",
                    "text": "\b\b\b\b\b\b\b\b\b\b\b\b\b\b\b\b\b\b\b\b\b\b\b\b\b\b\b\b\b\b\b\b\b\b\b\b\b\b\b\b\b\b\b\b\b\b\b\b\b\b\b\b\b\b\b\b\b\b\b\b\b\b\b\r 6/30 [=====>........................] - ETA: 2s - loss: 0.0079",
                    "output_type": "stream"
                },
                {
                    "name": "stdout",
                    "text": "\b\b\b\b\b\b\b\b\b\b\b\b\b\b\b\b\b\b\b\b\b\b\b\b\b\b\b\b\b\b\b\b\b\b\b\b\b\b\b\b\b\b\b\b\b\b\b\b\b\b\b\b\b\b\b\b\b\b\b\b\b\b\b\r 7/30 [======>.......................] - ETA: 2s - loss: 0.0079",
                    "output_type": "stream"
                },
                {
                    "name": "stdout",
                    "text": "\b\b\b\b\b\b\b\b\b\b\b\b\b\b\b\b\b\b\b\b\b\b\b\b\b\b\b\b\b\b\b\b\b\b\b\b\b\b\b\b\b\b\b\b\b\b\b\b\b\b\b\b\b\b\b\b\b\b\b\b\b\b\b\r 8/30 [=======>......................] - ETA: 1s - loss: 0.0077",
                    "output_type": "stream"
                },
                {
                    "name": "stdout",
                    "text": "\b\b\b\b\b\b\b\b\b\b\b\b\b\b\b\b\b\b\b\b\b\b\b\b\b\b\b\b\b\b\b\b\b\b\b\b\b\b\b\b\b\b\b\b\b\b\b\b\b\b\b\b\b\b\b\b\b\b\b\b\b\b\b\r 9/30 [========>.....................] - ETA: 1s - loss: 0.0072",
                    "output_type": "stream"
                },
                {
                    "name": "stdout",
                    "text": "\b\b\b\b\b\b\b\b\b\b\b\b\b\b\b\b\b\b\b\b\b\b\b\b\b\b\b\b\b\b\b\b\b\b\b\b\b\b\b\b\b\b\b\b\b\b\b\b\b\b\b\b\b\b\b\b\b\b\b\b\b\b\b\r10/30 [=========>....................] - ETA: 1s - loss: 0.0072",
                    "output_type": "stream"
                },
                {
                    "name": "stdout",
                    "text": "\b\b\b\b\b\b\b\b\b\b\b\b\b\b\b\b\b\b\b\b\b\b\b\b\b\b\b\b\b\b\b\b\b\b\b\b\b\b\b\b\b\b\b\b\b\b\b\b\b\b\b\b\b\b\b\b\b\b\b\b\b\b\b\r11/30 [==========>...................] - ETA: 1s - loss: 0.0075",
                    "output_type": "stream"
                },
                {
                    "name": "stdout",
                    "text": "\b\b\b\b\b\b\b\b\b\b\b\b\b\b\b\b\b\b\b\b\b\b\b\b\b\b\b\b\b\b\b\b\b\b\b\b\b\b\b\b\b\b\b\b\b\b\b\b\b\b\b\b\b\b\b\b\b\b\b\b\b\b\b\r12/30 [===========>..................] - ETA: 1s - loss: 0.0075",
                    "output_type": "stream"
                },
                {
                    "name": "stdout",
                    "text": "\b\b\b\b\b\b\b\b\b\b\b\b\b\b\b\b\b\b\b\b\b\b\b\b\b\b\b\b\b\b\b\b\b\b\b\b\b\b\b\b\b\b\b\b\b\b\b\b\b\b\b\b\b\b\b\b\b\b\b\b\b\b\b\r13/30 [============>.................] - ETA: 1s - loss: 0.0072",
                    "output_type": "stream"
                },
                {
                    "name": "stdout",
                    "text": "\b\b\b\b\b\b\b\b\b\b\b\b\b\b\b\b\b\b\b\b\b\b\b\b\b\b\b\b\b\b\b\b\b\b\b\b\b\b\b\b\b\b\b\b\b\b\b\b\b\b\b\b\b\b\b\b\b\b\b\b\b\b\b\r14/30 [=============>................] - ETA: 1s - loss: 0.0070",
                    "output_type": "stream"
                },
                {
                    "name": "stdout",
                    "text": "\b\b\b\b\b\b\b\b\b\b\b\b\b\b\b\b\b\b\b\b\b\b\b\b\b\b\b\b\b\b\b\b\b\b\b\b\b\b\b\b\b\b\b\b\b\b\b\b\b\b\b\b\b\b\b\b\b\b\b\b\b\b\b\r15/30 [==============>...............] - ETA: 1s - loss: 0.0070",
                    "output_type": "stream"
                },
                {
                    "name": "stdout",
                    "text": "\b\b\b\b\b\b\b\b\b\b\b\b\b\b\b\b\b\b\b\b\b\b\b\b\b\b\b\b\b\b\b\b\b\b\b\b\b\b\b\b\b\b\b\b\b\b\b\b\b\b\b\b\b\b\b\b\b\b\b\b\b\b\b\r16/30 [===============>..............] - ETA: 1s - loss: 0.0070",
                    "output_type": "stream"
                },
                {
                    "name": "stdout",
                    "text": "\b\b\b\b\b\b\b\b\b\b\b\b\b\b\b\b\b\b\b\b\b\b\b\b\b\b\b\b\b\b\b\b\b\b\b\b\b\b\b\b\b\b\b\b\b\b\b\b\b\b\b\b\b\b\b\b\b\b\b\b\b\b\b\r17/30 [================>.............] - ETA: 1s - loss: 0.0069",
                    "output_type": "stream"
                },
                {
                    "name": "stdout",
                    "text": "\b\b\b\b\b\b\b\b\b\b\b\b\b\b\b\b\b\b\b\b\b\b\b\b\b\b\b\b\b\b\b\b\b\b\b\b\b\b\b\b\b\b\b\b\b\b\b\b\b\b\b\b\b\b\b\b\b\b\b\b\b\b\b\r18/30 [=================>............] - ETA: 1s - loss: 0.0067",
                    "output_type": "stream"
                },
                {
                    "name": "stdout",
                    "text": "\b\b\b\b\b\b\b\b\b\b\b\b\b\b\b\b\b\b\b\b\b\b\b\b\b\b\b\b\b\b\b\b\b\b\b\b\b\b\b\b\b\b\b\b\b\b\b\b\b\b\b\b\b\b\b\b\b\b\b\b\b\b\b\r19/30 [==================>...........] - ETA: 1s - loss: 0.0066",
                    "output_type": "stream"
                },
                {
                    "name": "stdout",
                    "text": "\b\b\b\b\b\b\b\b\b\b\b\b\b\b\b\b\b\b\b\b\b\b\b\b\b\b\b\b\b\b\b\b\b\b\b\b\b\b\b\b\b\b\b\b\b\b\b\b\b\b\b\b\b\b\b\b\b\b\b\b\b\b\b\r20/30 [===================>..........] - ETA: 0s - loss: 0.0065",
                    "output_type": "stream"
                },
                {
                    "name": "stdout",
                    "text": "\b\b\b\b\b\b\b\b\b\b\b\b\b\b\b\b\b\b\b\b\b\b\b\b\b\b\b\b\b\b\b\b\b\b\b\b\b\b\b\b\b\b\b\b\b\b\b\b\b\b\b\b\b\b\b\b\b\b\b\b\b\b\b\r21/30 [====================>.........] - ETA: 0s - loss: 0.0064",
                    "output_type": "stream"
                },
                {
                    "name": "stdout",
                    "text": "\b\b\b\b\b\b\b\b\b\b\b\b\b\b\b\b\b\b\b\b\b\b\b\b\b\b\b\b\b\b\b\b\b\b\b\b\b\b\b\b\b\b\b\b\b\b\b\b\b\b\b\b\b\b\b\b\b\b\b\b\b\b\b\r22/30 [=====================>........] - ETA: 0s - loss: 0.0063",
                    "output_type": "stream"
                },
                {
                    "name": "stdout",
                    "text": "\b\b\b\b\b\b\b\b\b\b\b\b\b\b\b\b\b\b\b\b\b\b\b\b\b\b\b\b\b\b\b\b\b\b\b\b\b\b\b\b\b\b\b\b\b\b\b\b\b\b\b\b\b\b\b\b\b\b\b\b\b\b\b\r23/30 [======================>.......] - ETA: 0s - loss: 0.0063",
                    "output_type": "stream"
                },
                {
                    "name": "stdout",
                    "text": "\b\b\b\b\b\b\b\b\b\b\b\b\b\b\b\b\b\b\b\b\b\b\b\b\b\b\b\b\b\b\b\b\b\b\b\b\b\b\b\b\b\b\b\b\b\b\b\b\b\b\b\b\b\b\b\b\b\b\b\b\b\b\b\r24/30 [=======================>......] - ETA: 0s - loss: 0.0062",
                    "output_type": "stream"
                },
                {
                    "name": "stdout",
                    "text": "\b\b\b\b\b\b\b\b\b\b\b\b\b\b\b\b\b\b\b\b\b\b\b\b\b\b\b\b\b\b\b\b\b\b\b\b\b\b\b\b\b\b\b\b\b\b\b\b\b\b\b\b\b\b\b\b\b\b\b\b\b\b\b\r25/30 [========================>.....] - ETA: 0s - loss: 0.0061",
                    "output_type": "stream"
                },
                {
                    "name": "stdout",
                    "text": "\b\b\b\b\b\b\b\b\b\b\b\b\b\b\b\b\b\b\b\b\b\b\b\b\b\b\b\b\b\b\b\b\b\b\b\b\b\b\b\b\b\b\b\b\b\b\b\b\b\b\b\b\b\b\b\b\b\b\b\b\b\b\b\r26/30 [=========================>....] - ETA: 0s - loss: 0.0062",
                    "output_type": "stream"
                },
                {
                    "name": "stdout",
                    "text": "\b\b\b\b\b\b\b\b\b\b\b\b\b\b\b\b\b\b\b\b\b\b\b\b\b\b\b\b\b\b\b\b\b\b\b\b\b\b\b\b\b\b\b\b\b\b\b\b\b\b\b\b\b\b\b\b\b\b\b\b\b\b\b\r27/30 [==========================>...] - ETA: 0s - loss: 0.0060",
                    "output_type": "stream"
                },
                {
                    "name": "stdout",
                    "text": "\b\b\b\b\b\b\b\b\b\b\b\b\b\b\b\b\b\b\b\b\b\b\b\b\b\b\b\b\b\b\b\b\b\b\b\b\b\b\b\b\b\b\b\b\b\b\b\b\b\b\b\b\b\b\b\b\b\b\b\b\b\b\b\r28/30 [===========================>..] - ETA: 0s - loss: 0.0060",
                    "output_type": "stream"
                },
                {
                    "name": "stdout",
                    "text": "\b\b\b\b\b\b\b\b\b\b\b\b\b\b\b\b\b\b\b\b\b\b\b\b\b\b\b\b\b\b\b\b\b\b\b\b\b\b\b\b\b\b\b\b\b\b\b\b\b\b\b\b\b\b\b\b\b\b\b\b\b\b\b\r29/30 [============================>.] - ETA: 0s - loss: 0.0060",
                    "output_type": "stream"
                },
                {
                    "name": "stdout",
                    "text": "\b\b\b\b\b\b\b\b\b\b\b\b\b\b\b\b\b\b\b\b\b\b\b\b\b\b\b\b\b\b\b\b\b\b\b\b\b\b\b\b\b\b\b\b\b\b\b\b\b\b\b\b\b\b\b\b\b\b\b\b\b\b\b\r30/30 [==============================] - ETA: 0s - loss: 0.0059",
                    "output_type": "stream"
                },
                {
                    "name": "stdout",
                    "text": "\b\b\b\b\b\b\b\b\b\b\b\b\b\b\b\b\b\b\b\b\b\b\b\b\b\b\b\b\b\b\b\b\b\b\b\b\b\b\b\b\b\b\b\b\b\b\b\b\b\b\b\b\b\b\b\b\b\b\b\b\b\b\b\r30/30 [==============================] - 3s 94ms/step - loss: 0.0059\n",
                    "output_type": "stream"
                },
                {
                    "name": "stdout",
                    "text": "Epoch 18/25\n",
                    "output_type": "stream"
                },
                {
                    "name": "stdout",
                    "text": "\r 1/30 [>.............................] - ETA: 2s - loss: 0.0066",
                    "output_type": "stream"
                },
                {
                    "name": "stdout",
                    "text": "\b\b\b\b\b\b\b\b\b\b\b\b\b\b\b\b\b\b\b\b\b\b\b\b\b\b\b\b\b\b\b\b\b\b\b\b\b\b\b\b\b\b\b\b\b\b\b\b\b\b\b\b\b\b\b\b\b\b\b\b\b\b\b\r 2/30 [=>............................] - ETA: 2s - loss: 0.0060",
                    "output_type": "stream"
                },
                {
                    "name": "stdout",
                    "text": "\b\b\b\b\b\b\b\b\b\b\b\b\b\b\b\b\b\b\b\b\b\b\b\b\b\b\b\b\b\b\b\b\b\b\b\b\b\b\b\b\b\b\b\b\b\b\b\b\b\b\b\b\b\b\b\b\b\b\b\b\b\b\b\r 3/30 [==>...........................] - ETA: 2s - loss: 0.0069",
                    "output_type": "stream"
                },
                {
                    "name": "stdout",
                    "text": "\b\b\b\b\b\b\b\b\b\b\b\b\b\b\b\b\b\b\b\b\b\b\b\b\b\b\b\b\b\b\b\b\b\b\b\b\b\b\b\b\b\b\b\b\b\b\b\b\b\b\b\b\b\b\b\b\b\b\b\b\b\b\b\r 4/30 [===>..........................] - ETA: 2s - loss: 0.0060",
                    "output_type": "stream"
                },
                {
                    "name": "stdout",
                    "text": "\b\b\b\b\b\b\b\b\b\b\b\b\b\b\b\b\b\b\b\b\b\b\b\b\b\b\b\b\b\b\b\b\b\b\b\b\b\b\b\b\b\b\b\b\b\b\b\b\b\b\b\b\b\b\b\b\b\b\b\b\b\b\b\r 5/30 [====>.........................] - ETA: 2s - loss: 0.0055",
                    "output_type": "stream"
                },
                {
                    "name": "stdout",
                    "text": "\b\b\b\b\b\b\b\b\b\b\b\b\b\b\b\b\b\b\b\b\b\b\b\b\b\b\b\b\b\b\b\b\b\b\b\b\b\b\b\b\b\b\b\b\b\b\b\b\b\b\b\b\b\b\b\b\b\b\b\b\b\b\b\r 6/30 [=====>........................] - ETA: 2s - loss: 0.0052",
                    "output_type": "stream"
                },
                {
                    "name": "stdout",
                    "text": "\b\b\b\b\b\b\b\b\b\b\b\b\b\b\b\b\b\b\b\b\b\b\b\b\b\b\b\b\b\b\b\b\b\b\b\b\b\b\b\b\b\b\b\b\b\b\b\b\b\b\b\b\b\b\b\b\b\b\b\b\b\b\b\r 7/30 [======>.......................] - ETA: 2s - loss: 0.0054",
                    "output_type": "stream"
                },
                {
                    "name": "stdout",
                    "text": "\b\b\b\b\b\b\b\b\b\b\b\b\b\b\b\b\b\b\b\b\b\b\b\b\b\b\b\b\b\b\b\b\b\b\b\b\b\b\b\b\b\b\b\b\b\b\b\b\b\b\b\b\b\b\b\b\b\b\b\b\b\b\b\r 8/30 [=======>......................] - ETA: 2s - loss: 0.0055",
                    "output_type": "stream"
                },
                {
                    "name": "stdout",
                    "text": "\b\b\b\b\b\b\b\b\b\b\b\b\b\b\b\b\b\b\b\b\b\b\b\b\b\b\b\b\b\b\b\b\b\b\b\b\b\b\b\b\b\b\b\b\b\b\b\b\b\b\b\b\b\b\b\b\b\b\b\b\b\b\b\r 9/30 [========>.....................] - ETA: 1s - loss: 0.0053",
                    "output_type": "stream"
                },
                {
                    "name": "stdout",
                    "text": "\b\b\b\b\b\b\b\b\b\b\b\b\b\b\b\b\b\b\b\b\b\b\b\b\b\b\b\b\b\b\b\b\b\b\b\b\b\b\b\b\b\b\b\b\b\b\b\b\b\b\b\b\b\b\b\b\b\b\b\b\b\b\b\r10/30 [=========>....................] - ETA: 1s - loss: 0.0055",
                    "output_type": "stream"
                },
                {
                    "name": "stdout",
                    "text": "\b\b\b\b\b\b\b\b\b\b\b\b\b\b\b\b\b\b\b\b\b\b\b\b\b\b\b\b\b\b\b\b\b\b\b\b\b\b\b\b\b\b\b\b\b\b\b\b\b\b\b\b\b\b\b\b\b\b\b\b\b\b\b\r11/30 [==========>...................] - ETA: 1s - loss: 0.0053",
                    "output_type": "stream"
                },
                {
                    "name": "stdout",
                    "text": "\b\b\b\b\b\b\b\b\b\b\b\b\b\b\b\b\b\b\b\b\b\b\b\b\b\b\b\b\b\b\b\b\b\b\b\b\b\b\b\b\b\b\b\b\b\b\b\b\b\b\b\b\b\b\b\b\b\b\b\b\b\b\b\r12/30 [===========>..................] - ETA: 1s - loss: 0.0053",
                    "output_type": "stream"
                },
                {
                    "name": "stdout",
                    "text": "\b\b\b\b\b\b\b\b\b\b\b\b\b\b\b\b\b\b\b\b\b\b\b\b\b\b\b\b\b\b\b\b\b\b\b\b\b\b\b\b\b\b\b\b\b\b\b\b\b\b\b\b\b\b\b\b\b\b\b\b\b\b\b\r13/30 [============>.................] - ETA: 1s - loss: 0.0052",
                    "output_type": "stream"
                },
                {
                    "name": "stdout",
                    "text": "\b\b\b\b\b\b\b\b\b\b\b\b\b\b\b\b\b\b\b\b\b\b\b\b\b\b\b\b\b\b\b\b\b\b\b\b\b\b\b\b\b\b\b\b\b\b\b\b\b\b\b\b\b\b\b\b\b\b\b\b\b\b\b\r14/30 [=============>................] - ETA: 1s - loss: 0.0053",
                    "output_type": "stream"
                },
                {
                    "name": "stdout",
                    "text": "\b\b\b\b\b\b\b\b\b\b\b\b\b\b\b\b\b\b\b\b\b\b\b\b\b\b\b\b\b\b\b\b\b\b\b\b\b\b\b\b\b\b\b\b\b\b\b\b\b\b\b\b\b\b\b\b\b\b\b\b\b\b\b\r15/30 [==============>...............] - ETA: 1s - loss: 0.0053",
                    "output_type": "stream"
                },
                {
                    "name": "stdout",
                    "text": "\b\b\b\b\b\b\b\b\b\b\b\b\b\b\b\b\b\b\b\b\b\b\b\b\b\b\b\b\b\b\b\b\b\b\b\b\b\b\b\b\b\b\b\b\b\b\b\b\b\b\b\b\b\b\b\b\b\b\b\b\b\b\b\r16/30 [===============>..............] - ETA: 1s - loss: 0.0051",
                    "output_type": "stream"
                },
                {
                    "name": "stdout",
                    "text": "\b\b\b\b\b\b\b\b\b\b\b\b\b\b\b\b\b\b\b\b\b\b\b\b\b\b\b\b\b\b\b\b\b\b\b\b\b\b\b\b\b\b\b\b\b\b\b\b\b\b\b\b\b\b\b\b\b\b\b\b\b\b\b\r17/30 [================>.............] - ETA: 1s - loss: 0.0053",
                    "output_type": "stream"
                },
                {
                    "name": "stdout",
                    "text": "\b\b\b\b\b\b\b\b\b\b\b\b\b\b\b\b\b\b\b\b\b\b\b\b\b\b\b\b\b\b\b\b\b\b\b\b\b\b\b\b\b\b\b\b\b\b\b\b\b\b\b\b\b\b\b\b\b\b\b\b\b\b\b\r18/30 [=================>............] - ETA: 1s - loss: 0.0052",
                    "output_type": "stream"
                },
                {
                    "name": "stdout",
                    "text": "\b\b\b\b\b\b\b\b\b\b\b\b\b\b\b\b\b\b\b\b\b\b\b\b\b\b\b\b\b\b\b\b\b\b\b\b\b\b\b\b\b\b\b\b\b\b\b\b\b\b\b\b\b\b\b\b\b\b\b\b\b\b\b\r19/30 [==================>...........] - ETA: 1s - loss: 0.0052",
                    "output_type": "stream"
                },
                {
                    "name": "stdout",
                    "text": "\b\b\b\b\b\b\b\b\b\b\b\b\b\b\b\b\b\b\b\b\b\b\b\b\b\b\b\b\b\b\b\b\b\b\b\b\b\b\b\b\b\b\b\b\b\b\b\b\b\b\b\b\b\b\b\b\b\b\b\b\b\b\b\r20/30 [===================>..........] - ETA: 0s - loss: 0.0053",
                    "output_type": "stream"
                },
                {
                    "name": "stdout",
                    "text": "\b\b\b\b\b\b\b\b\b\b\b\b\b\b\b\b\b\b\b\b\b\b\b\b\b\b\b\b\b\b\b\b\b\b\b\b\b\b\b\b\b\b\b\b\b\b\b\b\b\b\b\b\b\b\b\b\b\b\b\b\b\b\b\r21/30 [====================>.........] - ETA: 0s - loss: 0.0052",
                    "output_type": "stream"
                },
                {
                    "name": "stdout",
                    "text": "\b\b\b\b\b\b\b\b\b\b\b\b\b\b\b\b\b\b\b\b\b\b\b\b\b\b\b\b\b\b\b\b\b\b\b\b\b\b\b\b\b\b\b\b\b\b\b\b\b\b\b\b\b\b\b\b\b\b\b\b\b\b\b\r22/30 [=====================>........] - ETA: 0s - loss: 0.0052",
                    "output_type": "stream"
                },
                {
                    "name": "stdout",
                    "text": "\b\b\b\b\b\b\b\b\b\b\b\b\b\b\b\b\b\b\b\b\b\b\b\b\b\b\b\b\b\b\b\b\b\b\b\b\b\b\b\b\b\b\b\b\b\b\b\b\b\b\b\b\b\b\b\b\b\b\b\b\b\b\b\r23/30 [======================>.......] - ETA: 0s - loss: 0.0052",
                    "output_type": "stream"
                },
                {
                    "name": "stdout",
                    "text": "\b\b\b\b\b\b\b\b\b\b\b\b\b\b\b\b\b\b\b\b\b\b\b\b\b\b\b\b\b\b\b\b\b\b\b\b\b\b\b\b\b\b\b\b\b\b\b\b\b\b\b\b\b\b\b\b\b\b\b\b\b\b\b\r24/30 [=======================>......] - ETA: 0s - loss: 0.0051",
                    "output_type": "stream"
                },
                {
                    "name": "stdout",
                    "text": "\b\b\b\b\b\b\b\b\b\b\b\b\b\b\b\b\b\b\b\b\b\b\b\b\b\b\b\b\b\b\b\b\b\b\b\b\b\b\b\b\b\b\b\b\b\b\b\b\b\b\b\b\b\b\b\b\b\b\b\b\b\b\b\r25/30 [========================>.....] - ETA: 0s - loss: 0.0051",
                    "output_type": "stream"
                },
                {
                    "name": "stdout",
                    "text": "\b\b\b\b\b\b\b\b\b\b\b\b\b\b\b\b\b\b\b\b\b\b\b\b\b\b\b\b\b\b\b\b\b\b\b\b\b\b\b\b\b\b\b\b\b\b\b\b\b\b\b\b\b\b\b\b\b\b\b\b\b\b\b\r26/30 [=========================>....] - ETA: 0s - loss: 0.0052",
                    "output_type": "stream"
                },
                {
                    "name": "stdout",
                    "text": "\b\b\b\b\b\b\b\b\b\b\b\b\b\b\b\b\b\b\b\b\b\b\b\b\b\b\b\b\b\b\b\b\b\b\b\b\b\b\b\b\b\b\b\b\b\b\b\b\b\b\b\b\b\b\b\b\b\b\b\b\b\b\b\r27/30 [==========================>...] - ETA: 0s - loss: 0.0052",
                    "output_type": "stream"
                },
                {
                    "name": "stdout",
                    "text": "\b\b\b\b\b\b\b\b\b\b\b\b\b\b\b\b\b\b\b\b\b\b\b\b\b\b\b\b\b\b\b\b\b\b\b\b\b\b\b\b\b\b\b\b\b\b\b\b\b\b\b\b\b\b\b\b\b\b\b\b\b\b\b\r28/30 [===========================>..] - ETA: 0s - loss: 0.0052",
                    "output_type": "stream"
                },
                {
                    "name": "stdout",
                    "text": "\b\b\b\b\b\b\b\b\b\b\b\b\b\b\b\b\b\b\b\b\b\b\b\b\b\b\b\b\b\b\b\b\b\b\b\b\b\b\b\b\b\b\b\b\b\b\b\b\b\b\b\b\b\b\b\b\b\b\b\b\b\b\b\r29/30 [============================>.] - ETA: 0s - loss: 0.0052",
                    "output_type": "stream"
                },
                {
                    "name": "stdout",
                    "text": "\b\b\b\b\b\b\b\b\b\b\b\b\b\b\b\b\b\b\b\b\b\b\b\b\b\b\b\b\b\b\b\b\b\b\b\b\b\b\b\b\b\b\b\b\b\b\b\b\b\b\b\b\b\b\b\b\b\b\b\b\b\b\b\r30/30 [==============================] - ETA: 0s - loss: 0.0052",
                    "output_type": "stream"
                },
                {
                    "name": "stdout",
                    "text": "\b\b\b\b\b\b\b\b\b\b\b\b\b\b\b\b\b\b\b\b\b\b\b\b\b\b\b\b\b\b\b\b\b\b\b\b\b\b\b\b\b\b\b\b\b\b\b\b\b\b\b\b\b\b\b\b\b\b\b\b\b\b\b\r30/30 [==============================] - 3s 99ms/step - loss: 0.0052\n",
                    "output_type": "stream"
                },
                {
                    "name": "stdout",
                    "text": "Epoch 19/25\n",
                    "output_type": "stream"
                },
                {
                    "name": "stdout",
                    "text": "\r 1/30 [>.............................] - ETA: 2s - loss: 0.0030",
                    "output_type": "stream"
                },
                {
                    "name": "stdout",
                    "text": "\b\b\b\b\b\b\b\b\b\b\b\b\b\b\b\b\b\b\b\b\b\b\b\b\b\b\b\b\b\b\b\b\b\b\b\b\b\b\b\b\b\b\b\b\b\b\b\b\b\b\b\b\b\b\b\b\b\b\b\b\b\b\b\r 2/30 [=>............................] - ETA: 2s - loss: 0.0046",
                    "output_type": "stream"
                },
                {
                    "name": "stdout",
                    "text": "\b\b\b\b\b\b\b\b\b\b\b\b\b\b\b\b\b\b\b\b\b\b\b\b\b\b\b\b\b\b\b\b\b\b\b\b\b\b\b\b\b\b\b\b\b\b\b\b\b\b\b\b\b\b\b\b\b\b\b\b\b\b\b\r 3/30 [==>...........................] - ETA: 2s - loss: 0.0054",
                    "output_type": "stream"
                },
                {
                    "name": "stdout",
                    "text": "\b\b\b\b\b\b\b\b\b\b\b\b\b\b\b\b\b\b\b\b\b\b\b\b\b\b\b\b\b\b\b\b\b\b\b\b\b\b\b\b\b\b\b\b\b\b\b\b\b\b\b\b\b\b\b\b\b\b\b\b\b\b\b\r 4/30 [===>..........................] - ETA: 2s - loss: 0.0052",
                    "output_type": "stream"
                },
                {
                    "name": "stdout",
                    "text": "\b\b\b\b\b\b\b\b\b\b\b\b\b\b\b\b\b\b\b\b\b\b\b\b\b\b\b\b\b\b\b\b\b\b\b\b\b\b\b\b\b\b\b\b\b\b\b\b\b\b\b\b\b\b\b\b\b\b\b\b\b\b\b\r 5/30 [====>.........................] - ETA: 2s - loss: 0.0051",
                    "output_type": "stream"
                },
                {
                    "name": "stdout",
                    "text": "\b\b\b\b\b\b\b\b\b\b\b\b\b\b\b\b\b\b\b\b\b\b\b\b\b\b\b\b\b\b\b\b\b\b\b\b\b\b\b\b\b\b\b\b\b\b\b\b\b\b\b\b\b\b\b\b\b\b\b\b\b\b\b\r 6/30 [=====>........................] - ETA: 2s - loss: 0.0056",
                    "output_type": "stream"
                },
                {
                    "name": "stdout",
                    "text": "\b\b\b\b\b\b\b\b\b\b\b\b\b\b\b\b\b\b\b\b\b\b\b\b\b\b\b\b\b\b\b\b\b\b\b\b\b\b\b\b\b\b\b\b\b\b\b\b\b\b\b\b\b\b\b\b\b\b\b\b\b\b\b\r 7/30 [======>.......................] - ETA: 1s - loss: 0.0054",
                    "output_type": "stream"
                },
                {
                    "name": "stdout",
                    "text": "\b\b\b\b\b\b\b\b\b\b\b\b\b\b\b\b\b\b\b\b\b\b\b\b\b\b\b\b\b\b\b\b\b\b\b\b\b\b\b\b\b\b\b\b\b\b\b\b\b\b\b\b\b\b\b\b\b\b\b\b\b\b\b\r 8/30 [=======>......................] - ETA: 1s - loss: 0.0055",
                    "output_type": "stream"
                },
                {
                    "name": "stdout",
                    "text": "\b\b\b\b\b\b\b\b\b\b\b\b\b\b\b\b\b\b\b\b\b\b\b\b\b\b\b\b\b\b\b\b\b\b\b\b\b\b\b\b\b\b\b\b\b\b\b\b\b\b\b\b\b\b\b\b\b\b\b\b\b\b\b\r 9/30 [========>.....................] - ETA: 1s - loss: 0.0055",
                    "output_type": "stream"
                },
                {
                    "name": "stdout",
                    "text": "\b\b\b\b\b\b\b\b\b\b\b\b\b\b\b\b\b\b\b\b\b\b\b\b\b\b\b\b\b\b\b\b\b\b\b\b\b\b\b\b\b\b\b\b\b\b\b\b\b\b\b\b\b\b\b\b\b\b\b\b\b\b\b\r10/30 [=========>....................] - ETA: 1s - loss: 0.0057",
                    "output_type": "stream"
                },
                {
                    "name": "stdout",
                    "text": "\b\b\b\b\b\b\b\b\b\b\b\b\b\b\b\b\b\b\b\b\b\b\b\b\b\b\b\b\b\b\b\b\b\b\b\b\b\b\b\b\b\b\b\b\b\b\b\b\b\b\b\b\b\b\b\b\b\b\b\b\b\b\b\r11/30 [==========>...................] - ETA: 1s - loss: 0.0055",
                    "output_type": "stream"
                },
                {
                    "name": "stdout",
                    "text": "\b\b\b\b\b\b\b\b\b\b\b\b\b\b\b\b\b\b\b\b\b\b\b\b\b\b\b\b\b\b\b\b\b\b\b\b\b\b\b\b\b\b\b\b\b\b\b\b\b\b\b\b\b\b\b\b\b\b\b\b\b\b\b\r12/30 [===========>..................] - ETA: 1s - loss: 0.0054",
                    "output_type": "stream"
                },
                {
                    "name": "stdout",
                    "text": "\b\b\b\b\b\b\b\b\b\b\b\b\b\b\b\b\b\b\b\b\b\b\b\b\b\b\b\b\b\b\b\b\b\b\b\b\b\b\b\b\b\b\b\b\b\b\b\b\b\b\b\b\b\b\b\b\b\b\b\b\b\b\b\r13/30 [============>.................] - ETA: 1s - loss: 0.0053",
                    "output_type": "stream"
                },
                {
                    "name": "stdout",
                    "text": "\b\b\b\b\b\b\b\b\b\b\b\b\b\b\b\b\b\b\b\b\b\b\b\b\b\b\b\b\b\b\b\b\b\b\b\b\b\b\b\b\b\b\b\b\b\b\b\b\b\b\b\b\b\b\b\b\b\b\b\b\b\b\b\r14/30 [=============>................] - ETA: 1s - loss: 0.0051",
                    "output_type": "stream"
                },
                {
                    "name": "stdout",
                    "text": "\b\b\b\b\b\b\b\b\b\b\b\b\b\b\b\b\b\b\b\b\b\b\b\b\b\b\b\b\b\b\b\b\b\b\b\b\b\b\b\b\b\b\b\b\b\b\b\b\b\b\b\b\b\b\b\b\b\b\b\b\b\b\b\r15/30 [==============>...............] - ETA: 1s - loss: 0.0052",
                    "output_type": "stream"
                },
                {
                    "name": "stdout",
                    "text": "\b\b\b\b\b\b\b\b\b\b\b\b\b\b\b\b\b\b\b\b\b\b\b\b\b\b\b\b\b\b\b\b\b\b\b\b\b\b\b\b\b\b\b\b\b\b\b\b\b\b\b\b\b\b\b\b\b\b\b\b\b\b\b\r16/30 [===============>..............] - ETA: 1s - loss: 0.0050",
                    "output_type": "stream"
                },
                {
                    "name": "stdout",
                    "text": "\b\b\b\b\b\b\b\b\b\b\b\b\b\b\b\b\b\b\b\b\b\b\b\b\b\b\b\b\b\b\b\b\b\b\b\b\b\b\b\b\b\b\b\b\b\b\b\b\b\b\b\b\b\b\b\b\b\b\b\b\b\b\b\r17/30 [================>.............] - ETA: 1s - loss: 0.0051",
                    "output_type": "stream"
                },
                {
                    "name": "stdout",
                    "text": "\b\b\b\b\b\b\b\b\b\b\b\b\b\b\b\b\b\b\b\b\b\b\b\b\b\b\b\b\b\b\b\b\b\b\b\b\b\b\b\b\b\b\b\b\b\b\b\b\b\b\b\b\b\b\b\b\b\b\b\b\b\b\b\r18/30 [=================>............] - ETA: 1s - loss: 0.0050",
                    "output_type": "stream"
                },
                {
                    "name": "stdout",
                    "text": "\b\b\b\b\b\b\b\b\b\b\b\b\b\b\b\b\b\b\b\b\b\b\b\b\b\b\b\b\b\b\b\b\b\b\b\b\b\b\b\b\b\b\b\b\b\b\b\b\b\b\b\b\b\b\b\b\b\b\b\b\b\b\b\r19/30 [==================>...........] - ETA: 0s - loss: 0.0049",
                    "output_type": "stream"
                },
                {
                    "name": "stdout",
                    "text": "\b\b\b\b\b\b\b\b\b\b\b\b\b\b\b\b\b\b\b\b\b\b\b\b\b\b\b\b\b\b\b\b\b\b\b\b\b\b\b\b\b\b\b\b\b\b\b\b\b\b\b\b\b\b\b\b\b\b\b\b\b\b\b\r20/30 [===================>..........] - ETA: 0s - loss: 0.0049",
                    "output_type": "stream"
                },
                {
                    "name": "stdout",
                    "text": "\b\b\b\b\b\b\b\b\b\b\b\b\b\b\b\b\b\b\b\b\b\b\b\b\b\b\b\b\b\b\b\b\b\b\b\b\b\b\b\b\b\b\b\b\b\b\b\b\b\b\b\b\b\b\b\b\b\b\b\b\b\b\b\r21/30 [====================>.........] - ETA: 0s - loss: 0.0049",
                    "output_type": "stream"
                },
                {
                    "name": "stdout",
                    "text": "\b\b\b\b\b\b\b\b\b\b\b\b\b\b\b\b\b\b\b\b\b\b\b\b\b\b\b\b\b\b\b\b\b\b\b\b\b\b\b\b\b\b\b\b\b\b\b\b\b\b\b\b\b\b\b\b\b\b\b\b\b\b\b\r22/30 [=====================>........] - ETA: 0s - loss: 0.0049",
                    "output_type": "stream"
                },
                {
                    "name": "stdout",
                    "text": "\b\b\b\b\b\b\b\b\b\b\b\b\b\b\b\b\b\b\b\b\b\b\b\b\b\b\b\b\b\b\b\b\b\b\b\b\b\b\b\b\b\b\b\b\b\b\b\b\b\b\b\b\b\b\b\b\b\b\b\b\b\b\b\r23/30 [======================>.......] - ETA: 0s - loss: 0.0049",
                    "output_type": "stream"
                },
                {
                    "name": "stdout",
                    "text": "\b\b\b\b\b\b\b\b\b\b\b\b\b\b\b\b\b\b\b\b\b\b\b\b\b\b\b\b\b\b\b\b\b\b\b\b\b\b\b\b\b\b\b\b\b\b\b\b\b\b\b\b\b\b\b\b\b\b\b\b\b\b\b\r24/30 [=======================>......] - ETA: 0s - loss: 0.0049",
                    "output_type": "stream"
                },
                {
                    "name": "stdout",
                    "text": "\b\b\b\b\b\b\b\b\b\b\b\b\b\b\b\b\b\b\b\b\b\b\b\b\b\b\b\b\b\b\b\b\b\b\b\b\b\b\b\b\b\b\b\b\b\b\b\b\b\b\b\b\b\b\b\b\b\b\b\b\b\b\b\r25/30 [========================>.....] - ETA: 0s - loss: 0.0048",
                    "output_type": "stream"
                },
                {
                    "name": "stdout",
                    "text": "\b\b\b\b\b\b\b\b\b\b\b\b\b\b\b\b\b\b\b\b\b\b\b\b\b\b\b\b\b\b\b\b\b\b\b\b\b\b\b\b\b\b\b\b\b\b\b\b\b\b\b\b\b\b\b\b\b\b\b\b\b\b\b\r26/30 [=========================>....] - ETA: 0s - loss: 0.0048",
                    "output_type": "stream"
                },
                {
                    "name": "stdout",
                    "text": "\b\b\b\b\b\b\b\b\b\b\b\b\b\b\b\b\b\b\b\b\b\b\b\b\b\b\b\b\b\b\b\b\b\b\b\b\b\b\b\b\b\b\b\b\b\b\b\b\b\b\b\b\b\b\b\b\b\b\b\b\b\b\b\r27/30 [==========================>...] - ETA: 0s - loss: 0.0047",
                    "output_type": "stream"
                },
                {
                    "name": "stdout",
                    "text": "\b\b\b\b\b\b\b\b\b\b\b\b\b\b\b\b\b\b\b\b\b\b\b\b\b\b\b\b\b\b\b\b\b\b\b\b\b\b\b\b\b\b\b\b\b\b\b\b\b\b\b\b\b\b\b\b\b\b\b\b\b\b\b\r28/30 [===========================>..] - ETA: 0s - loss: 0.0047",
                    "output_type": "stream"
                },
                {
                    "name": "stdout",
                    "text": "\b\b\b\b\b\b\b\b\b\b\b\b\b\b\b\b\b\b\b\b\b\b\b\b\b\b\b\b\b\b\b\b\b\b\b\b\b\b\b\b\b\b\b\b\b\b\b\b\b\b\b\b\b\b\b\b\b\b\b\b\b\b\b\r29/30 [============================>.] - ETA: 0s - loss: 0.0046",
                    "output_type": "stream"
                },
                {
                    "name": "stdout",
                    "text": "\b\b\b\b\b\b\b\b\b\b\b\b\b\b\b\b\b\b\b\b\b\b\b\b\b\b\b\b\b\b\b\b\b\b\b\b\b\b\b\b\b\b\b\b\b\b\b\b\b\b\b\b\b\b\b\b\b\b\b\b\b\b\b\r30/30 [==============================] - ETA: 0s - loss: 0.0046",
                    "output_type": "stream"
                },
                {
                    "name": "stdout",
                    "text": "\b\b\b\b\b\b\b\b\b\b\b\b\b\b\b\b\b\b\b\b\b\b\b\b\b\b\b\b\b\b\b\b\b\b\b\b\b\b\b\b\b\b\b\b\b\b\b\b\b\b\b\b\b\b\b\b\b\b\b\b\b\b\b\r30/30 [==============================] - 3s 93ms/step - loss: 0.0046\n",
                    "output_type": "stream"
                },
                {
                    "name": "stdout",
                    "text": "Epoch 20/25\n",
                    "output_type": "stream"
                },
                {
                    "name": "stdout",
                    "text": "\r 1/30 [>.............................] - ETA: 3s - loss: 0.0051",
                    "output_type": "stream"
                },
                {
                    "name": "stdout",
                    "text": "\b\b\b\b\b\b\b\b\b\b\b\b\b\b\b\b\b\b\b\b\b\b\b\b\b\b\b\b\b\b\b\b\b\b\b\b\b\b\b\b\b\b\b\b\b\b\b\b\b\b\b\b\b\b\b\b\b\b\b\b\b\b\b\r 2/30 [=>............................] - ETA: 2s - loss: 0.0054",
                    "output_type": "stream"
                },
                {
                    "name": "stdout",
                    "text": "\b\b\b\b\b\b\b\b\b\b\b\b\b\b\b\b\b\b\b\b\b\b\b\b\b\b\b\b\b\b\b\b\b\b\b\b\b\b\b\b\b\b\b\b\b\b\b\b\b\b\b\b\b\b\b\b\b\b\b\b\b\b\b\r 3/30 [==>...........................] - ETA: 2s - loss: 0.0060",
                    "output_type": "stream"
                },
                {
                    "name": "stdout",
                    "text": "\b\b\b\b\b\b\b\b\b\b\b\b\b\b\b\b\b\b\b\b\b\b\b\b\b\b\b\b\b\b\b\b\b\b\b\b\b\b\b\b\b\b\b\b\b\b\b\b\b\b\b\b\b\b\b\b\b\b\b\b\b\b\b\r 4/30 [===>..........................] - ETA: 2s - loss: 0.0056",
                    "output_type": "stream"
                },
                {
                    "name": "stdout",
                    "text": "\b\b\b\b\b\b\b\b\b\b\b\b\b\b\b\b\b\b\b\b\b\b\b\b\b\b\b\b\b\b\b\b\b\b\b\b\b\b\b\b\b\b\b\b\b\b\b\b\b\b\b\b\b\b\b\b\b\b\b\b\b\b\b\r 5/30 [====>.........................] - ETA: 2s - loss: 0.0054",
                    "output_type": "stream"
                },
                {
                    "name": "stdout",
                    "text": "\b\b\b\b\b\b\b\b\b\b\b\b\b\b\b\b\b\b\b\b\b\b\b\b\b\b\b\b\b\b\b\b\b\b\b\b\b\b\b\b\b\b\b\b\b\b\b\b\b\b\b\b\b\b\b\b\b\b\b\b\b\b\b\r 6/30 [=====>........................] - ETA: 2s - loss: 0.0052",
                    "output_type": "stream"
                },
                {
                    "name": "stdout",
                    "text": "\b\b\b\b\b\b\b\b\b\b\b\b\b\b\b\b\b\b\b\b\b\b\b\b\b\b\b\b\b\b\b\b\b\b\b\b\b\b\b\b\b\b\b\b\b\b\b\b\b\b\b\b\b\b\b\b\b\b\b\b\b\b\b\r 7/30 [======>.......................] - ETA: 2s - loss: 0.0048",
                    "output_type": "stream"
                },
                {
                    "name": "stdout",
                    "text": "\b\b\b\b\b\b\b\b\b\b\b\b\b\b\b\b\b\b\b\b\b\b\b\b\b\b\b\b\b\b\b\b\b\b\b\b\b\b\b\b\b\b\b\b\b\b\b\b\b\b\b\b\b\b\b\b\b\b\b\b\b\b\b\r 8/30 [=======>......................] - ETA: 2s - loss: 0.0049",
                    "output_type": "stream"
                },
                {
                    "name": "stdout",
                    "text": "\b\b\b\b\b\b\b\b\b\b\b\b\b\b\b\b\b\b\b\b\b\b\b\b\b\b\b\b\b\b\b\b\b\b\b\b\b\b\b\b\b\b\b\b\b\b\b\b\b\b\b\b\b\b\b\b\b\b\b\b\b\b\b\r 9/30 [========>.....................] - ETA: 2s - loss: 0.0049",
                    "output_type": "stream"
                },
                {
                    "name": "stdout",
                    "text": "\b\b\b\b\b\b\b\b\b\b\b\b\b\b\b\b\b\b\b\b\b\b\b\b\b\b\b\b\b\b\b\b\b\b\b\b\b\b\b\b\b\b\b\b\b\b\b\b\b\b\b\b\b\b\b\b\b\b\b\b\b\b\b\r10/30 [=========>....................] - ETA: 2s - loss: 0.0048",
                    "output_type": "stream"
                },
                {
                    "name": "stdout",
                    "text": "\b\b\b\b\b\b\b\b\b\b\b\b\b\b\b\b\b\b\b\b\b\b\b\b\b\b\b\b\b\b\b\b\b\b\b\b\b\b\b\b\b\b\b\b\b\b\b\b\b\b\b\b\b\b\b\b\b\b\b\b\b\b\b\r11/30 [==========>...................] - ETA: 2s - loss: 0.0047",
                    "output_type": "stream"
                },
                {
                    "name": "stdout",
                    "text": "\b\b\b\b\b\b\b\b\b\b\b\b\b\b\b\b\b\b\b\b\b\b\b\b\b\b\b\b\b\b\b\b\b\b\b\b\b\b\b\b\b\b\b\b\b\b\b\b\b\b\b\b\b\b\b\b\b\b\b\b\b\b\b\r12/30 [===========>..................] - ETA: 2s - loss: 0.0047",
                    "output_type": "stream"
                },
                {
                    "name": "stdout",
                    "text": "\b\b\b\b\b\b\b\b\b\b\b\b\b\b\b\b\b\b\b\b\b\b\b\b\b\b\b\b\b\b\b\b\b\b\b\b\b\b\b\b\b\b\b\b\b\b\b\b\b\b\b\b\b\b\b\b\b\b\b\b\b\b\b\r13/30 [============>.................] - ETA: 1s - loss: 0.0045",
                    "output_type": "stream"
                },
                {
                    "name": "stdout",
                    "text": "\b\b\b\b\b\b\b\b\b\b\b\b\b\b\b\b\b\b\b\b\b\b\b\b\b\b\b\b\b\b\b\b\b\b\b\b\b\b\b\b\b\b\b\b\b\b\b\b\b\b\b\b\b\b\b\b\b\b\b\b\b\b\b\r14/30 [=============>................] - ETA: 1s - loss: 0.0046",
                    "output_type": "stream"
                },
                {
                    "name": "stdout",
                    "text": "\b\b\b\b\b\b\b\b\b\b\b\b\b\b\b\b\b\b\b\b\b\b\b\b\b\b\b\b\b\b\b\b\b\b\b\b\b\b\b\b\b\b\b\b\b\b\b\b\b\b\b\b\b\b\b\b\b\b\b\b\b\b\b\r15/30 [==============>...............] - ETA: 1s - loss: 0.0047",
                    "output_type": "stream"
                },
                {
                    "name": "stdout",
                    "text": "\b\b\b\b\b\b\b\b\b\b\b\b\b\b\b\b\b\b\b\b\b\b\b\b\b\b\b\b\b\b\b\b\b\b\b\b\b\b\b\b\b\b\b\b\b\b\b\b\b\b\b\b\b\b\b\b\b\b\b\b\b\b\b\r16/30 [===============>..............] - ETA: 1s - loss: 0.0047",
                    "output_type": "stream"
                },
                {
                    "name": "stdout",
                    "text": "\b\b\b\b\b\b\b\b\b\b\b\b\b\b\b\b\b\b\b\b\b\b\b\b\b\b\b\b\b\b\b\b\b\b\b\b\b\b\b\b\b\b\b\b\b\b\b\b\b\b\b\b\b\b\b\b\b\b\b\b\b\b\b\r17/30 [================>.............] - ETA: 1s - loss: 0.0048",
                    "output_type": "stream"
                },
                {
                    "name": "stdout",
                    "text": "\b\b\b\b\b\b\b\b\b\b\b\b\b\b\b\b\b\b\b\b\b\b\b\b\b\b\b\b\b\b\b\b\b\b\b\b\b\b\b\b\b\b\b\b\b\b\b\b\b\b\b\b\b\b\b\b\b\b\b\b\b\b\b\r18/30 [=================>............] - ETA: 1s - loss: 0.0047",
                    "output_type": "stream"
                },
                {
                    "name": "stdout",
                    "text": "\b\b\b\b\b\b\b\b\b\b\b\b\b\b\b\b\b\b\b\b\b\b\b\b\b\b\b\b\b\b\b\b\b\b\b\b\b\b\b\b\b\b\b\b\b\b\b\b\b\b\b\b\b\b\b\b\b\b\b\b\b\b\b\r19/30 [==================>...........] - ETA: 1s - loss: 0.0047",
                    "output_type": "stream"
                },
                {
                    "name": "stdout",
                    "text": "\b\b\b\b\b\b\b\b\b\b\b\b\b\b\b\b\b\b\b\b\b\b\b\b\b\b\b\b\b\b\b\b\b\b\b\b\b\b\b\b\b\b\b\b\b\b\b\b\b\b\b\b\b\b\b\b\b\b\b\b\b\b\b\r20/30 [===================>..........] - ETA: 1s - loss: 0.0046",
                    "output_type": "stream"
                },
                {
                    "name": "stdout",
                    "text": "\b\b\b\b\b\b\b\b\b\b\b\b\b\b\b\b\b\b\b\b\b\b\b\b\b\b\b\b\b\b\b\b\b\b\b\b\b\b\b\b\b\b\b\b\b\b\b\b\b\b\b\b\b\b\b\b\b\b\b\b\b\b\b\r21/30 [====================>.........] - ETA: 1s - loss: 0.0046",
                    "output_type": "stream"
                },
                {
                    "name": "stdout",
                    "text": "\b\b\b\b\b\b\b\b\b\b\b\b\b\b\b\b\b\b\b\b\b\b\b\b\b\b\b\b\b\b\b\b\b\b\b\b\b\b\b\b\b\b\b\b\b\b\b\b\b\b\b\b\b\b\b\b\b\b\b\b\b\b\b\r22/30 [=====================>........] - ETA: 0s - loss: 0.0046",
                    "output_type": "stream"
                },
                {
                    "name": "stdout",
                    "text": "\b\b\b\b\b\b\b\b\b\b\b\b\b\b\b\b\b\b\b\b\b\b\b\b\b\b\b\b\b\b\b\b\b\b\b\b\b\b\b\b\b\b\b\b\b\b\b\b\b\b\b\b\b\b\b\b\b\b\b\b\b\b\b\r23/30 [======================>.......] - ETA: 0s - loss: 0.0047",
                    "output_type": "stream"
                },
                {
                    "name": "stdout",
                    "text": "\b\b\b\b\b\b\b\b\b\b\b\b\b\b\b\b\b\b\b\b\b\b\b\b\b\b\b\b\b\b\b\b\b\b\b\b\b\b\b\b\b\b\b\b\b\b\b\b\b\b\b\b\b\b\b\b\b\b\b\b\b\b\b\r24/30 [=======================>......] - ETA: 0s - loss: 0.0047",
                    "output_type": "stream"
                },
                {
                    "name": "stdout",
                    "text": "\b\b\b\b\b\b\b\b\b\b\b\b\b\b\b\b\b\b\b\b\b\b\b\b\b\b\b\b\b\b\b\b\b\b\b\b\b\b\b\b\b\b\b\b\b\b\b\b\b\b\b\b\b\b\b\b\b\b\b\b\b\b\b\r25/30 [========================>.....] - ETA: 0s - loss: 0.0046",
                    "output_type": "stream"
                },
                {
                    "name": "stdout",
                    "text": "\b\b\b\b\b\b\b\b\b\b\b\b\b\b\b\b\b\b\b\b\b\b\b\b\b\b\b\b\b\b\b\b\b\b\b\b\b\b\b\b\b\b\b\b\b\b\b\b\b\b\b\b\b\b\b\b\b\b\b\b\b\b\b\r26/30 [=========================>....] - ETA: 0s - loss: 0.0046",
                    "output_type": "stream"
                },
                {
                    "name": "stdout",
                    "text": "\b\b\b\b\b\b\b\b\b\b\b\b\b\b\b\b\b\b\b\b\b\b\b\b\b\b\b\b\b\b\b\b\b\b\b\b\b\b\b\b\b\b\b\b\b\b\b\b\b\b\b\b\b\b\b\b\b\b\b\b\b\b\b\r27/30 [==========================>...] - ETA: 0s - loss: 0.0046",
                    "output_type": "stream"
                },
                {
                    "name": "stdout",
                    "text": "\b\b\b\b\b\b\b\b\b\b\b\b\b\b\b\b\b\b\b\b\b\b\b\b\b\b\b\b\b\b\b\b\b\b\b\b\b\b\b\b\b\b\b\b\b\b\b\b\b\b\b\b\b\b\b\b\b\b\b\b\b\b\b\r28/30 [===========================>..] - ETA: 0s - loss: 0.0046",
                    "output_type": "stream"
                },
                {
                    "name": "stdout",
                    "text": "\b\b\b\b\b\b\b\b\b\b\b\b\b\b\b\b\b\b\b\b\b\b\b\b\b\b\b\b\b\b\b\b\b\b\b\b\b\b\b\b\b\b\b\b\b\b\b\b\b\b\b\b\b\b\b\b\b\b\b\b\b\b\b\r29/30 [============================>.] - ETA: 0s - loss: 0.0047",
                    "output_type": "stream"
                },
                {
                    "name": "stdout",
                    "text": "\b\b\b\b\b\b\b\b\b\b\b\b\b\b\b\b\b\b\b\b\b\b\b\b\b\b\b\b\b\b\b\b\b\b\b\b\b\b\b\b\b\b\b\b\b\b\b\b\b\b\b\b\b\b\b\b\b\b\b\b\b\b\b\r30/30 [==============================] - ETA: 0s - loss: 0.0047",
                    "output_type": "stream"
                },
                {
                    "name": "stdout",
                    "text": "\b\b\b\b\b\b\b\b\b\b\b\b\b\b\b\b\b\b\b\b\b\b\b\b\b\b\b\b\b\b\b\b\b\b\b\b\b\b\b\b\b\b\b\b\b\b\b\b\b\b\b\b\b\b\b\b\b\b\b\b\b\b\b\r30/30 [==============================] - 3s 110ms/step - loss: 0.0047\n",
                    "output_type": "stream"
                },
                {
                    "name": "stdout",
                    "text": "Epoch 21/25\n",
                    "output_type": "stream"
                },
                {
                    "name": "stdout",
                    "text": "\r 1/30 [>.............................] - ETA: 3s - loss: 0.0046",
                    "output_type": "stream"
                },
                {
                    "name": "stdout",
                    "text": "\b\b\b\b\b\b\b\b\b\b\b\b\b\b\b\b\b\b\b\b\b\b\b\b\b\b\b\b\b\b\b\b\b\b\b\b\b\b\b\b\b\b\b\b\b\b\b\b\b\b\b\b\b\b\b\b\b\b\b\b\b\b\b\r 2/30 [=>............................] - ETA: 4s - loss: 0.0052",
                    "output_type": "stream"
                },
                {
                    "name": "stdout",
                    "text": "\b\b\b\b\b\b\b\b\b\b\b\b\b\b\b\b\b\b\b\b\b\b\b\b\b\b\b\b\b\b\b\b\b\b\b\b\b\b\b\b\b\b\b\b\b\b\b\b\b\b\b\b\b\b\b\b\b\b\b\b\b\b\b\r 3/30 [==>...........................] - ETA: 3s - loss: 0.0049",
                    "output_type": "stream"
                },
                {
                    "name": "stdout",
                    "text": "\b\b\b\b\b\b\b\b\b\b\b\b\b\b\b\b\b\b\b\b\b\b\b\b\b\b\b\b\b\b\b\b\b\b\b\b\b\b\b\b\b\b\b\b\b\b\b\b\b\b\b\b\b\b\b\b\b\b\b\b\b\b\b\r 4/30 [===>..........................] - ETA: 3s - loss: 0.0047",
                    "output_type": "stream"
                },
                {
                    "name": "stdout",
                    "text": "\b\b\b\b\b\b\b\b\b\b\b\b\b\b\b\b\b\b\b\b\b\b\b\b\b\b\b\b\b\b\b\b\b\b\b\b\b\b\b\b\b\b\b\b\b\b\b\b\b\b\b\b\b\b\b\b\b\b\b\b\b\b\b\r 5/30 [====>.........................] - ETA: 2s - loss: 0.0044",
                    "output_type": "stream"
                },
                {
                    "name": "stdout",
                    "text": "\b\b\b\b\b\b\b\b\b\b\b\b\b\b\b\b\b\b\b\b\b\b\b\b\b\b\b\b\b\b\b\b\b\b\b\b\b\b\b\b\b\b\b\b\b\b\b\b\b\b\b\b\b\b\b\b\b\b\b\b\b\b\b\r 6/30 [=====>........................] - ETA: 2s - loss: 0.0044",
                    "output_type": "stream"
                },
                {
                    "name": "stdout",
                    "text": "\b\b\b\b\b\b\b\b\b\b\b\b\b\b\b\b\b\b\b\b\b\b\b\b\b\b\b\b\b\b\b\b\b\b\b\b\b\b\b\b\b\b\b\b\b\b\b\b\b\b\b\b\b\b\b\b\b\b\b\b\b\b\b\r 7/30 [======>.......................] - ETA: 2s - loss: 0.0044",
                    "output_type": "stream"
                },
                {
                    "name": "stdout",
                    "text": "\b\b\b\b\b\b\b\b\b\b\b\b\b\b\b\b\b\b\b\b\b\b\b\b\b\b\b\b\b\b\b\b\b\b\b\b\b\b\b\b\b\b\b\b\b\b\b\b\b\b\b\b\b\b\b\b\b\b\b\b\b\b\b\r 8/30 [=======>......................] - ETA: 2s - loss: 0.0043",
                    "output_type": "stream"
                },
                {
                    "name": "stdout",
                    "text": "\b\b\b\b\b\b\b\b\b\b\b\b\b\b\b\b\b\b\b\b\b\b\b\b\b\b\b\b\b\b\b\b\b\b\b\b\b\b\b\b\b\b\b\b\b\b\b\b\b\b\b\b\b\b\b\b\b\b\b\b\b\b\b\r 9/30 [========>.....................] - ETA: 2s - loss: 0.0046",
                    "output_type": "stream"
                },
                {
                    "name": "stdout",
                    "text": "\b\b\b\b\b\b\b\b\b\b\b\b\b\b\b\b\b\b\b\b\b\b\b\b\b\b\b\b\b\b\b\b\b\b\b\b\b\b\b\b\b\b\b\b\b\b\b\b\b\b\b\b\b\b\b\b\b\b\b\b\b\b\b\r10/30 [=========>....................] - ETA: 1s - loss: 0.0046",
                    "output_type": "stream"
                },
                {
                    "name": "stdout",
                    "text": "\b\b\b\b\b\b\b\b\b\b\b\b\b\b\b\b\b\b\b\b\b\b\b\b\b\b\b\b\b\b\b\b\b\b\b\b\b\b\b\b\b\b\b\b\b\b\b\b\b\b\b\b\b\b\b\b\b\b\b\b\b\b\b\r11/30 [==========>...................] - ETA: 1s - loss: 0.0046",
                    "output_type": "stream"
                },
                {
                    "name": "stdout",
                    "text": "\b\b\b\b\b\b\b\b\b\b\b\b\b\b\b\b\b\b\b\b\b\b\b\b\b\b\b\b\b\b\b\b\b\b\b\b\b\b\b\b\b\b\b\b\b\b\b\b\b\b\b\b\b\b\b\b\b\b\b\b\b\b\b\r12/30 [===========>..................] - ETA: 1s - loss: 0.0046",
                    "output_type": "stream"
                },
                {
                    "name": "stdout",
                    "text": "\b\b\b\b\b\b\b\b\b\b\b\b\b\b\b\b\b\b\b\b\b\b\b\b\b\b\b\b\b\b\b\b\b\b\b\b\b\b\b\b\b\b\b\b\b\b\b\b\b\b\b\b\b\b\b\b\b\b\b\b\b\b\b\r13/30 [============>.................] - ETA: 1s - loss: 0.0047",
                    "output_type": "stream"
                },
                {
                    "name": "stdout",
                    "text": "\b\b\b\b\b\b\b\b\b\b\b\b\b\b\b\b\b\b\b\b\b\b\b\b\b\b\b\b\b\b\b\b\b\b\b\b\b\b\b\b\b\b\b\b\b\b\b\b\b\b\b\b\b\b\b\b\b\b\b\b\b\b\b\r14/30 [=============>................] - ETA: 1s - loss: 0.0047",
                    "output_type": "stream"
                },
                {
                    "name": "stdout",
                    "text": "\b\b\b\b\b\b\b\b\b\b\b\b\b\b\b\b\b\b\b\b\b\b\b\b\b\b\b\b\b\b\b\b\b\b\b\b\b\b\b\b\b\b\b\b\b\b\b\b\b\b\b\b\b\b\b\b\b\b\b\b\b\b\b\r15/30 [==============>...............] - ETA: 1s - loss: 0.0048",
                    "output_type": "stream"
                },
                {
                    "name": "stdout",
                    "text": "\b\b\b\b\b\b\b\b\b\b\b\b\b\b\b\b\b\b\b\b\b\b\b\b\b\b\b\b\b\b\b\b\b\b\b\b\b\b\b\b\b\b\b\b\b\b\b\b\b\b\b\b\b\b\b\b\b\b\b\b\b\b\b\r16/30 [===============>..............] - ETA: 1s - loss: 0.0047",
                    "output_type": "stream"
                },
                {
                    "name": "stdout",
                    "text": "\b\b\b\b\b\b\b\b\b\b\b\b\b\b\b\b\b\b\b\b\b\b\b\b\b\b\b\b\b\b\b\b\b\b\b\b\b\b\b\b\b\b\b\b\b\b\b\b\b\b\b\b\b\b\b\b\b\b\b\b\b\b\b\r17/30 [================>.............] - ETA: 1s - loss: 0.0047",
                    "output_type": "stream"
                },
                {
                    "name": "stdout",
                    "text": "\b\b\b\b\b\b\b\b\b\b\b\b\b\b\b\b\b\b\b\b\b\b\b\b\b\b\b\b\b\b\b\b\b\b\b\b\b\b\b\b\b\b\b\b\b\b\b\b\b\b\b\b\b\b\b\b\b\b\b\b\b\b\b\r18/30 [=================>............] - ETA: 1s - loss: 0.0048",
                    "output_type": "stream"
                },
                {
                    "name": "stdout",
                    "text": "\b\b\b\b\b\b\b\b\b\b\b\b\b\b\b\b\b\b\b\b\b\b\b\b\b\b\b\b\b\b\b\b\b\b\b\b\b\b\b\b\b\b\b\b\b\b\b\b\b\b\b\b\b\b\b\b\b\b\b\b\b\b\b\r19/30 [==================>...........] - ETA: 1s - loss: 0.0049",
                    "output_type": "stream"
                },
                {
                    "name": "stdout",
                    "text": "\b\b\b\b\b\b\b\b\b\b\b\b\b\b\b\b\b\b\b\b\b\b\b\b\b\b\b\b\b\b\b\b\b\b\b\b\b\b\b\b\b\b\b\b\b\b\b\b\b\b\b\b\b\b\b\b\b\b\b\b\b\b\b\r20/30 [===================>..........] - ETA: 0s - loss: 0.0049",
                    "output_type": "stream"
                },
                {
                    "name": "stdout",
                    "text": "\b\b\b\b\b\b\b\b\b\b\b\b\b\b\b\b\b\b\b\b\b\b\b\b\b\b\b\b\b\b\b\b\b\b\b\b\b\b\b\b\b\b\b\b\b\b\b\b\b\b\b\b\b\b\b\b\b\b\b\b\b\b\b\r21/30 [====================>.........] - ETA: 0s - loss: 0.0048",
                    "output_type": "stream"
                },
                {
                    "name": "stdout",
                    "text": "\b\b\b\b\b\b\b\b\b\b\b\b\b\b\b\b\b\b\b\b\b\b\b\b\b\b\b\b\b\b\b\b\b\b\b\b\b\b\b\b\b\b\b\b\b\b\b\b\b\b\b\b\b\b\b\b\b\b\b\b\b\b\b\r22/30 [=====================>........] - ETA: 0s - loss: 0.0049",
                    "output_type": "stream"
                },
                {
                    "name": "stdout",
                    "text": "\b\b\b\b\b\b\b\b\b\b\b\b\b\b\b\b\b\b\b\b\b\b\b\b\b\b\b\b\b\b\b\b\b\b\b\b\b\b\b\b\b\b\b\b\b\b\b\b\b\b\b\b\b\b\b\b\b\b\b\b\b\b\b\r23/30 [======================>.......] - ETA: 0s - loss: 0.0048",
                    "output_type": "stream"
                },
                {
                    "name": "stdout",
                    "text": "\b\b\b\b\b\b\b\b\b\b\b\b\b\b\b\b\b\b\b\b\b\b\b\b\b\b\b\b\b\b\b\b\b\b\b\b\b\b\b\b\b\b\b\b\b\b\b\b\b\b\b\b\b\b\b\b\b\b\b\b\b\b\b\r24/30 [=======================>......] - ETA: 0s - loss: 0.0048",
                    "output_type": "stream"
                },
                {
                    "name": "stdout",
                    "text": "\b\b\b\b\b\b\b\b\b\b\b\b\b\b\b\b\b\b\b\b\b\b\b\b\b\b\b\b\b\b\b\b\b\b\b\b\b\b\b\b\b\b\b\b\b\b\b\b\b\b\b\b\b\b\b\b\b\b\b\b\b\b\b\r25/30 [========================>.....] - ETA: 0s - loss: 0.0048",
                    "output_type": "stream"
                },
                {
                    "name": "stdout",
                    "text": "\b\b\b\b\b\b\b\b\b\b\b\b\b\b\b\b\b\b\b\b\b\b\b\b\b\b\b\b\b\b\b\b\b\b\b\b\b\b\b\b\b\b\b\b\b\b\b\b\b\b\b\b\b\b\b\b\b\b\b\b\b\b\b\r26/30 [=========================>....] - ETA: 0s - loss: 0.0048",
                    "output_type": "stream"
                },
                {
                    "name": "stdout",
                    "text": "\b\b\b\b\b\b\b\b\b\b\b\b\b\b\b\b\b\b\b\b\b\b\b\b\b\b\b\b\b\b\b\b\b\b\b\b\b\b\b\b\b\b\b\b\b\b\b\b\b\b\b\b\b\b\b\b\b\b\b\b\b\b\b\r27/30 [==========================>...] - ETA: 0s - loss: 0.0048",
                    "output_type": "stream"
                },
                {
                    "name": "stdout",
                    "text": "\b\b\b\b\b\b\b\b\b\b\b\b\b\b\b\b\b\b\b\b\b\b\b\b\b\b\b\b\b\b\b\b\b\b\b\b\b\b\b\b\b\b\b\b\b\b\b\b\b\b\b\b\b\b\b\b\b\b\b\b\b\b\b\r28/30 [===========================>..] - ETA: 0s - loss: 0.0047",
                    "output_type": "stream"
                },
                {
                    "name": "stdout",
                    "text": "\b\b\b\b\b\b\b\b\b\b\b\b\b\b\b\b\b\b\b\b\b\b\b\b\b\b\b\b\b\b\b\b\b\b\b\b\b\b\b\b\b\b\b\b\b\b\b\b\b\b\b\b\b\b\b\b\b\b\b\b\b\b\b\r29/30 [============================>.] - ETA: 0s - loss: 0.0047",
                    "output_type": "stream"
                },
                {
                    "name": "stdout",
                    "text": "\b\b\b\b\b\b\b\b\b\b\b\b\b\b\b\b\b\b\b\b\b\b\b\b\b\b\b\b\b\b\b\b\b\b\b\b\b\b\b\b\b\b\b\b\b\b\b\b\b\b\b\b\b\b\b\b\b\b\b\b\b\b\b\r30/30 [==============================] - ETA: 0s - loss: 0.0048",
                    "output_type": "stream"
                },
                {
                    "name": "stdout",
                    "text": "\b\b\b\b\b\b\b\b\b\b\b\b\b\b\b\b\b\b\b\b\b\b\b\b\b\b\b\b\b\b\b\b\b\b\b\b\b\b\b\b\b\b\b\b\b\b\b\b\b\b\b\b\b\b\b\b\b\b\b\b\b\b\b\r30/30 [==============================] - 3s 97ms/step - loss: 0.0048\n",
                    "output_type": "stream"
                },
                {
                    "name": "stdout",
                    "text": "Epoch 22/25\n",
                    "output_type": "stream"
                },
                {
                    "name": "stdout",
                    "text": "\r 1/30 [>.............................] - ETA: 3s - loss: 0.0099",
                    "output_type": "stream"
                },
                {
                    "name": "stdout",
                    "text": "\b\b\b\b\b\b\b\b\b\b\b\b\b\b\b\b\b\b\b\b\b\b\b\b\b\b\b\b\b\b\b\b\b\b\b\b\b\b\b\b\b\b\b\b\b\b\b\b\b\b\b\b\b\b\b\b\b\b\b\b\b\b\b\r 2/30 [=>............................] - ETA: 3s - loss: 0.0102",
                    "output_type": "stream"
                },
                {
                    "name": "stdout",
                    "text": "\b\b\b\b\b\b\b\b\b\b\b\b\b\b\b\b\b\b\b\b\b\b\b\b\b\b\b\b\b\b\b\b\b\b\b\b\b\b\b\b\b\b\b\b\b\b\b\b\b\b\b\b\b\b\b\b\b\b\b\b\b\b\b\r 3/30 [==>...........................] - ETA: 2s - loss: 0.0106",
                    "output_type": "stream"
                },
                {
                    "name": "stdout",
                    "text": "\b\b\b\b\b\b\b\b\b\b\b\b\b\b\b\b\b\b\b\b\b\b\b\b\b\b\b\b\b\b\b\b\b\b\b\b\b\b\b\b\b\b\b\b\b\b\b\b\b\b\b\b\b\b\b\b\b\b\b\b\b\b\b\r 4/30 [===>..........................] - ETA: 2s - loss: 0.0096",
                    "output_type": "stream"
                },
                {
                    "name": "stdout",
                    "text": "\b\b\b\b\b\b\b\b\b\b\b\b\b\b\b\b\b\b\b\b\b\b\b\b\b\b\b\b\b\b\b\b\b\b\b\b\b\b\b\b\b\b\b\b\b\b\b\b\b\b\b\b\b\b\b\b\b\b\b\b\b\b\b\r 5/30 [====>.........................] - ETA: 2s - loss: 0.0091",
                    "output_type": "stream"
                },
                {
                    "name": "stdout",
                    "text": "\b\b\b\b\b\b\b\b\b\b\b\b\b\b\b\b\b\b\b\b\b\b\b\b\b\b\b\b\b\b\b\b\b\b\b\b\b\b\b\b\b\b\b\b\b\b\b\b\b\b\b\b\b\b\b\b\b\b\b\b\b\b\b\r 6/30 [=====>........................] - ETA: 2s - loss: 0.0095",
                    "output_type": "stream"
                },
                {
                    "name": "stdout",
                    "text": "\b\b\b\b\b\b\b\b\b\b\b\b\b\b\b\b\b\b\b\b\b\b\b\b\b\b\b\b\b\b\b\b\b\b\b\b\b\b\b\b\b\b\b\b\b\b\b\b\b\b\b\b\b\b\b\b\b\b\b\b\b\b\b\r 7/30 [======>.......................] - ETA: 2s - loss: 0.0095",
                    "output_type": "stream"
                },
                {
                    "name": "stdout",
                    "text": "\b\b\b\b\b\b\b\b\b\b\b\b\b\b\b\b\b\b\b\b\b\b\b\b\b\b\b\b\b\b\b\b\b\b\b\b\b\b\b\b\b\b\b\b\b\b\b\b\b\b\b\b\b\b\b\b\b\b\b\b\b\b\b\r 8/30 [=======>......................] - ETA: 2s - loss: 0.0092",
                    "output_type": "stream"
                },
                {
                    "name": "stdout",
                    "text": "\b\b\b\b\b\b\b\b\b\b\b\b\b\b\b\b\b\b\b\b\b\b\b\b\b\b\b\b\b\b\b\b\b\b\b\b\b\b\b\b\b\b\b\b\b\b\b\b\b\b\b\b\b\b\b\b\b\b\b\b\b\b\b\r 9/30 [========>.....................] - ETA: 2s - loss: 0.0085",
                    "output_type": "stream"
                },
                {
                    "name": "stdout",
                    "text": "\b\b\b\b\b\b\b\b\b\b\b\b\b\b\b\b\b\b\b\b\b\b\b\b\b\b\b\b\b\b\b\b\b\b\b\b\b\b\b\b\b\b\b\b\b\b\b\b\b\b\b\b\b\b\b\b\b\b\b\b\b\b\b\r10/30 [=========>....................] - ETA: 2s - loss: 0.0079",
                    "output_type": "stream"
                },
                {
                    "name": "stdout",
                    "text": "\b\b\b\b\b\b\b\b\b\b\b\b\b\b\b\b\b\b\b\b\b\b\b\b\b\b\b\b\b\b\b\b\b\b\b\b\b\b\b\b\b\b\b\b\b\b\b\b\b\b\b\b\b\b\b\b\b\b\b\b\b\b\b\r11/30 [==========>...................] - ETA: 2s - loss: 0.0080",
                    "output_type": "stream"
                },
                {
                    "name": "stdout",
                    "text": "\b\b\b\b\b\b\b\b\b\b\b\b\b\b\b\b\b\b\b\b\b\b\b\b\b\b\b\b\b\b\b\b\b\b\b\b\b\b\b\b\b\b\b\b\b\b\b\b\b\b\b\b\b\b\b\b\b\b\b\b\b\b\b\r12/30 [===========>..................] - ETA: 1s - loss: 0.0081",
                    "output_type": "stream"
                },
                {
                    "name": "stdout",
                    "text": "\b\b\b\b\b\b\b\b\b\b\b\b\b\b\b\b\b\b\b\b\b\b\b\b\b\b\b\b\b\b\b\b\b\b\b\b\b\b\b\b\b\b\b\b\b\b\b\b\b\b\b\b\b\b\b\b\b\b\b\b\b\b\b\r13/30 [============>.................] - ETA: 1s - loss: 0.0078",
                    "output_type": "stream"
                },
                {
                    "name": "stdout",
                    "text": "\b\b\b\b\b\b\b\b\b\b\b\b\b\b\b\b\b\b\b\b\b\b\b\b\b\b\b\b\b\b\b\b\b\b\b\b\b\b\b\b\b\b\b\b\b\b\b\b\b\b\b\b\b\b\b\b\b\b\b\b\b\b\b\r14/30 [=============>................] - ETA: 1s - loss: 0.0076",
                    "output_type": "stream"
                },
                {
                    "name": "stdout",
                    "text": "\b\b\b\b\b\b\b\b\b\b\b\b\b\b\b\b\b\b\b\b\b\b\b\b\b\b\b\b\b\b\b\b\b\b\b\b\b\b\b\b\b\b\b\b\b\b\b\b\b\b\b\b\b\b\b\b\b\b\b\b\b\b\b\r15/30 [==============>...............] - ETA: 1s - loss: 0.0075",
                    "output_type": "stream"
                },
                {
                    "name": "stdout",
                    "text": "\b\b\b\b\b\b\b\b\b\b\b\b\b\b\b\b\b\b\b\b\b\b\b\b\b\b\b\b\b\b\b\b\b\b\b\b\b\b\b\b\b\b\b\b\b\b\b\b\b\b\b\b\b\b\b\b\b\b\b\b\b\b\b\r16/30 [===============>..............] - ETA: 1s - loss: 0.0073",
                    "output_type": "stream"
                },
                {
                    "name": "stdout",
                    "text": "\b\b\b\b\b\b\b\b\b\b\b\b\b\b\b\b\b\b\b\b\b\b\b\b\b\b\b\b\b\b\b\b\b\b\b\b\b\b\b\b\b\b\b\b\b\b\b\b\b\b\b\b\b\b\b\b\b\b\b\b\b\b\b\r17/30 [================>.............] - ETA: 1s - loss: 0.0072",
                    "output_type": "stream"
                },
                {
                    "name": "stdout",
                    "text": "\b\b\b\b\b\b\b\b\b\b\b\b\b\b\b\b\b\b\b\b\b\b\b\b\b\b\b\b\b\b\b\b\b\b\b\b\b\b\b\b\b\b\b\b\b\b\b\b\b\b\b\b\b\b\b\b\b\b\b\b\b\b\b\r18/30 [=================>............] - ETA: 1s - loss: 0.0070",
                    "output_type": "stream"
                },
                {
                    "name": "stdout",
                    "text": "\b\b\b\b\b\b\b\b\b\b\b\b\b\b\b\b\b\b\b\b\b\b\b\b\b\b\b\b\b\b\b\b\b\b\b\b\b\b\b\b\b\b\b\b\b\b\b\b\b\b\b\b\b\b\b\b\b\b\b\b\b\b\b\r19/30 [==================>...........] - ETA: 1s - loss: 0.0069",
                    "output_type": "stream"
                },
                {
                    "name": "stdout",
                    "text": "\b\b\b\b\b\b\b\b\b\b\b\b\b\b\b\b\b\b\b\b\b\b\b\b\b\b\b\b\b\b\b\b\b\b\b\b\b\b\b\b\b\b\b\b\b\b\b\b\b\b\b\b\b\b\b\b\b\b\b\b\b\b\b\r20/30 [===================>..........] - ETA: 1s - loss: 0.0067",
                    "output_type": "stream"
                },
                {
                    "name": "stdout",
                    "text": "\b\b\b\b\b\b\b\b\b\b\b\b\b\b\b\b\b\b\b\b\b\b\b\b\b\b\b\b\b\b\b\b\b\b\b\b\b\b\b\b\b\b\b\b\b\b\b\b\b\b\b\b\b\b\b\b\b\b\b\b\b\b\b\r21/30 [====================>.........] - ETA: 0s - loss: 0.0067",
                    "output_type": "stream"
                },
                {
                    "name": "stdout",
                    "text": "\b\b\b\b\b\b\b\b\b\b\b\b\b\b\b\b\b\b\b\b\b\b\b\b\b\b\b\b\b\b\b\b\b\b\b\b\b\b\b\b\b\b\b\b\b\b\b\b\b\b\b\b\b\b\b\b\b\b\b\b\b\b\b\r22/30 [=====================>........] - ETA: 0s - loss: 0.0066",
                    "output_type": "stream"
                },
                {
                    "name": "stdout",
                    "text": "\b\b\b\b\b\b\b\b\b\b\b\b\b\b\b\b\b\b\b\b\b\b\b\b\b\b\b\b\b\b\b\b\b\b\b\b\b\b\b\b\b\b\b\b\b\b\b\b\b\b\b\b\b\b\b\b\b\b\b\b\b\b\b\r23/30 [======================>.......] - ETA: 0s - loss: 0.0066",
                    "output_type": "stream"
                },
                {
                    "name": "stdout",
                    "text": "\b\b\b\b\b\b\b\b\b\b\b\b\b\b\b\b\b\b\b\b\b\b\b\b\b\b\b\b\b\b\b\b\b\b\b\b\b\b\b\b\b\b\b\b\b\b\b\b\b\b\b\b\b\b\b\b\b\b\b\b\b\b\b\r24/30 [=======================>......] - ETA: 0s - loss: 0.0065",
                    "output_type": "stream"
                },
                {
                    "name": "stdout",
                    "text": "\b\b\b\b\b\b\b\b\b\b\b\b\b\b\b\b\b\b\b\b\b\b\b\b\b\b\b\b\b\b\b\b\b\b\b\b\b\b\b\b\b\b\b\b\b\b\b\b\b\b\b\b\b\b\b\b\b\b\b\b\b\b\b\r25/30 [========================>.....] - ETA: 0s - loss: 0.0064",
                    "output_type": "stream"
                },
                {
                    "name": "stdout",
                    "text": "\b\b\b\b\b\b\b\b\b\b\b\b\b\b\b\b\b\b\b\b\b\b\b\b\b\b\b\b\b\b\b\b\b\b\b\b\b\b\b\b\b\b\b\b\b\b\b\b\b\b\b\b\b\b\b\b\b\b\b\b\b\b\b\r26/30 [=========================>....] - ETA: 0s - loss: 0.0064",
                    "output_type": "stream"
                },
                {
                    "name": "stdout",
                    "text": "\b\b\b\b\b\b\b\b\b\b\b\b\b\b\b\b\b\b\b\b\b\b\b\b\b\b\b\b\b\b\b\b\b\b\b\b\b\b\b\b\b\b\b\b\b\b\b\b\b\b\b\b\b\b\b\b\b\b\b\b\b\b\b\r27/30 [==========================>...] - ETA: 0s - loss: 0.0063",
                    "output_type": "stream"
                },
                {
                    "name": "stdout",
                    "text": "\b\b\b\b\b\b\b\b\b\b\b\b\b\b\b\b\b\b\b\b\b\b\b\b\b\b\b\b\b\b\b\b\b\b\b\b\b\b\b\b\b\b\b\b\b\b\b\b\b\b\b\b\b\b\b\b\b\b\b\b\b\b\b\r28/30 [===========================>..] - ETA: 0s - loss: 0.0063",
                    "output_type": "stream"
                },
                {
                    "name": "stdout",
                    "text": "\b\b\b\b\b\b\b\b\b\b\b\b\b\b\b\b\b\b\b\b\b\b\b\b\b\b\b\b\b\b\b\b\b\b\b\b\b\b\b\b\b\b\b\b\b\b\b\b\b\b\b\b\b\b\b\b\b\b\b\b\b\b\b\r29/30 [============================>.] - ETA: 0s - loss: 0.0062",
                    "output_type": "stream"
                },
                {
                    "name": "stdout",
                    "text": "\b\b\b\b\b\b\b\b\b\b\b\b\b\b\b\b\b\b\b\b\b\b\b\b\b\b\b\b\b\b\b\b\b\b\b\b\b\b\b\b\b\b\b\b\b\b\b\b\b\b\b\b\b\b\b\b\b\b\b\b\b\b\b\r30/30 [==============================] - ETA: 0s - loss: 0.0062",
                    "output_type": "stream"
                },
                {
                    "name": "stdout",
                    "text": "\b\b\b\b\b\b\b\b\b\b\b\b\b\b\b\b\b\b\b\b\b\b\b\b\b\b\b\b\b\b\b\b\b\b\b\b\b\b\b\b\b\b\b\b\b\b\b\b\b\b\b\b\b\b\b\b\b\b\b\b\b\b\b\r30/30 [==============================] - 3s 105ms/step - loss: 0.0062\n",
                    "output_type": "stream"
                },
                {
                    "name": "stdout",
                    "text": "Epoch 23/25\n",
                    "output_type": "stream"
                },
                {
                    "name": "stdout",
                    "text": "\r 1/30 [>.............................] - ETA: 4s - loss: 0.0040",
                    "output_type": "stream"
                },
                {
                    "name": "stdout",
                    "text": "\b\b\b\b\b\b\b\b\b\b\b\b\b\b\b\b\b\b\b\b\b\b\b\b\b\b\b\b\b\b\b\b\b\b\b\b\b\b\b\b\b\b\b\b\b\b\b\b\b\b\b\b\b\b\b\b\b\b\b\b\b\b\b\r 2/30 [=>............................] - ETA: 3s - loss: 0.0041",
                    "output_type": "stream"
                },
                {
                    "name": "stdout",
                    "text": "\b\b\b\b\b\b\b\b\b\b\b\b\b\b\b\b\b\b\b\b\b\b\b\b\b\b\b\b\b\b\b\b\b\b\b\b\b\b\b\b\b\b\b\b\b\b\b\b\b\b\b\b\b\b\b\b\b\b\b\b\b\b\b\r 3/30 [==>...........................] - ETA: 3s - loss: 0.0044",
                    "output_type": "stream"
                },
                {
                    "name": "stdout",
                    "text": "\b\b\b\b\b\b\b\b\b\b\b\b\b\b\b\b\b\b\b\b\b\b\b\b\b\b\b\b\b\b\b\b\b\b\b\b\b\b\b\b\b\b\b\b\b\b\b\b\b\b\b\b\b\b\b\b\b\b\b\b\b\b\b\r 4/30 [===>..........................] - ETA: 3s - loss: 0.0041",
                    "output_type": "stream"
                },
                {
                    "name": "stdout",
                    "text": "\b\b\b\b\b\b\b\b\b\b\b\b\b\b\b\b\b\b\b\b\b\b\b\b\b\b\b\b\b\b\b\b\b\b\b\b\b\b\b\b\b\b\b\b\b\b\b\b\b\b\b\b\b\b\b\b\b\b\b\b\b\b\b\r 5/30 [====>.........................] - ETA: 3s - loss: 0.0042",
                    "output_type": "stream"
                },
                {
                    "name": "stdout",
                    "text": "\b\b\b\b\b\b\b\b\b\b\b\b\b\b\b\b\b\b\b\b\b\b\b\b\b\b\b\b\b\b\b\b\b\b\b\b\b\b\b\b\b\b\b\b\b\b\b\b\b\b\b\b\b\b\b\b\b\b\b\b\b\b\b\r 6/30 [=====>........................] - ETA: 3s - loss: 0.0043",
                    "output_type": "stream"
                },
                {
                    "name": "stdout",
                    "text": "\b\b\b\b\b\b\b\b\b\b\b\b\b\b\b\b\b\b\b\b\b\b\b\b\b\b\b\b\b\b\b\b\b\b\b\b\b\b\b\b\b\b\b\b\b\b\b\b\b\b\b\b\b\b\b\b\b\b\b\b\b\b\b\r 7/30 [======>.......................] - ETA: 2s - loss: 0.0045",
                    "output_type": "stream"
                },
                {
                    "name": "stdout",
                    "text": "\b\b\b\b\b\b\b\b\b\b\b\b\b\b\b\b\b\b\b\b\b\b\b\b\b\b\b\b\b\b\b\b\b\b\b\b\b\b\b\b\b\b\b\b\b\b\b\b\b\b\b\b\b\b\b\b\b\b\b\b\b\b\b\r 8/30 [=======>......................] - ETA: 2s - loss: 0.0048",
                    "output_type": "stream"
                },
                {
                    "name": "stdout",
                    "text": "\b\b\b\b\b\b\b\b\b\b\b\b\b\b\b\b\b\b\b\b\b\b\b\b\b\b\b\b\b\b\b\b\b\b\b\b\b\b\b\b\b\b\b\b\b\b\b\b\b\b\b\b\b\b\b\b\b\b\b\b\b\b\b\r 9/30 [========>.....................] - ETA: 2s - loss: 0.0047",
                    "output_type": "stream"
                },
                {
                    "name": "stdout",
                    "text": "\b\b\b\b\b\b\b\b\b\b\b\b\b\b\b\b\b\b\b\b\b\b\b\b\b\b\b\b\b\b\b\b\b\b\b\b\b\b\b\b\b\b\b\b\b\b\b\b\b\b\b\b\b\b\b\b\b\b\b\b\b\b\b\r10/30 [=========>....................] - ETA: 2s - loss: 0.0050",
                    "output_type": "stream"
                },
                {
                    "name": "stdout",
                    "text": "\b\b\b\b\b\b\b\b\b\b\b\b\b\b\b\b\b\b\b\b\b\b\b\b\b\b\b\b\b\b\b\b\b\b\b\b\b\b\b\b\b\b\b\b\b\b\b\b\b\b\b\b\b\b\b\b\b\b\b\b\b\b\b\r11/30 [==========>...................] - ETA: 2s - loss: 0.0049",
                    "output_type": "stream"
                },
                {
                    "name": "stdout",
                    "text": "\b\b\b\b\b\b\b\b\b\b\b\b\b\b\b\b\b\b\b\b\b\b\b\b\b\b\b\b\b\b\b\b\b\b\b\b\b\b\b\b\b\b\b\b\b\b\b\b\b\b\b\b\b\b\b\b\b\b\b\b\b\b\b\r12/30 [===========>..................] - ETA: 2s - loss: 0.0048",
                    "output_type": "stream"
                },
                {
                    "name": "stdout",
                    "text": "\b\b\b\b\b\b\b\b\b\b\b\b\b\b\b\b\b\b\b\b\b\b\b\b\b\b\b\b\b\b\b\b\b\b\b\b\b\b\b\b\b\b\b\b\b\b\b\b\b\b\b\b\b\b\b\b\b\b\b\b\b\b\b\r13/30 [============>.................] - ETA: 1s - loss: 0.0046",
                    "output_type": "stream"
                },
                {
                    "name": "stdout",
                    "text": "\b\b\b\b\b\b\b\b\b\b\b\b\b\b\b\b\b\b\b\b\b\b\b\b\b\b\b\b\b\b\b\b\b\b\b\b\b\b\b\b\b\b\b\b\b\b\b\b\b\b\b\b\b\b\b\b\b\b\b\b\b\b\b\r14/30 [=============>................] - ETA: 1s - loss: 0.0047",
                    "output_type": "stream"
                },
                {
                    "name": "stdout",
                    "text": "\b\b\b\b\b\b\b\b\b\b\b\b\b\b\b\b\b\b\b\b\b\b\b\b\b\b\b\b\b\b\b\b\b\b\b\b\b\b\b\b\b\b\b\b\b\b\b\b\b\b\b\b\b\b\b\b\b\b\b\b\b\b\b\r15/30 [==============>...............] - ETA: 1s - loss: 0.0048",
                    "output_type": "stream"
                },
                {
                    "name": "stdout",
                    "text": "\b\b\b\b\b\b\b\b\b\b\b\b\b\b\b\b\b\b\b\b\b\b\b\b\b\b\b\b\b\b\b\b\b\b\b\b\b\b\b\b\b\b\b\b\b\b\b\b\b\b\b\b\b\b\b\b\b\b\b\b\b\b\b\r16/30 [===============>..............] - ETA: 1s - loss: 0.0049",
                    "output_type": "stream"
                },
                {
                    "name": "stdout",
                    "text": "\b\b\b\b\b\b\b\b\b\b\b\b\b\b\b\b\b\b\b\b\b\b\b\b\b\b\b\b\b\b\b\b\b\b\b\b\b\b\b\b\b\b\b\b\b\b\b\b\b\b\b\b\b\b\b\b\b\b\b\b\b\b\b\r17/30 [================>.............] - ETA: 1s - loss: 0.0048",
                    "output_type": "stream"
                },
                {
                    "name": "stdout",
                    "text": "\b\b\b\b\b\b\b\b\b\b\b\b\b\b\b\b\b\b\b\b\b\b\b\b\b\b\b\b\b\b\b\b\b\b\b\b\b\b\b\b\b\b\b\b\b\b\b\b\b\b\b\b\b\b\b\b\b\b\b\b\b\b\b\r18/30 [=================>............] - ETA: 1s - loss: 0.0048",
                    "output_type": "stream"
                },
                {
                    "name": "stdout",
                    "text": "\b\b\b\b\b\b\b\b\b\b\b\b\b\b\b\b\b\b\b\b\b\b\b\b\b\b\b\b\b\b\b\b\b\b\b\b\b\b\b\b\b\b\b\b\b\b\b\b\b\b\b\b\b\b\b\b\b\b\b\b\b\b\b\r19/30 [==================>...........] - ETA: 1s - loss: 0.0048",
                    "output_type": "stream"
                },
                {
                    "name": "stdout",
                    "text": "\b\b\b\b\b\b\b\b\b\b\b\b\b\b\b\b\b\b\b\b\b\b\b\b\b\b\b\b\b\b\b\b\b\b\b\b\b\b\b\b\b\b\b\b\b\b\b\b\b\b\b\b\b\b\b\b\b\b\b\b\b\b\b\r20/30 [===================>..........] - ETA: 1s - loss: 0.0048",
                    "output_type": "stream"
                },
                {
                    "name": "stdout",
                    "text": "\b\b\b\b\b\b\b\b\b\b\b\b\b\b\b\b\b\b\b\b\b\b\b\b\b\b\b\b\b\b\b\b\b\b\b\b\b\b\b\b\b\b\b\b\b\b\b\b\b\b\b\b\b\b\b\b\b\b\b\b\b\b\b\r21/30 [====================>.........] - ETA: 0s - loss: 0.0048",
                    "output_type": "stream"
                },
                {
                    "name": "stdout",
                    "text": "\b\b\b\b\b\b\b\b\b\b\b\b\b\b\b\b\b\b\b\b\b\b\b\b\b\b\b\b\b\b\b\b\b\b\b\b\b\b\b\b\b\b\b\b\b\b\b\b\b\b\b\b\b\b\b\b\b\b\b\b\b\b\b\r22/30 [=====================>........] - ETA: 0s - loss: 0.0048",
                    "output_type": "stream"
                },
                {
                    "name": "stdout",
                    "text": "\b\b\b\b\b\b\b\b\b\b\b\b\b\b\b\b\b\b\b\b\b\b\b\b\b\b\b\b\b\b\b\b\b\b\b\b\b\b\b\b\b\b\b\b\b\b\b\b\b\b\b\b\b\b\b\b\b\b\b\b\b\b\b\r23/30 [======================>.......] - ETA: 0s - loss: 0.0048",
                    "output_type": "stream"
                },
                {
                    "name": "stdout",
                    "text": "\b\b\b\b\b\b\b\b\b\b\b\b\b\b\b\b\b\b\b\b\b\b\b\b\b\b\b\b\b\b\b\b\b\b\b\b\b\b\b\b\b\b\b\b\b\b\b\b\b\b\b\b\b\b\b\b\b\b\b\b\b\b\b\r24/30 [=======================>......] - ETA: 0s - loss: 0.0048",
                    "output_type": "stream"
                },
                {
                    "name": "stdout",
                    "text": "\b\b\b\b\b\b\b\b\b\b\b\b\b\b\b\b\b\b\b\b\b\b\b\b\b\b\b\b\b\b\b\b\b\b\b\b\b\b\b\b\b\b\b\b\b\b\b\b\b\b\b\b\b\b\b\b\b\b\b\b\b\b\b\r25/30 [========================>.....] - ETA: 0s - loss: 0.0048",
                    "output_type": "stream"
                },
                {
                    "name": "stdout",
                    "text": "\b\b\b\b\b\b\b\b\b\b\b\b\b\b\b\b\b\b\b\b\b\b\b\b\b\b\b\b\b\b\b\b\b\b\b\b\b\b\b\b\b\b\b\b\b\b\b\b\b\b\b\b\b\b\b\b\b\b\b\b\b\b\b\r26/30 [=========================>....] - ETA: 0s - loss: 0.0047",
                    "output_type": "stream"
                },
                {
                    "name": "stdout",
                    "text": "\b\b\b\b\b\b\b\b\b\b\b\b\b\b\b\b\b\b\b\b\b\b\b\b\b\b\b\b\b\b\b\b\b\b\b\b\b\b\b\b\b\b\b\b\b\b\b\b\b\b\b\b\b\b\b\b\b\b\b\b\b\b\b\r27/30 [==========================>...] - ETA: 0s - loss: 0.0047",
                    "output_type": "stream"
                },
                {
                    "name": "stdout",
                    "text": "\b\b\b\b\b\b\b\b\b\b\b\b\b\b\b\b\b\b\b\b\b\b\b\b\b\b\b\b\b\b\b\b\b\b\b\b\b\b\b\b\b\b\b\b\b\b\b\b\b\b\b\b\b\b\b\b\b\b\b\b\b\b\b\r28/30 [===========================>..] - ETA: 0s - loss: 0.0048",
                    "output_type": "stream"
                },
                {
                    "name": "stdout",
                    "text": "\b\b\b\b\b\b\b\b\b\b\b\b\b\b\b\b\b\b\b\b\b\b\b\b\b\b\b\b\b\b\b\b\b\b\b\b\b\b\b\b\b\b\b\b\b\b\b\b\b\b\b\b\b\b\b\b\b\b\b\b\b\b\b\r29/30 [============================>.] - ETA: 0s - loss: 0.0047",
                    "output_type": "stream"
                },
                {
                    "name": "stdout",
                    "text": "\b\b\b\b\b\b\b\b\b\b\b\b\b\b\b\b\b\b\b\b\b\b\b\b\b\b\b\b\b\b\b\b\b\b\b\b\b\b\b\b\b\b\b\b\b\b\b\b\b\b\b\b\b\b\b\b\b\b\b\b\b\b\b\r30/30 [==============================] - ETA: 0s - loss: 0.0047",
                    "output_type": "stream"
                },
                {
                    "name": "stdout",
                    "text": "\b\b\b\b\b\b\b\b\b\b\b\b\b\b\b\b\b\b\b\b\b\b\b\b\b\b\b\b\b\b\b\b\b\b\b\b\b\b\b\b\b\b\b\b\b\b\b\b\b\b\b\b\b\b\b\b\b\b\b\b\b\b\b\r30/30 [==============================] - 3s 105ms/step - loss: 0.0047\n",
                    "output_type": "stream"
                },
                {
                    "name": "stdout",
                    "text": "Epoch 24/25\n",
                    "output_type": "stream"
                },
                {
                    "name": "stdout",
                    "text": "\r 1/30 [>.............................] - ETA: 2s - loss: 0.0032",
                    "output_type": "stream"
                },
                {
                    "name": "stdout",
                    "text": "\b\b\b\b\b\b\b\b\b\b\b\b\b\b\b\b\b\b\b\b\b\b\b\b\b\b\b\b\b\b\b\b\b\b\b\b\b\b\b\b\b\b\b\b\b\b\b\b\b\b\b\b\b\b\b\b\b\b\b\b\b\b\b\r 2/30 [=>............................] - ETA: 2s - loss: 0.0046",
                    "output_type": "stream"
                },
                {
                    "name": "stdout",
                    "text": "\b\b\b\b\b\b\b\b\b\b\b\b\b\b\b\b\b\b\b\b\b\b\b\b\b\b\b\b\b\b\b\b\b\b\b\b\b\b\b\b\b\b\b\b\b\b\b\b\b\b\b\b\b\b\b\b\b\b\b\b\b\b\b\r 3/30 [==>...........................] - ETA: 2s - loss: 0.0042",
                    "output_type": "stream"
                },
                {
                    "name": "stdout",
                    "text": "\b\b\b\b\b\b\b\b\b\b\b\b\b\b\b\b\b\b\b\b\b\b\b\b\b\b\b\b\b\b\b\b\b\b\b\b\b\b\b\b\b\b\b\b\b\b\b\b\b\b\b\b\b\b\b\b\b\b\b\b\b\b\b\r 4/30 [===>..........................] - ETA: 2s - loss: 0.0041",
                    "output_type": "stream"
                },
                {
                    "name": "stdout",
                    "text": "\b\b\b\b\b\b\b\b\b\b\b\b\b\b\b\b\b\b\b\b\b\b\b\b\b\b\b\b\b\b\b\b\b\b\b\b\b\b\b\b\b\b\b\b\b\b\b\b\b\b\b\b\b\b\b\b\b\b\b\b\b\b\b\r 5/30 [====>.........................] - ETA: 2s - loss: 0.0040",
                    "output_type": "stream"
                },
                {
                    "name": "stdout",
                    "text": "\b\b\b\b\b\b\b\b\b\b\b\b\b\b\b\b\b\b\b\b\b\b\b\b\b\b\b\b\b\b\b\b\b\b\b\b\b\b\b\b\b\b\b\b\b\b\b\b\b\b\b\b\b\b\b\b\b\b\b\b\b\b\b\r 6/30 [=====>........................] - ETA: 2s - loss: 0.0039",
                    "output_type": "stream"
                },
                {
                    "name": "stdout",
                    "text": "\b\b\b\b\b\b\b\b\b\b\b\b\b\b\b\b\b\b\b\b\b\b\b\b\b\b\b\b\b\b\b\b\b\b\b\b\b\b\b\b\b\b\b\b\b\b\b\b\b\b\b\b\b\b\b\b\b\b\b\b\b\b\b\r 7/30 [======>.......................] - ETA: 2s - loss: 0.0040",
                    "output_type": "stream"
                },
                {
                    "name": "stdout",
                    "text": "\b\b\b\b\b\b\b\b\b\b\b\b\b\b\b\b\b\b\b\b\b\b\b\b\b\b\b\b\b\b\b\b\b\b\b\b\b\b\b\b\b\b\b\b\b\b\b\b\b\b\b\b\b\b\b\b\b\b\b\b\b\b\b\r 8/30 [=======>......................] - ETA: 2s - loss: 0.0038",
                    "output_type": "stream"
                },
                {
                    "name": "stdout",
                    "text": "\b\b\b\b\b\b\b\b\b\b\b\b\b\b\b\b\b\b\b\b\b\b\b\b\b\b\b\b\b\b\b\b\b\b\b\b\b\b\b\b\b\b\b\b\b\b\b\b\b\b\b\b\b\b\b\b\b\b\b\b\b\b\b\r 9/30 [========>.....................] - ETA: 2s - loss: 0.0041",
                    "output_type": "stream"
                },
                {
                    "name": "stdout",
                    "text": "\b\b\b\b\b\b\b\b\b\b\b\b\b\b\b\b\b\b\b\b\b\b\b\b\b\b\b\b\b\b\b\b\b\b\b\b\b\b\b\b\b\b\b\b\b\b\b\b\b\b\b\b\b\b\b\b\b\b\b\b\b\b\b\r10/30 [=========>....................] - ETA: 2s - loss: 0.0040",
                    "output_type": "stream"
                },
                {
                    "name": "stdout",
                    "text": "\b\b\b\b\b\b\b\b\b\b\b\b\b\b\b\b\b\b\b\b\b\b\b\b\b\b\b\b\b\b\b\b\b\b\b\b\b\b\b\b\b\b\b\b\b\b\b\b\b\b\b\b\b\b\b\b\b\b\b\b\b\b\b\r11/30 [==========>...................] - ETA: 1s - loss: 0.0039",
                    "output_type": "stream"
                },
                {
                    "name": "stdout",
                    "text": "\b\b\b\b\b\b\b\b\b\b\b\b\b\b\b\b\b\b\b\b\b\b\b\b\b\b\b\b\b\b\b\b\b\b\b\b\b\b\b\b\b\b\b\b\b\b\b\b\b\b\b\b\b\b\b\b\b\b\b\b\b\b\b\r12/30 [===========>..................] - ETA: 1s - loss: 0.0039",
                    "output_type": "stream"
                },
                {
                    "name": "stdout",
                    "text": "\b\b\b\b\b\b\b\b\b\b\b\b\b\b\b\b\b\b\b\b\b\b\b\b\b\b\b\b\b\b\b\b\b\b\b\b\b\b\b\b\b\b\b\b\b\b\b\b\b\b\b\b\b\b\b\b\b\b\b\b\b\b\b\r13/30 [============>.................] - ETA: 1s - loss: 0.0041",
                    "output_type": "stream"
                },
                {
                    "name": "stdout",
                    "text": "\b\b\b\b\b\b\b\b\b\b\b\b\b\b\b\b\b\b\b\b\b\b\b\b\b\b\b\b\b\b\b\b\b\b\b\b\b\b\b\b\b\b\b\b\b\b\b\b\b\b\b\b\b\b\b\b\b\b\b\b\b\b\b\r14/30 [=============>................] - ETA: 1s - loss: 0.0040",
                    "output_type": "stream"
                },
                {
                    "name": "stdout",
                    "text": "\b\b\b\b\b\b\b\b\b\b\b\b\b\b\b\b\b\b\b\b\b\b\b\b\b\b\b\b\b\b\b\b\b\b\b\b\b\b\b\b\b\b\b\b\b\b\b\b\b\b\b\b\b\b\b\b\b\b\b\b\b\b\b\r15/30 [==============>...............] - ETA: 1s - loss: 0.0040",
                    "output_type": "stream"
                },
                {
                    "name": "stdout",
                    "text": "\b\b\b\b\b\b\b\b\b\b\b\b\b\b\b\b\b\b\b\b\b\b\b\b\b\b\b\b\b\b\b\b\b\b\b\b\b\b\b\b\b\b\b\b\b\b\b\b\b\b\b\b\b\b\b\b\b\b\b\b\b\b\b\r16/30 [===============>..............] - ETA: 1s - loss: 0.0040",
                    "output_type": "stream"
                },
                {
                    "name": "stdout",
                    "text": "\b\b\b\b\b\b\b\b\b\b\b\b\b\b\b\b\b\b\b\b\b\b\b\b\b\b\b\b\b\b\b\b\b\b\b\b\b\b\b\b\b\b\b\b\b\b\b\b\b\b\b\b\b\b\b\b\b\b\b\b\b\b\b\r17/30 [================>.............] - ETA: 1s - loss: 0.0041",
                    "output_type": "stream"
                },
                {
                    "name": "stdout",
                    "text": "\b\b\b\b\b\b\b\b\b\b\b\b\b\b\b\b\b\b\b\b\b\b\b\b\b\b\b\b\b\b\b\b\b\b\b\b\b\b\b\b\b\b\b\b\b\b\b\b\b\b\b\b\b\b\b\b\b\b\b\b\b\b\b\r18/30 [=================>............] - ETA: 1s - loss: 0.0042",
                    "output_type": "stream"
                },
                {
                    "name": "stdout",
                    "text": "\b\b\b\b\b\b\b\b\b\b\b\b\b\b\b\b\b\b\b\b\b\b\b\b\b\b\b\b\b\b\b\b\b\b\b\b\b\b\b\b\b\b\b\b\b\b\b\b\b\b\b\b\b\b\b\b\b\b\b\b\b\b\b\r19/30 [==================>...........] - ETA: 1s - loss: 0.0042",
                    "output_type": "stream"
                },
                {
                    "name": "stdout",
                    "text": "\b\b\b\b\b\b\b\b\b\b\b\b\b\b\b\b\b\b\b\b\b\b\b\b\b\b\b\b\b\b\b\b\b\b\b\b\b\b\b\b\b\b\b\b\b\b\b\b\b\b\b\b\b\b\b\b\b\b\b\b\b\b\b\r20/30 [===================>..........] - ETA: 1s - loss: 0.0043",
                    "output_type": "stream"
                },
                {
                    "name": "stdout",
                    "text": "\b\b\b\b\b\b\b\b\b\b\b\b\b\b\b\b\b\b\b\b\b\b\b\b\b\b\b\b\b\b\b\b\b\b\b\b\b\b\b\b\b\b\b\b\b\b\b\b\b\b\b\b\b\b\b\b\b\b\b\b\b\b\b\r21/30 [====================>.........] - ETA: 0s - loss: 0.0043",
                    "output_type": "stream"
                },
                {
                    "name": "stdout",
                    "text": "\b\b\b\b\b\b\b\b\b\b\b\b\b\b\b\b\b\b\b\b\b\b\b\b\b\b\b\b\b\b\b\b\b\b\b\b\b\b\b\b\b\b\b\b\b\b\b\b\b\b\b\b\b\b\b\b\b\b\b\b\b\b\b\r22/30 [=====================>........] - ETA: 0s - loss: 0.0043",
                    "output_type": "stream"
                },
                {
                    "name": "stdout",
                    "text": "\b\b\b\b\b\b\b\b\b\b\b\b\b\b\b\b\b\b\b\b\b\b\b\b\b\b\b\b\b\b\b\b\b\b\b\b\b\b\b\b\b\b\b\b\b\b\b\b\b\b\b\b\b\b\b\b\b\b\b\b\b\b\b\r23/30 [======================>.......] - ETA: 0s - loss: 0.0043",
                    "output_type": "stream"
                },
                {
                    "name": "stdout",
                    "text": "\b\b\b\b\b\b\b\b\b\b\b\b\b\b\b\b\b\b\b\b\b\b\b\b\b\b\b\b\b\b\b\b\b\b\b\b\b\b\b\b\b\b\b\b\b\b\b\b\b\b\b\b\b\b\b\b\b\b\b\b\b\b\b\r24/30 [=======================>......] - ETA: 0s - loss: 0.0043",
                    "output_type": "stream"
                },
                {
                    "name": "stdout",
                    "text": "\b\b\b\b\b\b\b\b\b\b\b\b\b\b\b\b\b\b\b\b\b\b\b\b\b\b\b\b\b\b\b\b\b\b\b\b\b\b\b\b\b\b\b\b\b\b\b\b\b\b\b\b\b\b\b\b\b\b\b\b\b\b\b\r25/30 [========================>.....] - ETA: 0s - loss: 0.0043",
                    "output_type": "stream"
                },
                {
                    "name": "stdout",
                    "text": "\b\b\b\b\b\b\b\b\b\b\b\b\b\b\b\b\b\b\b\b\b\b\b\b\b\b\b\b\b\b\b\b\b\b\b\b\b\b\b\b\b\b\b\b\b\b\b\b\b\b\b\b\b\b\b\b\b\b\b\b\b\b\b\r26/30 [=========================>....] - ETA: 0s - loss: 0.0042",
                    "output_type": "stream"
                },
                {
                    "name": "stdout",
                    "text": "\b\b\b\b\b\b\b\b\b\b\b\b\b\b\b\b\b\b\b\b\b\b\b\b\b\b\b\b\b\b\b\b\b\b\b\b\b\b\b\b\b\b\b\b\b\b\b\b\b\b\b\b\b\b\b\b\b\b\b\b\b\b\b\r27/30 [==========================>...] - ETA: 0s - loss: 0.0043",
                    "output_type": "stream"
                },
                {
                    "name": "stdout",
                    "text": "\b\b\b\b\b\b\b\b\b\b\b\b\b\b\b\b\b\b\b\b\b\b\b\b\b\b\b\b\b\b\b\b\b\b\b\b\b\b\b\b\b\b\b\b\b\b\b\b\b\b\b\b\b\b\b\b\b\b\b\b\b\b\b\r28/30 [===========================>..] - ETA: 0s - loss: 0.0043",
                    "output_type": "stream"
                },
                {
                    "name": "stdout",
                    "text": "\b\b\b\b\b\b\b\b\b\b\b\b\b\b\b\b\b\b\b\b\b\b\b\b\b\b\b\b\b\b\b\b\b\b\b\b\b\b\b\b\b\b\b\b\b\b\b\b\b\b\b\b\b\b\b\b\b\b\b\b\b\b\b\r29/30 [============================>.] - ETA: 0s - loss: 0.0043",
                    "output_type": "stream"
                },
                {
                    "name": "stdout",
                    "text": "\b\b\b\b\b\b\b\b\b\b\b\b\b\b\b\b\b\b\b\b\b\b\b\b\b\b\b\b\b\b\b\b\b\b\b\b\b\b\b\b\b\b\b\b\b\b\b\b\b\b\b\b\b\b\b\b\b\b\b\b\b\b\b\r30/30 [==============================] - ETA: 0s - loss: 0.0043",
                    "output_type": "stream"
                },
                {
                    "name": "stdout",
                    "text": "\b\b\b\b\b\b\b\b\b\b\b\b\b\b\b\b\b\b\b\b\b\b\b\b\b\b\b\b\b\b\b\b\b\b\b\b\b\b\b\b\b\b\b\b\b\b\b\b\b\b\b\b\b\b\b\b\b\b\b\b\b\b\b\r30/30 [==============================] - 3s 102ms/step - loss: 0.0043\n",
                    "output_type": "stream"
                },
                {
                    "name": "stdout",
                    "text": "Epoch 25/25\n",
                    "output_type": "stream"
                },
                {
                    "name": "stdout",
                    "text": "\r 1/30 [>.............................] - ETA: 3s - loss: 0.0042",
                    "output_type": "stream"
                },
                {
                    "name": "stdout",
                    "text": "\b\b\b\b\b\b\b\b\b\b\b\b\b\b\b\b\b\b\b\b\b\b\b\b\b\b\b\b\b\b\b\b\b\b\b\b\b\b\b\b\b\b\b\b\b\b\b\b\b\b\b\b\b\b\b\b\b\b\b\b\b\b\b\r 2/30 [=>............................] - ETA: 3s - loss: 0.0056",
                    "output_type": "stream"
                },
                {
                    "name": "stdout",
                    "text": "\b\b\b\b\b\b\b\b\b\b\b\b\b\b\b\b\b\b\b\b\b\b\b\b\b\b\b\b\b\b\b\b\b\b\b\b\b\b\b\b\b\b\b\b\b\b\b\b\b\b\b\b\b\b\b\b\b\b\b\b\b\b\b\r 3/30 [==>...........................] - ETA: 2s - loss: 0.0053",
                    "output_type": "stream"
                },
                {
                    "name": "stdout",
                    "text": "\b\b\b\b\b\b\b\b\b\b\b\b\b\b\b\b\b\b\b\b\b\b\b\b\b\b\b\b\b\b\b\b\b\b\b\b\b\b\b\b\b\b\b\b\b\b\b\b\b\b\b\b\b\b\b\b\b\b\b\b\b\b\b\r 4/30 [===>..........................] - ETA: 2s - loss: 0.0055",
                    "output_type": "stream"
                },
                {
                    "name": "stdout",
                    "text": "\b\b\b\b\b\b\b\b\b\b\b\b\b\b\b\b\b\b\b\b\b\b\b\b\b\b\b\b\b\b\b\b\b\b\b\b\b\b\b\b\b\b\b\b\b\b\b\b\b\b\b\b\b\b\b\b\b\b\b\b\b\b\b\r 5/30 [====>.........................] - ETA: 2s - loss: 0.0053",
                    "output_type": "stream"
                },
                {
                    "name": "stdout",
                    "text": "\b\b\b\b\b\b\b\b\b\b\b\b\b\b\b\b\b\b\b\b\b\b\b\b\b\b\b\b\b\b\b\b\b\b\b\b\b\b\b\b\b\b\b\b\b\b\b\b\b\b\b\b\b\b\b\b\b\b\b\b\b\b\b\r 6/30 [=====>........................] - ETA: 2s - loss: 0.0054",
                    "output_type": "stream"
                },
                {
                    "name": "stdout",
                    "text": "\b\b\b\b\b\b\b\b\b\b\b\b\b\b\b\b\b\b\b\b\b\b\b\b\b\b\b\b\b\b\b\b\b\b\b\b\b\b\b\b\b\b\b\b\b\b\b\b\b\b\b\b\b\b\b\b\b\b\b\b\b\b\b\r 7/30 [======>.......................] - ETA: 2s - loss: 0.0056",
                    "output_type": "stream"
                },
                {
                    "name": "stdout",
                    "text": "\b\b\b\b\b\b\b\b\b\b\b\b\b\b\b\b\b\b\b\b\b\b\b\b\b\b\b\b\b\b\b\b\b\b\b\b\b\b\b\b\b\b\b\b\b\b\b\b\b\b\b\b\b\b\b\b\b\b\b\b\b\b\b\r 8/30 [=======>......................] - ETA: 2s - loss: 0.0056",
                    "output_type": "stream"
                },
                {
                    "name": "stdout",
                    "text": "\b\b\b\b\b\b\b\b\b\b\b\b\b\b\b\b\b\b\b\b\b\b\b\b\b\b\b\b\b\b\b\b\b\b\b\b\b\b\b\b\b\b\b\b\b\b\b\b\b\b\b\b\b\b\b\b\b\b\b\b\b\b\b\r 9/30 [========>.....................] - ETA: 2s - loss: 0.0054",
                    "output_type": "stream"
                },
                {
                    "name": "stdout",
                    "text": "\b\b\b\b\b\b\b\b\b\b\b\b\b\b\b\b\b\b\b\b\b\b\b\b\b\b\b\b\b\b\b\b\b\b\b\b\b\b\b\b\b\b\b\b\b\b\b\b\b\b\b\b\b\b\b\b\b\b\b\b\b\b\b\r10/30 [=========>....................] - ETA: 2s - loss: 0.0053",
                    "output_type": "stream"
                },
                {
                    "name": "stdout",
                    "text": "\b\b\b\b\b\b\b\b\b\b\b\b\b\b\b\b\b\b\b\b\b\b\b\b\b\b\b\b\b\b\b\b\b\b\b\b\b\b\b\b\b\b\b\b\b\b\b\b\b\b\b\b\b\b\b\b\b\b\b\b\b\b\b\r11/30 [==========>...................] - ETA: 1s - loss: 0.0050",
                    "output_type": "stream"
                },
                {
                    "name": "stdout",
                    "text": "\b\b\b\b\b\b\b\b\b\b\b\b\b\b\b\b\b\b\b\b\b\b\b\b\b\b\b\b\b\b\b\b\b\b\b\b\b\b\b\b\b\b\b\b\b\b\b\b\b\b\b\b\b\b\b\b\b\b\b\b\b\b\b\r12/30 [===========>..................] - ETA: 1s - loss: 0.0051",
                    "output_type": "stream"
                },
                {
                    "name": "stdout",
                    "text": "\b\b\b\b\b\b\b\b\b\b\b\b\b\b\b\b\b\b\b\b\b\b\b\b\b\b\b\b\b\b\b\b\b\b\b\b\b\b\b\b\b\b\b\b\b\b\b\b\b\b\b\b\b\b\b\b\b\b\b\b\b\b\b\r13/30 [============>.................] - ETA: 1s - loss: 0.0052",
                    "output_type": "stream"
                },
                {
                    "name": "stdout",
                    "text": "\b\b\b\b\b\b\b\b\b\b\b\b\b\b\b\b\b\b\b\b\b\b\b\b\b\b\b\b\b\b\b\b\b\b\b\b\b\b\b\b\b\b\b\b\b\b\b\b\b\b\b\b\b\b\b\b\b\b\b\b\b\b\b\r14/30 [=============>................] - ETA: 1s - loss: 0.0050",
                    "output_type": "stream"
                },
                {
                    "name": "stdout",
                    "text": "\b\b\b\b\b\b\b\b\b\b\b\b\b\b\b\b\b\b\b\b\b\b\b\b\b\b\b\b\b\b\b\b\b\b\b\b\b\b\b\b\b\b\b\b\b\b\b\b\b\b\b\b\b\b\b\b\b\b\b\b\b\b\b\r15/30 [==============>...............] - ETA: 1s - loss: 0.0049",
                    "output_type": "stream"
                },
                {
                    "name": "stdout",
                    "text": "\b\b\b\b\b\b\b\b\b\b\b\b\b\b\b\b\b\b\b\b\b\b\b\b\b\b\b\b\b\b\b\b\b\b\b\b\b\b\b\b\b\b\b\b\b\b\b\b\b\b\b\b\b\b\b\b\b\b\b\b\b\b\b\r16/30 [===============>..............] - ETA: 1s - loss: 0.0051",
                    "output_type": "stream"
                },
                {
                    "name": "stdout",
                    "text": "\b\b\b\b\b\b\b\b\b\b\b\b\b\b\b\b\b\b\b\b\b\b\b\b\b\b\b\b\b\b\b\b\b\b\b\b\b\b\b\b\b\b\b\b\b\b\b\b\b\b\b\b\b\b\b\b\b\b\b\b\b\b\b\r17/30 [================>.............] - ETA: 1s - loss: 0.0051",
                    "output_type": "stream"
                },
                {
                    "name": "stdout",
                    "text": "\b\b\b\b\b\b\b\b\b\b\b\b\b\b\b\b\b\b\b\b\b\b\b\b\b\b\b\b\b\b\b\b\b\b\b\b\b\b\b\b\b\b\b\b\b\b\b\b\b\b\b\b\b\b\b\b\b\b\b\b\b\b\b\r18/30 [=================>............] - ETA: 1s - loss: 0.0050",
                    "output_type": "stream"
                },
                {
                    "name": "stdout",
                    "text": "\b\b\b\b\b\b\b\b\b\b\b\b\b\b\b\b\b\b\b\b\b\b\b\b\b\b\b\b\b\b\b\b\b\b\b\b\b\b\b\b\b\b\b\b\b\b\b\b\b\b\b\b\b\b\b\b\b\b\b\b\b\b\b\r19/30 [==================>...........] - ETA: 1s - loss: 0.0050",
                    "output_type": "stream"
                },
                {
                    "name": "stdout",
                    "text": "\b\b\b\b\b\b\b\b\b\b\b\b\b\b\b\b\b\b\b\b\b\b\b\b\b\b\b\b\b\b\b\b\b\b\b\b\b\b\b\b\b\b\b\b\b\b\b\b\b\b\b\b\b\b\b\b\b\b\b\b\b\b\b\r20/30 [===================>..........] - ETA: 1s - loss: 0.0049",
                    "output_type": "stream"
                },
                {
                    "name": "stdout",
                    "text": "\b\b\b\b\b\b\b\b\b\b\b\b\b\b\b\b\b\b\b\b\b\b\b\b\b\b\b\b\b\b\b\b\b\b\b\b\b\b\b\b\b\b\b\b\b\b\b\b\b\b\b\b\b\b\b\b\b\b\b\b\b\b\b\r21/30 [====================>.........] - ETA: 1s - loss: 0.0049",
                    "output_type": "stream"
                },
                {
                    "name": "stdout",
                    "text": "\b\b\b\b\b\b\b\b\b\b\b\b\b\b\b\b\b\b\b\b\b\b\b\b\b\b\b\b\b\b\b\b\b\b\b\b\b\b\b\b\b\b\b\b\b\b\b\b\b\b\b\b\b\b\b\b\b\b\b\b\b\b\b\r22/30 [=====================>........] - ETA: 0s - loss: 0.0049",
                    "output_type": "stream"
                },
                {
                    "name": "stdout",
                    "text": "\b\b\b\b\b\b\b\b\b\b\b\b\b\b\b\b\b\b\b\b\b\b\b\b\b\b\b\b\b\b\b\b\b\b\b\b\b\b\b\b\b\b\b\b\b\b\b\b\b\b\b\b\b\b\b\b\b\b\b\b\b\b\b\r23/30 [======================>.......] - ETA: 0s - loss: 0.0049",
                    "output_type": "stream"
                },
                {
                    "name": "stdout",
                    "text": "\b\b\b\b\b\b\b\b\b\b\b\b\b\b\b\b\b\b\b\b\b\b\b\b\b\b\b\b\b\b\b\b\b\b\b\b\b\b\b\b\b\b\b\b\b\b\b\b\b\b\b\b\b\b\b\b\b\b\b\b\b\b\b\r24/30 [=======================>......] - ETA: 0s - loss: 0.0051",
                    "output_type": "stream"
                },
                {
                    "name": "stdout",
                    "text": "\b\b\b\b\b\b\b\b\b\b\b\b\b\b\b\b\b\b\b\b\b\b\b\b\b\b\b\b\b\b\b\b\b\b\b\b\b\b\b\b\b\b\b\b\b\b\b\b\b\b\b\b\b\b\b\b\b\b\b\b\b\b\b\r25/30 [========================>.....] - ETA: 0s - loss: 0.0051",
                    "output_type": "stream"
                },
                {
                    "name": "stdout",
                    "text": "\b\b\b\b\b\b\b\b\b\b\b\b\b\b\b\b\b\b\b\b\b\b\b\b\b\b\b\b\b\b\b\b\b\b\b\b\b\b\b\b\b\b\b\b\b\b\b\b\b\b\b\b\b\b\b\b\b\b\b\b\b\b\b\r26/30 [=========================>....] - ETA: 0s - loss: 0.0051",
                    "output_type": "stream"
                },
                {
                    "name": "stdout",
                    "text": "\b\b\b\b\b\b\b\b\b\b\b\b\b\b\b\b\b\b\b\b\b\b\b\b\b\b\b\b\b\b\b\b\b\b\b\b\b\b\b\b\b\b\b\b\b\b\b\b\b\b\b\b\b\b\b\b\b\b\b\b\b\b\b\r27/30 [==========================>...] - ETA: 0s - loss: 0.0051",
                    "output_type": "stream"
                },
                {
                    "name": "stdout",
                    "text": "\b\b\b\b\b\b\b\b\b\b\b\b\b\b\b\b\b\b\b\b\b\b\b\b\b\b\b\b\b\b\b\b\b\b\b\b\b\b\b\b\b\b\b\b\b\b\b\b\b\b\b\b\b\b\b\b\b\b\b\b\b\b\b\r28/30 [===========================>..] - ETA: 0s - loss: 0.0050",
                    "output_type": "stream"
                },
                {
                    "name": "stdout",
                    "text": "\b\b\b\b\b\b\b\b\b\b\b\b\b\b\b\b\b\b\b\b\b\b\b\b\b\b\b\b\b\b\b\b\b\b\b\b\b\b\b\b\b\b\b\b\b\b\b\b\b\b\b\b\b\b\b\b\b\b\b\b\b\b\b\r29/30 [============================>.] - ETA: 0s - loss: 0.0050",
                    "output_type": "stream"
                },
                {
                    "name": "stdout",
                    "text": "\b\b\b\b\b\b\b\b\b\b\b\b\b\b\b\b\b\b\b\b\b\b\b\b\b\b\b\b\b\b\b\b\b\b\b\b\b\b\b\b\b\b\b\b\b\b\b\b\b\b\b\b\b\b\b\b\b\b\b\b\b\b\b\r30/30 [==============================] - ETA: 0s - loss: 0.0050",
                    "output_type": "stream"
                },
                {
                    "name": "stdout",
                    "text": "\b\b\b\b\b\b\b\b\b\b\b\b\b\b\b\b\b\b\b\b\b\b\b\b\b\b\b\b\b\b\b\b\b\b\b\b\b\b\b\b\b\b\b\b\b\b\b\b\b\b\b\b\b\b\b\b\b\b\b\b\b\b\b\r30/30 [==============================] - 3s 113ms/step - loss: 0.0050\n",
                    "output_type": "stream"
                },
                {
                    "data": {
                        "text/plain": "<keras.callbacks.History at 0x21fe5657c50>"
                    },
                    "metadata": {},
                    "execution_count": 43,
                    "output_type": "execute_result"
                }
            ],
            "execution_count": 43
        },
        {
            "cell_type": "markdown",
            "source": [
                "## Making Prediction and Visualizing the Results"
            ],
            "metadata": {
                "language": "python",
                "azdata_cell_guid": "87d3d3e7-24f3-4647-abc1-ab4539e6f73c"
            },
            "attachments": {}
        },
        {
            "cell_type": "markdown",
            "source": [
                "Getting the real stock price of 2021"
            ],
            "metadata": {
                "language": "python",
                "azdata_cell_guid": "cf4edb17-3ded-4564-a33c-441a846c140e"
            },
            "attachments": {}
        },
        {
            "cell_type": "code",
            "source": [
                "dataset_test = pd.read_csv(\"dataset/NIFTY50_Test.csv\") \r\n",
                "real_stock_price = dataset_test.iloc[:,1:2].values"
            ],
            "metadata": {
                "language": "python",
                "azdata_cell_guid": "b7dd7b21-8079-4b1c-b462-ff810fb66139"
            },
            "outputs": [],
            "execution_count": 44
        },
        {
            "cell_type": "markdown",
            "source": [
                "Getting the predicted stock price of 2021"
            ],
            "metadata": {
                "language": "python",
                "azdata_cell_guid": "a52444cd-894e-4a0d-b984-b1ce0a10668c"
            },
            "attachments": {}
        },
        {
            "cell_type": "code",
            "source": [
                "dataset_total = pd.concat((dataset_train['Open'], dataset_test['Open']), axis=0)\r\n",
                "inputs = dataset_total[len(dataset_total)-len(dataset_test) - 60:].values\r\n",
                "inputs = inputs.reshape(-1,1)\r\n",
                "inputs = sc.fit_transform(inputs)"
            ],
            "metadata": {
                "language": "python",
                "azdata_cell_guid": "da7aff96-71ae-4048-9483-a3ecc02ba3c2",
                "tags": []
            },
            "outputs": [],
            "execution_count": 50
        },
        {
            "cell_type": "code",
            "source": [
                "X_test = []\r\n",
                "for i in np.arange(60, 140):\r\n",
                "    X_test.append(inputs[i-60:i, 0])\r\n",
                "\r\n",
                "X_test = np.array(X_test)\r\n",
                "X_test = np.reshape(X_test, (X_test.shape[0], X_test.shape[1],1))"
            ],
            "metadata": {
                "language": "python",
                "azdata_cell_guid": "b934b156-3cf2-4373-aa18-ea71feefa3f7"
            },
            "outputs": [],
            "execution_count": 54
        },
        {
            "cell_type": "code",
            "source": [
                "predicted_price = RNN.predict(X_test)\r\n",
                "predicted_price = sc.inverse_transform(predicted_price)"
            ],
            "metadata": {
                "language": "python",
                "azdata_cell_guid": "8dac6636-7c82-4da4-a462-3e1974b4384e"
            },
            "outputs": [
                {
                    "name": "stdout",
                    "text": "\r1/3 [=========>....................] - ETA: 10s",
                    "output_type": "stream"
                },
                {
                    "name": "stdout",
                    "text": "\b\b\b\b\b\b\b\b\b\b\b\b\b\b\b\b\b\b\b\b\b\b\b\b\b\b\b\b\b\b\b\b\b\b\b\b\b\b\b\b\b\b\b\b\b\b\b\r2/3 [===================>..........] - ETA: 0s ",
                    "output_type": "stream"
                },
                {
                    "name": "stdout",
                    "text": "\b\b\b\b\b\b\b\b\b\b\b\b\b\b\b\b\b\b\b\b\b\b\b\b\b\b\b\b\b\b\b\b\b\b\b\b\b\b\b\b\b\b\b\b\b\b\r3/3 [==============================] - ETA: 0s",
                    "output_type": "stream"
                },
                {
                    "name": "stdout",
                    "text": "\b\b\b\b\b\b\b\b\b\b\b\b\b\b\b\b\b\b\b\b\b\b\b\b\b\b\b\b\b\b\b\b\b\b\b\b\b\b\b\b\b\b\b\b\b\b\r3/3 [==============================] - 6s 101ms/step\n",
                    "output_type": "stream"
                }
            ],
            "execution_count": 55
        },
        {
            "cell_type": "markdown",
            "source": [
                "Visualize the results"
            ],
            "metadata": {
                "language": "python",
                "azdata_cell_guid": "8f334bc9-ae12-4f7b-8498-431a820f159f"
            },
            "attachments": {}
        },
        {
            "cell_type": "code",
            "source": [
                "plt.plot(real_stock_price, color='red',label = 'Actual Stock Price 2021')\r\n",
                "plt.plot(predicted_price, color='blue',label = 'Predicted Stock Price 2021')\r\n",
                "plt.title(\"Nifty50 Stock Price Prediction\")\r\n",
                "plt.xlabel('Time')\r\n",
                "plt.ylabel('Price')\r\n",
                "plt.legend()"
            ],
            "metadata": {
                "language": "python",
                "azdata_cell_guid": "1ac18e6f-ed19-4a18-bf4e-b9ab904ca6a8"
            },
            "outputs": [
                {
                    "data": {
                        "text/plain": "<Figure size 640x480 with 1 Axes>",
                        "image/png": "[encoded data removed]"
                    },
                    "metadata": {},
                    "output_type": "display_data"
                },
                {
                    "data": {
                        "text/plain": "<matplotlib.legend.Legend at 0x21feedbe250>"
                    },
                    "metadata": {},
                    "execution_count": 58,
                    "output_type": "execute_result"
                }
            ],
            "execution_count": 58
        }
    ]
}