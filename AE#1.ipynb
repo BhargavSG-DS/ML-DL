{
    "metadata": {
        "kernelspec": {
            "name": "python3",
            "display_name": "Python 3 (ipykernel)",
            "language": "python"
        },
        "language_info": {
            "name": "python",
            "version": "3.11.1",
            "mimetype": "text/x-python",
            "codemirror_mode": {
                "name": "ipython",
                "version": 3
            },
            "pygments_lexer": "ipython3",
            "nbconvert_exporter": "python",
            "file_extension": ".py"
        }
    },
    "nbformat_minor": 2,
    "nbformat": 4,
    "cells": [
        {
            "cell_type": "markdown",
            "source": [
                "# AutoEncoders\n",
                "\n",
                "## Recommendation System for non binary prediction."
            ],
            "metadata": {
                "language": "sql",
                "azdata_cell_guid": "7336748c-4459-4c2f-831a-4bc39bdbc2a3"
            },
            "attachments": {}
        },
        {
            "cell_type": "code",
            "source": [
                "import numpy as np\r\n",
                "import pandas as pd\r\n",
                "import pyodbc\r\n",
                "\r\n",
                "import torch\r\n",
                "import torch.nn as nn\r\n",
                "import torch.nn.parallel\r\n",
                "import torch.optim as optim\r\n",
                "import torch.utils.data\r\n",
                "from torch.autograd import Variable\r\n",
                "from sklearn.model_selection import train_test_split"
            ],
            "metadata": {
                "azdata_cell_guid": "8d213479-fd56-4b5a-8ec1-891620bfb326",
                "language": "python"
            },
            "outputs": [],
            "execution_count": 26
        },
        {
            "cell_type": "code",
            "source": [
                "movies = pd.read_csv('dataset/movies.dat',sep=\"::\",header=None,engine='python',encoding='latin-1')\r\n",
                "users = pd.read_csv('dataset/users.dat',sep=\"::\",header=None,engine='python',encoding='latin-1')\r\n",
                "ratings = pd.read_csv('dataset/ratings.dat',sep=\"::\",header=None,engine='python',encoding='latin-1')"
            ],
            "metadata": {
                "language": "python",
                "azdata_cell_guid": "a7326de3-58fb-4b98-8172-08137995d225"
            },
            "outputs": [],
            "execution_count": 27
        },
        {
            "cell_type": "code",
            "source": [
                "training_set = np.array(pd.read_csv('dataset/u1.base',delimiter='\\t'),dtype='int')\r\n",
                "test_set = np.array(pd.read_csv('dataset/u1.test',delimiter='\\t'),dtype='int')"
            ],
            "metadata": {
                "language": "python",
                "azdata_cell_guid": "a5789078-5b2c-4950-abe9-83bb7894b3c9"
            },
            "outputs": [],
            "execution_count": 28
        },
        {
            "cell_type": "code",
            "source": [
                "nb_users = int(max(max(training_set[:,0]),max(test_set[:,0])))\r\n",
                "nb_movies = int(max(max(training_set[:,1]),max(test_set[:,1])))"
            ],
            "metadata": {
                "language": "python",
                "azdata_cell_guid": "d874549d-82b8-4fca-95dc-4bc760edba79"
            },
            "outputs": [],
            "execution_count": 29
        },
        {
            "cell_type": "code",
            "source": [
                "def convert(data):\r\n",
                "    new_data=[]\r\n",
                "    for id_users in np.arange(1,nb_users+1):\r\n",
                "        id_movies = data[:,1][data[:,0]==id_users]\r\n",
                "        id_ratings = data[:,2][data[:,0]==id_users]\r\n",
                "        ratings = np.zeros(nb_movies)\r\n",
                "        ratings[id_movies - 1] = id_ratings\r\n",
                "        new_data.append(list(ratings))\r\n",
                "    return new_data\r\n",
                "training_set = convert(training_set)\r\n",
                "test_set = convert(test_set)"
            ],
            "metadata": {
                "language": "python",
                "azdata_cell_guid": "61cbbb4a-6170-4391-bbc9-c91ba3792e5a"
            },
            "outputs": [],
            "execution_count": 30
        },
        {
            "cell_type": "code",
            "source": [
                "training_set = torch.FloatTensor(training_set)\r\n",
                "test_set = torch.FloatTensor(test_set)"
            ],
            "metadata": {
                "language": "python",
                "azdata_cell_guid": "3dc9c70e-5f29-4a02-b280-109707dbb5f6"
            },
            "outputs": [],
            "execution_count": 31
        },
        {
            "cell_type": "code",
            "source": [
                "class SAE(nn.Module):\r\n",
                "    def __init__(self,):\r\n",
                "        super(SAE, self).__init__()\r\n",
                "        self.fc1 = nn.Linear(nb_movies, 20)\r\n",
                "        self.fc2 = nn.Linear(20, 10)\r\n",
                "        self.fc3 = nn.Linear(10, 20)\r\n",
                "        self.fc4 = nn.Linear(20, nb_movies)\r\n",
                "        self.activation = nn.Sigmoid()\r\n",
                "\r\n",
                "    def forward(self, x):\r\n",
                "        x = self.activation(self.fc1(x))\r\n",
                "        x = self.activation(self.fc2(x))\r\n",
                "        x = self.activation(self.fc3(x))\r\n",
                "        x = self.fc4(x)\r\n",
                "        return x"
            ],
            "metadata": {
                "language": "python",
                "azdata_cell_guid": "afa6f036-3d85-4e4f-8bb7-55ee1b890aa8",
                "tags": []
            },
            "outputs": [],
            "execution_count": 32
        },
        {
            "cell_type": "code",
            "source": [
                "sae = SAE()\r\n",
                "criterion = nn.MSELoss()\r\n",
                "optimizer = optim.RMSprop(sae.parameters(), lr=0.01, weight_decay = 0.5)"
            ],
            "metadata": {
                "language": "python",
                "azdata_cell_guid": "988a2295-ae7b-40c5-8758-fcd119cd0872"
            },
            "outputs": [],
            "execution_count": 33
        },
        {
            "cell_type": "code",
            "source": [
                "nb_epoch = 200\r\n",
                "for epoch in np.arange(1, nb_epoch + 1):\r\n",
                "    train_loss = 0\r\n",
                "    s = 0.\r\n",
                "    for id_user in np.arange(nb_users):\r\n",
                "        input_vec = Variable(training_set[id_user]).unsqueeze(0)\r\n",
                "        target_vec = input_vec.clone()\r\n",
                "        if torch.sum(target_vec.data > 0) > 0:\r\n",
                "            output_vec = sae(input_vec)\r\n",
                "            target_vec.require_grad = False\r\n",
                "            output_vec[target_vec == 0] = 0\r\n",
                "            loss = criterion(output_vec, target_vec)\r\n",
                "            mean_corrector = nb_movies/float(torch.sum(target_vec.data > 0) + 1e-10)\r\n",
                "            loss.backward()\r\n",
                "            train_loss += np.sqrt(loss.data[0]*mean_corrector)\r\n",
                "            s += 1\r\n",
                "            optimizer.step()\r\n",
                "    print('epoch: ' + str(epoch)+' loss: '+str(train_loss/s))"
            ],
            "metadata": {
                "language": "python",
                "azdata_cell_guid": "e8d1ede3-6070-473c-b289-e17bd59cc097",
                "tags": []
            },
            "outputs": [],
            "execution_count": null
        },
        {
            "cell_type": "code",
            "source": [
                "test_loss = 0\r\n",
                "s = 0.\r\n",
                "for id_user in np.arange(nb_users):\r\n",
                "    input_vec = Variable(training_set[id_user]).unsqueeze(0)\r\n",
                "    target_vec = input_vec.clone()\r\n",
                "    if torch.sum(target_vec.data > 0) > 0:\r\n",
                "        output_vec = sae(input_vec)\r\n",
                "        target_vec.require_grad = False\r\n",
                "        output_vec[target_vec == 0] = 0\r\n",
                "        loss = criterion(output_vec, target_vec)\r\n",
                "        mean_corrector = nb_movies/float(torch.sum(target_vec.data > 0) + 1e-10)\r\n",
                "        loss.backward()\r\n",
                "        test_loss += np.sqrt(loss.data[0]*mean_corrector)\r\n",
                "        s += 1\r\n",
                "        optimizer.step()"
            ],
            "metadata": {
                "language": "python",
                "azdata_cell_guid": "fef126fe-c229-4320-9655-4ed996815d72"
            },
            "outputs": [],
            "execution_count": null
        }
    ]
}