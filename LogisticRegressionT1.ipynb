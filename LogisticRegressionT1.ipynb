{
    "metadata": {
        "kernelspec": {
            "name": "python3",
            "display_name": "Python 3 (ipykernel)",
            "language": "python"
        },
        "language_info": {
            "name": "python",
            "version": "3.10.4",
            "mimetype": "text/x-python",
            "codemirror_mode": {
                "name": "ipython",
                "version": 3
            },
            "pygments_lexer": "ipython3",
            "nbconvert_exporter": "python",
            "file_extension": ".py"
        }
    },
    "nbformat_minor": 2,
    "nbformat": 4,
    "cells": [
        {
            "cell_type": "code",
            "source": [
                "import pandas as pd\r\n",
                "import numpy as np\r\n",
                "import matplotlib.pyplot as plt"
            ],
            "metadata": {
                "azdata_cell_guid": "36e14639-d1d6-4048-a87e-eed4a94d12ff",
                "language": "python",
                "tags": []
            },
            "outputs": [],
            "execution_count": 31
        },
        {
            "cell_type": "markdown",
            "source": [
                "Importing the Dataset and determining the dependant and independant variables"
            ],
            "metadata": {
                "language": "python",
                "azdata_cell_guid": "c5ca44d2-7faa-4db8-b1cd-e629613f01f0"
            },
            "attachments": {}
        },
        {
            "cell_type": "code",
            "source": [
                "dataset = pd.read_csv(\"Social_Network_Ads.csv\") \r\n",
                "X = dataset.iloc[:,:-1].values\r\n",
                "Y = dataset.iloc[:,-1].values"
            ],
            "metadata": {
                "azdata_cell_guid": "3d8dff76-e74e-4b42-905d-7a79250edbdb",
                "language": "python",
                "tags": []
            },
            "outputs": [],
            "execution_count": 32
        },
        {
            "cell_type": "code",
            "source": [
                "print(dataset)"
            ],
            "metadata": {
                "language": "python",
                "azdata_cell_guid": "43fb1e25-6123-4cc8-a90c-e0993b9b20de"
            },
            "outputs": [
                {
                    "name": "stdout",
                    "text": "     Age  EstimatedSalary  Purchased\n0     19            19000          0\n1     35            20000          0\n2     26            43000          0\n3     27            57000          0\n4     19            76000          0\n..   ...              ...        ...\n395   46            41000          1\n396   51            23000          1\n397   50            20000          1\n398   36            33000          0\n399   49            36000          1\n\n[400 rows x 3 columns]\n",
                    "output_type": "stream"
                }
            ],
            "execution_count": 33
        },
        {
            "cell_type": "markdown",
            "source": [
                "Splitting the Dataset into training set and test set"
            ],
            "metadata": {
                "language": "python",
                "azdata_cell_guid": "d59010d0-c724-40fd-8323-8dca2b6ce291"
            },
            "attachments": {}
        },
        {
            "cell_type": "code",
            "source": [
                "from sklearn.model_selection import train_test_split\r\n",
                "X_train, X_test, Y_train, Y_test = train_test_split(X, Y, test_size = 0.25, random_state = 1)"
            ],
            "metadata": {
                "azdata_cell_guid": "5d313f27-ca16-47d3-85ea-a08deadb2a35",
                "language": "python",
                "tags": []
            },
            "outputs": [],
            "execution_count": 34
        },
        {
            "cell_type": "markdown",
            "source": [
                "Feature Scaling on the dataset"
            ],
            "metadata": {
                "language": "python",
                "azdata_cell_guid": "3cb2343e-5f61-40fc-bd7c-9e74d0e2d87f"
            },
            "attachments": {}
        },
        {
            "cell_type": "code",
            "source": [
                "from sklearn.preprocessing import StandardScaler\r\n",
                "sc = StandardScaler()\r\n",
                "X_train = sc.fit_transform(X_train)\r\n",
                "X_test = sc.transform(X_test)"
            ],
            "metadata": {
                "language": "python",
                "azdata_cell_guid": "0b41ef15-34cd-4e60-9178-a716be1b6ccb",
                "tags": []
            },
            "outputs": [],
            "execution_count": 35
        },
        {
            "cell_type": "code",
            "source": [
                "from sklearn.linear_model import LogisticRegression\r\n",
                "classifier = LogisticRegression(random_state = 0)\r\n",
                "classifier.fit(X_train, Y_train)"
            ],
            "metadata": {
                "language": "python",
                "azdata_cell_guid": "b5811c93-7154-42aa-bcc6-04d9f5590175"
            },
            "outputs": [
                {
                    "data": {
                        "text/plain": "LogisticRegression(random_state=0)",
                        "text/html": "<style>#sk-container-id-1 {color: black;background-color: white;}#sk-container-id-1 pre{padding: 0;}#sk-container-id-1 div.sk-toggleable {background-color: white;}#sk-container-id-1 label.sk-toggleable__label {cursor: pointer;display: block;width: 100%;margin-bottom: 0;padding: 0.3em;box-sizing: border-box;text-align: center;}#sk-container-id-1 label.sk-toggleable__label-arrow:before {content: \"▸\";float: left;margin-right: 0.25em;color: #696969;}#sk-container-id-1 label.sk-toggleable__label-arrow:hover:before {color: black;}#sk-container-id-1 div.sk-estimator:hover label.sk-toggleable__label-arrow:before {color: black;}#sk-container-id-1 div.sk-toggleable__content {max-height: 0;max-width: 0;overflow: hidden;text-align: left;background-color: #f0f8ff;}#sk-container-id-1 div.sk-toggleable__content pre {margin: 0.2em;color: black;border-radius: 0.25em;background-color: #f0f8ff;}#sk-container-id-1 input.sk-toggleable__control:checked~div.sk-toggleable__content {max-height: 200px;max-width: 100%;overflow: auto;}#sk-container-id-1 input.sk-toggleable__control:checked~label.sk-toggleable__label-arrow:before {content: \"▾\";}#sk-container-id-1 div.sk-estimator input.sk-toggleable__control:checked~label.sk-toggleable__label {background-color: #d4ebff;}#sk-container-id-1 div.sk-label input.sk-toggleable__control:checked~label.sk-toggleable__label {background-color: #d4ebff;}#sk-container-id-1 input.sk-hidden--visually {border: 0;clip: rect(1px 1px 1px 1px);clip: rect(1px, 1px, 1px, 1px);height: 1px;margin: -1px;overflow: hidden;padding: 0;position: absolute;width: 1px;}#sk-container-id-1 div.sk-estimator {font-family: monospace;background-color: #f0f8ff;border: 1px dotted black;border-radius: 0.25em;box-sizing: border-box;margin-bottom: 0.5em;}#sk-container-id-1 div.sk-estimator:hover {background-color: #d4ebff;}#sk-container-id-1 div.sk-parallel-item::after {content: \"\";width: 100%;border-bottom: 1px solid gray;flex-grow: 1;}#sk-container-id-1 div.sk-label:hover label.sk-toggleable__label {background-color: #d4ebff;}#sk-container-id-1 div.sk-serial::before {content: \"\";position: absolute;border-left: 1px solid gray;box-sizing: border-box;top: 0;bottom: 0;left: 50%;z-index: 0;}#sk-container-id-1 div.sk-serial {display: flex;flex-direction: column;align-items: center;background-color: white;padding-right: 0.2em;padding-left: 0.2em;position: relative;}#sk-container-id-1 div.sk-item {position: relative;z-index: 1;}#sk-container-id-1 div.sk-parallel {display: flex;align-items: stretch;justify-content: center;background-color: white;position: relative;}#sk-container-id-1 div.sk-item::before, #sk-container-id-1 div.sk-parallel-item::before {content: \"\";position: absolute;border-left: 1px solid gray;box-sizing: border-box;top: 0;bottom: 0;left: 50%;z-index: -1;}#sk-container-id-1 div.sk-parallel-item {display: flex;flex-direction: column;z-index: 1;position: relative;background-color: white;}#sk-container-id-1 div.sk-parallel-item:first-child::after {align-self: flex-end;width: 50%;}#sk-container-id-1 div.sk-parallel-item:last-child::after {align-self: flex-start;width: 50%;}#sk-container-id-1 div.sk-parallel-item:only-child::after {width: 0;}#sk-container-id-1 div.sk-dashed-wrapped {border: 1px dashed gray;margin: 0 0.4em 0.5em 0.4em;box-sizing: border-box;padding-bottom: 0.4em;background-color: white;}#sk-container-id-1 div.sk-label label {font-family: monospace;font-weight: bold;display: inline-block;line-height: 1.2em;}#sk-container-id-1 div.sk-label-container {text-align: center;}#sk-container-id-1 div.sk-container {/* jupyter's `normalize.less` sets `[hidden] { display: none; }` but bootstrap.min.css set `[hidden] { display: none !important; }` so we also need the `!important` here to be able to override the default hidden behavior on the sphinx rendered scikit-learn.org. See: https://github.com/scikit-learn/scikit-learn/issues/21755 */display: inline-block !important;position: relative;}#sk-container-id-1 div.sk-text-repr-fallback {display: none;}</style><div id=\"sk-container-id-1\" class=\"sk-top-container\"><div class=\"sk-text-repr-fallback\"><pre>LogisticRegression(random_state=0)</pre><b>In a Jupyter environment, please rerun this cell to show the HTML representation or trust the notebook. <br />On GitHub, the HTML representation is unable to render, please try loading this page with nbviewer.org.</b></div><div class=\"sk-container\" hidden><div class=\"sk-item\"><div class=\"sk-estimator sk-toggleable\"><input class=\"sk-toggleable__control sk-hidden--visually\" id=\"sk-estimator-id-1\" type=\"checkbox\" checked><label for=\"sk-estimator-id-1\" class=\"sk-toggleable__label sk-toggleable__label-arrow\">LogisticRegression</label><div class=\"sk-toggleable__content\"><pre>LogisticRegression(random_state=0)</pre></div></div></div></div></div>"
                    },
                    "metadata": {},
                    "execution_count": 36,
                    "output_type": "execute_result"
                }
            ],
            "execution_count": 36
        },
        {
            "cell_type": "code",
            "source": [
                "y_prediction = classifier.predict(X_test)\r\n",
                "print(np.concatenate((y_prediction.reshape(len(y_prediction),1), Y_test.reshape(len(Y_test),1)),1))"
            ],
            "metadata": {
                "language": "python",
                "azdata_cell_guid": "fd586c94-10bf-4017-8e42-ced84ea0b92f"
            },
            "outputs": [
                {
                    "name": "stdout",
                    "text": "[[0 0]\n [0 0]\n [1 1]\n [1 1]\n [0 0]\n [0 0]\n [0 0]\n [1 1]\n [0 0]\n [1 0]\n [0 0]\n [0 0]\n [0 0]\n [1 1]\n [1 1]\n [1 1]\n [1 1]\n [0 0]\n [0 0]\n [1 1]\n [0 0]\n [1 1]\n [1 1]\n [0 0]\n [0 1]\n [0 0]\n [1 1]\n [1 0]\n [1 1]\n [1 0]\n [0 0]\n [0 0]\n [0 0]\n [1 1]\n [0 0]\n [0 0]\n [0 0]\n [0 0]\n [0 1]\n [0 0]\n [1 1]\n [1 1]\n [0 0]\n [0 0]\n [1 1]\n [0 1]\n [0 1]\n [1 1]\n [0 0]\n [1 1]\n [0 0]\n [0 0]\n [1 1]\n [0 1]\n [0 1]\n [0 0]\n [1 1]\n [0 0]\n [1 1]\n [1 1]\n [0 0]\n [0 0]\n [1 0]\n [0 0]\n [0 1]\n [1 1]\n [0 0]\n [0 0]\n [1 0]\n [0 0]\n [1 0]\n [0 0]\n [1 1]\n [0 0]\n [0 0]\n [1 1]\n [0 0]\n [0 0]\n [0 0]\n [0 0]\n [0 0]\n [0 1]\n [1 1]\n [0 0]\n [0 0]\n [0 0]\n [0 1]\n [0 0]\n [0 1]\n [0 0]\n [1 1]\n [1 1]\n [1 1]\n [0 0]\n [0 0]\n [1 1]\n [1 1]\n [0 1]\n [0 0]\n [0 0]]\n",
                    "output_type": "stream"
                }
            ],
            "execution_count": 75
        },
        {
            "cell_type": "code",
            "source": [
                "from sklearn.metrics import accuracy_score, confusion_matrix\r\n",
                "print(accuracy_score(Y_test,y_prediction))\r\n",
                "cm = confusion_matrix(Y_test,y_prediction)"
            ],
            "metadata": {
                "language": "python",
                "azdata_cell_guid": "a5bf131f-e928-40ff-bff0-92deca91e0f5",
                "tags": []
            },
            "outputs": [
                {
                    "name": "stdout",
                    "text": "0.83\n",
                    "output_type": "stream"
                }
            ],
            "execution_count": 78
        },
        {
            "cell_type": "code",
            "source": [
                "print(cm)"
            ],
            "metadata": {
                "language": "python",
                "azdata_cell_guid": "6d4a08a6-d2c3-425e-af35-431d0dd81d98"
            },
            "outputs": [
                {
                    "name": "stdout",
                    "text": "[[52  6]\n [11 31]]\n",
                    "output_type": "stream"
                }
            ],
            "execution_count": 79
        }
    ]
}