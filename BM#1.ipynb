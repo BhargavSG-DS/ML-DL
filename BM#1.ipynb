{
    "metadata": {
        "kernelspec": {
            "name": "python3",
            "display_name": "Python 3 (ipykernel)",
            "language": "python"
        },
        "language_info": {
            "name": "python",
            "version": "3.11.1",
            "mimetype": "text/x-python",
            "codemirror_mode": {
                "name": "ipython",
                "version": 3
            },
            "pygments_lexer": "ipython3",
            "nbconvert_exporter": "python",
            "file_extension": ".py"
        }
    },
    "nbformat_minor": 2,
    "nbformat": 4,
    "cells": [
        {
            "cell_type": "markdown",
            "source": [
                "# Restricted Boltzmann Machine\n",
                "## Book Recommendation System"
            ],
            "metadata": {
                "azdata_cell_guid": "8db499b6-432f-4fdf-b416-1943b3f561b3"
            },
            "attachments": {}
        },
        {
            "cell_type": "markdown",
            "source": [
                "## Data Preprocessing and Exploratory Data Analysis"
            ],
            "metadata": {
                "azdata_cell_guid": "fbe10e76-fb4b-4679-b38e-6546774ff6d4",
                "language": ""
            },
            "attachments": {}
        },
        {
            "cell_type": "markdown",
            "source": [
                "Importing Libraries"
            ],
            "metadata": {
                "azdata_cell_guid": "f826608d-7f90-4ede-ab98-b573679e6a25",
                "language": ""
            },
            "attachments": {}
        },
        {
            "cell_type": "code",
            "source": [
                "import numpy as np\r\n",
                "import pandas as pd\r\n",
                "import pyodbc\r\n",
                "\r\n",
                "import torch\r\n",
                "import torch.nn as nn\r\n",
                "import torch.nn.parallel\r\n",
                "import torch.optim as optim\r\n",
                "import torch.utils.data\r\n",
                "from torch.autograd import Variable\r\n",
                "from sklearn.model_selection import train_test_split"
            ],
            "metadata": {
                "azdata_cell_guid": "87843bae-fabd-41a2-9404-26a65878e755",
                "language": "python"
            },
            "outputs": [],
            "execution_count": 24
        },
        {
            "cell_type": "code",
            "source": [
                "# Bernoulli Retricted Boltzmann Machine\r\n",
                "class RBM():\r\n",
                "    def __init__(self, nv : int, nh : int):\r\n",
                "        self.W = torch.randn(nh, nv)\r\n",
                "        self.a = torch.randn(1, nh)\r\n",
                "        self.b = torch.randn(1, nv)\r\n",
                "    \r\n",
                "    def sample_h(self, x):\r\n",
                "        wx = torch.mm(x, self.W.t())\r\n",
                "        activation = wx + self.a.expand_as(wx)\r\n",
                "        p_h_given_v = torch.sigmoid(activation)\r\n",
                "        return p_h_given_v, torch.bernoulli(p_h_given_v)\r\n",
                "    \r\n",
                "    def sample_v(self, y):\r\n",
                "        wy = torch.mm(y, self.W)\r\n",
                "        activation = wy + self.b.expand_as(wy)\r\n",
                "        p_v_given_h = torch.sigmoid(activation)\r\n",
                "        return p_v_given_h, torch.bernoulli(p_v_given_h)\r\n",
                "\r\n",
                "    def train(self, v0, vk, ph0, phk):\r\n",
                "        self.W += torch.mm(v0.t(), ph0) - torch.mm(vk.t(), phk)\r\n",
                "        self.b += torch.sum((v0 - vk),0)\r\n",
                "        self.a += torch.sum((ph0 - phk),0)"
            ],
            "metadata": {
                "language": "python",
                "azdata_cell_guid": "c81cffee-9d67-4f60-91b2-31bbb91b2ca9"
            },
            "outputs": [],
            "execution_count": 25
        },
        {
            "cell_type": "markdown",
            "source": [
                "Import Datasets"
            ],
            "metadata": {
                "language": "",
                "azdata_cell_guid": "9c047a18-3467-421c-8689-494e3fc6e3ec"
            },
            "attachments": {}
        },
        {
            "cell_type": "code",
            "source": [
                "ratings_dataset = pd.read_csv(\"dataset/Ratings.csv\")\r\n",
                "ratings_dataset.fillna(0, inplace=True)"
            ],
            "metadata": {
                "azdata_cell_guid": "b2fddfa1-94db-4a30-887f-bb2982f79be5",
                "language": "python"
            },
            "outputs": [],
            "execution_count": 26
        },
        {
            "cell_type": "code",
            "source": [
                "ratings_dataset.info()"
            ],
            "metadata": {
                "language": "python",
                "azdata_cell_guid": "f4bd3ea4-f285-488c-9627-c07e125bb41f"
            },
            "outputs": [
                {
                    "output_type": "stream",
                    "name": "stdout",
                    "text": "<class 'pandas.core.frame.DataFrame'>\nRangeIndex: 4848 entries, 0 to 4847\nColumns: 207 entries, user_id to Movie206\ndtypes: float64(206), int64(1)\nmemory usage: 7.7 MB\n"
                }
            ],
            "execution_count": 27
        },
        {
            "cell_type": "code",
            "source": [
                "training_set, test_set = train_test_split(ratings_dataset,shuffle=True, test_size = 0.33)"
            ],
            "metadata": {
                "language": "python",
                "azdata_cell_guid": "7932820f-dd3c-477c-89f2-869f375cec68"
            },
            "outputs": [],
            "execution_count": 28
        },
        {
            "cell_type": "code",
            "source": [
                "def convert(data):\r\n",
                "    new_data = []\r\n",
                "    for i in np.arange(len(data)):\r\n",
                "        new_data.append(data[i,1:].tolist())\r\n",
                "    return new_data"
            ],
            "metadata": {
                "language": "python",
                "azdata_cell_guid": "408331c3-ea3f-4fe8-9e5d-808f34d8054c"
            },
            "outputs": [],
            "execution_count": 29
        },
        {
            "cell_type": "code",
            "source": [
                "training_set = convert(training_set.values)\r\n",
                "test_set = convert(test_set.values)"
            ],
            "metadata": {
                "language": "python",
                "azdata_cell_guid": "a6e79ea0-c017-4a5e-95f1-290fc88da7a3"
            },
            "outputs": [],
            "execution_count": 30
        },
        {
            "cell_type": "code",
            "source": [
                "print(type(training_set))"
            ],
            "metadata": {
                "language": "python",
                "azdata_cell_guid": "a427f2a5-1cdd-48a2-9341-4726d5e6da31"
            },
            "outputs": [
                {
                    "output_type": "stream",
                    "name": "stdout",
                    "text": "<class 'list'>\n"
                }
            ],
            "execution_count": 31
        },
        {
            "cell_type": "code",
            "source": [
                "training_set = torch.FloatTensor(training_set)\r\n",
                "test_set = torch.FloatTensor(test_set)"
            ],
            "metadata": {
                "language": "python",
                "azdata_cell_guid": "0637ef70-cdf9-46ab-98ed-67fd845dfd80"
            },
            "outputs": [],
            "execution_count": 32
        },
        {
            "cell_type": "code",
            "source": [
                "training_set[training_set == 0] = -1\r\n",
                "training_set[training_set == 1] = 0\r\n",
                "training_set[training_set == 2] = 0\r\n",
                "training_set[training_set >= 3] = 1\r\n",
                "test_set[test_set == 0] = -1\r\n",
                "test_set[test_set == 1] = 0\r\n",
                "test_set[test_set == 2] = 0\r\n",
                "test_set[test_set >= 3] = 1"
            ],
            "metadata": {
                "language": "python",
                "azdata_cell_guid": "a3b6ea56-ce00-4585-a214-46cbf4172ef9"
            },
            "outputs": [],
            "execution_count": 33
        },
        {
            "cell_type": "code",
            "source": [
                "nv = len(training_set[0])\r\n",
                "nh = 100\r\n",
                "batch_size = 100\r\n",
                "rbm = RBM(nv, nh)"
            ],
            "metadata": {
                "language": "python",
                "azdata_cell_guid": "b722e8f2-0a91-495e-8327-355bbeaf974a"
            },
            "outputs": [],
            "execution_count": 34
        },
        {
            "cell_type": "code",
            "source": [
                "nb_epoch = 10\r\n",
                "nb_users = int(ratings_dataset.shape[0])\r\n",
                "for epoch in range(1, nb_epoch + 1):\r\n",
                "  train_loss = 0\r\n",
                "  s = 0.\r\n",
                "  for id_user in range(0, nb_users - batch_size, batch_size):\r\n",
                "    vk = training_set[id_user : id_user + batch_size]\r\n",
                "    v0 = training_set[id_user : id_user + batch_size]\r\n",
                "    ph0,_ = rbm.sample_h(v0)\r\n",
                "    for k in range(10):\r\n",
                "      _,hk = rbm.sample_h(vk)\r\n",
                "      _,vk = rbm.sample_v(hk)\r\n",
                "      vk[v0<0] = v0[v0<0]\r\n",
                "    phk,_ = rbm.sample_h(vk)\r\n",
                "    rbm.train(v0, vk, ph0, phk)\r\n",
                "    train_loss += torch.mean(torch.abs(v0[v0 >= 0] - vk[v0 >= 0]))\r\n",
                "    s += 1.\r\n",
                "  print('epoch: '+str(epoch)+' loss: '+str(train_loss/s))"
            ],
            "metadata": {
                "language": "python",
                "azdata_cell_guid": "db4c3479-58cd-4510-bd55-214f5bf86d60"
            },
            "outputs": [],
            "execution_count": null
        },
        {
            "cell_type": "code",
            "source": [
                "test_loss = 0\r\n",
                "s = 0.\r\n",
                "for id_user in range(nb_users):\r\n",
                "    v = training_set[id_user:id_user+1]\r\n",
                "    vt = test_set[id_user:id_user+1]\r\n",
                "    if len(vt[vt>=0]) > 0:\r\n",
                "        _,h = rbm.sample_h(v)\r\n",
                "        _,v = rbm.sample_v(h)\r\n",
                "        test_loss += torch.mean(torch.abs(vt[vt>=0] - v[vt>=0]))\r\n",
                "        s += 1.\r\n",
                "print('test loss: '+str(test_loss/s))"
            ],
            "metadata": {
                "language": "python",
                "azdata_cell_guid": "f83549ad-d714-4b70-a7a0-2e60377980e6"
            },
            "outputs": [],
            "execution_count": null
        }
    ]
}