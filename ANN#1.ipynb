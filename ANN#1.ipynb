{
    "metadata": {
        "kernelspec": {
            "name": "python3",
            "display_name": "Python 3 (ipykernel)",
            "language": "python"
        },
        "language_info": {
            "name": "python",
            "version": "3.10.4",
            "mimetype": "text/x-python",
            "codemirror_mode": {
                "name": "ipython",
                "version": 3
            },
            "pygments_lexer": "ipython3",
            "nbconvert_exporter": "python",
            "file_extension": ".py"
        }
    },
    "nbformat_minor": 2,
    "nbformat": 4,
    "cells": [
        {
            "cell_type": "code",
            "source": [
                "import pandas as pd\r\n",
                "import numpy as np\r\n",
                "import tensorflow as tf"
            ],
            "metadata": {
                "azdata_cell_guid": "fe4113da-75e3-40a3-b321-8813662209ff",
                "language": "python",
                "tags": []
            },
            "outputs": [],
            "execution_count": 2
        },
        {
            "cell_type": "code",
            "source": [
                "print(tf.__version__)"
            ],
            "metadata": {
                "language": "python",
                "azdata_cell_guid": "f77b56fd-8e88-4d4e-85de-cea4b02dca96"
            },
            "outputs": [
                {
                    "name": "stdout",
                    "text": "2.10.0\n",
                    "output_type": "stream"
                }
            ],
            "execution_count": 3
        },
        {
            "cell_type": "markdown",
            "source": [
                "## **Data Preprocessing :**"
            ],
            "metadata": {
                "language": "python",
                "azdata_cell_guid": "aec89117-0721-43df-b38f-194b43bb85d7"
            },
            "attachments": {}
        },
        {
            "cell_type": "code",
            "source": [
                "dataset = pd.read_csv('Churn_Modelling.csv')\r\n",
                "X = dataset.iloc[:,3:-1].values\r\n",
                "Y = dataset.iloc[:,-1].values"
            ],
            "metadata": {
                "language": "python",
                "azdata_cell_guid": "dd32e6c2-a4a9-490f-822e-e148fb89c8cb",
                "tags": []
            },
            "outputs": [],
            "execution_count": 4
        },
        {
            "cell_type": "code",
            "source": [
                "print(X)"
            ],
            "metadata": {
                "language": "python",
                "azdata_cell_guid": "6851699e-4a26-4d81-8fac-b0b904c79f75"
            },
            "outputs": [
                {
                    "name": "stdout",
                    "text": "[[619 'France' 'Female' ... 1 1 101348.88]\n [608 'Spain' 'Female' ... 0 1 112542.58]\n [502 'France' 'Female' ... 1 0 113931.57]\n ...\n [709 'France' 'Female' ... 0 1 42085.58]\n [772 'Germany' 'Male' ... 1 0 92888.52]\n [792 'France' 'Female' ... 1 0 38190.78]]\n",
                    "output_type": "stream"
                }
            ],
            "execution_count": 5
        },
        {
            "cell_type": "code",
            "source": [
                "print(Y)"
            ],
            "metadata": {
                "language": "python",
                "azdata_cell_guid": "3c51faae-db7b-48dd-97e4-356566874f18"
            },
            "outputs": [
                {
                    "name": "stdout",
                    "text": "[1 0 1 ... 1 1 0]\n",
                    "output_type": "stream"
                }
            ],
            "execution_count": 6
        },
        {
            "cell_type": "code",
            "source": [
                "from sklearn.preprocessing import LabelEncoder\r\n",
                "le = LabelEncoder()\r\n",
                "X[:, 2] = le.fit_transform(X[:, 2])"
            ],
            "metadata": {
                "language": "python",
                "azdata_cell_guid": "e10c6ece-39ee-4eaf-a7f9-9c91debb9b12",
                "tags": []
            },
            "outputs": [],
            "execution_count": 7
        },
        {
            "cell_type": "code",
            "source": [
                "print(X)"
            ],
            "metadata": {
                "language": "python",
                "azdata_cell_guid": "20defbed-db93-4d9d-9cb3-24c17b6bbb6d"
            },
            "outputs": [
                {
                    "name": "stdout",
                    "text": "[[619 'France' 0 ... 1 1 101348.88]\n [608 'Spain' 0 ... 0 1 112542.58]\n [502 'France' 0 ... 1 0 113931.57]\n ...\n [709 'France' 0 ... 0 1 42085.58]\n [772 'Germany' 1 ... 1 0 92888.52]\n [792 'France' 0 ... 1 0 38190.78]]\n",
                    "output_type": "stream"
                }
            ],
            "execution_count": 8
        },
        {
            "cell_type": "code",
            "source": [
                "from sklearn.compose import ColumnTransformer\r\n",
                "from sklearn.preprocessing import OneHotEncoder\r\n",
                "ct = ColumnTransformer(transformers=[('encoder',OneHotEncoder(),[1])],remainder='passthrough')\r\n",
                "X = np.array(ct.fit_transform(X))"
            ],
            "metadata": {
                "language": "python",
                "azdata_cell_guid": "ecfb5f9f-ffcc-4365-970b-e528d5790c83",
                "tags": []
            },
            "outputs": [],
            "execution_count": 9
        },
        {
            "cell_type": "code",
            "source": [
                "print(X)"
            ],
            "metadata": {
                "language": "python",
                "azdata_cell_guid": "c52efc2a-8f5b-4337-a058-2858d7e726da"
            },
            "outputs": [
                {
                    "name": "stdout",
                    "text": "[[1.0 0.0 0.0 ... 1 1 101348.88]\n [0.0 0.0 1.0 ... 0 1 112542.58]\n [1.0 0.0 0.0 ... 1 0 113931.57]\n ...\n [1.0 0.0 0.0 ... 0 1 42085.58]\n [0.0 1.0 0.0 ... 1 0 92888.52]\n [1.0 0.0 0.0 ... 1 0 38190.78]]\n",
                    "output_type": "stream"
                }
            ],
            "execution_count": 10
        },
        {
            "cell_type": "code",
            "source": [
                "# Split the dataset into training set and test set : an 4:1 ratio is recommended for the split \r\n",
                "from sklearn.model_selection import train_test_split\r\n",
                "X_train, X_test, Y_train, Y_test = train_test_split(X, Y, test_size = 0.2, random_state = 1)"
            ],
            "metadata": {
                "language": "python",
                "azdata_cell_guid": "bbb4fcfe-fcbf-4991-a3f9-dd833d6b8e48"
            },
            "outputs": [],
            "execution_count": 11
        },
        {
            "cell_type": "markdown",
            "source": [
                "**Feature Scaling**"
            ],
            "metadata": {
                "language": "python",
                "azdata_cell_guid": "1cf205bb-4650-42f3-b7b6-453ee2f7b24c"
            },
            "attachments": {}
        },
        {
            "cell_type": "code",
            "source": [
                "from sklearn.preprocessing import StandardScaler\r\n",
                "sc = StandardScaler()\r\n",
                "X_train = sc.fit_transform(X_train)\r\n",
                "X_test = sc.transform(X_test)"
            ],
            "metadata": {
                "language": "python",
                "azdata_cell_guid": "02f30f62-06a8-4a7b-a478-89a80359e555"
            },
            "outputs": [],
            "execution_count": 12
        },
        {
            "cell_type": "markdown",
            "source": [
                "## **Building the ANN**"
            ],
            "metadata": {
                "language": "python",
                "azdata_cell_guid": "be7b222a-9dc3-41a3-a362-301a1edc92af"
            },
            "attachments": {}
        },
        {
            "cell_type": "code",
            "source": [
                "ANN = tf.keras.models.Sequential()"
            ],
            "metadata": {
                "language": "python",
                "azdata_cell_guid": "cd975581-a2e9-4f74-a92a-6f129bfa109d"
            },
            "outputs": [],
            "execution_count": 13
        },
        {
            "cell_type": "code",
            "source": [
                "# Input layer and the First Hidden layer\r\n",
                "ANN.add(tf.keras.layers.Dense(units=6, activation='relu'))\r\n",
                "# Second Hidden layer\r\n",
                "ANN.add(tf.keras.layers.Dense(units=6, activation='relu'))\r\n",
                "# Output layer\r\n",
                "ANN.add(tf.keras.layers.Dense(units=1, activation='sigmoid'))"
            ],
            "metadata": {
                "language": "python",
                "azdata_cell_guid": "dd1be1f3-d8e9-4028-a074-79f217caa354",
                "tags": []
            },
            "outputs": [],
            "execution_count": 14
        },
        {
            "cell_type": "markdown",
            "source": [
                "## **Training the ANN**"
            ],
            "metadata": {
                "language": "python",
                "azdata_cell_guid": "4b0e7e41-c341-4dc3-ba0d-8091c9f745e1"
            },
            "attachments": {}
        },
        {
            "cell_type": "code",
            "source": [
                "ANN.compile(optimizer = 'adam', loss = 'binary_crossentropy', metrics = ['accuracy'])"
            ],
            "metadata": {
                "language": "python",
                "azdata_cell_guid": "77321fac-3344-4922-aeb3-72ab906ccf46"
            },
            "outputs": [],
            "execution_count": 15
        },
        {
            "cell_type": "code",
            "source": [
                "ANN.fit(X_train, Y_train, batch_size = 32, epochs = 100)  "
            ],
            "metadata": {
                "language": "python",
                "azdata_cell_guid": "93a5a821-ad11-4047-9dba-dda317cee277"
            },
            "outputs": [
                {
                    "name": "stdout",
                    "text": "Epoch 1/100\n",
                    "output_type": "stream"
                },
                {
                    "name": "stdout",
                    "text": "\r  1/250 [..............................] - ETA: 1:47 - loss: 0.6046 - accuracy: 0.8125",
                    "output_type": "stream"
                },
                {
                    "name": "stdout",
                    "text": "\b\b\b\b\b\b\b\b\b\b\b\b\b\b\b\b\b\b\b\b\b\b\b\b\b\b\b\b\b\b\b\b\b\b\b\b\b\b\b\b\b\b\b\b\b\b\b\b\b\b\b\b\b\b\b\b\b\b\b\b\b\b\b\b\b\b\b\b\b\b\b\b\b\b\b\b\b\b\b\b\b\b\b\b\b\b\r 42/250 [====>.........................] - ETA: 0s - loss: 0.5552 - accuracy: 0.7857  ",
                    "output_type": "stream"
                },
                {
                    "name": "stdout",
                    "text": "\b\b\b\b\b\b\b\b\b\b\b\b\b\b\b\b\b\b\b\b\b\b\b\b\b\b\b\b\b\b\b\b\b\b\b\b\b\b\b\b\b\b\b\b\b\b\b\b\b\b\b\b\b\b\b\b\b\b\b\b\b\b\b\b\b\b\b\b\b\b\b\b\b\b\b\b\b\b\b\b\b\b\b\b\r 90/250 [=========>....................] - ETA: 0s - loss: 0.5203 - accuracy: 0.8031",
                    "output_type": "stream"
                },
                {
                    "name": "stdout",
                    "text": "\b\b\b\b\b\b\b\b\b\b\b\b\b\b\b\b\b\b\b\b\b\b\b\b\b\b\b\b\b\b\b\b\b\b\b\b\b\b\b\b\b\b\b\b\b\b\b\b\b\b\b\b\b\b\b\b\b\b\b\b\b\b\b\b\b\b\b\b\b\b\b\b\b\b\b\b\b\b\b\b\b\b\b\b\r134/250 [===============>..............] - ETA: 0s - loss: 0.5114 - accuracy: 0.8039",
                    "output_type": "stream"
                },
                {
                    "name": "stdout",
                    "text": "\b\b\b\b\b\b\b\b\b\b\b\b\b\b\b\b\b\b\b\b\b\b\b\b\b\b\b\b\b\b\b\b\b\b\b\b\b\b\b\b\b\b\b\b\b\b\b\b\b\b\b\b\b\b\b\b\b\b\b\b\b\b\b\b\b\b\b\b\b\b\b\b\b\b\b\b\b\b\b\b\b\b\b\b\r183/250 [====================>.........] - ETA: 0s - loss: 0.5075 - accuracy: 0.7990",
                    "output_type": "stream"
                },
                {
                    "name": "stdout",
                    "text": "\b\b\b\b\b\b\b\b\b\b\b\b\b\b\b\b\b\b\b\b\b\b\b\b\b\b\b\b\b\b\b\b\b\b\b\b\b\b\b\b\b\b\b\b\b\b\b\b\b\b\b\b\b\b\b\b\b\b\b\b\b\b\b\b\b\b\b\b\b\b\b\b\b\b\b\b\b\b\b\b\b\b\b\b\r231/250 [==========================>...] - ETA: 0s - loss: 0.5021 - accuracy: 0.7964",
                    "output_type": "stream"
                },
                {
                    "name": "stdout",
                    "text": "\b\b\b\b\b\b\b\b\b\b\b\b\b\b\b\b\b\b\b\b\b\b\b\b\b\b\b\b\b\b\b\b\b\b\b\b\b\b\b\b\b\b\b\b\b\b\b\b\b\b\b\b\b\b\b\b\b\b\b\b\b\b\b\b\b\b\b\b\b\b\b\b\b\b\b\b\b\b\b\b\b\b\b\b\r250/250 [==============================] - 1s 1ms/step - loss: 0.5000 - accuracy: 0.7971\n",
                    "output_type": "stream"
                },
                {
                    "name": "stdout",
                    "text": "Epoch 2/100\n",
                    "output_type": "stream"
                },
                {
                    "name": "stdout",
                    "text": "\r  1/250 [..............................] - ETA: 0s - loss: 0.5555 - accuracy: 0.7188",
                    "output_type": "stream"
                },
                {
                    "name": "stdout",
                    "text": "\b\b\b\b\b\b\b\b\b\b\b\b\b\b\b\b\b\b\b\b\b\b\b\b\b\b\b\b\b\b\b\b\b\b\b\b\b\b\b\b\b\b\b\b\b\b\b\b\b\b\b\b\b\b\b\b\b\b\b\b\b\b\b\b\b\b\b\b\b\b\b\b\b\b\b\b\b\b\b\b\b\b\b\b\r 41/250 [===>..........................] - ETA: 0s - loss: 0.5042 - accuracy: 0.7797",
                    "output_type": "stream"
                },
                {
                    "name": "stdout",
                    "text": "\b\b\b\b\b\b\b\b\b\b\b\b\b\b\b\b\b\b\b\b\b\b\b\b\b\b\b\b\b\b\b\b\b\b\b\b\b\b\b\b\b\b\b\b\b\b\b\b\b\b\b\b\b\b\b\b\b\b\b\b\b\b\b\b\b\b\b\b\b\b\b\b\b\b\b\b\b\b\b\b\b\b\b\b\r 88/250 [=========>....................] - ETA: 0s - loss: 0.4834 - accuracy: 0.7915",
                    "output_type": "stream"
                },
                {
                    "name": "stdout",
                    "text": "\b\b\b\b\b\b\b\b\b\b\b\b\b\b\b\b\b\b\b\b\b\b\b\b\b\b\b\b\b\b\b\b\b\b\b\b\b\b\b\b\b\b\b\b\b\b\b\b\b\b\b\b\b\b\b\b\b\b\b\b\b\b\b\b\b\b\b\b\b\b\b\b\b\b\b\b\b\b\b\b\b\b\b\b\r124/250 [=============>................] - ETA: 0s - loss: 0.4771 - accuracy: 0.7931",
                    "output_type": "stream"
                },
                {
                    "name": "stdout",
                    "text": "\b\b\b\b\b\b\b\b\b\b\b\b\b\b\b\b\b\b\b\b\b\b\b\b\b\b\b\b\b\b\b\b\b\b\b\b\b\b\b\b\b\b\b\b\b\b\b\b\b\b\b\b\b\b\b\b\b\b\b\b\b\b\b\b\b\b\b\b\b\b\b\b\b\b\b\b\b\b\b\b\b\b\b\b\r166/250 [==================>...........] - ETA: 0s - loss: 0.4702 - accuracy: 0.7927",
                    "output_type": "stream"
                },
                {
                    "name": "stdout",
                    "text": "\b\b\b\b\b\b\b\b\b\b\b\b\b\b\b\b\b\b\b\b\b\b\b\b\b\b\b\b\b\b\b\b\b\b\b\b\b\b\b\b\b\b\b\b\b\b\b\b\b\b\b\b\b\b\b\b\b\b\b\b\b\b\b\b\b\b\b\b\b\b\b\b\b\b\b\b\b\b\b\b\b\b\b\b\r209/250 [========================>.....] - ETA: 0s - loss: 0.4632 - accuracy: 0.7961",
                    "output_type": "stream"
                },
                {
                    "name": "stdout",
                    "text": "\b\b\b\b\b\b\b\b\b\b\b\b\b\b\b\b\b\b\b\b\b\b\b\b\b\b\b\b\b\b\b\b\b\b\b\b\b\b\b\b\b\b\b\b\b\b\b\b\b\b\b\b\b\b\b\b\b\b\b\b\b\b\b\b\b\b\b\b\b\b\b\b\b\b\b\b\b\b\b\b\b\b\b\b\r250/250 [==============================] - 0s 1ms/step - loss: 0.4596 - accuracy: 0.7972\n",
                    "output_type": "stream"
                },
                {
                    "name": "stdout",
                    "text": "Epoch 3/100\n",
                    "output_type": "stream"
                },
                {
                    "name": "stdout",
                    "text": "\r  1/250 [..............................] - ETA: 0s - loss: 0.4828 - accuracy: 0.7500",
                    "output_type": "stream"
                },
                {
                    "name": "stdout",
                    "text": "\b\b\b\b\b\b\b\b\b\b\b\b\b\b\b\b\b\b\b\b\b\b\b\b\b\b\b\b\b\b\b\b\b\b\b\b\b\b\b\b\b\b\b\b\b\b\b\b\b\b\b\b\b\b\b\b\b\b\b\b\b\b\b\b\b\b\b\b\b\b\b\b\b\b\b\b\b\b\b\b\b\b\b\b\r 43/250 [====>.........................] - ETA: 0s - loss: 0.4440 - accuracy: 0.7987",
                    "output_type": "stream"
                },
                {
                    "name": "stdout",
                    "text": "\b\b\b\b\b\b\b\b\b\b\b\b\b\b\b\b\b\b\b\b\b\b\b\b\b\b\b\b\b\b\b\b\b\b\b\b\b\b\b\b\b\b\b\b\b\b\b\b\b\b\b\b\b\b\b\b\b\b\b\b\b\b\b\b\b\b\b\b\b\b\b\b\b\b\b\b\b\b\b\b\b\b\b\b\r 92/250 [==========>...................] - ETA: 0s - loss: 0.4583 - accuracy: 0.7863",
                    "output_type": "stream"
                },
                {
                    "name": "stdout",
                    "text": "\b\b\b\b\b\b\b\b\b\b\b\b\b\b\b\b\b\b\b\b\b\b\b\b\b\b\b\b\b\b\b\b\b\b\b\b\b\b\b\b\b\b\b\b\b\b\b\b\b\b\b\b\b\b\b\b\b\b\b\b\b\b\b\b\b\b\b\b\b\b\b\b\b\b\b\b\b\b\b\b\b\b\b\b\r132/250 [==============>...............] - ETA: 0s - loss: 0.4590 - accuracy: 0.7865",
                    "output_type": "stream"
                },
                {
                    "name": "stdout",
                    "text": "\b\b\b\b\b\b\b\b\b\b\b\b\b\b\b\b\b\b\b\b\b\b\b\b\b\b\b\b\b\b\b\b\b\b\b\b\b\b\b\b\b\b\b\b\b\b\b\b\b\b\b\b\b\b\b\b\b\b\b\b\b\b\b\b\b\b\b\b\b\b\b\b\b\b\b\b\b\b\b\b\b\b\b\b\r180/250 [====================>.........] - ETA: 0s - loss: 0.4511 - accuracy: 0.7934",
                    "output_type": "stream"
                },
                {
                    "name": "stdout",
                    "text": "\b\b\b\b\b\b\b\b\b\b\b\b\b\b\b\b\b\b\b\b\b\b\b\b\b\b\b\b\b\b\b\b\b\b\b\b\b\b\b\b\b\b\b\b\b\b\b\b\b\b\b\b\b\b\b\b\b\b\b\b\b\b\b\b\b\b\b\b\b\b\b\b\b\b\b\b\b\b\b\b\b\b\b\b\r233/250 [==========================>...] - ETA: 0s - loss: 0.4479 - accuracy: 0.7960",
                    "output_type": "stream"
                },
                {
                    "name": "stdout",
                    "text": "\b\b\b\b\b\b\b\b\b\b\b\b\b\b\b\b\b\b\b\b\b\b\b\b\b\b\b\b\b\b\b\b\b\b\b\b\b\b\b\b\b\b\b\b\b\b\b\b\b\b\b\b\b\b\b\b\b\b\b\b\b\b\b\b\b\b\b\b\b\b\b\b\b\b\b\b\b\b\b\b\b\b\b\b\r250/250 [==============================] - 0s 1ms/step - loss: 0.4453 - accuracy: 0.7972\n",
                    "output_type": "stream"
                },
                {
                    "name": "stdout",
                    "text": "Epoch 4/100\n",
                    "output_type": "stream"
                },
                {
                    "name": "stdout",
                    "text": "\r  1/250 [..............................] - ETA: 0s - loss: 0.5545 - accuracy: 0.7500",
                    "output_type": "stream"
                },
                {
                    "name": "stdout",
                    "text": "\b\b\b\b\b\b\b\b\b\b\b\b\b\b\b\b\b\b\b\b\b\b\b\b\b\b\b\b\b\b\b\b\b\b\b\b\b\b\b\b\b\b\b\b\b\b\b\b\b\b\b\b\b\b\b\b\b\b\b\b\b\b\b\b\b\b\b\b\b\b\b\b\b\b\b\b\b\b\b\b\b\b\b\b\r 50/250 [=====>........................] - ETA: 0s - loss: 0.4374 - accuracy: 0.8050",
                    "output_type": "stream"
                },
                {
                    "name": "stdout",
                    "text": "\b\b\b\b\b\b\b\b\b\b\b\b\b\b\b\b\b\b\b\b\b\b\b\b\b\b\b\b\b\b\b\b\b\b\b\b\b\b\b\b\b\b\b\b\b\b\b\b\b\b\b\b\b\b\b\b\b\b\b\b\b\b\b\b\b\b\b\b\b\b\b\b\b\b\b\b\b\b\b\b\b\b\b\b\r 91/250 [=========>....................] - ETA: 0s - loss: 0.4314 - accuracy: 0.7995",
                    "output_type": "stream"
                },
                {
                    "name": "stdout",
                    "text": "\b\b\b\b\b\b\b\b\b\b\b\b\b\b\b\b\b\b\b\b\b\b\b\b\b\b\b\b\b\b\b\b\b\b\b\b\b\b\b\b\b\b\b\b\b\b\b\b\b\b\b\b\b\b\b\b\b\b\b\b\b\b\b\b\b\b\b\b\b\b\b\b\b\b\b\b\b\b\b\b\b\b\b\b\r134/250 [===============>..............] - ETA: 0s - loss: 0.4324 - accuracy: 0.7973",
                    "output_type": "stream"
                },
                {
                    "name": "stdout",
                    "text": "\b\b\b\b\b\b\b\b\b\b\b\b\b\b\b\b\b\b\b\b\b\b\b\b\b\b\b\b\b\b\b\b\b\b\b\b\b\b\b\b\b\b\b\b\b\b\b\b\b\b\b\b\b\b\b\b\b\b\b\b\b\b\b\b\b\b\b\b\b\b\b\b\b\b\b\b\b\b\b\b\b\b\b\b\r181/250 [====================>.........] - ETA: 0s - loss: 0.4352 - accuracy: 0.7987",
                    "output_type": "stream"
                },
                {
                    "name": "stdout",
                    "text": "\b\b\b\b\b\b\b\b\b\b\b\b\b\b\b\b\b\b\b\b\b\b\b\b\b\b\b\b\b\b\b\b\b\b\b\b\b\b\b\b\b\b\b\b\b\b\b\b\b\b\b\b\b\b\b\b\b\b\b\b\b\b\b\b\b\b\b\b\b\b\b\b\b\b\b\b\b\b\b\b\b\b\b\b\r231/250 [==========================>...] - ETA: 0s - loss: 0.4345 - accuracy: 0.7984",
                    "output_type": "stream"
                },
                {
                    "name": "stdout",
                    "text": "\b\b\b\b\b\b\b\b\b\b\b\b\b\b\b\b\b\b\b\b\b\b\b\b\b\b\b\b\b\b\b\b\b\b\b\b\b\b\b\b\b\b\b\b\b\b\b\b\b\b\b\b\b\b\b\b\b\b\b\b\b\b\b\b\b\b\b\b\b\b\b\b\b\b\b\b\b\b\b\b\b\b\b\b\r250/250 [==============================] - 0s 1ms/step - loss: 0.4372 - accuracy: 0.7972\n",
                    "output_type": "stream"
                },
                {
                    "name": "stdout",
                    "text": "Epoch 5/100\n",
                    "output_type": "stream"
                },
                {
                    "name": "stdout",
                    "text": "\r  1/250 [..............................] - ETA: 0s - loss: 0.5162 - accuracy: 0.6875",
                    "output_type": "stream"
                },
                {
                    "name": "stdout",
                    "text": "\b\b\b\b\b\b\b\b\b\b\b\b\b\b\b\b\b\b\b\b\b\b\b\b\b\b\b\b\b\b\b\b\b\b\b\b\b\b\b\b\b\b\b\b\b\b\b\b\b\b\b\b\b\b\b\b\b\b\b\b\b\b\b\b\b\b\b\b\b\b\b\b\b\b\b\b\b\b\b\b\b\b\b\b\r 47/250 [====>.........................] - ETA: 0s - loss: 0.4304 - accuracy: 0.8039",
                    "output_type": "stream"
                },
                {
                    "name": "stdout",
                    "text": "\b\b\b\b\b\b\b\b\b\b\b\b\b\b\b\b\b\b\b\b\b\b\b\b\b\b\b\b\b\b\b\b\b\b\b\b\b\b\b\b\b\b\b\b\b\b\b\b\b\b\b\b\b\b\b\b\b\b\b\b\b\b\b\b\b\b\b\b\b\b\b\b\b\b\b\b\b\b\b\b\b\b\b\b\r 89/250 [=========>....................] - ETA: 0s - loss: 0.4346 - accuracy: 0.8013",
                    "output_type": "stream"
                },
                {
                    "name": "stdout",
                    "text": "\b\b\b\b\b\b\b\b\b\b\b\b\b\b\b\b\b\b\b\b\b\b\b\b\b\b\b\b\b\b\b\b\b\b\b\b\b\b\b\b\b\b\b\b\b\b\b\b\b\b\b\b\b\b\b\b\b\b\b\b\b\b\b\b\b\b\b\b\b\b\b\b\b\b\b\b\b\b\b\b\b\b\b\b\r137/250 [===============>..............] - ETA: 0s - loss: 0.4267 - accuracy: 0.8027",
                    "output_type": "stream"
                },
                {
                    "name": "stdout",
                    "text": "\b\b\b\b\b\b\b\b\b\b\b\b\b\b\b\b\b\b\b\b\b\b\b\b\b\b\b\b\b\b\b\b\b\b\b\b\b\b\b\b\b\b\b\b\b\b\b\b\b\b\b\b\b\b\b\b\b\b\b\b\b\b\b\b\b\b\b\b\b\b\b\b\b\b\b\b\b\b\b\b\b\b\b\b\r188/250 [=====================>........] - ETA: 0s - loss: 0.4293 - accuracy: 0.8009",
                    "output_type": "stream"
                },
                {
                    "name": "stdout",
                    "text": "\b\b\b\b\b\b\b\b\b\b\b\b\b\b\b\b\b\b\b\b\b\b\b\b\b\b\b\b\b\b\b\b\b\b\b\b\b\b\b\b\b\b\b\b\b\b\b\b\b\b\b\b\b\b\b\b\b\b\b\b\b\b\b\b\b\b\b\b\b\b\b\b\b\b\b\b\b\b\b\b\b\b\b\b\r238/250 [===========================>..] - ETA: 0s - loss: 0.4313 - accuracy: 0.8012",
                    "output_type": "stream"
                },
                {
                    "name": "stdout",
                    "text": "\b\b\b\b\b\b\b\b\b\b\b\b\b\b\b\b\b\b\b\b\b\b\b\b\b\b\b\b\b\b\b\b\b\b\b\b\b\b\b\b\b\b\b\b\b\b\b\b\b\b\b\b\b\b\b\b\b\b\b\b\b\b\b\b\b\b\b\b\b\b\b\b\b\b\b\b\b\b\b\b\b\b\b\b\r250/250 [==============================] - 0s 1ms/step - loss: 0.4319 - accuracy: 0.8015\n",
                    "output_type": "stream"
                },
                {
                    "name": "stdout",
                    "text": "Epoch 6/100\n",
                    "output_type": "stream"
                },
                {
                    "name": "stdout",
                    "text": "\r  1/250 [..............................] - ETA: 0s - loss: 0.3243 - accuracy: 0.9062",
                    "output_type": "stream"
                },
                {
                    "name": "stdout",
                    "text": "\b\b\b\b\b\b\b\b\b\b\b\b\b\b\b\b\b\b\b\b\b\b\b\b\b\b\b\b\b\b\b\b\b\b\b\b\b\b\b\b\b\b\b\b\b\b\b\b\b\b\b\b\b\b\b\b\b\b\b\b\b\b\b\b\b\b\b\b\b\b\b\b\b\b\b\b\b\b\b\b\b\b\b\b\r 50/250 [=====>........................] - ETA: 0s - loss: 0.4143 - accuracy: 0.8306",
                    "output_type": "stream"
                },
                {
                    "name": "stdout",
                    "text": "\b\b\b\b\b\b\b\b\b\b\b\b\b\b\b\b\b\b\b\b\b\b\b\b\b\b\b\b\b\b\b\b\b\b\b\b\b\b\b\b\b\b\b\b\b\b\b\b\b\b\b\b\b\b\b\b\b\b\b\b\b\b\b\b\b\b\b\b\b\b\b\b\b\b\b\b\b\b\b\b\b\b\b\b\r 95/250 [==========>...................] - ETA: 0s - loss: 0.4263 - accuracy: 0.8151",
                    "output_type": "stream"
                },
                {
                    "name": "stdout",
                    "text": "\b\b\b\b\b\b\b\b\b\b\b\b\b\b\b\b\b\b\b\b\b\b\b\b\b\b\b\b\b\b\b\b\b\b\b\b\b\b\b\b\b\b\b\b\b\b\b\b\b\b\b\b\b\b\b\b\b\b\b\b\b\b\b\b\b\b\b\b\b\b\b\b\b\b\b\b\b\b\b\b\b\b\b\b\r144/250 [================>.............] - ETA: 0s - loss: 0.4361 - accuracy: 0.8084",
                    "output_type": "stream"
                },
                {
                    "name": "stdout",
                    "text": "\b\b\b\b\b\b\b\b\b\b\b\b\b\b\b\b\b\b\b\b\b\b\b\b\b\b\b\b\b\b\b\b\b\b\b\b\b\b\b\b\b\b\b\b\b\b\b\b\b\b\b\b\b\b\b\b\b\b\b\b\b\b\b\b\b\b\b\b\b\b\b\b\b\b\b\b\b\b\b\b\b\b\b\b\r190/250 [=====================>........] - ETA: 0s - loss: 0.4303 - accuracy: 0.8099",
                    "output_type": "stream"
                },
                {
                    "name": "stdout",
                    "text": "\b\b\b\b\b\b\b\b\b\b\b\b\b\b\b\b\b\b\b\b\b\b\b\b\b\b\b\b\b\b\b\b\b\b\b\b\b\b\b\b\b\b\b\b\b\b\b\b\b\b\b\b\b\b\b\b\b\b\b\b\b\b\b\b\b\b\b\b\b\b\b\b\b\b\b\b\b\b\b\b\b\b\b\b\r241/250 [===========================>..] - ETA: 0s - loss: 0.4292 - accuracy: 0.8125",
                    "output_type": "stream"
                },
                {
                    "name": "stdout",
                    "text": "\b\b\b\b\b\b\b\b\b\b\b\b\b\b\b\b\b\b\b\b\b\b\b\b\b\b\b\b\b\b\b\b\b\b\b\b\b\b\b\b\b\b\b\b\b\b\b\b\b\b\b\b\b\b\b\b\b\b\b\b\b\b\b\b\b\b\b\b\b\b\b\b\b\b\b\b\b\b\b\b\b\b\b\b\r250/250 [==============================] - 0s 1ms/step - loss: 0.4278 - accuracy: 0.8134\n",
                    "output_type": "stream"
                },
                {
                    "name": "stdout",
                    "text": "Epoch 7/100\n",
                    "output_type": "stream"
                },
                {
                    "name": "stdout",
                    "text": "\r  1/250 [..............................] - ETA: 0s - loss: 0.2720 - accuracy: 0.9375",
                    "output_type": "stream"
                },
                {
                    "name": "stdout",
                    "text": "\b\b\b\b\b\b\b\b\b\b\b\b\b\b\b\b\b\b\b\b\b\b\b\b\b\b\b\b\b\b\b\b\b\b\b\b\b\b\b\b\b\b\b\b\b\b\b\b\b\b\b\b\b\b\b\b\b\b\b\b\b\b\b\b\b\b\b\b\b\b\b\b\b\b\b\b\b\b\b\b\b\b\b\b\r 48/250 [====>.........................] - ETA: 0s - loss: 0.4145 - accuracy: 0.8190",
                    "output_type": "stream"
                },
                {
                    "name": "stdout",
                    "text": "\b\b\b\b\b\b\b\b\b\b\b\b\b\b\b\b\b\b\b\b\b\b\b\b\b\b\b\b\b\b\b\b\b\b\b\b\b\b\b\b\b\b\b\b\b\b\b\b\b\b\b\b\b\b\b\b\b\b\b\b\b\b\b\b\b\b\b\b\b\b\b\b\b\b\b\b\b\b\b\b\b\b\b\b\r 89/250 [=========>....................] - ETA: 0s - loss: 0.4278 - accuracy: 0.8160",
                    "output_type": "stream"
                },
                {
                    "name": "stdout",
                    "text": "\b\b\b\b\b\b\b\b\b\b\b\b\b\b\b\b\b\b\b\b\b\b\b\b\b\b\b\b\b\b\b\b\b\b\b\b\b\b\b\b\b\b\b\b\b\b\b\b\b\b\b\b\b\b\b\b\b\b\b\b\b\b\b\b\b\b\b\b\b\b\b\b\b\b\b\b\b\b\b\b\b\b\b\b\r133/250 [==============>...............] - ETA: 0s - loss: 0.4268 - accuracy: 0.8160",
                    "output_type": "stream"
                },
                {
                    "name": "stdout",
                    "text": "\b\b\b\b\b\b\b\b\b\b\b\b\b\b\b\b\b\b\b\b\b\b\b\b\b\b\b\b\b\b\b\b\b\b\b\b\b\b\b\b\b\b\b\b\b\b\b\b\b\b\b\b\b\b\b\b\b\b\b\b\b\b\b\b\b\b\b\b\b\b\b\b\b\b\b\b\b\b\b\b\b\b\b\b\r178/250 [====================>.........] - ETA: 0s - loss: 0.4256 - accuracy: 0.8164",
                    "output_type": "stream"
                },
                {
                    "name": "stdout",
                    "text": "\b\b\b\b\b\b\b\b\b\b\b\b\b\b\b\b\b\b\b\b\b\b\b\b\b\b\b\b\b\b\b\b\b\b\b\b\b\b\b\b\b\b\b\b\b\b\b\b\b\b\b\b\b\b\b\b\b\b\b\b\b\b\b\b\b\b\b\b\b\b\b\b\b\b\b\b\b\b\b\b\b\b\b\b\r228/250 [==========================>...] - ETA: 0s - loss: 0.4223 - accuracy: 0.8184",
                    "output_type": "stream"
                },
                {
                    "name": "stdout",
                    "text": "\b\b\b\b\b\b\b\b\b\b\b\b\b\b\b\b\b\b\b\b\b\b\b\b\b\b\b\b\b\b\b\b\b\b\b\b\b\b\b\b\b\b\b\b\b\b\b\b\b\b\b\b\b\b\b\b\b\b\b\b\b\b\b\b\b\b\b\b\b\b\b\b\b\b\b\b\b\b\b\b\b\b\b\b\r250/250 [==============================] - 0s 1ms/step - loss: 0.4245 - accuracy: 0.8177\n",
                    "output_type": "stream"
                },
                {
                    "name": "stdout",
                    "text": "Epoch 8/100\n",
                    "output_type": "stream"
                },
                {
                    "name": "stdout",
                    "text": "\r  1/250 [..............................] - ETA: 0s - loss: 0.3736 - accuracy: 0.7812",
                    "output_type": "stream"
                },
                {
                    "name": "stdout",
                    "text": "\b\b\b\b\b\b\b\b\b\b\b\b\b\b\b\b\b\b\b\b\b\b\b\b\b\b\b\b\b\b\b\b\b\b\b\b\b\b\b\b\b\b\b\b\b\b\b\b\b\b\b\b\b\b\b\b\b\b\b\b\b\b\b\b\b\b\b\b\b\b\b\b\b\b\b\b\b\b\b\b\b\b\b\b\r 43/250 [====>.........................] - ETA: 0s - loss: 0.4195 - accuracy: 0.8169",
                    "output_type": "stream"
                },
                {
                    "name": "stdout",
                    "text": "\b\b\b\b\b\b\b\b\b\b\b\b\b\b\b\b\b\b\b\b\b\b\b\b\b\b\b\b\b\b\b\b\b\b\b\b\b\b\b\b\b\b\b\b\b\b\b\b\b\b\b\b\b\b\b\b\b\b\b\b\b\b\b\b\b\b\b\b\b\b\b\b\b\b\b\b\b\b\b\b\b\b\b\b\r 93/250 [==========>...................] - ETA: 0s - loss: 0.4144 - accuracy: 0.8206",
                    "output_type": "stream"
                },
                {
                    "name": "stdout",
                    "text": "\b\b\b\b\b\b\b\b\b\b\b\b\b\b\b\b\b\b\b\b\b\b\b\b\b\b\b\b\b\b\b\b\b\b\b\b\b\b\b\b\b\b\b\b\b\b\b\b\b\b\b\b\b\b\b\b\b\b\b\b\b\b\b\b\b\b\b\b\b\b\b\b\b\b\b\b\b\b\b\b\b\b\b\b\r142/250 [================>.............] - ETA: 0s - loss: 0.4143 - accuracy: 0.8242",
                    "output_type": "stream"
                },
                {
                    "name": "stdout",
                    "text": "\b\b\b\b\b\b\b\b\b\b\b\b\b\b\b\b\b\b\b\b\b\b\b\b\b\b\b\b\b\b\b\b\b\b\b\b\b\b\b\b\b\b\b\b\b\b\b\b\b\b\b\b\b\b\b\b\b\b\b\b\b\b\b\b\b\b\b\b\b\b\b\b\b\b\b\b\b\b\b\b\b\b\b\b\r186/250 [=====================>........] - ETA: 0s - loss: 0.4210 - accuracy: 0.8212",
                    "output_type": "stream"
                },
                {
                    "name": "stdout",
                    "text": "\b\b\b\b\b\b\b\b\b\b\b\b\b\b\b\b\b\b\b\b\b\b\b\b\b\b\b\b\b\b\b\b\b\b\b\b\b\b\b\b\b\b\b\b\b\b\b\b\b\b\b\b\b\b\b\b\b\b\b\b\b\b\b\b\b\b\b\b\b\b\b\b\b\b\b\b\b\b\b\b\b\b\b\b\r228/250 [==========================>...] - ETA: 0s - loss: 0.4235 - accuracy: 0.8196",
                    "output_type": "stream"
                },
                {
                    "name": "stdout",
                    "text": "\b\b\b\b\b\b\b\b\b\b\b\b\b\b\b\b\b\b\b\b\b\b\b\b\b\b\b\b\b\b\b\b\b\b\b\b\b\b\b\b\b\b\b\b\b\b\b\b\b\b\b\b\b\b\b\b\b\b\b\b\b\b\b\b\b\b\b\b\b\b\b\b\b\b\b\b\b\b\b\b\b\b\b\b\r250/250 [==============================] - 0s 1ms/step - loss: 0.4218 - accuracy: 0.8219\n",
                    "output_type": "stream"
                },
                {
                    "name": "stdout",
                    "text": "Epoch 9/100\n",
                    "output_type": "stream"
                },
                {
                    "name": "stdout",
                    "text": "\r  1/250 [..............................] - ETA: 0s - loss: 0.3206 - accuracy: 0.8750",
                    "output_type": "stream"
                },
                {
                    "name": "stdout",
                    "text": "\b\b\b\b\b\b\b\b\b\b\b\b\b\b\b\b\b\b\b\b\b\b\b\b\b\b\b\b\b\b\b\b\b\b\b\b\b\b\b\b\b\b\b\b\b\b\b\b\b\b\b\b\b\b\b\b\b\b\b\b\b\b\b\b\b\b\b\b\b\b\b\b\b\b\b\b\b\b\b\b\b\b\b\b\r 49/250 [====>.........................] - ETA: 0s - loss: 0.4339 - accuracy: 0.8189",
                    "output_type": "stream"
                },
                {
                    "name": "stdout",
                    "text": "\b\b\b\b\b\b\b\b\b\b\b\b\b\b\b\b\b\b\b\b\b\b\b\b\b\b\b\b\b\b\b\b\b\b\b\b\b\b\b\b\b\b\b\b\b\b\b\b\b\b\b\b\b\b\b\b\b\b\b\b\b\b\b\b\b\b\b\b\b\b\b\b\b\b\b\b\b\b\b\b\b\b\b\b\r 93/250 [==========>...................] - ETA: 0s - loss: 0.4208 - accuracy: 0.8239",
                    "output_type": "stream"
                },
                {
                    "name": "stdout",
                    "text": "\b\b\b\b\b\b\b\b\b\b\b\b\b\b\b\b\b\b\b\b\b\b\b\b\b\b\b\b\b\b\b\b\b\b\b\b\b\b\b\b\b\b\b\b\b\b\b\b\b\b\b\b\b\b\b\b\b\b\b\b\b\b\b\b\b\b\b\b\b\b\b\b\b\b\b\b\b\b\b\b\b\b\b\b\r142/250 [================>.............] - ETA: 0s - loss: 0.4192 - accuracy: 0.8246",
                    "output_type": "stream"
                },
                {
                    "name": "stdout",
                    "text": "\b\b\b\b\b\b\b\b\b\b\b\b\b\b\b\b\b\b\b\b\b\b\b\b\b\b\b\b\b\b\b\b\b\b\b\b\b\b\b\b\b\b\b\b\b\b\b\b\b\b\b\b\b\b\b\b\b\b\b\b\b\b\b\b\b\b\b\b\b\b\b\b\b\b\b\b\b\b\b\b\b\b\b\b\r189/250 [=====================>........] - ETA: 0s - loss: 0.4244 - accuracy: 0.8241",
                    "output_type": "stream"
                },
                {
                    "name": "stdout",
                    "text": "\b\b\b\b\b\b\b\b\b\b\b\b\b\b\b\b\b\b\b\b\b\b\b\b\b\b\b\b\b\b\b\b\b\b\b\b\b\b\b\b\b\b\b\b\b\b\b\b\b\b\b\b\b\b\b\b\b\b\b\b\b\b\b\b\b\b\b\b\b\b\b\b\b\b\b\b\b\b\b\b\b\b\b\b\r235/250 [===========================>..] - ETA: 0s - loss: 0.4226 - accuracy: 0.8246",
                    "output_type": "stream"
                },
                {
                    "name": "stdout",
                    "text": "\b\b\b\b\b\b\b\b\b\b\b\b\b\b\b\b\b\b\b\b\b\b\b\b\b\b\b\b\b\b\b\b\b\b\b\b\b\b\b\b\b\b\b\b\b\b\b\b\b\b\b\b\b\b\b\b\b\b\b\b\b\b\b\b\b\b\b\b\b\b\b\b\b\b\b\b\b\b\b\b\b\b\b\b\r250/250 [==============================] - 0s 1ms/step - loss: 0.4195 - accuracy: 0.8261\n",
                    "output_type": "stream"
                },
                {
                    "name": "stdout",
                    "text": "Epoch 10/100\n",
                    "output_type": "stream"
                },
                {
                    "name": "stdout",
                    "text": "\r  1/250 [..............................] - ETA: 0s - loss: 0.4736 - accuracy: 0.8125",
                    "output_type": "stream"
                },
                {
                    "name": "stdout",
                    "text": "\b\b\b\b\b\b\b\b\b\b\b\b\b\b\b\b\b\b\b\b\b\b\b\b\b\b\b\b\b\b\b\b\b\b\b\b\b\b\b\b\b\b\b\b\b\b\b\b\b\b\b\b\b\b\b\b\b\b\b\b\b\b\b\b\b\b\b\b\b\b\b\b\b\b\b\b\b\b\b\b\b\b\b\b\r 38/250 [===>..........................] - ETA: 0s - loss: 0.4333 - accuracy: 0.8298",
                    "output_type": "stream"
                },
                {
                    "name": "stdout",
                    "text": "\b\b\b\b\b\b\b\b\b\b\b\b\b\b\b\b\b\b\b\b\b\b\b\b\b\b\b\b\b\b\b\b\b\b\b\b\b\b\b\b\b\b\b\b\b\b\b\b\b\b\b\b\b\b\b\b\b\b\b\b\b\b\b\b\b\b\b\b\b\b\b\b\b\b\b\b\b\b\b\b\b\b\b\b\r 86/250 [=========>....................] - ETA: 0s - loss: 0.4148 - accuracy: 0.8314",
                    "output_type": "stream"
                },
                {
                    "name": "stdout",
                    "text": "\b\b\b\b\b\b\b\b\b\b\b\b\b\b\b\b\b\b\b\b\b\b\b\b\b\b\b\b\b\b\b\b\b\b\b\b\b\b\b\b\b\b\b\b\b\b\b\b\b\b\b\b\b\b\b\b\b\b\b\b\b\b\b\b\b\b\b\b\b\b\b\b\b\b\b\b\b\b\b\b\b\b\b\b\r131/250 [==============>...............] - ETA: 0s - loss: 0.4210 - accuracy: 0.8273",
                    "output_type": "stream"
                },
                {
                    "name": "stdout",
                    "text": "\b\b\b\b\b\b\b\b\b\b\b\b\b\b\b\b\b\b\b\b\b\b\b\b\b\b\b\b\b\b\b\b\b\b\b\b\b\b\b\b\b\b\b\b\b\b\b\b\b\b\b\b\b\b\b\b\b\b\b\b\b\b\b\b\b\b\b\b\b\b\b\b\b\b\b\b\b\b\b\b\b\b\b\b\r179/250 [====================>.........] - ETA: 0s - loss: 0.4186 - accuracy: 0.8275",
                    "output_type": "stream"
                },
                {
                    "name": "stdout",
                    "text": "\b\b\b\b\b\b\b\b\b\b\b\b\b\b\b\b\b\b\b\b\b\b\b\b\b\b\b\b\b\b\b\b\b\b\b\b\b\b\b\b\b\b\b\b\b\b\b\b\b\b\b\b\b\b\b\b\b\b\b\b\b\b\b\b\b\b\b\b\b\b\b\b\b\b\b\b\b\b\b\b\b\b\b\b\r226/250 [==========================>...] - ETA: 0s - loss: 0.4172 - accuracy: 0.8261",
                    "output_type": "stream"
                },
                {
                    "name": "stdout",
                    "text": "\b\b\b\b\b\b\b\b\b\b\b\b\b\b\b\b\b\b\b\b\b\b\b\b\b\b\b\b\b\b\b\b\b\b\b\b\b\b\b\b\b\b\b\b\b\b\b\b\b\b\b\b\b\b\b\b\b\b\b\b\b\b\b\b\b\b\b\b\b\b\b\b\b\b\b\b\b\b\b\b\b\b\b\b\r250/250 [==============================] - 0s 1ms/step - loss: 0.4174 - accuracy: 0.8266\n",
                    "output_type": "stream"
                },
                {
                    "name": "stdout",
                    "text": "Epoch 11/100\n",
                    "output_type": "stream"
                },
                {
                    "name": "stdout",
                    "text": "\r  1/250 [..............................] - ETA: 0s - loss: 0.3612 - accuracy: 0.8125",
                    "output_type": "stream"
                },
                {
                    "name": "stdout",
                    "text": "\b\b\b\b\b\b\b\b\b\b\b\b\b\b\b\b\b\b\b\b\b\b\b\b\b\b\b\b\b\b\b\b\b\b\b\b\b\b\b\b\b\b\b\b\b\b\b\b\b\b\b\b\b\b\b\b\b\b\b\b\b\b\b\b\b\b\b\b\b\b\b\b\b\b\b\b\b\b\b\b\b\b\b\b\r 49/250 [====>.........................] - ETA: 0s - loss: 0.4198 - accuracy: 0.8265",
                    "output_type": "stream"
                },
                {
                    "name": "stdout",
                    "text": "\b\b\b\b\b\b\b\b\b\b\b\b\b\b\b\b\b\b\b\b\b\b\b\b\b\b\b\b\b\b\b\b\b\b\b\b\b\b\b\b\b\b\b\b\b\b\b\b\b\b\b\b\b\b\b\b\b\b\b\b\b\b\b\b\b\b\b\b\b\b\b\b\b\b\b\b\b\b\b\b\b\b\b\b\r 99/250 [==========>...................] - ETA: 0s - loss: 0.4261 - accuracy: 0.8232",
                    "output_type": "stream"
                },
                {
                    "name": "stdout",
                    "text": "\b\b\b\b\b\b\b\b\b\b\b\b\b\b\b\b\b\b\b\b\b\b\b\b\b\b\b\b\b\b\b\b\b\b\b\b\b\b\b\b\b\b\b\b\b\b\b\b\b\b\b\b\b\b\b\b\b\b\b\b\b\b\b\b\b\b\b\b\b\b\b\b\b\b\b\b\b\b\b\b\b\b\b\b\r147/250 [================>.............] - ETA: 0s - loss: 0.4290 - accuracy: 0.8197",
                    "output_type": "stream"
                },
                {
                    "name": "stdout",
                    "text": "\b\b\b\b\b\b\b\b\b\b\b\b\b\b\b\b\b\b\b\b\b\b\b\b\b\b\b\b\b\b\b\b\b\b\b\b\b\b\b\b\b\b\b\b\b\b\b\b\b\b\b\b\b\b\b\b\b\b\b\b\b\b\b\b\b\b\b\b\b\b\b\b\b\b\b\b\b\b\b\b\b\b\b\b\r193/250 [======================>.......] - ETA: 0s - loss: 0.4220 - accuracy: 0.8232",
                    "output_type": "stream"
                },
                {
                    "name": "stdout",
                    "text": "\b\b\b\b\b\b\b\b\b\b\b\b\b\b\b\b\b\b\b\b\b\b\b\b\b\b\b\b\b\b\b\b\b\b\b\b\b\b\b\b\b\b\b\b\b\b\b\b\b\b\b\b\b\b\b\b\b\b\b\b\b\b\b\b\b\b\b\b\b\b\b\b\b\b\b\b\b\b\b\b\b\b\b\b\r237/250 [===========================>..] - ETA: 0s - loss: 0.4181 - accuracy: 0.8259",
                    "output_type": "stream"
                },
                {
                    "name": "stdout",
                    "text": "\b\b\b\b\b\b\b\b\b\b\b\b\b\b\b\b\b\b\b\b\b\b\b\b\b\b\b\b\b\b\b\b\b\b\b\b\b\b\b\b\b\b\b\b\b\b\b\b\b\b\b\b\b\b\b\b\b\b\b\b\b\b\b\b\b\b\b\b\b\b\b\b\b\b\b\b\b\b\b\b\b\b\b\b\r250/250 [==============================] - 0s 1ms/step - loss: 0.4151 - accuracy: 0.8275\n",
                    "output_type": "stream"
                },
                {
                    "name": "stdout",
                    "text": "Epoch 12/100\n",
                    "output_type": "stream"
                },
                {
                    "name": "stdout",
                    "text": "\r  1/250 [..............................] - ETA: 0s - loss: 0.3849 - accuracy: 0.8438",
                    "output_type": "stream"
                },
                {
                    "name": "stdout",
                    "text": "\b\b\b\b\b\b\b\b\b\b\b\b\b\b\b\b\b\b\b\b\b\b\b\b\b\b\b\b\b\b\b\b\b\b\b\b\b\b\b\b\b\b\b\b\b\b\b\b\b\b\b\b\b\b\b\b\b\b\b\b\b\b\b\b\b\b\b\b\b\b\b\b\b\b\b\b\b\b\b\b\b\b\b\b\r 51/250 [=====>........................] - ETA: 0s - loss: 0.4118 - accuracy: 0.8162",
                    "output_type": "stream"
                },
                {
                    "name": "stdout",
                    "text": "\b\b\b\b\b\b\b\b\b\b\b\b\b\b\b\b\b\b\b\b\b\b\b\b\b\b\b\b\b\b\b\b\b\b\b\b\b\b\b\b\b\b\b\b\b\b\b\b\b\b\b\b\b\b\b\b\b\b\b\b\b\b\b\b\b\b\b\b\b\b\b\b\b\b\b\b\b\b\b\b\b\b\b\b\r 99/250 [==========>...................] - ETA: 0s - loss: 0.4022 - accuracy: 0.8280",
                    "output_type": "stream"
                },
                {
                    "name": "stdout",
                    "text": "\b\b\b\b\b\b\b\b\b\b\b\b\b\b\b\b\b\b\b\b\b\b\b\b\b\b\b\b\b\b\b\b\b\b\b\b\b\b\b\b\b\b\b\b\b\b\b\b\b\b\b\b\b\b\b\b\b\b\b\b\b\b\b\b\b\b\b\b\b\b\b\b\b\b\b\b\b\b\b\b\b\b\b\b\r145/250 [================>.............] - ETA: 0s - loss: 0.4027 - accuracy: 0.8295",
                    "output_type": "stream"
                },
                {
                    "name": "stdout",
                    "text": "\b\b\b\b\b\b\b\b\b\b\b\b\b\b\b\b\b\b\b\b\b\b\b\b\b\b\b\b\b\b\b\b\b\b\b\b\b\b\b\b\b\b\b\b\b\b\b\b\b\b\b\b\b\b\b\b\b\b\b\b\b\b\b\b\b\b\b\b\b\b\b\b\b\b\b\b\b\b\b\b\b\b\b\b\r193/250 [======================>.......] - ETA: 0s - loss: 0.4061 - accuracy: 0.8285",
                    "output_type": "stream"
                },
                {
                    "name": "stdout",
                    "text": "\b\b\b\b\b\b\b\b\b\b\b\b\b\b\b\b\b\b\b\b\b\b\b\b\b\b\b\b\b\b\b\b\b\b\b\b\b\b\b\b\b\b\b\b\b\b\b\b\b\b\b\b\b\b\b\b\b\b\b\b\b\b\b\b\b\b\b\b\b\b\b\b\b\b\b\b\b\b\b\b\b\b\b\b\r244/250 [============================>.] - ETA: 0s - loss: 0.4123 - accuracy: 0.8281",
                    "output_type": "stream"
                },
                {
                    "name": "stdout",
                    "text": "\b\b\b\b\b\b\b\b\b\b\b\b\b\b\b\b\b\b\b\b\b\b\b\b\b\b\b\b\b\b\b\b\b\b\b\b\b\b\b\b\b\b\b\b\b\b\b\b\b\b\b\b\b\b\b\b\b\b\b\b\b\b\b\b\b\b\b\b\b\b\b\b\b\b\b\b\b\b\b\b\b\b\b\b\r250/250 [==============================] - 0s 1ms/step - loss: 0.4130 - accuracy: 0.8281\n",
                    "output_type": "stream"
                },
                {
                    "name": "stdout",
                    "text": "Epoch 13/100\n",
                    "output_type": "stream"
                },
                {
                    "name": "stdout",
                    "text": "\r  1/250 [..............................] - ETA: 0s - loss: 0.2650 - accuracy: 0.9375",
                    "output_type": "stream"
                },
                {
                    "name": "stdout",
                    "text": "\b\b\b\b\b\b\b\b\b\b\b\b\b\b\b\b\b\b\b\b\b\b\b\b\b\b\b\b\b\b\b\b\b\b\b\b\b\b\b\b\b\b\b\b\b\b\b\b\b\b\b\b\b\b\b\b\b\b\b\b\b\b\b\b\b\b\b\b\b\b\b\b\b\b\b\b\b\b\b\b\b\b\b\b\r 46/250 [====>.........................] - ETA: 0s - loss: 0.4114 - accuracy: 0.8329",
                    "output_type": "stream"
                },
                {
                    "name": "stdout",
                    "text": "\b\b\b\b\b\b\b\b\b\b\b\b\b\b\b\b\b\b\b\b\b\b\b\b\b\b\b\b\b\b\b\b\b\b\b\b\b\b\b\b\b\b\b\b\b\b\b\b\b\b\b\b\b\b\b\b\b\b\b\b\b\b\b\b\b\b\b\b\b\b\b\b\b\b\b\b\b\b\b\b\b\b\b\b\r 95/250 [==========>...................] - ETA: 0s - loss: 0.4055 - accuracy: 0.8378",
                    "output_type": "stream"
                },
                {
                    "name": "stdout",
                    "text": "\b\b\b\b\b\b\b\b\b\b\b\b\b\b\b\b\b\b\b\b\b\b\b\b\b\b\b\b\b\b\b\b\b\b\b\b\b\b\b\b\b\b\b\b\b\b\b\b\b\b\b\b\b\b\b\b\b\b\b\b\b\b\b\b\b\b\b\b\b\b\b\b\b\b\b\b\b\b\b\b\b\b\b\b\r142/250 [================>.............] - ETA: 0s - loss: 0.4032 - accuracy: 0.8352",
                    "output_type": "stream"
                },
                {
                    "name": "stdout",
                    "text": "\b\b\b\b\b\b\b\b\b\b\b\b\b\b\b\b\b\b\b\b\b\b\b\b\b\b\b\b\b\b\b\b\b\b\b\b\b\b\b\b\b\b\b\b\b\b\b\b\b\b\b\b\b\b\b\b\b\b\b\b\b\b\b\b\b\b\b\b\b\b\b\b\b\b\b\b\b\b\b\b\b\b\b\b\r192/250 [======================>.......] - ETA: 0s - loss: 0.4039 - accuracy: 0.8351",
                    "output_type": "stream"
                },
                {
                    "name": "stdout",
                    "text": "\b\b\b\b\b\b\b\b\b\b\b\b\b\b\b\b\b\b\b\b\b\b\b\b\b\b\b\b\b\b\b\b\b\b\b\b\b\b\b\b\b\b\b\b\b\b\b\b\b\b\b\b\b\b\b\b\b\b\b\b\b\b\b\b\b\b\b\b\b\b\b\b\b\b\b\b\b\b\b\b\b\b\b\b\r243/250 [============================>.] - ETA: 0s - loss: 0.4098 - accuracy: 0.8322",
                    "output_type": "stream"
                },
                {
                    "name": "stdout",
                    "text": "\b\b\b\b\b\b\b\b\b\b\b\b\b\b\b\b\b\b\b\b\b\b\b\b\b\b\b\b\b\b\b\b\b\b\b\b\b\b\b\b\b\b\b\b\b\b\b\b\b\b\b\b\b\b\b\b\b\b\b\b\b\b\b\b\b\b\b\b\b\b\b\b\b\b\b\b\b\b\b\b\b\b\b\b\r250/250 [==============================] - 0s 1ms/step - loss: 0.4111 - accuracy: 0.8315\n",
                    "output_type": "stream"
                },
                {
                    "name": "stdout",
                    "text": "Epoch 14/100\n",
                    "output_type": "stream"
                },
                {
                    "name": "stdout",
                    "text": "\r  1/250 [..............................] - ETA: 0s - loss: 0.5410 - accuracy: 0.7500",
                    "output_type": "stream"
                },
                {
                    "name": "stdout",
                    "text": "\b\b\b\b\b\b\b\b\b\b\b\b\b\b\b\b\b\b\b\b\b\b\b\b\b\b\b\b\b\b\b\b\b\b\b\b\b\b\b\b\b\b\b\b\b\b\b\b\b\b\b\b\b\b\b\b\b\b\b\b\b\b\b\b\b\b\b\b\b\b\b\b\b\b\b\b\b\b\b\b\b\b\b\b\r 46/250 [====>.........................] - ETA: 0s - loss: 0.3776 - accuracy: 0.8451",
                    "output_type": "stream"
                },
                {
                    "name": "stdout",
                    "text": "\b\b\b\b\b\b\b\b\b\b\b\b\b\b\b\b\b\b\b\b\b\b\b\b\b\b\b\b\b\b\b\b\b\b\b\b\b\b\b\b\b\b\b\b\b\b\b\b\b\b\b\b\b\b\b\b\b\b\b\b\b\b\b\b\b\b\b\b\b\b\b\b\b\b\b\b\b\b\b\b\b\b\b\b\r 93/250 [==========>...................] - ETA: 0s - loss: 0.3981 - accuracy: 0.8337",
                    "output_type": "stream"
                },
                {
                    "name": "stdout",
                    "text": "\b\b\b\b\b\b\b\b\b\b\b\b\b\b\b\b\b\b\b\b\b\b\b\b\b\b\b\b\b\b\b\b\b\b\b\b\b\b\b\b\b\b\b\b\b\b\b\b\b\b\b\b\b\b\b\b\b\b\b\b\b\b\b\b\b\b\b\b\b\b\b\b\b\b\b\b\b\b\b\b\b\b\b\b\r144/250 [================>.............] - ETA: 0s - loss: 0.3999 - accuracy: 0.8401",
                    "output_type": "stream"
                },
                {
                    "name": "stdout",
                    "text": "\b\b\b\b\b\b\b\b\b\b\b\b\b\b\b\b\b\b\b\b\b\b\b\b\b\b\b\b\b\b\b\b\b\b\b\b\b\b\b\b\b\b\b\b\b\b\b\b\b\b\b\b\b\b\b\b\b\b\b\b\b\b\b\b\b\b\b\b\b\b\b\b\b\b\b\b\b\b\b\b\b\b\b\b\r187/250 [=====================>........] - ETA: 0s - loss: 0.4047 - accuracy: 0.8374",
                    "output_type": "stream"
                },
                {
                    "name": "stdout",
                    "text": "\b\b\b\b\b\b\b\b\b\b\b\b\b\b\b\b\b\b\b\b\b\b\b\b\b\b\b\b\b\b\b\b\b\b\b\b\b\b\b\b\b\b\b\b\b\b\b\b\b\b\b\b\b\b\b\b\b\b\b\b\b\b\b\b\b\b\b\b\b\b\b\b\b\b\b\b\b\b\b\b\b\b\b\b\r235/250 [===========================>..] - ETA: 0s - loss: 0.4083 - accuracy: 0.8343",
                    "output_type": "stream"
                },
                {
                    "name": "stdout",
                    "text": "\b\b\b\b\b\b\b\b\b\b\b\b\b\b\b\b\b\b\b\b\b\b\b\b\b\b\b\b\b\b\b\b\b\b\b\b\b\b\b\b\b\b\b\b\b\b\b\b\b\b\b\b\b\b\b\b\b\b\b\b\b\b\b\b\b\b\b\b\b\b\b\b\b\b\b\b\b\b\b\b\b\b\b\b\r250/250 [==============================] - 0s 1ms/step - loss: 0.4091 - accuracy: 0.8330\n",
                    "output_type": "stream"
                },
                {
                    "name": "stdout",
                    "text": "Epoch 15/100\n",
                    "output_type": "stream"
                },
                {
                    "name": "stdout",
                    "text": "\r  1/250 [..............................] - ETA: 0s - loss: 0.3207 - accuracy: 0.8438",
                    "output_type": "stream"
                },
                {
                    "name": "stdout",
                    "text": "\b\b\b\b\b\b\b\b\b\b\b\b\b\b\b\b\b\b\b\b\b\b\b\b\b\b\b\b\b\b\b\b\b\b\b\b\b\b\b\b\b\b\b\b\b\b\b\b\b\b\b\b\b\b\b\b\b\b\b\b\b\b\b\b\b\b\b\b\b\b\b\b\b\b\b\b\b\b\b\b\b\b\b\b\r 48/250 [====>.........................] - ETA: 0s - loss: 0.4210 - accuracy: 0.8242",
                    "output_type": "stream"
                },
                {
                    "name": "stdout",
                    "text": "\b\b\b\b\b\b\b\b\b\b\b\b\b\b\b\b\b\b\b\b\b\b\b\b\b\b\b\b\b\b\b\b\b\b\b\b\b\b\b\b\b\b\b\b\b\b\b\b\b\b\b\b\b\b\b\b\b\b\b\b\b\b\b\b\b\b\b\b\b\b\b\b\b\b\b\b\b\b\b\b\b\b\b\b\r 95/250 [==========>...................] - ETA: 0s - loss: 0.4242 - accuracy: 0.8230",
                    "output_type": "stream"
                },
                {
                    "name": "stdout",
                    "text": "\b\b\b\b\b\b\b\b\b\b\b\b\b\b\b\b\b\b\b\b\b\b\b\b\b\b\b\b\b\b\b\b\b\b\b\b\b\b\b\b\b\b\b\b\b\b\b\b\b\b\b\b\b\b\b\b\b\b\b\b\b\b\b\b\b\b\b\b\b\b\b\b\b\b\b\b\b\b\b\b\b\b\b\b\r148/250 [================>.............] - ETA: 0s - loss: 0.4155 - accuracy: 0.8290",
                    "output_type": "stream"
                },
                {
                    "name": "stdout",
                    "text": "\b\b\b\b\b\b\b\b\b\b\b\b\b\b\b\b\b\b\b\b\b\b\b\b\b\b\b\b\b\b\b\b\b\b\b\b\b\b\b\b\b\b\b\b\b\b\b\b\b\b\b\b\b\b\b\b\b\b\b\b\b\b\b\b\b\b\b\b\b\b\b\b\b\b\b\b\b\b\b\b\b\b\b\b\r195/250 [======================>.......] - ETA: 0s - loss: 0.4082 - accuracy: 0.8337",
                    "output_type": "stream"
                },
                {
                    "name": "stdout",
                    "text": "\b\b\b\b\b\b\b\b\b\b\b\b\b\b\b\b\b\b\b\b\b\b\b\b\b\b\b\b\b\b\b\b\b\b\b\b\b\b\b\b\b\b\b\b\b\b\b\b\b\b\b\b\b\b\b\b\b\b\b\b\b\b\b\b\b\b\b\b\b\b\b\b\b\b\b\b\b\b\b\b\b\b\b\b\r243/250 [============================>.] - ETA: 0s - loss: 0.4083 - accuracy: 0.8341",
                    "output_type": "stream"
                },
                {
                    "name": "stdout",
                    "text": "\b\b\b\b\b\b\b\b\b\b\b\b\b\b\b\b\b\b\b\b\b\b\b\b\b\b\b\b\b\b\b\b\b\b\b\b\b\b\b\b\b\b\b\b\b\b\b\b\b\b\b\b\b\b\b\b\b\b\b\b\b\b\b\b\b\b\b\b\b\b\b\b\b\b\b\b\b\b\b\b\b\b\b\b\r250/250 [==============================] - 0s 1ms/step - loss: 0.4070 - accuracy: 0.8349\n",
                    "output_type": "stream"
                },
                {
                    "name": "stdout",
                    "text": "Epoch 16/100\n",
                    "output_type": "stream"
                },
                {
                    "name": "stdout",
                    "text": "\r  1/250 [..............................] - ETA: 0s - loss: 0.3831 - accuracy: 0.8125",
                    "output_type": "stream"
                },
                {
                    "name": "stdout",
                    "text": "\b\b\b\b\b\b\b\b\b\b\b\b\b\b\b\b\b\b\b\b\b\b\b\b\b\b\b\b\b\b\b\b\b\b\b\b\b\b\b\b\b\b\b\b\b\b\b\b\b\b\b\b\b\b\b\b\b\b\b\b\b\b\b\b\b\b\b\b\b\b\b\b\b\b\b\b\b\b\b\b\b\b\b\b\r 45/250 [====>.........................] - ETA: 0s - loss: 0.4238 - accuracy: 0.8243",
                    "output_type": "stream"
                },
                {
                    "name": "stdout",
                    "text": "\b\b\b\b\b\b\b\b\b\b\b\b\b\b\b\b\b\b\b\b\b\b\b\b\b\b\b\b\b\b\b\b\b\b\b\b\b\b\b\b\b\b\b\b\b\b\b\b\b\b\b\b\b\b\b\b\b\b\b\b\b\b\b\b\b\b\b\b\b\b\b\b\b\b\b\b\b\b\b\b\b\b\b\b\r 93/250 [==========>...................] - ETA: 0s - loss: 0.4282 - accuracy: 0.8236",
                    "output_type": "stream"
                },
                {
                    "name": "stdout",
                    "text": "\b\b\b\b\b\b\b\b\b\b\b\b\b\b\b\b\b\b\b\b\b\b\b\b\b\b\b\b\b\b\b\b\b\b\b\b\b\b\b\b\b\b\b\b\b\b\b\b\b\b\b\b\b\b\b\b\b\b\b\b\b\b\b\b\b\b\b\b\b\b\b\b\b\b\b\b\b\b\b\b\b\b\b\b\r136/250 [===============>..............] - ETA: 0s - loss: 0.4162 - accuracy: 0.8297",
                    "output_type": "stream"
                },
                {
                    "name": "stdout",
                    "text": "\b\b\b\b\b\b\b\b\b\b\b\b\b\b\b\b\b\b\b\b\b\b\b\b\b\b\b\b\b\b\b\b\b\b\b\b\b\b\b\b\b\b\b\b\b\b\b\b\b\b\b\b\b\b\b\b\b\b\b\b\b\b\b\b\b\b\b\b\b\b\b\b\b\b\b\b\b\b\b\b\b\b\b\b\r187/250 [=====================>........] - ETA: 0s - loss: 0.4112 - accuracy: 0.8326",
                    "output_type": "stream"
                },
                {
                    "name": "stdout",
                    "text": "\b\b\b\b\b\b\b\b\b\b\b\b\b\b\b\b\b\b\b\b\b\b\b\b\b\b\b\b\b\b\b\b\b\b\b\b\b\b\b\b\b\b\b\b\b\b\b\b\b\b\b\b\b\b\b\b\b\b\b\b\b\b\b\b\b\b\b\b\b\b\b\b\b\b\b\b\b\b\b\b\b\b\b\b\r236/250 [===========================>..] - ETA: 0s - loss: 0.4060 - accuracy: 0.8336",
                    "output_type": "stream"
                },
                {
                    "name": "stdout",
                    "text": "\b\b\b\b\b\b\b\b\b\b\b\b\b\b\b\b\b\b\b\b\b\b\b\b\b\b\b\b\b\b\b\b\b\b\b\b\b\b\b\b\b\b\b\b\b\b\b\b\b\b\b\b\b\b\b\b\b\b\b\b\b\b\b\b\b\b\b\b\b\b\b\b\b\b\b\b\b\b\b\b\b\b\b\b\r250/250 [==============================] - 0s 1ms/step - loss: 0.4058 - accuracy: 0.8345\n",
                    "output_type": "stream"
                },
                {
                    "name": "stdout",
                    "text": "Epoch 17/100\n",
                    "output_type": "stream"
                },
                {
                    "name": "stdout",
                    "text": "\r  1/250 [..............................] - ETA: 0s - loss: 0.4192 - accuracy: 0.7812",
                    "output_type": "stream"
                },
                {
                    "name": "stdout",
                    "text": "\b\b\b\b\b\b\b\b\b\b\b\b\b\b\b\b\b\b\b\b\b\b\b\b\b\b\b\b\b\b\b\b\b\b\b\b\b\b\b\b\b\b\b\b\b\b\b\b\b\b\b\b\b\b\b\b\b\b\b\b\b\b\b\b\b\b\b\b\b\b\b\b\b\b\b\b\b\b\b\b\b\b\b\b\r 49/250 [====>.........................] - ETA: 0s - loss: 0.3997 - accuracy: 0.8399",
                    "output_type": "stream"
                },
                {
                    "name": "stdout",
                    "text": "\b\b\b\b\b\b\b\b\b\b\b\b\b\b\b\b\b\b\b\b\b\b\b\b\b\b\b\b\b\b\b\b\b\b\b\b\b\b\b\b\b\b\b\b\b\b\b\b\b\b\b\b\b\b\b\b\b\b\b\b\b\b\b\b\b\b\b\b\b\b\b\b\b\b\b\b\b\b\b\b\b\b\b\b\r102/250 [===========>..................] - ETA: 0s - loss: 0.4106 - accuracy: 0.8355",
                    "output_type": "stream"
                },
                {
                    "name": "stdout",
                    "text": "\b\b\b\b\b\b\b\b\b\b\b\b\b\b\b\b\b\b\b\b\b\b\b\b\b\b\b\b\b\b\b\b\b\b\b\b\b\b\b\b\b\b\b\b\b\b\b\b\b\b\b\b\b\b\b\b\b\b\b\b\b\b\b\b\b\b\b\b\b\b\b\b\b\b\b\b\b\b\b\b\b\b\b\b\r148/250 [================>.............] - ETA: 0s - loss: 0.4099 - accuracy: 0.8351",
                    "output_type": "stream"
                },
                {
                    "name": "stdout",
                    "text": "\b\b\b\b\b\b\b\b\b\b\b\b\b\b\b\b\b\b\b\b\b\b\b\b\b\b\b\b\b\b\b\b\b\b\b\b\b\b\b\b\b\b\b\b\b\b\b\b\b\b\b\b\b\b\b\b\b\b\b\b\b\b\b\b\b\b\b\b\b\b\b\b\b\b\b\b\b\b\b\b\b\b\b\b\r199/250 [======================>.......] - ETA: 0s - loss: 0.4028 - accuracy: 0.8368",
                    "output_type": "stream"
                },
                {
                    "name": "stdout",
                    "text": "\b\b\b\b\b\b\b\b\b\b\b\b\b\b\b\b\b\b\b\b\b\b\b\b\b\b\b\b\b\b\b\b\b\b\b\b\b\b\b\b\b\b\b\b\b\b\b\b\b\b\b\b\b\b\b\b\b\b\b\b\b\b\b\b\b\b\b\b\b\b\b\b\b\b\b\b\b\b\b\b\b\b\b\b\r248/250 [============================>.] - ETA: 0s - loss: 0.4029 - accuracy: 0.8366",
                    "output_type": "stream"
                },
                {
                    "name": "stdout",
                    "text": "\b\b\b\b\b\b\b\b\b\b\b\b\b\b\b\b\b\b\b\b\b\b\b\b\b\b\b\b\b\b\b\b\b\b\b\b\b\b\b\b\b\b\b\b\b\b\b\b\b\b\b\b\b\b\b\b\b\b\b\b\b\b\b\b\b\b\b\b\b\b\b\b\b\b\b\b\b\b\b\b\b\b\b\b\r250/250 [==============================] - 0s 1ms/step - loss: 0.4045 - accuracy: 0.8360\n",
                    "output_type": "stream"
                },
                {
                    "name": "stdout",
                    "text": "Epoch 18/100\n",
                    "output_type": "stream"
                },
                {
                    "name": "stdout",
                    "text": "\r  1/250 [..............................] - ETA: 0s - loss: 0.5533 - accuracy: 0.7500",
                    "output_type": "stream"
                },
                {
                    "name": "stdout",
                    "text": "\b\b\b\b\b\b\b\b\b\b\b\b\b\b\b\b\b\b\b\b\b\b\b\b\b\b\b\b\b\b\b\b\b\b\b\b\b\b\b\b\b\b\b\b\b\b\b\b\b\b\b\b\b\b\b\b\b\b\b\b\b\b\b\b\b\b\b\b\b\b\b\b\b\b\b\b\b\b\b\b\b\b\b\b\r 49/250 [====>.........................] - ETA: 0s - loss: 0.4022 - accuracy: 0.8361",
                    "output_type": "stream"
                },
                {
                    "name": "stdout",
                    "text": "\b\b\b\b\b\b\b\b\b\b\b\b\b\b\b\b\b\b\b\b\b\b\b\b\b\b\b\b\b\b\b\b\b\b\b\b\b\b\b\b\b\b\b\b\b\b\b\b\b\b\b\b\b\b\b\b\b\b\b\b\b\b\b\b\b\b\b\b\b\b\b\b\b\b\b\b\b\b\b\b\b\b\b\b\r 98/250 [==========>...................] - ETA: 0s - loss: 0.4139 - accuracy: 0.8291",
                    "output_type": "stream"
                },
                {
                    "name": "stdout",
                    "text": "\b\b\b\b\b\b\b\b\b\b\b\b\b\b\b\b\b\b\b\b\b\b\b\b\b\b\b\b\b\b\b\b\b\b\b\b\b\b\b\b\b\b\b\b\b\b\b\b\b\b\b\b\b\b\b\b\b\b\b\b\b\b\b\b\b\b\b\b\b\b\b\b\b\b\b\b\b\b\b\b\b\b\b\b\r140/250 [===============>..............] - ETA: 0s - loss: 0.4070 - accuracy: 0.8326",
                    "output_type": "stream"
                },
                {
                    "name": "stdout",
                    "text": "\b\b\b\b\b\b\b\b\b\b\b\b\b\b\b\b\b\b\b\b\b\b\b\b\b\b\b\b\b\b\b\b\b\b\b\b\b\b\b\b\b\b\b\b\b\b\b\b\b\b\b\b\b\b\b\b\b\b\b\b\b\b\b\b\b\b\b\b\b\b\b\b\b\b\b\b\b\b\b\b\b\b\b\b\r186/250 [=====================>........] - ETA: 0s - loss: 0.4050 - accuracy: 0.8325",
                    "output_type": "stream"
                },
                {
                    "name": "stdout",
                    "text": "\b\b\b\b\b\b\b\b\b\b\b\b\b\b\b\b\b\b\b\b\b\b\b\b\b\b\b\b\b\b\b\b\b\b\b\b\b\b\b\b\b\b\b\b\b\b\b\b\b\b\b\b\b\b\b\b\b\b\b\b\b\b\b\b\b\b\b\b\b\b\b\b\b\b\b\b\b\b\b\b\b\b\b\b\r235/250 [===========================>..] - ETA: 0s - loss: 0.3996 - accuracy: 0.8367",
                    "output_type": "stream"
                },
                {
                    "name": "stdout",
                    "text": "\b\b\b\b\b\b\b\b\b\b\b\b\b\b\b\b\b\b\b\b\b\b\b\b\b\b\b\b\b\b\b\b\b\b\b\b\b\b\b\b\b\b\b\b\b\b\b\b\b\b\b\b\b\b\b\b\b\b\b\b\b\b\b\b\b\b\b\b\b\b\b\b\b\b\b\b\b\b\b\b\b\b\b\b\r250/250 [==============================] - 0s 1ms/step - loss: 0.4031 - accuracy: 0.8354\n",
                    "output_type": "stream"
                },
                {
                    "name": "stdout",
                    "text": "Epoch 19/100\n",
                    "output_type": "stream"
                },
                {
                    "name": "stdout",
                    "text": "\r  1/250 [..............................] - ETA: 0s - loss: 0.4604 - accuracy: 0.8438",
                    "output_type": "stream"
                },
                {
                    "name": "stdout",
                    "text": "\b\b\b\b\b\b\b\b\b\b\b\b\b\b\b\b\b\b\b\b\b\b\b\b\b\b\b\b\b\b\b\b\b\b\b\b\b\b\b\b\b\b\b\b\b\b\b\b\b\b\b\b\b\b\b\b\b\b\b\b\b\b\b\b\b\b\b\b\b\b\b\b\b\b\b\b\b\b\b\b\b\b\b\b\r 50/250 [=====>........................] - ETA: 0s - loss: 0.3905 - accuracy: 0.8544",
                    "output_type": "stream"
                },
                {
                    "name": "stdout",
                    "text": "\b\b\b\b\b\b\b\b\b\b\b\b\b\b\b\b\b\b\b\b\b\b\b\b\b\b\b\b\b\b\b\b\b\b\b\b\b\b\b\b\b\b\b\b\b\b\b\b\b\b\b\b\b\b\b\b\b\b\b\b\b\b\b\b\b\b\b\b\b\b\b\b\b\b\b\b\b\b\b\b\b\b\b\b\r 98/250 [==========>...................] - ETA: 0s - loss: 0.4040 - accuracy: 0.8438",
                    "output_type": "stream"
                },
                {
                    "name": "stdout",
                    "text": "\b\b\b\b\b\b\b\b\b\b\b\b\b\b\b\b\b\b\b\b\b\b\b\b\b\b\b\b\b\b\b\b\b\b\b\b\b\b\b\b\b\b\b\b\b\b\b\b\b\b\b\b\b\b\b\b\b\b\b\b\b\b\b\b\b\b\b\b\b\b\b\b\b\b\b\b\b\b\b\b\b\b\b\b\r151/250 [=================>............] - ETA: 0s - loss: 0.4049 - accuracy: 0.8394",
                    "output_type": "stream"
                },
                {
                    "name": "stdout",
                    "text": "\b\b\b\b\b\b\b\b\b\b\b\b\b\b\b\b\b\b\b\b\b\b\b\b\b\b\b\b\b\b\b\b\b\b\b\b\b\b\b\b\b\b\b\b\b\b\b\b\b\b\b\b\b\b\b\b\b\b\b\b\b\b\b\b\b\b\b\b\b\b\b\b\b\b\b\b\b\b\b\b\b\b\b\b\r202/250 [=======================>......] - ETA: 0s - loss: 0.4068 - accuracy: 0.8363",
                    "output_type": "stream"
                },
                {
                    "name": "stdout",
                    "text": "\b\b\b\b\b\b\b\b\b\b\b\b\b\b\b\b\b\b\b\b\b\b\b\b\b\b\b\b\b\b\b\b\b\b\b\b\b\b\b\b\b\b\b\b\b\b\b\b\b\b\b\b\b\b\b\b\b\b\b\b\b\b\b\b\b\b\b\b\b\b\b\b\b\b\b\b\b\b\b\b\b\b\b\b\r250/250 [==============================] - 0s 1ms/step - loss: 0.4020 - accuracy: 0.8385\n",
                    "output_type": "stream"
                },
                {
                    "name": "stdout",
                    "text": "Epoch 20/100\n",
                    "output_type": "stream"
                },
                {
                    "name": "stdout",
                    "text": "\r  1/250 [..............................] - ETA: 0s - loss: 0.4594 - accuracy: 0.7812",
                    "output_type": "stream"
                },
                {
                    "name": "stdout",
                    "text": "\b\b\b\b\b\b\b\b\b\b\b\b\b\b\b\b\b\b\b\b\b\b\b\b\b\b\b\b\b\b\b\b\b\b\b\b\b\b\b\b\b\b\b\b\b\b\b\b\b\b\b\b\b\b\b\b\b\b\b\b\b\b\b\b\b\b\b\b\b\b\b\b\b\b\b\b\b\b\b\b\b\b\b\b\r 51/250 [=====>........................] - ETA: 0s - loss: 0.4007 - accuracy: 0.8413",
                    "output_type": "stream"
                },
                {
                    "name": "stdout",
                    "text": "\b\b\b\b\b\b\b\b\b\b\b\b\b\b\b\b\b\b\b\b\b\b\b\b\b\b\b\b\b\b\b\b\b\b\b\b\b\b\b\b\b\b\b\b\b\b\b\b\b\b\b\b\b\b\b\b\b\b\b\b\b\b\b\b\b\b\b\b\b\b\b\b\b\b\b\b\b\b\b\b\b\b\b\b\r103/250 [===========>..................] - ETA: 0s - loss: 0.4072 - accuracy: 0.8425",
                    "output_type": "stream"
                },
                {
                    "name": "stdout",
                    "text": "\b\b\b\b\b\b\b\b\b\b\b\b\b\b\b\b\b\b\b\b\b\b\b\b\b\b\b\b\b\b\b\b\b\b\b\b\b\b\b\b\b\b\b\b\b\b\b\b\b\b\b\b\b\b\b\b\b\b\b\b\b\b\b\b\b\b\b\b\b\b\b\b\b\b\b\b\b\b\b\b\b\b\b\b\r149/250 [================>.............] - ETA: 0s - loss: 0.3953 - accuracy: 0.8448",
                    "output_type": "stream"
                },
                {
                    "name": "stdout",
                    "text": "\b\b\b\b\b\b\b\b\b\b\b\b\b\b\b\b\b\b\b\b\b\b\b\b\b\b\b\b\b\b\b\b\b\b\b\b\b\b\b\b\b\b\b\b\b\b\b\b\b\b\b\b\b\b\b\b\b\b\b\b\b\b\b\b\b\b\b\b\b\b\b\b\b\b\b\b\b\b\b\b\b\b\b\b\r198/250 [======================>.......] - ETA: 0s - loss: 0.3967 - accuracy: 0.8425",
                    "output_type": "stream"
                },
                {
                    "name": "stdout",
                    "text": "\b\b\b\b\b\b\b\b\b\b\b\b\b\b\b\b\b\b\b\b\b\b\b\b\b\b\b\b\b\b\b\b\b\b\b\b\b\b\b\b\b\b\b\b\b\b\b\b\b\b\b\b\b\b\b\b\b\b\b\b\b\b\b\b\b\b\b\b\b\b\b\b\b\b\b\b\b\b\b\b\b\b\b\b\r250/250 [==============================] - 0s 1ms/step - loss: 0.4007 - accuracy: 0.8382\n",
                    "output_type": "stream"
                },
                {
                    "name": "stdout",
                    "text": "Epoch 21/100\n",
                    "output_type": "stream"
                },
                {
                    "name": "stdout",
                    "text": "\r  1/250 [..............................] - ETA: 0s - loss: 0.4977 - accuracy: 0.8125",
                    "output_type": "stream"
                },
                {
                    "name": "stdout",
                    "text": "\b\b\b\b\b\b\b\b\b\b\b\b\b\b\b\b\b\b\b\b\b\b\b\b\b\b\b\b\b\b\b\b\b\b\b\b\b\b\b\b\b\b\b\b\b\b\b\b\b\b\b\b\b\b\b\b\b\b\b\b\b\b\b\b\b\b\b\b\b\b\b\b\b\b\b\b\b\b\b\b\b\b\b\b\r 50/250 [=====>........................] - ETA: 0s - loss: 0.4091 - accuracy: 0.8319",
                    "output_type": "stream"
                },
                {
                    "name": "stdout",
                    "text": "\b\b\b\b\b\b\b\b\b\b\b\b\b\b\b\b\b\b\b\b\b\b\b\b\b\b\b\b\b\b\b\b\b\b\b\b\b\b\b\b\b\b\b\b\b\b\b\b\b\b\b\b\b\b\b\b\b\b\b\b\b\b\b\b\b\b\b\b\b\b\b\b\b\b\b\b\b\b\b\b\b\b\b\b\r 99/250 [==========>...................] - ETA: 0s - loss: 0.4047 - accuracy: 0.8333",
                    "output_type": "stream"
                },
                {
                    "name": "stdout",
                    "text": "\b\b\b\b\b\b\b\b\b\b\b\b\b\b\b\b\b\b\b\b\b\b\b\b\b\b\b\b\b\b\b\b\b\b\b\b\b\b\b\b\b\b\b\b\b\b\b\b\b\b\b\b\b\b\b\b\b\b\b\b\b\b\b\b\b\b\b\b\b\b\b\b\b\b\b\b\b\b\b\b\b\b\b\b\r150/250 [=================>............] - ETA: 0s - loss: 0.4010 - accuracy: 0.8373",
                    "output_type": "stream"
                },
                {
                    "name": "stdout",
                    "text": "\b\b\b\b\b\b\b\b\b\b\b\b\b\b\b\b\b\b\b\b\b\b\b\b\b\b\b\b\b\b\b\b\b\b\b\b\b\b\b\b\b\b\b\b\b\b\b\b\b\b\b\b\b\b\b\b\b\b\b\b\b\b\b\b\b\b\b\b\b\b\b\b\b\b\b\b\b\b\b\b\b\b\b\b\r197/250 [======================>.......] - ETA: 0s - loss: 0.3983 - accuracy: 0.8390",
                    "output_type": "stream"
                },
                {
                    "name": "stdout",
                    "text": "\b\b\b\b\b\b\b\b\b\b\b\b\b\b\b\b\b\b\b\b\b\b\b\b\b\b\b\b\b\b\b\b\b\b\b\b\b\b\b\b\b\b\b\b\b\b\b\b\b\b\b\b\b\b\b\b\b\b\b\b\b\b\b\b\b\b\b\b\b\b\b\b\b\b\b\b\b\b\b\b\b\b\b\b\r244/250 [============================>.] - ETA: 0s - loss: 0.3995 - accuracy: 0.8375",
                    "output_type": "stream"
                },
                {
                    "name": "stdout",
                    "text": "\b\b\b\b\b\b\b\b\b\b\b\b\b\b\b\b\b\b\b\b\b\b\b\b\b\b\b\b\b\b\b\b\b\b\b\b\b\b\b\b\b\b\b\b\b\b\b\b\b\b\b\b\b\b\b\b\b\b\b\b\b\b\b\b\b\b\b\b\b\b\b\b\b\b\b\b\b\b\b\b\b\b\b\b\r250/250 [==============================] - 0s 1ms/step - loss: 0.4000 - accuracy: 0.8372\n",
                    "output_type": "stream"
                },
                {
                    "name": "stdout",
                    "text": "Epoch 22/100\n",
                    "output_type": "stream"
                },
                {
                    "name": "stdout",
                    "text": "\r  1/250 [..............................] - ETA: 0s - loss: 0.4143 - accuracy: 0.8438",
                    "output_type": "stream"
                },
                {
                    "name": "stdout",
                    "text": "\b\b\b\b\b\b\b\b\b\b\b\b\b\b\b\b\b\b\b\b\b\b\b\b\b\b\b\b\b\b\b\b\b\b\b\b\b\b\b\b\b\b\b\b\b\b\b\b\b\b\b\b\b\b\b\b\b\b\b\b\b\b\b\b\b\b\b\b\b\b\b\b\b\b\b\b\b\b\b\b\b\b\b\b\r 54/250 [=====>........................] - ETA: 0s - loss: 0.3973 - accuracy: 0.8374",
                    "output_type": "stream"
                },
                {
                    "name": "stdout",
                    "text": "\b\b\b\b\b\b\b\b\b\b\b\b\b\b\b\b\b\b\b\b\b\b\b\b\b\b\b\b\b\b\b\b\b\b\b\b\b\b\b\b\b\b\b\b\b\b\b\b\b\b\b\b\b\b\b\b\b\b\b\b\b\b\b\b\b\b\b\b\b\b\b\b\b\b\b\b\b\b\b\b\b\b\b\b\r100/250 [===========>..................] - ETA: 0s - loss: 0.3972 - accuracy: 0.8388",
                    "output_type": "stream"
                },
                {
                    "name": "stdout",
                    "text": "\b\b\b\b\b\b\b\b\b\b\b\b\b\b\b\b\b\b\b\b\b\b\b\b\b\b\b\b\b\b\b\b\b\b\b\b\b\b\b\b\b\b\b\b\b\b\b\b\b\b\b\b\b\b\b\b\b\b\b\b\b\b\b\b\b\b\b\b\b\b\b\b\b\b\b\b\b\b\b\b\b\b\b\b\r146/250 [================>.............] - ETA: 0s - loss: 0.3984 - accuracy: 0.8388",
                    "output_type": "stream"
                },
                {
                    "name": "stdout",
                    "text": "\b\b\b\b\b\b\b\b\b\b\b\b\b\b\b\b\b\b\b\b\b\b\b\b\b\b\b\b\b\b\b\b\b\b\b\b\b\b\b\b\b\b\b\b\b\b\b\b\b\b\b\b\b\b\b\b\b\b\b\b\b\b\b\b\b\b\b\b\b\b\b\b\b\b\b\b\b\b\b\b\b\b\b\b\r196/250 [======================>.......] - ETA: 0s - loss: 0.3909 - accuracy: 0.8423",
                    "output_type": "stream"
                },
                {
                    "name": "stdout",
                    "text": "\b\b\b\b\b\b\b\b\b\b\b\b\b\b\b\b\b\b\b\b\b\b\b\b\b\b\b\b\b\b\b\b\b\b\b\b\b\b\b\b\b\b\b\b\b\b\b\b\b\b\b\b\b\b\b\b\b\b\b\b\b\b\b\b\b\b\b\b\b\b\b\b\b\b\b\b\b\b\b\b\b\b\b\b\r243/250 [============================>.] - ETA: 0s - loss: 0.3972 - accuracy: 0.8378",
                    "output_type": "stream"
                },
                {
                    "name": "stdout",
                    "text": "\b\b\b\b\b\b\b\b\b\b\b\b\b\b\b\b\b\b\b\b\b\b\b\b\b\b\b\b\b\b\b\b\b\b\b\b\b\b\b\b\b\b\b\b\b\b\b\b\b\b\b\b\b\b\b\b\b\b\b\b\b\b\b\b\b\b\b\b\b\b\b\b\b\b\b\b\b\b\b\b\b\b\b\b\r250/250 [==============================] - 0s 1ms/step - loss: 0.3988 - accuracy: 0.8375\n",
                    "output_type": "stream"
                },
                {
                    "name": "stdout",
                    "text": "Epoch 23/100\n",
                    "output_type": "stream"
                },
                {
                    "name": "stdout",
                    "text": "\r  1/250 [..............................] - ETA: 0s - loss: 0.2761 - accuracy: 0.8750",
                    "output_type": "stream"
                },
                {
                    "name": "stdout",
                    "text": "\b\b\b\b\b\b\b\b\b\b\b\b\b\b\b\b\b\b\b\b\b\b\b\b\b\b\b\b\b\b\b\b\b\b\b\b\b\b\b\b\b\b\b\b\b\b\b\b\b\b\b\b\b\b\b\b\b\b\b\b\b\b\b\b\b\b\b\b\b\b\b\b\b\b\b\b\b\b\b\b\b\b\b\b\r 49/250 [====>.........................] - ETA: 0s - loss: 0.3713 - accuracy: 0.8565",
                    "output_type": "stream"
                },
                {
                    "name": "stdout",
                    "text": "\b\b\b\b\b\b\b\b\b\b\b\b\b\b\b\b\b\b\b\b\b\b\b\b\b\b\b\b\b\b\b\b\b\b\b\b\b\b\b\b\b\b\b\b\b\b\b\b\b\b\b\b\b\b\b\b\b\b\b\b\b\b\b\b\b\b\b\b\b\b\b\b\b\b\b\b\b\b\b\b\b\b\b\b\r 91/250 [=========>....................] - ETA: 0s - loss: 0.3863 - accuracy: 0.8503",
                    "output_type": "stream"
                },
                {
                    "name": "stdout",
                    "text": "\b\b\b\b\b\b\b\b\b\b\b\b\b\b\b\b\b\b\b\b\b\b\b\b\b\b\b\b\b\b\b\b\b\b\b\b\b\b\b\b\b\b\b\b\b\b\b\b\b\b\b\b\b\b\b\b\b\b\b\b\b\b\b\b\b\b\b\b\b\b\b\b\b\b\b\b\b\b\b\b\b\b\b\b\r137/250 [===============>..............] - ETA: 0s - loss: 0.3852 - accuracy: 0.8479",
                    "output_type": "stream"
                },
                {
                    "name": "stdout",
                    "text": "\b\b\b\b\b\b\b\b\b\b\b\b\b\b\b\b\b\b\b\b\b\b\b\b\b\b\b\b\b\b\b\b\b\b\b\b\b\b\b\b\b\b\b\b\b\b\b\b\b\b\b\b\b\b\b\b\b\b\b\b\b\b\b\b\b\b\b\b\b\b\b\b\b\b\b\b\b\b\b\b\b\b\b\b\r184/250 [=====================>........] - ETA: 0s - loss: 0.3929 - accuracy: 0.8407",
                    "output_type": "stream"
                },
                {
                    "name": "stdout",
                    "text": "\b\b\b\b\b\b\b\b\b\b\b\b\b\b\b\b\b\b\b\b\b\b\b\b\b\b\b\b\b\b\b\b\b\b\b\b\b\b\b\b\b\b\b\b\b\b\b\b\b\b\b\b\b\b\b\b\b\b\b\b\b\b\b\b\b\b\b\b\b\b\b\b\b\b\b\b\b\b\b\b\b\b\b\b\r239/250 [===========================>..] - ETA: 0s - loss: 0.3939 - accuracy: 0.8402",
                    "output_type": "stream"
                },
                {
                    "name": "stdout",
                    "text": "\b\b\b\b\b\b\b\b\b\b\b\b\b\b\b\b\b\b\b\b\b\b\b\b\b\b\b\b\b\b\b\b\b\b\b\b\b\b\b\b\b\b\b\b\b\b\b\b\b\b\b\b\b\b\b\b\b\b\b\b\b\b\b\b\b\b\b\b\b\b\b\b\b\b\b\b\b\b\b\b\b\b\b\b\r250/250 [==============================] - 0s 1ms/step - loss: 0.3975 - accuracy: 0.8381\n",
                    "output_type": "stream"
                },
                {
                    "name": "stdout",
                    "text": "Epoch 24/100\n",
                    "output_type": "stream"
                },
                {
                    "name": "stdout",
                    "text": "\r  1/250 [..............................] - ETA: 0s - loss: 0.4632 - accuracy: 0.7812",
                    "output_type": "stream"
                },
                {
                    "name": "stdout",
                    "text": "\b\b\b\b\b\b\b\b\b\b\b\b\b\b\b\b\b\b\b\b\b\b\b\b\b\b\b\b\b\b\b\b\b\b\b\b\b\b\b\b\b\b\b\b\b\b\b\b\b\b\b\b\b\b\b\b\b\b\b\b\b\b\b\b\b\b\b\b\b\b\b\b\b\b\b\b\b\b\b\b\b\b\b\b\r 51/250 [=====>........................] - ETA: 0s - loss: 0.3952 - accuracy: 0.8480",
                    "output_type": "stream"
                },
                {
                    "name": "stdout",
                    "text": "\b\b\b\b\b\b\b\b\b\b\b\b\b\b\b\b\b\b\b\b\b\b\b\b\b\b\b\b\b\b\b\b\b\b\b\b\b\b\b\b\b\b\b\b\b\b\b\b\b\b\b\b\b\b\b\b\b\b\b\b\b\b\b\b\b\b\b\b\b\b\b\b\b\b\b\b\b\b\b\b\b\b\b\b\r100/250 [===========>..................] - ETA: 0s - loss: 0.3913 - accuracy: 0.8409",
                    "output_type": "stream"
                },
                {
                    "name": "stdout",
                    "text": "\b\b\b\b\b\b\b\b\b\b\b\b\b\b\b\b\b\b\b\b\b\b\b\b\b\b\b\b\b\b\b\b\b\b\b\b\b\b\b\b\b\b\b\b\b\b\b\b\b\b\b\b\b\b\b\b\b\b\b\b\b\b\b\b\b\b\b\b\b\b\b\b\b\b\b\b\b\b\b\b\b\b\b\b\r148/250 [================>.............] - ETA: 0s - loss: 0.3913 - accuracy: 0.8410",
                    "output_type": "stream"
                },
                {
                    "name": "stdout",
                    "text": "\b\b\b\b\b\b\b\b\b\b\b\b\b\b\b\b\b\b\b\b\b\b\b\b\b\b\b\b\b\b\b\b\b\b\b\b\b\b\b\b\b\b\b\b\b\b\b\b\b\b\b\b\b\b\b\b\b\b\b\b\b\b\b\b\b\b\b\b\b\b\b\b\b\b\b\b\b\b\b\b\b\b\b\b\r202/250 [=======================>......] - ETA: 0s - loss: 0.3915 - accuracy: 0.8403",
                    "output_type": "stream"
                },
                {
                    "name": "stdout",
                    "text": "\b\b\b\b\b\b\b\b\b\b\b\b\b\b\b\b\b\b\b\b\b\b\b\b\b\b\b\b\b\b\b\b\b\b\b\b\b\b\b\b\b\b\b\b\b\b\b\b\b\b\b\b\b\b\b\b\b\b\b\b\b\b\b\b\b\b\b\b\b\b\b\b\b\b\b\b\b\b\b\b\b\b\b\b\r247/250 [============================>.] - ETA: 0s - loss: 0.3959 - accuracy: 0.8373",
                    "output_type": "stream"
                },
                {
                    "name": "stdout",
                    "text": "\b\b\b\b\b\b\b\b\b\b\b\b\b\b\b\b\b\b\b\b\b\b\b\b\b\b\b\b\b\b\b\b\b\b\b\b\b\b\b\b\b\b\b\b\b\b\b\b\b\b\b\b\b\b\b\b\b\b\b\b\b\b\b\b\b\b\b\b\b\b\b\b\b\b\b\b\b\b\b\b\b\b\b\b\r250/250 [==============================] - 0s 1ms/step - loss: 0.3957 - accuracy: 0.8376\n",
                    "output_type": "stream"
                },
                {
                    "name": "stdout",
                    "text": "Epoch 25/100\n",
                    "output_type": "stream"
                },
                {
                    "name": "stdout",
                    "text": "\r  1/250 [..............................] - ETA: 0s - loss: 0.3509 - accuracy: 0.8750",
                    "output_type": "stream"
                },
                {
                    "name": "stdout",
                    "text": "\b\b\b\b\b\b\b\b\b\b\b\b\b\b\b\b\b\b\b\b\b\b\b\b\b\b\b\b\b\b\b\b\b\b\b\b\b\b\b\b\b\b\b\b\b\b\b\b\b\b\b\b\b\b\b\b\b\b\b\b\b\b\b\b\b\b\b\b\b\b\b\b\b\b\b\b\b\b\b\b\b\b\b\b\r 47/250 [====>.........................] - ETA: 0s - loss: 0.3843 - accuracy: 0.8438",
                    "output_type": "stream"
                },
                {
                    "name": "stdout",
                    "text": "\b\b\b\b\b\b\b\b\b\b\b\b\b\b\b\b\b\b\b\b\b\b\b\b\b\b\b\b\b\b\b\b\b\b\b\b\b\b\b\b\b\b\b\b\b\b\b\b\b\b\b\b\b\b\b\b\b\b\b\b\b\b\b\b\b\b\b\b\b\b\b\b\b\b\b\b\b\b\b\b\b\b\b\b\r 95/250 [==========>...................] - ETA: 0s - loss: 0.3937 - accuracy: 0.8375",
                    "output_type": "stream"
                },
                {
                    "name": "stdout",
                    "text": "\b\b\b\b\b\b\b\b\b\b\b\b\b\b\b\b\b\b\b\b\b\b\b\b\b\b\b\b\b\b\b\b\b\b\b\b\b\b\b\b\b\b\b\b\b\b\b\b\b\b\b\b\b\b\b\b\b\b\b\b\b\b\b\b\b\b\b\b\b\b\b\b\b\b\b\b\b\b\b\b\b\b\b\b\r145/250 [================>.............] - ETA: 0s - loss: 0.3901 - accuracy: 0.8420",
                    "output_type": "stream"
                },
                {
                    "name": "stdout",
                    "text": "\b\b\b\b\b\b\b\b\b\b\b\b\b\b\b\b\b\b\b\b\b\b\b\b\b\b\b\b\b\b\b\b\b\b\b\b\b\b\b\b\b\b\b\b\b\b\b\b\b\b\b\b\b\b\b\b\b\b\b\b\b\b\b\b\b\b\b\b\b\b\b\b\b\b\b\b\b\b\b\b\b\b\b\b\r191/250 [=====================>........] - ETA: 0s - loss: 0.3968 - accuracy: 0.8387",
                    "output_type": "stream"
                },
                {
                    "name": "stdout",
                    "text": "\b\b\b\b\b\b\b\b\b\b\b\b\b\b\b\b\b\b\b\b\b\b\b\b\b\b\b\b\b\b\b\b\b\b\b\b\b\b\b\b\b\b\b\b\b\b\b\b\b\b\b\b\b\b\b\b\b\b\b\b\b\b\b\b\b\b\b\b\b\b\b\b\b\b\b\b\b\b\b\b\b\b\b\b\r234/250 [===========================>..] - ETA: 0s - loss: 0.3944 - accuracy: 0.8384",
                    "output_type": "stream"
                },
                {
                    "name": "stdout",
                    "text": "\b\b\b\b\b\b\b\b\b\b\b\b\b\b\b\b\b\b\b\b\b\b\b\b\b\b\b\b\b\b\b\b\b\b\b\b\b\b\b\b\b\b\b\b\b\b\b\b\b\b\b\b\b\b\b\b\b\b\b\b\b\b\b\b\b\b\b\b\b\b\b\b\b\b\b\b\b\b\b\b\b\b\b\b\r250/250 [==============================] - 0s 1ms/step - loss: 0.3937 - accuracy: 0.8385\n",
                    "output_type": "stream"
                },
                {
                    "name": "stdout",
                    "text": "Epoch 26/100\n",
                    "output_type": "stream"
                },
                {
                    "name": "stdout",
                    "text": "\r  1/250 [..............................] - ETA: 0s - loss: 0.4286 - accuracy: 0.8750",
                    "output_type": "stream"
                },
                {
                    "name": "stdout",
                    "text": "\b\b\b\b\b\b\b\b\b\b\b\b\b\b\b\b\b\b\b\b\b\b\b\b\b\b\b\b\b\b\b\b\b\b\b\b\b\b\b\b\b\b\b\b\b\b\b\b\b\b\b\b\b\b\b\b\b\b\b\b\b\b\b\b\b\b\b\b\b\b\b\b\b\b\b\b\b\b\b\b\b\b\b\b\r 44/250 [====>.........................] - ETA: 0s - loss: 0.4256 - accuracy: 0.8260",
                    "output_type": "stream"
                },
                {
                    "name": "stdout",
                    "text": "\b\b\b\b\b\b\b\b\b\b\b\b\b\b\b\b\b\b\b\b\b\b\b\b\b\b\b\b\b\b\b\b\b\b\b\b\b\b\b\b\b\b\b\b\b\b\b\b\b\b\b\b\b\b\b\b\b\b\b\b\b\b\b\b\b\b\b\b\b\b\b\b\b\b\b\b\b\b\b\b\b\b\b\b\r 96/250 [==========>...................] - ETA: 0s - loss: 0.3941 - accuracy: 0.8369",
                    "output_type": "stream"
                },
                {
                    "name": "stdout",
                    "text": "\b\b\b\b\b\b\b\b\b\b\b\b\b\b\b\b\b\b\b\b\b\b\b\b\b\b\b\b\b\b\b\b\b\b\b\b\b\b\b\b\b\b\b\b\b\b\b\b\b\b\b\b\b\b\b\b\b\b\b\b\b\b\b\b\b\b\b\b\b\b\b\b\b\b\b\b\b\b\b\b\b\b\b\b\r145/250 [================>.............] - ETA: 0s - loss: 0.3931 - accuracy: 0.8360",
                    "output_type": "stream"
                },
                {
                    "name": "stdout",
                    "text": "\b\b\b\b\b\b\b\b\b\b\b\b\b\b\b\b\b\b\b\b\b\b\b\b\b\b\b\b\b\b\b\b\b\b\b\b\b\b\b\b\b\b\b\b\b\b\b\b\b\b\b\b\b\b\b\b\b\b\b\b\b\b\b\b\b\b\b\b\b\b\b\b\b\b\b\b\b\b\b\b\b\b\b\b\r198/250 [======================>.......] - ETA: 0s - loss: 0.3926 - accuracy: 0.8363",
                    "output_type": "stream"
                },
                {
                    "name": "stdout",
                    "text": "\b\b\b\b\b\b\b\b\b\b\b\b\b\b\b\b\b\b\b\b\b\b\b\b\b\b\b\b\b\b\b\b\b\b\b\b\b\b\b\b\b\b\b\b\b\b\b\b\b\b\b\b\b\b\b\b\b\b\b\b\b\b\b\b\b\b\b\b\b\b\b\b\b\b\b\b\b\b\b\b\b\b\b\b\r245/250 [============================>.] - ETA: 0s - loss: 0.3912 - accuracy: 0.8380",
                    "output_type": "stream"
                },
                {
                    "name": "stdout",
                    "text": "\b\b\b\b\b\b\b\b\b\b\b\b\b\b\b\b\b\b\b\b\b\b\b\b\b\b\b\b\b\b\b\b\b\b\b\b\b\b\b\b\b\b\b\b\b\b\b\b\b\b\b\b\b\b\b\b\b\b\b\b\b\b\b\b\b\b\b\b\b\b\b\b\b\b\b\b\b\b\b\b\b\b\b\b\r250/250 [==============================] - 0s 1ms/step - loss: 0.3909 - accuracy: 0.8382\n",
                    "output_type": "stream"
                },
                {
                    "name": "stdout",
                    "text": "Epoch 27/100\n",
                    "output_type": "stream"
                },
                {
                    "name": "stdout",
                    "text": "\r  1/250 [..............................] - ETA: 0s - loss: 0.4873 - accuracy: 0.8125",
                    "output_type": "stream"
                },
                {
                    "name": "stdout",
                    "text": "\b\b\b\b\b\b\b\b\b\b\b\b\b\b\b\b\b\b\b\b\b\b\b\b\b\b\b\b\b\b\b\b\b\b\b\b\b\b\b\b\b\b\b\b\b\b\b\b\b\b\b\b\b\b\b\b\b\b\b\b\b\b\b\b\b\b\b\b\b\b\b\b\b\b\b\b\b\b\b\b\b\b\b\b\r 47/250 [====>.........................] - ETA: 0s - loss: 0.4005 - accuracy: 0.8311",
                    "output_type": "stream"
                },
                {
                    "name": "stdout",
                    "text": "\b\b\b\b\b\b\b\b\b\b\b\b\b\b\b\b\b\b\b\b\b\b\b\b\b\b\b\b\b\b\b\b\b\b\b\b\b\b\b\b\b\b\b\b\b\b\b\b\b\b\b\b\b\b\b\b\b\b\b\b\b\b\b\b\b\b\b\b\b\b\b\b\b\b\b\b\b\b\b\b\b\b\b\b\r 97/250 [==========>...................] - ETA: 0s - loss: 0.3989 - accuracy: 0.8370",
                    "output_type": "stream"
                },
                {
                    "name": "stdout",
                    "text": "\b\b\b\b\b\b\b\b\b\b\b\b\b\b\b\b\b\b\b\b\b\b\b\b\b\b\b\b\b\b\b\b\b\b\b\b\b\b\b\b\b\b\b\b\b\b\b\b\b\b\b\b\b\b\b\b\b\b\b\b\b\b\b\b\b\b\b\b\b\b\b\b\b\b\b\b\b\b\b\b\b\b\b\b\r143/250 [================>.............] - ETA: 0s - loss: 0.3902 - accuracy: 0.8407",
                    "output_type": "stream"
                },
                {
                    "name": "stdout",
                    "text": "\b\b\b\b\b\b\b\b\b\b\b\b\b\b\b\b\b\b\b\b\b\b\b\b\b\b\b\b\b\b\b\b\b\b\b\b\b\b\b\b\b\b\b\b\b\b\b\b\b\b\b\b\b\b\b\b\b\b\b\b\b\b\b\b\b\b\b\b\b\b\b\b\b\b\b\b\b\b\b\b\b\b\b\b\r192/250 [======================>.......] - ETA: 0s - loss: 0.3869 - accuracy: 0.8418",
                    "output_type": "stream"
                },
                {
                    "name": "stdout",
                    "text": "\b\b\b\b\b\b\b\b\b\b\b\b\b\b\b\b\b\b\b\b\b\b\b\b\b\b\b\b\b\b\b\b\b\b\b\b\b\b\b\b\b\b\b\b\b\b\b\b\b\b\b\b\b\b\b\b\b\b\b\b\b\b\b\b\b\b\b\b\b\b\b\b\b\b\b\b\b\b\b\b\b\b\b\b\r244/250 [============================>.] - ETA: 0s - loss: 0.3866 - accuracy: 0.8405",
                    "output_type": "stream"
                },
                {
                    "name": "stdout",
                    "text": "\b\b\b\b\b\b\b\b\b\b\b\b\b\b\b\b\b\b\b\b\b\b\b\b\b\b\b\b\b\b\b\b\b\b\b\b\b\b\b\b\b\b\b\b\b\b\b\b\b\b\b\b\b\b\b\b\b\b\b\b\b\b\b\b\b\b\b\b\b\b\b\b\b\b\b\b\b\b\b\b\b\b\b\b\r250/250 [==============================] - 0s 1ms/step - loss: 0.3859 - accuracy: 0.8407\n",
                    "output_type": "stream"
                },
                {
                    "name": "stdout",
                    "text": "Epoch 28/100\n",
                    "output_type": "stream"
                },
                {
                    "name": "stdout",
                    "text": "\r  1/250 [..............................] - ETA: 0s - loss: 0.4669 - accuracy: 0.8438",
                    "output_type": "stream"
                },
                {
                    "name": "stdout",
                    "text": "\b\b\b\b\b\b\b\b\b\b\b\b\b\b\b\b\b\b\b\b\b\b\b\b\b\b\b\b\b\b\b\b\b\b\b\b\b\b\b\b\b\b\b\b\b\b\b\b\b\b\b\b\b\b\b\b\b\b\b\b\b\b\b\b\b\b\b\b\b\b\b\b\b\b\b\b\b\b\b\b\b\b\b\b\r 51/250 [=====>........................] - ETA: 0s - loss: 0.3877 - accuracy: 0.8474",
                    "output_type": "stream"
                },
                {
                    "name": "stdout",
                    "text": "\b\b\b\b\b\b\b\b\b\b\b\b\b\b\b\b\b\b\b\b\b\b\b\b\b\b\b\b\b\b\b\b\b\b\b\b\b\b\b\b\b\b\b\b\b\b\b\b\b\b\b\b\b\b\b\b\b\b\b\b\b\b\b\b\b\b\b\b\b\b\b\b\b\b\b\b\b\b\b\b\b\b\b\b\r102/250 [===========>..................] - ETA: 0s - loss: 0.3759 - accuracy: 0.8480",
                    "output_type": "stream"
                },
                {
                    "name": "stdout",
                    "text": "\b\b\b\b\b\b\b\b\b\b\b\b\b\b\b\b\b\b\b\b\b\b\b\b\b\b\b\b\b\b\b\b\b\b\b\b\b\b\b\b\b\b\b\b\b\b\b\b\b\b\b\b\b\b\b\b\b\b\b\b\b\b\b\b\b\b\b\b\b\b\b\b\b\b\b\b\b\b\b\b\b\b\b\b\r155/250 [=================>............] - ETA: 0s - loss: 0.3729 - accuracy: 0.8474",
                    "output_type": "stream"
                },
                {
                    "name": "stdout",
                    "text": "\b\b\b\b\b\b\b\b\b\b\b\b\b\b\b\b\b\b\b\b\b\b\b\b\b\b\b\b\b\b\b\b\b\b\b\b\b\b\b\b\b\b\b\b\b\b\b\b\b\b\b\b\b\b\b\b\b\b\b\b\b\b\b\b\b\b\b\b\b\b\b\b\b\b\b\b\b\b\b\b\b\b\b\b\r204/250 [=======================>......] - ETA: 0s - loss: 0.3791 - accuracy: 0.8419",
                    "output_type": "stream"
                },
                {
                    "name": "stdout",
                    "text": "\b\b\b\b\b\b\b\b\b\b\b\b\b\b\b\b\b\b\b\b\b\b\b\b\b\b\b\b\b\b\b\b\b\b\b\b\b\b\b\b\b\b\b\b\b\b\b\b\b\b\b\b\b\b\b\b\b\b\b\b\b\b\b\b\b\b\b\b\b\b\b\b\b\b\b\b\b\b\b\b\b\b\b\b\r250/250 [==============================] - 0s 1ms/step - loss: 0.3789 - accuracy: 0.8441\n",
                    "output_type": "stream"
                },
                {
                    "name": "stdout",
                    "text": "Epoch 29/100\n",
                    "output_type": "stream"
                },
                {
                    "name": "stdout",
                    "text": "\r  1/250 [..............................] - ETA: 0s - loss: 0.2536 - accuracy: 0.9062",
                    "output_type": "stream"
                },
                {
                    "name": "stdout",
                    "text": "\b\b\b\b\b\b\b\b\b\b\b\b\b\b\b\b\b\b\b\b\b\b\b\b\b\b\b\b\b\b\b\b\b\b\b\b\b\b\b\b\b\b\b\b\b\b\b\b\b\b\b\b\b\b\b\b\b\b\b\b\b\b\b\b\b\b\b\b\b\b\b\b\b\b\b\b\b\b\b\b\b\b\b\b\r 51/250 [=====>........................] - ETA: 0s - loss: 0.3789 - accuracy: 0.8333",
                    "output_type": "stream"
                },
                {
                    "name": "stdout",
                    "text": "\b\b\b\b\b\b\b\b\b\b\b\b\b\b\b\b\b\b\b\b\b\b\b\b\b\b\b\b\b\b\b\b\b\b\b\b\b\b\b\b\b\b\b\b\b\b\b\b\b\b\b\b\b\b\b\b\b\b\b\b\b\b\b\b\b\b\b\b\b\b\b\b\b\b\b\b\b\b\b\b\b\b\b\b\r106/250 [===========>..................] - ETA: 0s - loss: 0.3765 - accuracy: 0.8420",
                    "output_type": "stream"
                },
                {
                    "name": "stdout",
                    "text": "\b\b\b\b\b\b\b\b\b\b\b\b\b\b\b\b\b\b\b\b\b\b\b\b\b\b\b\b\b\b\b\b\b\b\b\b\b\b\b\b\b\b\b\b\b\b\b\b\b\b\b\b\b\b\b\b\b\b\b\b\b\b\b\b\b\b\b\b\b\b\b\b\b\b\b\b\b\b\b\b\b\b\b\b\r160/250 [==================>...........] - ETA: 0s - loss: 0.3684 - accuracy: 0.8486",
                    "output_type": "stream"
                },
                {
                    "name": "stdout",
                    "text": "\b\b\b\b\b\b\b\b\b\b\b\b\b\b\b\b\b\b\b\b\b\b\b\b\b\b\b\b\b\b\b\b\b\b\b\b\b\b\b\b\b\b\b\b\b\b\b\b\b\b\b\b\b\b\b\b\b\b\b\b\b\b\b\b\b\b\b\b\b\b\b\b\b\b\b\b\b\b\b\b\b\b\b\b\r207/250 [=======================>......] - ETA: 0s - loss: 0.3684 - accuracy: 0.8495",
                    "output_type": "stream"
                },
                {
                    "name": "stdout",
                    "text": "\b\b\b\b\b\b\b\b\b\b\b\b\b\b\b\b\b\b\b\b\b\b\b\b\b\b\b\b\b\b\b\b\b\b\b\b\b\b\b\b\b\b\b\b\b\b\b\b\b\b\b\b\b\b\b\b\b\b\b\b\b\b\b\b\b\b\b\b\b\b\b\b\b\b\b\b\b\b\b\b\b\b\b\b\r250/250 [==============================] - 0s 1ms/step - loss: 0.3723 - accuracy: 0.8486\n",
                    "output_type": "stream"
                },
                {
                    "name": "stdout",
                    "text": "Epoch 30/100\n",
                    "output_type": "stream"
                },
                {
                    "name": "stdout",
                    "text": "\r  1/250 [..............................] - ETA: 0s - loss: 0.2936 - accuracy: 0.8750",
                    "output_type": "stream"
                },
                {
                    "name": "stdout",
                    "text": "\b\b\b\b\b\b\b\b\b\b\b\b\b\b\b\b\b\b\b\b\b\b\b\b\b\b\b\b\b\b\b\b\b\b\b\b\b\b\b\b\b\b\b\b\b\b\b\b\b\b\b\b\b\b\b\b\b\b\b\b\b\b\b\b\b\b\b\b\b\b\b\b\b\b\b\b\b\b\b\b\b\b\b\b\r 50/250 [=====>........................] - ETA: 0s - loss: 0.3657 - accuracy: 0.8556",
                    "output_type": "stream"
                },
                {
                    "name": "stdout",
                    "text": "\b\b\b\b\b\b\b\b\b\b\b\b\b\b\b\b\b\b\b\b\b\b\b\b\b\b\b\b\b\b\b\b\b\b\b\b\b\b\b\b\b\b\b\b\b\b\b\b\b\b\b\b\b\b\b\b\b\b\b\b\b\b\b\b\b\b\b\b\b\b\b\b\b\b\b\b\b\b\b\b\b\b\b\b\r 98/250 [==========>...................] - ETA: 0s - loss: 0.3698 - accuracy: 0.8469",
                    "output_type": "stream"
                },
                {
                    "name": "stdout",
                    "text": "\b\b\b\b\b\b\b\b\b\b\b\b\b\b\b\b\b\b\b\b\b\b\b\b\b\b\b\b\b\b\b\b\b\b\b\b\b\b\b\b\b\b\b\b\b\b\b\b\b\b\b\b\b\b\b\b\b\b\b\b\b\b\b\b\b\b\b\b\b\b\b\b\b\b\b\b\b\b\b\b\b\b\b\b\r151/250 [=================>............] - ETA: 0s - loss: 0.3662 - accuracy: 0.8498",
                    "output_type": "stream"
                },
                {
                    "name": "stdout",
                    "text": "\b\b\b\b\b\b\b\b\b\b\b\b\b\b\b\b\b\b\b\b\b\b\b\b\b\b\b\b\b\b\b\b\b\b\b\b\b\b\b\b\b\b\b\b\b\b\b\b\b\b\b\b\b\b\b\b\b\b\b\b\b\b\b\b\b\b\b\b\b\b\b\b\b\b\b\b\b\b\b\b\b\b\b\b\r205/250 [=======================>......] - ETA: 0s - loss: 0.3675 - accuracy: 0.8500",
                    "output_type": "stream"
                },
                {
                    "name": "stdout",
                    "text": "\b\b\b\b\b\b\b\b\b\b\b\b\b\b\b\b\b\b\b\b\b\b\b\b\b\b\b\b\b\b\b\b\b\b\b\b\b\b\b\b\b\b\b\b\b\b\b\b\b\b\b\b\b\b\b\b\b\b\b\b\b\b\b\b\b\b\b\b\b\b\b\b\b\b\b\b\b\b\b\b\b\b\b\b\r250/250 [==============================] - 0s 1ms/step - loss: 0.3670 - accuracy: 0.8508\n",
                    "output_type": "stream"
                },
                {
                    "name": "stdout",
                    "text": "Epoch 31/100\n",
                    "output_type": "stream"
                },
                {
                    "name": "stdout",
                    "text": "\r  1/250 [..............................] - ETA: 0s - loss: 0.5751 - accuracy: 0.7500",
                    "output_type": "stream"
                },
                {
                    "name": "stdout",
                    "text": "\b\b\b\b\b\b\b\b\b\b\b\b\b\b\b\b\b\b\b\b\b\b\b\b\b\b\b\b\b\b\b\b\b\b\b\b\b\b\b\b\b\b\b\b\b\b\b\b\b\b\b\b\b\b\b\b\b\b\b\b\b\b\b\b\b\b\b\b\b\b\b\b\b\b\b\b\b\b\b\b\b\b\b\b\r 50/250 [=====>........................] - ETA: 0s - loss: 0.3727 - accuracy: 0.8494",
                    "output_type": "stream"
                },
                {
                    "name": "stdout",
                    "text": "\b\b\b\b\b\b\b\b\b\b\b\b\b\b\b\b\b\b\b\b\b\b\b\b\b\b\b\b\b\b\b\b\b\b\b\b\b\b\b\b\b\b\b\b\b\b\b\b\b\b\b\b\b\b\b\b\b\b\b\b\b\b\b\b\b\b\b\b\b\b\b\b\b\b\b\b\b\b\b\b\b\b\b\b\r102/250 [===========>..................] - ETA: 0s - loss: 0.3567 - accuracy: 0.8581",
                    "output_type": "stream"
                },
                {
                    "name": "stdout",
                    "text": "\b\b\b\b\b\b\b\b\b\b\b\b\b\b\b\b\b\b\b\b\b\b\b\b\b\b\b\b\b\b\b\b\b\b\b\b\b\b\b\b\b\b\b\b\b\b\b\b\b\b\b\b\b\b\b\b\b\b\b\b\b\b\b\b\b\b\b\b\b\b\b\b\b\b\b\b\b\b\b\b\b\b\b\b\r157/250 [=================>............] - ETA: 0s - loss: 0.3543 - accuracy: 0.8581",
                    "output_type": "stream"
                },
                {
                    "name": "stdout",
                    "text": "\b\b\b\b\b\b\b\b\b\b\b\b\b\b\b\b\b\b\b\b\b\b\b\b\b\b\b\b\b\b\b\b\b\b\b\b\b\b\b\b\b\b\b\b\b\b\b\b\b\b\b\b\b\b\b\b\b\b\b\b\b\b\b\b\b\b\b\b\b\b\b\b\b\b\b\b\b\b\b\b\b\b\b\b\r212/250 [========================>.....] - ETA: 0s - loss: 0.3596 - accuracy: 0.8547",
                    "output_type": "stream"
                },
                {
                    "name": "stdout",
                    "text": "\b\b\b\b\b\b\b\b\b\b\b\b\b\b\b\b\b\b\b\b\b\b\b\b\b\b\b\b\b\b\b\b\b\b\b\b\b\b\b\b\b\b\b\b\b\b\b\b\b\b\b\b\b\b\b\b\b\b\b\b\b\b\b\b\b\b\b\b\b\b\b\b\b\b\b\b\b\b\b\b\b\b\b\b\r250/250 [==============================] - 0s 987us/step - loss: 0.3624 - accuracy: 0.8534\n",
                    "output_type": "stream"
                },
                {
                    "name": "stdout",
                    "text": "Epoch 32/100\n",
                    "output_type": "stream"
                },
                {
                    "name": "stdout",
                    "text": "\r  1/250 [..............................] - ETA: 0s - loss: 0.6615 - accuracy: 0.6250",
                    "output_type": "stream"
                },
                {
                    "name": "stdout",
                    "text": "\b\b\b\b\b\b\b\b\b\b\b\b\b\b\b\b\b\b\b\b\b\b\b\b\b\b\b\b\b\b\b\b\b\b\b\b\b\b\b\b\b\b\b\b\b\b\b\b\b\b\b\b\b\b\b\b\b\b\b\b\b\b\b\b\b\b\b\b\b\b\b\b\b\b\b\b\b\b\b\b\b\b\b\b\r 48/250 [====>.........................] - ETA: 0s - loss: 0.3520 - accuracy: 0.8574",
                    "output_type": "stream"
                },
                {
                    "name": "stdout",
                    "text": "\b\b\b\b\b\b\b\b\b\b\b\b\b\b\b\b\b\b\b\b\b\b\b\b\b\b\b\b\b\b\b\b\b\b\b\b\b\b\b\b\b\b\b\b\b\b\b\b\b\b\b\b\b\b\b\b\b\b\b\b\b\b\b\b\b\b\b\b\b\b\b\b\b\b\b\b\b\b\b\b\b\b\b\b\r 97/250 [==========>...................] - ETA: 0s - loss: 0.3648 - accuracy: 0.8508",
                    "output_type": "stream"
                },
                {
                    "name": "stdout",
                    "text": "\b\b\b\b\b\b\b\b\b\b\b\b\b\b\b\b\b\b\b\b\b\b\b\b\b\b\b\b\b\b\b\b\b\b\b\b\b\b\b\b\b\b\b\b\b\b\b\b\b\b\b\b\b\b\b\b\b\b\b\b\b\b\b\b\b\b\b\b\b\b\b\b\b\b\b\b\b\b\b\b\b\b\b\b\r149/250 [================>.............] - ETA: 0s - loss: 0.3600 - accuracy: 0.8521",
                    "output_type": "stream"
                },
                {
                    "name": "stdout",
                    "text": "\b\b\b\b\b\b\b\b\b\b\b\b\b\b\b\b\b\b\b\b\b\b\b\b\b\b\b\b\b\b\b\b\b\b\b\b\b\b\b\b\b\b\b\b\b\b\b\b\b\b\b\b\b\b\b\b\b\b\b\b\b\b\b\b\b\b\b\b\b\b\b\b\b\b\b\b\b\b\b\b\b\b\b\b\r202/250 [=======================>......] - ETA: 0s - loss: 0.3592 - accuracy: 0.8524",
                    "output_type": "stream"
                },
                {
                    "name": "stdout",
                    "text": "\b\b\b\b\b\b\b\b\b\b\b\b\b\b\b\b\b\b\b\b\b\b\b\b\b\b\b\b\b\b\b\b\b\b\b\b\b\b\b\b\b\b\b\b\b\b\b\b\b\b\b\b\b\b\b\b\b\b\b\b\b\b\b\b\b\b\b\b\b\b\b\b\b\b\b\b\b\b\b\b\b\b\b\b\r245/250 [============================>.] - ETA: 0s - loss: 0.3588 - accuracy: 0.8543",
                    "output_type": "stream"
                },
                {
                    "name": "stdout",
                    "text": "\b\b\b\b\b\b\b\b\b\b\b\b\b\b\b\b\b\b\b\b\b\b\b\b\b\b\b\b\b\b\b\b\b\b\b\b\b\b\b\b\b\b\b\b\b\b\b\b\b\b\b\b\b\b\b\b\b\b\b\b\b\b\b\b\b\b\b\b\b\b\b\b\b\b\b\b\b\b\b\b\b\b\b\b\r250/250 [==============================] - 0s 1ms/step - loss: 0.3584 - accuracy: 0.8544\n",
                    "output_type": "stream"
                },
                {
                    "name": "stdout",
                    "text": "Epoch 33/100\n",
                    "output_type": "stream"
                },
                {
                    "name": "stdout",
                    "text": "\r  1/250 [..............................] - ETA: 0s - loss: 0.3055 - accuracy: 0.8750",
                    "output_type": "stream"
                },
                {
                    "name": "stdout",
                    "text": "\b\b\b\b\b\b\b\b\b\b\b\b\b\b\b\b\b\b\b\b\b\b\b\b\b\b\b\b\b\b\b\b\b\b\b\b\b\b\b\b\b\b\b\b\b\b\b\b\b\b\b\b\b\b\b\b\b\b\b\b\b\b\b\b\b\b\b\b\b\b\b\b\b\b\b\b\b\b\b\b\b\b\b\b\r 50/250 [=====>........................] - ETA: 0s - loss: 0.3569 - accuracy: 0.8631",
                    "output_type": "stream"
                },
                {
                    "name": "stdout",
                    "text": "\b\b\b\b\b\b\b\b\b\b\b\b\b\b\b\b\b\b\b\b\b\b\b\b\b\b\b\b\b\b\b\b\b\b\b\b\b\b\b\b\b\b\b\b\b\b\b\b\b\b\b\b\b\b\b\b\b\b\b\b\b\b\b\b\b\b\b\b\b\b\b\b\b\b\b\b\b\b\b\b\b\b\b\b\r102/250 [===========>..................] - ETA: 0s - loss: 0.3462 - accuracy: 0.8621",
                    "output_type": "stream"
                },
                {
                    "name": "stdout",
                    "text": "\b\b\b\b\b\b\b\b\b\b\b\b\b\b\b\b\b\b\b\b\b\b\b\b\b\b\b\b\b\b\b\b\b\b\b\b\b\b\b\b\b\b\b\b\b\b\b\b\b\b\b\b\b\b\b\b\b\b\b\b\b\b\b\b\b\b\b\b\b\b\b\b\b\b\b\b\b\b\b\b\b\b\b\b\r153/250 [=================>............] - ETA: 0s - loss: 0.3564 - accuracy: 0.8554",
                    "output_type": "stream"
                },
                {
                    "name": "stdout",
                    "text": "\b\b\b\b\b\b\b\b\b\b\b\b\b\b\b\b\b\b\b\b\b\b\b\b\b\b\b\b\b\b\b\b\b\b\b\b\b\b\b\b\b\b\b\b\b\b\b\b\b\b\b\b\b\b\b\b\b\b\b\b\b\b\b\b\b\b\b\b\b\b\b\b\b\b\b\b\b\b\b\b\b\b\b\b\r201/250 [=======================>......] - ETA: 0s - loss: 0.3574 - accuracy: 0.8540",
                    "output_type": "stream"
                },
                {
                    "name": "stdout",
                    "text": "\b\b\b\b\b\b\b\b\b\b\b\b\b\b\b\b\b\b\b\b\b\b\b\b\b\b\b\b\b\b\b\b\b\b\b\b\b\b\b\b\b\b\b\b\b\b\b\b\b\b\b\b\b\b\b\b\b\b\b\b\b\b\b\b\b\b\b\b\b\b\b\b\b\b\b\b\b\b\b\b\b\b\b\b\r250/250 [==============================] - ETA: 0s - loss: 0.3548 - accuracy: 0.8556",
                    "output_type": "stream"
                },
                {
                    "name": "stdout",
                    "text": "\b\b\b\b\b\b\b\b\b\b\b\b\b\b\b\b\b\b\b\b\b\b\b\b\b\b\b\b\b\b\b\b\b\b\b\b\b\b\b\b\b\b\b\b\b\b\b\b\b\b\b\b\b\b\b\b\b\b\b\b\b\b\b\b\b\b\b\b\b\b\b\b\b\b\b\b\b\b\b\b\b\b\b\b\r250/250 [==============================] - 0s 1ms/step - loss: 0.3548 - accuracy: 0.8556\n",
                    "output_type": "stream"
                },
                {
                    "name": "stdout",
                    "text": "Epoch 34/100\n",
                    "output_type": "stream"
                },
                {
                    "name": "stdout",
                    "text": "\r  1/250 [..............................] - ETA: 0s - loss: 0.3983 - accuracy: 0.8438",
                    "output_type": "stream"
                },
                {
                    "name": "stdout",
                    "text": "\b\b\b\b\b\b\b\b\b\b\b\b\b\b\b\b\b\b\b\b\b\b\b\b\b\b\b\b\b\b\b\b\b\b\b\b\b\b\b\b\b\b\b\b\b\b\b\b\b\b\b\b\b\b\b\b\b\b\b\b\b\b\b\b\b\b\b\b\b\b\b\b\b\b\b\b\b\b\b\b\b\b\b\b\r 50/250 [=====>........................] - ETA: 0s - loss: 0.3566 - accuracy: 0.8519",
                    "output_type": "stream"
                },
                {
                    "name": "stdout",
                    "text": "\b\b\b\b\b\b\b\b\b\b\b\b\b\b\b\b\b\b\b\b\b\b\b\b\b\b\b\b\b\b\b\b\b\b\b\b\b\b\b\b\b\b\b\b\b\b\b\b\b\b\b\b\b\b\b\b\b\b\b\b\b\b\b\b\b\b\b\b\b\b\b\b\b\b\b\b\b\b\b\b\b\b\b\b\r107/250 [===========>..................] - ETA: 0s - loss: 0.3636 - accuracy: 0.8496",
                    "output_type": "stream"
                },
                {
                    "name": "stdout",
                    "text": "\b\b\b\b\b\b\b\b\b\b\b\b\b\b\b\b\b\b\b\b\b\b\b\b\b\b\b\b\b\b\b\b\b\b\b\b\b\b\b\b\b\b\b\b\b\b\b\b\b\b\b\b\b\b\b\b\b\b\b\b\b\b\b\b\b\b\b\b\b\b\b\b\b\b\b\b\b\b\b\b\b\b\b\b\r158/250 [=================>............] - ETA: 0s - loss: 0.3529 - accuracy: 0.8568",
                    "output_type": "stream"
                },
                {
                    "name": "stdout",
                    "text": "\b\b\b\b\b\b\b\b\b\b\b\b\b\b\b\b\b\b\b\b\b\b\b\b\b\b\b\b\b\b\b\b\b\b\b\b\b\b\b\b\b\b\b\b\b\b\b\b\b\b\b\b\b\b\b\b\b\b\b\b\b\b\b\b\b\b\b\b\b\b\b\b\b\b\b\b\b\b\b\b\b\b\b\b\r206/250 [=======================>......] - ETA: 0s - loss: 0.3565 - accuracy: 0.8550",
                    "output_type": "stream"
                },
                {
                    "name": "stdout",
                    "text": "\b\b\b\b\b\b\b\b\b\b\b\b\b\b\b\b\b\b\b\b\b\b\b\b\b\b\b\b\b\b\b\b\b\b\b\b\b\b\b\b\b\b\b\b\b\b\b\b\b\b\b\b\b\b\b\b\b\b\b\b\b\b\b\b\b\b\b\b\b\b\b\b\b\b\b\b\b\b\b\b\b\b\b\b\r250/250 [==============================] - 0s 968us/step - loss: 0.3524 - accuracy: 0.8564\n",
                    "output_type": "stream"
                },
                {
                    "name": "stdout",
                    "text": "Epoch 35/100\n",
                    "output_type": "stream"
                },
                {
                    "name": "stdout",
                    "text": "\r  1/250 [..............................] - ETA: 0s - loss: 0.3674 - accuracy: 0.8750",
                    "output_type": "stream"
                },
                {
                    "name": "stdout",
                    "text": "\b\b\b\b\b\b\b\b\b\b\b\b\b\b\b\b\b\b\b\b\b\b\b\b\b\b\b\b\b\b\b\b\b\b\b\b\b\b\b\b\b\b\b\b\b\b\b\b\b\b\b\b\b\b\b\b\b\b\b\b\b\b\b\b\b\b\b\b\b\b\b\b\b\b\b\b\b\b\b\b\b\b\b\b\r 52/250 [=====>........................] - ETA: 0s - loss: 0.3688 - accuracy: 0.8492",
                    "output_type": "stream"
                },
                {
                    "name": "stdout",
                    "text": "\b\b\b\b\b\b\b\b\b\b\b\b\b\b\b\b\b\b\b\b\b\b\b\b\b\b\b\b\b\b\b\b\b\b\b\b\b\b\b\b\b\b\b\b\b\b\b\b\b\b\b\b\b\b\b\b\b\b\b\b\b\b\b\b\b\b\b\b\b\b\b\b\b\b\b\b\b\b\b\b\b\b\b\b\r 99/250 [==========>...................] - ETA: 0s - loss: 0.3615 - accuracy: 0.8561",
                    "output_type": "stream"
                },
                {
                    "name": "stdout",
                    "text": "\b\b\b\b\b\b\b\b\b\b\b\b\b\b\b\b\b\b\b\b\b\b\b\b\b\b\b\b\b\b\b\b\b\b\b\b\b\b\b\b\b\b\b\b\b\b\b\b\b\b\b\b\b\b\b\b\b\b\b\b\b\b\b\b\b\b\b\b\b\b\b\b\b\b\b\b\b\b\b\b\b\b\b\b\r150/250 [=================>............] - ETA: 0s - loss: 0.3530 - accuracy: 0.8577",
                    "output_type": "stream"
                },
                {
                    "name": "stdout",
                    "text": "\b\b\b\b\b\b\b\b\b\b\b\b\b\b\b\b\b\b\b\b\b\b\b\b\b\b\b\b\b\b\b\b\b\b\b\b\b\b\b\b\b\b\b\b\b\b\b\b\b\b\b\b\b\b\b\b\b\b\b\b\b\b\b\b\b\b\b\b\b\b\b\b\b\b\b\b\b\b\b\b\b\b\b\b\r205/250 [=======================>......] - ETA: 0s - loss: 0.3519 - accuracy: 0.8585",
                    "output_type": "stream"
                },
                {
                    "name": "stdout",
                    "text": "\b\b\b\b\b\b\b\b\b\b\b\b\b\b\b\b\b\b\b\b\b\b\b\b\b\b\b\b\b\b\b\b\b\b\b\b\b\b\b\b\b\b\b\b\b\b\b\b\b\b\b\b\b\b\b\b\b\b\b\b\b\b\b\b\b\b\b\b\b\b\b\b\b\b\b\b\b\b\b\b\b\b\b\b\r250/250 [==============================] - 0s 1ms/step - loss: 0.3497 - accuracy: 0.8584\n",
                    "output_type": "stream"
                },
                {
                    "name": "stdout",
                    "text": "Epoch 36/100\n",
                    "output_type": "stream"
                },
                {
                    "name": "stdout",
                    "text": "\r  1/250 [..............................] - ETA: 0s - loss: 0.3185 - accuracy: 0.8750",
                    "output_type": "stream"
                },
                {
                    "name": "stdout",
                    "text": "\b\b\b\b\b\b\b\b\b\b\b\b\b\b\b\b\b\b\b\b\b\b\b\b\b\b\b\b\b\b\b\b\b\b\b\b\b\b\b\b\b\b\b\b\b\b\b\b\b\b\b\b\b\b\b\b\b\b\b\b\b\b\b\b\b\b\b\b\b\b\b\b\b\b\b\b\b\b\b\b\b\b\b\b\r 49/250 [====>.........................] - ETA: 0s - loss: 0.3450 - accuracy: 0.8654",
                    "output_type": "stream"
                },
                {
                    "name": "stdout",
                    "text": "\b\b\b\b\b\b\b\b\b\b\b\b\b\b\b\b\b\b\b\b\b\b\b\b\b\b\b\b\b\b\b\b\b\b\b\b\b\b\b\b\b\b\b\b\b\b\b\b\b\b\b\b\b\b\b\b\b\b\b\b\b\b\b\b\b\b\b\b\b\b\b\b\b\b\b\b\b\b\b\b\b\b\b\b\r 96/250 [==========>...................] - ETA: 0s - loss: 0.3427 - accuracy: 0.8607",
                    "output_type": "stream"
                },
                {
                    "name": "stdout",
                    "text": "\b\b\b\b\b\b\b\b\b\b\b\b\b\b\b\b\b\b\b\b\b\b\b\b\b\b\b\b\b\b\b\b\b\b\b\b\b\b\b\b\b\b\b\b\b\b\b\b\b\b\b\b\b\b\b\b\b\b\b\b\b\b\b\b\b\b\b\b\b\b\b\b\b\b\b\b\b\b\b\b\b\b\b\b\r150/250 [=================>............] - ETA: 0s - loss: 0.3480 - accuracy: 0.8571",
                    "output_type": "stream"
                },
                {
                    "name": "stdout",
                    "text": "\b\b\b\b\b\b\b\b\b\b\b\b\b\b\b\b\b\b\b\b\b\b\b\b\b\b\b\b\b\b\b\b\b\b\b\b\b\b\b\b\b\b\b\b\b\b\b\b\b\b\b\b\b\b\b\b\b\b\b\b\b\b\b\b\b\b\b\b\b\b\b\b\b\b\b\b\b\b\b\b\b\b\b\b\r197/250 [======================>.......] - ETA: 0s - loss: 0.3483 - accuracy: 0.8577",
                    "output_type": "stream"
                },
                {
                    "name": "stdout",
                    "text": "\b\b\b\b\b\b\b\b\b\b\b\b\b\b\b\b\b\b\b\b\b\b\b\b\b\b\b\b\b\b\b\b\b\b\b\b\b\b\b\b\b\b\b\b\b\b\b\b\b\b\b\b\b\b\b\b\b\b\b\b\b\b\b\b\b\b\b\b\b\b\b\b\b\b\b\b\b\b\b\b\b\b\b\b\r244/250 [============================>.] - ETA: 0s - loss: 0.3464 - accuracy: 0.8586",
                    "output_type": "stream"
                },
                {
                    "name": "stdout",
                    "text": "\b\b\b\b\b\b\b\b\b\b\b\b\b\b\b\b\b\b\b\b\b\b\b\b\b\b\b\b\b\b\b\b\b\b\b\b\b\b\b\b\b\b\b\b\b\b\b\b\b\b\b\b\b\b\b\b\b\b\b\b\b\b\b\b\b\b\b\b\b\b\b\b\b\b\b\b\b\b\b\b\b\b\b\b\r250/250 [==============================] - 0s 1ms/step - loss: 0.3481 - accuracy: 0.8576\n",
                    "output_type": "stream"
                },
                {
                    "name": "stdout",
                    "text": "Epoch 37/100\n",
                    "output_type": "stream"
                },
                {
                    "name": "stdout",
                    "text": "\r  1/250 [..............................] - ETA: 0s - loss: 0.4669 - accuracy: 0.8125",
                    "output_type": "stream"
                },
                {
                    "name": "stdout",
                    "text": "\b\b\b\b\b\b\b\b\b\b\b\b\b\b\b\b\b\b\b\b\b\b\b\b\b\b\b\b\b\b\b\b\b\b\b\b\b\b\b\b\b\b\b\b\b\b\b\b\b\b\b\b\b\b\b\b\b\b\b\b\b\b\b\b\b\b\b\b\b\b\b\b\b\b\b\b\b\b\b\b\b\b\b\b\r 46/250 [====>.........................] - ETA: 0s - loss: 0.3620 - accuracy: 0.8560",
                    "output_type": "stream"
                },
                {
                    "name": "stdout",
                    "text": "\b\b\b\b\b\b\b\b\b\b\b\b\b\b\b\b\b\b\b\b\b\b\b\b\b\b\b\b\b\b\b\b\b\b\b\b\b\b\b\b\b\b\b\b\b\b\b\b\b\b\b\b\b\b\b\b\b\b\b\b\b\b\b\b\b\b\b\b\b\b\b\b\b\b\b\b\b\b\b\b\b\b\b\b\r101/250 [===========>..................] - ETA: 0s - loss: 0.3446 - accuracy: 0.8654",
                    "output_type": "stream"
                },
                {
                    "name": "stdout",
                    "text": "\b\b\b\b\b\b\b\b\b\b\b\b\b\b\b\b\b\b\b\b\b\b\b\b\b\b\b\b\b\b\b\b\b\b\b\b\b\b\b\b\b\b\b\b\b\b\b\b\b\b\b\b\b\b\b\b\b\b\b\b\b\b\b\b\b\b\b\b\b\b\b\b\b\b\b\b\b\b\b\b\b\b\b\b\r152/250 [=================>............] - ETA: 0s - loss: 0.3503 - accuracy: 0.8565",
                    "output_type": "stream"
                },
                {
                    "name": "stdout",
                    "text": "\b\b\b\b\b\b\b\b\b\b\b\b\b\b\b\b\b\b\b\b\b\b\b\b\b\b\b\b\b\b\b\b\b\b\b\b\b\b\b\b\b\b\b\b\b\b\b\b\b\b\b\b\b\b\b\b\b\b\b\b\b\b\b\b\b\b\b\b\b\b\b\b\b\b\b\b\b\b\b\b\b\b\b\b\r196/250 [======================>.......] - ETA: 0s - loss: 0.3492 - accuracy: 0.8571",
                    "output_type": "stream"
                },
                {
                    "name": "stdout",
                    "text": "\b\b\b\b\b\b\b\b\b\b\b\b\b\b\b\b\b\b\b\b\b\b\b\b\b\b\b\b\b\b\b\b\b\b\b\b\b\b\b\b\b\b\b\b\b\b\b\b\b\b\b\b\b\b\b\b\b\b\b\b\b\b\b\b\b\b\b\b\b\b\b\b\b\b\b\b\b\b\b\b\b\b\b\b\r244/250 [============================>.] - ETA: 0s - loss: 0.3457 - accuracy: 0.8592",
                    "output_type": "stream"
                },
                {
                    "name": "stdout",
                    "text": "\b\b\b\b\b\b\b\b\b\b\b\b\b\b\b\b\b\b\b\b\b\b\b\b\b\b\b\b\b\b\b\b\b\b\b\b\b\b\b\b\b\b\b\b\b\b\b\b\b\b\b\b\b\b\b\b\b\b\b\b\b\b\b\b\b\b\b\b\b\b\b\b\b\b\b\b\b\b\b\b\b\b\b\b\r250/250 [==============================] - 0s 1ms/step - loss: 0.3463 - accuracy: 0.8586\n",
                    "output_type": "stream"
                },
                {
                    "name": "stdout",
                    "text": "Epoch 38/100\n",
                    "output_type": "stream"
                },
                {
                    "name": "stdout",
                    "text": "\r  1/250 [..............................] - ETA: 0s - loss: 0.4216 - accuracy: 0.8125",
                    "output_type": "stream"
                },
                {
                    "name": "stdout",
                    "text": "\b\b\b\b\b\b\b\b\b\b\b\b\b\b\b\b\b\b\b\b\b\b\b\b\b\b\b\b\b\b\b\b\b\b\b\b\b\b\b\b\b\b\b\b\b\b\b\b\b\b\b\b\b\b\b\b\b\b\b\b\b\b\b\b\b\b\b\b\b\b\b\b\b\b\b\b\b\b\b\b\b\b\b\b\r 54/250 [=====>........................] - ETA: 0s - loss: 0.3399 - accuracy: 0.8600",
                    "output_type": "stream"
                },
                {
                    "name": "stdout",
                    "text": "\b\b\b\b\b\b\b\b\b\b\b\b\b\b\b\b\b\b\b\b\b\b\b\b\b\b\b\b\b\b\b\b\b\b\b\b\b\b\b\b\b\b\b\b\b\b\b\b\b\b\b\b\b\b\b\b\b\b\b\b\b\b\b\b\b\b\b\b\b\b\b\b\b\b\b\b\b\b\b\b\b\b\b\b\r102/250 [===========>..................] - ETA: 0s - loss: 0.3303 - accuracy: 0.8676",
                    "output_type": "stream"
                },
                {
                    "name": "stdout",
                    "text": "\b\b\b\b\b\b\b\b\b\b\b\b\b\b\b\b\b\b\b\b\b\b\b\b\b\b\b\b\b\b\b\b\b\b\b\b\b\b\b\b\b\b\b\b\b\b\b\b\b\b\b\b\b\b\b\b\b\b\b\b\b\b\b\b\b\b\b\b\b\b\b\b\b\b\b\b\b\b\b\b\b\b\b\b\r149/250 [================>.............] - ETA: 0s - loss: 0.3437 - accuracy: 0.8591",
                    "output_type": "stream"
                },
                {
                    "name": "stdout",
                    "text": "\b\b\b\b\b\b\b\b\b\b\b\b\b\b\b\b\b\b\b\b\b\b\b\b\b\b\b\b\b\b\b\b\b\b\b\b\b\b\b\b\b\b\b\b\b\b\b\b\b\b\b\b\b\b\b\b\b\b\b\b\b\b\b\b\b\b\b\b\b\b\b\b\b\b\b\b\b\b\b\b\b\b\b\b\r203/250 [=======================>......] - ETA: 0s - loss: 0.3482 - accuracy: 0.8571",
                    "output_type": "stream"
                },
                {
                    "name": "stdout",
                    "text": "\b\b\b\b\b\b\b\b\b\b\b\b\b\b\b\b\b\b\b\b\b\b\b\b\b\b\b\b\b\b\b\b\b\b\b\b\b\b\b\b\b\b\b\b\b\b\b\b\b\b\b\b\b\b\b\b\b\b\b\b\b\b\b\b\b\b\b\b\b\b\b\b\b\b\b\b\b\b\b\b\b\b\b\b\r250/250 [==============================] - 0s 1ms/step - loss: 0.3451 - accuracy: 0.8586\n",
                    "output_type": "stream"
                },
                {
                    "name": "stdout",
                    "text": "Epoch 39/100\n",
                    "output_type": "stream"
                },
                {
                    "name": "stdout",
                    "text": "\r  1/250 [..............................] - ETA: 0s - loss: 0.3919 - accuracy: 0.8125",
                    "output_type": "stream"
                },
                {
                    "name": "stdout",
                    "text": "\b\b\b\b\b\b\b\b\b\b\b\b\b\b\b\b\b\b\b\b\b\b\b\b\b\b\b\b\b\b\b\b\b\b\b\b\b\b\b\b\b\b\b\b\b\b\b\b\b\b\b\b\b\b\b\b\b\b\b\b\b\b\b\b\b\b\b\b\b\b\b\b\b\b\b\b\b\b\b\b\b\b\b\b\r 54/250 [=====>........................] - ETA: 0s - loss: 0.3541 - accuracy: 0.8455",
                    "output_type": "stream"
                },
                {
                    "name": "stdout",
                    "text": "\b\b\b\b\b\b\b\b\b\b\b\b\b\b\b\b\b\b\b\b\b\b\b\b\b\b\b\b\b\b\b\b\b\b\b\b\b\b\b\b\b\b\b\b\b\b\b\b\b\b\b\b\b\b\b\b\b\b\b\b\b\b\b\b\b\b\b\b\b\b\b\b\b\b\b\b\b\b\b\b\b\b\b\b\r 98/250 [==========>...................] - ETA: 0s - loss: 0.3549 - accuracy: 0.8520",
                    "output_type": "stream"
                },
                {
                    "name": "stdout",
                    "text": "\b\b\b\b\b\b\b\b\b\b\b\b\b\b\b\b\b\b\b\b\b\b\b\b\b\b\b\b\b\b\b\b\b\b\b\b\b\b\b\b\b\b\b\b\b\b\b\b\b\b\b\b\b\b\b\b\b\b\b\b\b\b\b\b\b\b\b\b\b\b\b\b\b\b\b\b\b\b\b\b\b\b\b\b\r155/250 [=================>............] - ETA: 0s - loss: 0.3429 - accuracy: 0.8585",
                    "output_type": "stream"
                },
                {
                    "name": "stdout",
                    "text": "\b\b\b\b\b\b\b\b\b\b\b\b\b\b\b\b\b\b\b\b\b\b\b\b\b\b\b\b\b\b\b\b\b\b\b\b\b\b\b\b\b\b\b\b\b\b\b\b\b\b\b\b\b\b\b\b\b\b\b\b\b\b\b\b\b\b\b\b\b\b\b\b\b\b\b\b\b\b\b\b\b\b\b\b\r198/250 [======================>.......] - ETA: 0s - loss: 0.3454 - accuracy: 0.8570",
                    "output_type": "stream"
                },
                {
                    "name": "stdout",
                    "text": "\b\b\b\b\b\b\b\b\b\b\b\b\b\b\b\b\b\b\b\b\b\b\b\b\b\b\b\b\b\b\b\b\b\b\b\b\b\b\b\b\b\b\b\b\b\b\b\b\b\b\b\b\b\b\b\b\b\b\b\b\b\b\b\b\b\b\b\b\b\b\b\b\b\b\b\b\b\b\b\b\b\b\b\b\r244/250 [============================>.] - ETA: 0s - loss: 0.3426 - accuracy: 0.8590",
                    "output_type": "stream"
                },
                {
                    "name": "stdout",
                    "text": "\b\b\b\b\b\b\b\b\b\b\b\b\b\b\b\b\b\b\b\b\b\b\b\b\b\b\b\b\b\b\b\b\b\b\b\b\b\b\b\b\b\b\b\b\b\b\b\b\b\b\b\b\b\b\b\b\b\b\b\b\b\b\b\b\b\b\b\b\b\b\b\b\b\b\b\b\b\b\b\b\b\b\b\b\r250/250 [==============================] - 0s 1ms/step - loss: 0.3441 - accuracy: 0.8586\n",
                    "output_type": "stream"
                },
                {
                    "name": "stdout",
                    "text": "Epoch 40/100\n",
                    "output_type": "stream"
                },
                {
                    "name": "stdout",
                    "text": "\r  1/250 [..............................] - ETA: 0s - loss: 0.2286 - accuracy: 0.9062",
                    "output_type": "stream"
                },
                {
                    "name": "stdout",
                    "text": "\b\b\b\b\b\b\b\b\b\b\b\b\b\b\b\b\b\b\b\b\b\b\b\b\b\b\b\b\b\b\b\b\b\b\b\b\b\b\b\b\b\b\b\b\b\b\b\b\b\b\b\b\b\b\b\b\b\b\b\b\b\b\b\b\b\b\b\b\b\b\b\b\b\b\b\b\b\b\b\b\b\b\b\b\r 52/250 [=====>........................] - ETA: 0s - loss: 0.3297 - accuracy: 0.8702",
                    "output_type": "stream"
                },
                {
                    "name": "stdout",
                    "text": "\b\b\b\b\b\b\b\b\b\b\b\b\b\b\b\b\b\b\b\b\b\b\b\b\b\b\b\b\b\b\b\b\b\b\b\b\b\b\b\b\b\b\b\b\b\b\b\b\b\b\b\b\b\b\b\b\b\b\b\b\b\b\b\b\b\b\b\b\b\b\b\b\b\b\b\b\b\b\b\b\b\b\b\b\r108/250 [===========>..................] - ETA: 0s - loss: 0.3351 - accuracy: 0.8637",
                    "output_type": "stream"
                },
                {
                    "name": "stdout",
                    "text": "\b\b\b\b\b\b\b\b\b\b\b\b\b\b\b\b\b\b\b\b\b\b\b\b\b\b\b\b\b\b\b\b\b\b\b\b\b\b\b\b\b\b\b\b\b\b\b\b\b\b\b\b\b\b\b\b\b\b\b\b\b\b\b\b\b\b\b\b\b\b\b\b\b\b\b\b\b\b\b\b\b\b\b\b\r162/250 [==================>...........] - ETA: 0s - loss: 0.3343 - accuracy: 0.8642",
                    "output_type": "stream"
                },
                {
                    "name": "stdout",
                    "text": "\b\b\b\b\b\b\b\b\b\b\b\b\b\b\b\b\b\b\b\b\b\b\b\b\b\b\b\b\b\b\b\b\b\b\b\b\b\b\b\b\b\b\b\b\b\b\b\b\b\b\b\b\b\b\b\b\b\b\b\b\b\b\b\b\b\b\b\b\b\b\b\b\b\b\b\b\b\b\b\b\b\b\b\b\r207/250 [=======================>......] - ETA: 0s - loss: 0.3395 - accuracy: 0.8613",
                    "output_type": "stream"
                },
                {
                    "name": "stdout",
                    "text": "\b\b\b\b\b\b\b\b\b\b\b\b\b\b\b\b\b\b\b\b\b\b\b\b\b\b\b\b\b\b\b\b\b\b\b\b\b\b\b\b\b\b\b\b\b\b\b\b\b\b\b\b\b\b\b\b\b\b\b\b\b\b\b\b\b\b\b\b\b\b\b\b\b\b\b\b\b\b\b\b\b\b\b\b\r250/250 [==============================] - 0s 970us/step - loss: 0.3434 - accuracy: 0.8606\n",
                    "output_type": "stream"
                },
                {
                    "name": "stdout",
                    "text": "Epoch 41/100\n",
                    "output_type": "stream"
                },
                {
                    "name": "stdout",
                    "text": "\r  1/250 [..............................] - ETA: 0s - loss: 0.3174 - accuracy: 0.8438",
                    "output_type": "stream"
                },
                {
                    "name": "stdout",
                    "text": "\b\b\b\b\b\b\b\b\b\b\b\b\b\b\b\b\b\b\b\b\b\b\b\b\b\b\b\b\b\b\b\b\b\b\b\b\b\b\b\b\b\b\b\b\b\b\b\b\b\b\b\b\b\b\b\b\b\b\b\b\b\b\b\b\b\b\b\b\b\b\b\b\b\b\b\b\b\b\b\b\b\b\b\b\r 50/250 [=====>........................] - ETA: 0s - loss: 0.3255 - accuracy: 0.8712",
                    "output_type": "stream"
                },
                {
                    "name": "stdout",
                    "text": "\b\b\b\b\b\b\b\b\b\b\b\b\b\b\b\b\b\b\b\b\b\b\b\b\b\b\b\b\b\b\b\b\b\b\b\b\b\b\b\b\b\b\b\b\b\b\b\b\b\b\b\b\b\b\b\b\b\b\b\b\b\b\b\b\b\b\b\b\b\b\b\b\b\b\b\b\b\b\b\b\b\b\b\b\r 97/250 [==========>...................] - ETA: 0s - loss: 0.3427 - accuracy: 0.8615",
                    "output_type": "stream"
                },
                {
                    "name": "stdout",
                    "text": "\b\b\b\b\b\b\b\b\b\b\b\b\b\b\b\b\b\b\b\b\b\b\b\b\b\b\b\b\b\b\b\b\b\b\b\b\b\b\b\b\b\b\b\b\b\b\b\b\b\b\b\b\b\b\b\b\b\b\b\b\b\b\b\b\b\b\b\b\b\b\b\b\b\b\b\b\b\b\b\b\b\b\b\b\r147/250 [================>.............] - ETA: 0s - loss: 0.3532 - accuracy: 0.8557",
                    "output_type": "stream"
                },
                {
                    "name": "stdout",
                    "text": "\b\b\b\b\b\b\b\b\b\b\b\b\b\b\b\b\b\b\b\b\b\b\b\b\b\b\b\b\b\b\b\b\b\b\b\b\b\b\b\b\b\b\b\b\b\b\b\b\b\b\b\b\b\b\b\b\b\b\b\b\b\b\b\b\b\b\b\b\b\b\b\b\b\b\b\b\b\b\b\b\b\b\b\b\r201/250 [=======================>......] - ETA: 0s - loss: 0.3454 - accuracy: 0.8591",
                    "output_type": "stream"
                },
                {
                    "name": "stdout",
                    "text": "\b\b\b\b\b\b\b\b\b\b\b\b\b\b\b\b\b\b\b\b\b\b\b\b\b\b\b\b\b\b\b\b\b\b\b\b\b\b\b\b\b\b\b\b\b\b\b\b\b\b\b\b\b\b\b\b\b\b\b\b\b\b\b\b\b\b\b\b\b\b\b\b\b\b\b\b\b\b\b\b\b\b\b\b\r246/250 [============================>.] - ETA: 0s - loss: 0.3434 - accuracy: 0.8595",
                    "output_type": "stream"
                },
                {
                    "name": "stdout",
                    "text": "\b\b\b\b\b\b\b\b\b\b\b\b\b\b\b\b\b\b\b\b\b\b\b\b\b\b\b\b\b\b\b\b\b\b\b\b\b\b\b\b\b\b\b\b\b\b\b\b\b\b\b\b\b\b\b\b\b\b\b\b\b\b\b\b\b\b\b\b\b\b\b\b\b\b\b\b\b\b\b\b\b\b\b\b\r250/250 [==============================] - 0s 1ms/step - loss: 0.3429 - accuracy: 0.8597\n",
                    "output_type": "stream"
                },
                {
                    "name": "stdout",
                    "text": "Epoch 42/100\n",
                    "output_type": "stream"
                },
                {
                    "name": "stdout",
                    "text": "\r  1/250 [..............................] - ETA: 0s - loss: 0.1926 - accuracy: 0.9375",
                    "output_type": "stream"
                },
                {
                    "name": "stdout",
                    "text": "\b\b\b\b\b\b\b\b\b\b\b\b\b\b\b\b\b\b\b\b\b\b\b\b\b\b\b\b\b\b\b\b\b\b\b\b\b\b\b\b\b\b\b\b\b\b\b\b\b\b\b\b\b\b\b\b\b\b\b\b\b\b\b\b\b\b\b\b\b\b\b\b\b\b\b\b\b\b\b\b\b\b\b\b\r 49/250 [====>.........................] - ETA: 0s - loss: 0.3511 - accuracy: 0.8533",
                    "output_type": "stream"
                },
                {
                    "name": "stdout",
                    "text": "\b\b\b\b\b\b\b\b\b\b\b\b\b\b\b\b\b\b\b\b\b\b\b\b\b\b\b\b\b\b\b\b\b\b\b\b\b\b\b\b\b\b\b\b\b\b\b\b\b\b\b\b\b\b\b\b\b\b\b\b\b\b\b\b\b\b\b\b\b\b\b\b\b\b\b\b\b\b\b\b\b\b\b\b\r106/250 [===========>..................] - ETA: 0s - loss: 0.3292 - accuracy: 0.8650",
                    "output_type": "stream"
                },
                {
                    "name": "stdout",
                    "text": "\b\b\b\b\b\b\b\b\b\b\b\b\b\b\b\b\b\b\b\b\b\b\b\b\b\b\b\b\b\b\b\b\b\b\b\b\b\b\b\b\b\b\b\b\b\b\b\b\b\b\b\b\b\b\b\b\b\b\b\b\b\b\b\b\b\b\b\b\b\b\b\b\b\b\b\b\b\b\b\b\b\b\b\b\r155/250 [=================>............] - ETA: 0s - loss: 0.3371 - accuracy: 0.8633",
                    "output_type": "stream"
                },
                {
                    "name": "stdout",
                    "text": "\b\b\b\b\b\b\b\b\b\b\b\b\b\b\b\b\b\b\b\b\b\b\b\b\b\b\b\b\b\b\b\b\b\b\b\b\b\b\b\b\b\b\b\b\b\b\b\b\b\b\b\b\b\b\b\b\b\b\b\b\b\b\b\b\b\b\b\b\b\b\b\b\b\b\b\b\b\b\b\b\b\b\b\b\r203/250 [=======================>......] - ETA: 0s - loss: 0.3374 - accuracy: 0.8635",
                    "output_type": "stream"
                },
                {
                    "name": "stdout",
                    "text": "\b\b\b\b\b\b\b\b\b\b\b\b\b\b\b\b\b\b\b\b\b\b\b\b\b\b\b\b\b\b\b\b\b\b\b\b\b\b\b\b\b\b\b\b\b\b\b\b\b\b\b\b\b\b\b\b\b\b\b\b\b\b\b\b\b\b\b\b\b\b\b\b\b\b\b\b\b\b\b\b\b\b\b\b\r250/250 [==============================] - 0s 979us/step - loss: 0.3419 - accuracy: 0.8614\n",
                    "output_type": "stream"
                },
                {
                    "name": "stdout",
                    "text": "Epoch 43/100\n",
                    "output_type": "stream"
                },
                {
                    "name": "stdout",
                    "text": "\r  1/250 [..............................] - ETA: 0s - loss: 0.3502 - accuracy: 0.8438",
                    "output_type": "stream"
                },
                {
                    "name": "stdout",
                    "text": "\b\b\b\b\b\b\b\b\b\b\b\b\b\b\b\b\b\b\b\b\b\b\b\b\b\b\b\b\b\b\b\b\b\b\b\b\b\b\b\b\b\b\b\b\b\b\b\b\b\b\b\b\b\b\b\b\b\b\b\b\b\b\b\b\b\b\b\b\b\b\b\b\b\b\b\b\b\b\b\b\b\b\b\b\r 53/250 [=====>........................] - ETA: 0s - loss: 0.3566 - accuracy: 0.8532",
                    "output_type": "stream"
                },
                {
                    "name": "stdout",
                    "text": "\b\b\b\b\b\b\b\b\b\b\b\b\b\b\b\b\b\b\b\b\b\b\b\b\b\b\b\b\b\b\b\b\b\b\b\b\b\b\b\b\b\b\b\b\b\b\b\b\b\b\b\b\b\b\b\b\b\b\b\b\b\b\b\b\b\b\b\b\b\b\b\b\b\b\b\b\b\b\b\b\b\b\b\b\r 98/250 [==========>...................] - ETA: 0s - loss: 0.3445 - accuracy: 0.8613",
                    "output_type": "stream"
                },
                {
                    "name": "stdout",
                    "text": "\b\b\b\b\b\b\b\b\b\b\b\b\b\b\b\b\b\b\b\b\b\b\b\b\b\b\b\b\b\b\b\b\b\b\b\b\b\b\b\b\b\b\b\b\b\b\b\b\b\b\b\b\b\b\b\b\b\b\b\b\b\b\b\b\b\b\b\b\b\b\b\b\b\b\b\b\b\b\b\b\b\b\b\b\r151/250 [=================>............] - ETA: 0s - loss: 0.3453 - accuracy: 0.8597",
                    "output_type": "stream"
                },
                {
                    "name": "stdout",
                    "text": "\b\b\b\b\b\b\b\b\b\b\b\b\b\b\b\b\b\b\b\b\b\b\b\b\b\b\b\b\b\b\b\b\b\b\b\b\b\b\b\b\b\b\b\b\b\b\b\b\b\b\b\b\b\b\b\b\b\b\b\b\b\b\b\b\b\b\b\b\b\b\b\b\b\b\b\b\b\b\b\b\b\b\b\b\r205/250 [=======================>......] - ETA: 0s - loss: 0.3412 - accuracy: 0.8614",
                    "output_type": "stream"
                },
                {
                    "name": "stdout",
                    "text": "\b\b\b\b\b\b\b\b\b\b\b\b\b\b\b\b\b\b\b\b\b\b\b\b\b\b\b\b\b\b\b\b\b\b\b\b\b\b\b\b\b\b\b\b\b\b\b\b\b\b\b\b\b\b\b\b\b\b\b\b\b\b\b\b\b\b\b\b\b\b\b\b\b\b\b\b\b\b\b\b\b\b\b\b\r250/250 [==============================] - 0s 1ms/step - loss: 0.3414 - accuracy: 0.8621\n",
                    "output_type": "stream"
                },
                {
                    "name": "stdout",
                    "text": "Epoch 44/100\n",
                    "output_type": "stream"
                },
                {
                    "name": "stdout",
                    "text": "\r  1/250 [..............................] - ETA: 0s - loss: 0.1976 - accuracy: 0.9688",
                    "output_type": "stream"
                },
                {
                    "name": "stdout",
                    "text": "\b\b\b\b\b\b\b\b\b\b\b\b\b\b\b\b\b\b\b\b\b\b\b\b\b\b\b\b\b\b\b\b\b\b\b\b\b\b\b\b\b\b\b\b\b\b\b\b\b\b\b\b\b\b\b\b\b\b\b\b\b\b\b\b\b\b\b\b\b\b\b\b\b\b\b\b\b\b\b\b\b\b\b\b\r 56/250 [=====>........................] - ETA: 0s - loss: 0.3497 - accuracy: 0.8622",
                    "output_type": "stream"
                },
                {
                    "name": "stdout",
                    "text": "\b\b\b\b\b\b\b\b\b\b\b\b\b\b\b\b\b\b\b\b\b\b\b\b\b\b\b\b\b\b\b\b\b\b\b\b\b\b\b\b\b\b\b\b\b\b\b\b\b\b\b\b\b\b\b\b\b\b\b\b\b\b\b\b\b\b\b\b\b\b\b\b\b\b\b\b\b\b\b\b\b\b\b\b\r104/250 [===========>..................] - ETA: 0s - loss: 0.3454 - accuracy: 0.8609",
                    "output_type": "stream"
                },
                {
                    "name": "stdout",
                    "text": "\b\b\b\b\b\b\b\b\b\b\b\b\b\b\b\b\b\b\b\b\b\b\b\b\b\b\b\b\b\b\b\b\b\b\b\b\b\b\b\b\b\b\b\b\b\b\b\b\b\b\b\b\b\b\b\b\b\b\b\b\b\b\b\b\b\b\b\b\b\b\b\b\b\b\b\b\b\b\b\b\b\b\b\b\r155/250 [=================>............] - ETA: 0s - loss: 0.3440 - accuracy: 0.8587",
                    "output_type": "stream"
                },
                {
                    "name": "stdout",
                    "text": "\b\b\b\b\b\b\b\b\b\b\b\b\b\b\b\b\b\b\b\b\b\b\b\b\b\b\b\b\b\b\b\b\b\b\b\b\b\b\b\b\b\b\b\b\b\b\b\b\b\b\b\b\b\b\b\b\b\b\b\b\b\b\b\b\b\b\b\b\b\b\b\b\b\b\b\b\b\b\b\b\b\b\b\b\r210/250 [========================>.....] - ETA: 0s - loss: 0.3401 - accuracy: 0.8604",
                    "output_type": "stream"
                },
                {
                    "name": "stdout",
                    "text": "\b\b\b\b\b\b\b\b\b\b\b\b\b\b\b\b\b\b\b\b\b\b\b\b\b\b\b\b\b\b\b\b\b\b\b\b\b\b\b\b\b\b\b\b\b\b\b\b\b\b\b\b\b\b\b\b\b\b\b\b\b\b\b\b\b\b\b\b\b\b\b\b\b\b\b\b\b\b\b\b\b\b\b\b\r250/250 [==============================] - 0s 977us/step - loss: 0.3410 - accuracy: 0.8610\n",
                    "output_type": "stream"
                },
                {
                    "name": "stdout",
                    "text": "Epoch 45/100\n",
                    "output_type": "stream"
                },
                {
                    "name": "stdout",
                    "text": "\r  1/250 [..............................] - ETA: 0s - loss: 0.3650 - accuracy: 0.8438",
                    "output_type": "stream"
                },
                {
                    "name": "stdout",
                    "text": "\b\b\b\b\b\b\b\b\b\b\b\b\b\b\b\b\b\b\b\b\b\b\b\b\b\b\b\b\b\b\b\b\b\b\b\b\b\b\b\b\b\b\b\b\b\b\b\b\b\b\b\b\b\b\b\b\b\b\b\b\b\b\b\b\b\b\b\b\b\b\b\b\b\b\b\b\b\b\b\b\b\b\b\b\r 48/250 [====>.........................] - ETA: 0s - loss: 0.3358 - accuracy: 0.8607",
                    "output_type": "stream"
                },
                {
                    "name": "stdout",
                    "text": "\b\b\b\b\b\b\b\b\b\b\b\b\b\b\b\b\b\b\b\b\b\b\b\b\b\b\b\b\b\b\b\b\b\b\b\b\b\b\b\b\b\b\b\b\b\b\b\b\b\b\b\b\b\b\b\b\b\b\b\b\b\b\b\b\b\b\b\b\b\b\b\b\b\b\b\b\b\b\b\b\b\b\b\b\r103/250 [===========>..................] - ETA: 0s - loss: 0.3391 - accuracy: 0.8647",
                    "output_type": "stream"
                },
                {
                    "name": "stdout",
                    "text": "\b\b\b\b\b\b\b\b\b\b\b\b\b\b\b\b\b\b\b\b\b\b\b\b\b\b\b\b\b\b\b\b\b\b\b\b\b\b\b\b\b\b\b\b\b\b\b\b\b\b\b\b\b\b\b\b\b\b\b\b\b\b\b\b\b\b\b\b\b\b\b\b\b\b\b\b\b\b\b\b\b\b\b\b\r158/250 [=================>............] - ETA: 0s - loss: 0.3398 - accuracy: 0.8645",
                    "output_type": "stream"
                },
                {
                    "name": "stdout",
                    "text": "\b\b\b\b\b\b\b\b\b\b\b\b\b\b\b\b\b\b\b\b\b\b\b\b\b\b\b\b\b\b\b\b\b\b\b\b\b\b\b\b\b\b\b\b\b\b\b\b\b\b\b\b\b\b\b\b\b\b\b\b\b\b\b\b\b\b\b\b\b\b\b\b\b\b\b\b\b\b\b\b\b\b\b\b\r208/250 [=======================>......] - ETA: 0s - loss: 0.3394 - accuracy: 0.8633",
                    "output_type": "stream"
                },
                {
                    "name": "stdout",
                    "text": "\b\b\b\b\b\b\b\b\b\b\b\b\b\b\b\b\b\b\b\b\b\b\b\b\b\b\b\b\b\b\b\b\b\b\b\b\b\b\b\b\b\b\b\b\b\b\b\b\b\b\b\b\b\b\b\b\b\b\b\b\b\b\b\b\b\b\b\b\b\b\b\b\b\b\b\b\b\b\b\b\b\b\b\b\r250/250 [==============================] - 0s 977us/step - loss: 0.3401 - accuracy: 0.8635\n",
                    "output_type": "stream"
                },
                {
                    "name": "stdout",
                    "text": "Epoch 46/100\n",
                    "output_type": "stream"
                },
                {
                    "name": "stdout",
                    "text": "\r  1/250 [..............................] - ETA: 0s - loss: 0.3191 - accuracy: 0.9062",
                    "output_type": "stream"
                },
                {
                    "name": "stdout",
                    "text": "\b\b\b\b\b\b\b\b\b\b\b\b\b\b\b\b\b\b\b\b\b\b\b\b\b\b\b\b\b\b\b\b\b\b\b\b\b\b\b\b\b\b\b\b\b\b\b\b\b\b\b\b\b\b\b\b\b\b\b\b\b\b\b\b\b\b\b\b\b\b\b\b\b\b\b\b\b\b\b\b\b\b\b\b\r 51/250 [=====>........................] - ETA: 0s - loss: 0.3257 - accuracy: 0.8707",
                    "output_type": "stream"
                },
                {
                    "name": "stdout",
                    "text": "\b\b\b\b\b\b\b\b\b\b\b\b\b\b\b\b\b\b\b\b\b\b\b\b\b\b\b\b\b\b\b\b\b\b\b\b\b\b\b\b\b\b\b\b\b\b\b\b\b\b\b\b\b\b\b\b\b\b\b\b\b\b\b\b\b\b\b\b\b\b\b\b\b\b\b\b\b\b\b\b\b\b\b\b\r 99/250 [==========>...................] - ETA: 0s - loss: 0.3311 - accuracy: 0.8677",
                    "output_type": "stream"
                },
                {
                    "name": "stdout",
                    "text": "\b\b\b\b\b\b\b\b\b\b\b\b\b\b\b\b\b\b\b\b\b\b\b\b\b\b\b\b\b\b\b\b\b\b\b\b\b\b\b\b\b\b\b\b\b\b\b\b\b\b\b\b\b\b\b\b\b\b\b\b\b\b\b\b\b\b\b\b\b\b\b\b\b\b\b\b\b\b\b\b\b\b\b\b\r151/250 [=================>............] - ETA: 0s - loss: 0.3408 - accuracy: 0.8626",
                    "output_type": "stream"
                },
                {
                    "name": "stdout",
                    "text": "\b\b\b\b\b\b\b\b\b\b\b\b\b\b\b\b\b\b\b\b\b\b\b\b\b\b\b\b\b\b\b\b\b\b\b\b\b\b\b\b\b\b\b\b\b\b\b\b\b\b\b\b\b\b\b\b\b\b\b\b\b\b\b\b\b\b\b\b\b\b\b\b\b\b\b\b\b\b\b\b\b\b\b\b\r199/250 [======================>.......] - ETA: 0s - loss: 0.3425 - accuracy: 0.8623",
                    "output_type": "stream"
                },
                {
                    "name": "stdout",
                    "text": "\b\b\b\b\b\b\b\b\b\b\b\b\b\b\b\b\b\b\b\b\b\b\b\b\b\b\b\b\b\b\b\b\b\b\b\b\b\b\b\b\b\b\b\b\b\b\b\b\b\b\b\b\b\b\b\b\b\b\b\b\b\b\b\b\b\b\b\b\b\b\b\b\b\b\b\b\b\b\b\b\b\b\b\b\r250/250 [==============================] - ETA: 0s - loss: 0.3402 - accuracy: 0.8614",
                    "output_type": "stream"
                },
                {
                    "name": "stdout",
                    "text": "\b\b\b\b\b\b\b\b\b\b\b\b\b\b\b\b\b\b\b\b\b\b\b\b\b\b\b\b\b\b\b\b\b\b\b\b\b\b\b\b\b\b\b\b\b\b\b\b\b\b\b\b\b\b\b\b\b\b\b\b\b\b\b\b\b\b\b\b\b\b\b\b\b\b\b\b\b\b\b\b\b\b\b\b\r250/250 [==============================] - 0s 1ms/step - loss: 0.3402 - accuracy: 0.8614\n",
                    "output_type": "stream"
                },
                {
                    "name": "stdout",
                    "text": "Epoch 47/100\n",
                    "output_type": "stream"
                },
                {
                    "name": "stdout",
                    "text": "\r  1/250 [..............................] - ETA: 0s - loss: 0.3623 - accuracy: 0.8750",
                    "output_type": "stream"
                },
                {
                    "name": "stdout",
                    "text": "\b\b\b\b\b\b\b\b\b\b\b\b\b\b\b\b\b\b\b\b\b\b\b\b\b\b\b\b\b\b\b\b\b\b\b\b\b\b\b\b\b\b\b\b\b\b\b\b\b\b\b\b\b\b\b\b\b\b\b\b\b\b\b\b\b\b\b\b\b\b\b\b\b\b\b\b\b\b\b\b\b\b\b\b\r 57/250 [=====>........................] - ETA: 0s - loss: 0.3498 - accuracy: 0.8635",
                    "output_type": "stream"
                },
                {
                    "name": "stdout",
                    "text": "\b\b\b\b\b\b\b\b\b\b\b\b\b\b\b\b\b\b\b\b\b\b\b\b\b\b\b\b\b\b\b\b\b\b\b\b\b\b\b\b\b\b\b\b\b\b\b\b\b\b\b\b\b\b\b\b\b\b\b\b\b\b\b\b\b\b\b\b\b\b\b\b\b\b\b\b\b\b\b\b\b\b\b\b\r106/250 [===========>..................] - ETA: 0s - loss: 0.3357 - accuracy: 0.8688",
                    "output_type": "stream"
                },
                {
                    "name": "stdout",
                    "text": "\b\b\b\b\b\b\b\b\b\b\b\b\b\b\b\b\b\b\b\b\b\b\b\b\b\b\b\b\b\b\b\b\b\b\b\b\b\b\b\b\b\b\b\b\b\b\b\b\b\b\b\b\b\b\b\b\b\b\b\b\b\b\b\b\b\b\b\b\b\b\b\b\b\b\b\b\b\b\b\b\b\b\b\b\r159/250 [==================>...........] - ETA: 0s - loss: 0.3430 - accuracy: 0.8624",
                    "output_type": "stream"
                },
                {
                    "name": "stdout",
                    "text": "\b\b\b\b\b\b\b\b\b\b\b\b\b\b\b\b\b\b\b\b\b\b\b\b\b\b\b\b\b\b\b\b\b\b\b\b\b\b\b\b\b\b\b\b\b\b\b\b\b\b\b\b\b\b\b\b\b\b\b\b\b\b\b\b\b\b\b\b\b\b\b\b\b\b\b\b\b\b\b\b\b\b\b\b\r216/250 [========================>.....] - ETA: 0s - loss: 0.3398 - accuracy: 0.8634",
                    "output_type": "stream"
                },
                {
                    "name": "stdout",
                    "text": "\b\b\b\b\b\b\b\b\b\b\b\b\b\b\b\b\b\b\b\b\b\b\b\b\b\b\b\b\b\b\b\b\b\b\b\b\b\b\b\b\b\b\b\b\b\b\b\b\b\b\b\b\b\b\b\b\b\b\b\b\b\b\b\b\b\b\b\b\b\b\b\b\b\b\b\b\b\b\b\b\b\b\b\b\r250/250 [==============================] - 0s 977us/step - loss: 0.3395 - accuracy: 0.8631\n",
                    "output_type": "stream"
                },
                {
                    "name": "stdout",
                    "text": "Epoch 48/100\n",
                    "output_type": "stream"
                },
                {
                    "name": "stdout",
                    "text": "\r  1/250 [..............................] - ETA: 0s - loss: 0.5000 - accuracy: 0.7188",
                    "output_type": "stream"
                },
                {
                    "name": "stdout",
                    "text": "\b\b\b\b\b\b\b\b\b\b\b\b\b\b\b\b\b\b\b\b\b\b\b\b\b\b\b\b\b\b\b\b\b\b\b\b\b\b\b\b\b\b\b\b\b\b\b\b\b\b\b\b\b\b\b\b\b\b\b\b\b\b\b\b\b\b\b\b\b\b\b\b\b\b\b\b\b\b\b\b\b\b\b\b\r 51/250 [=====>........................] - ETA: 0s - loss: 0.3270 - accuracy: 0.8634",
                    "output_type": "stream"
                },
                {
                    "name": "stdout",
                    "text": "\b\b\b\b\b\b\b\b\b\b\b\b\b\b\b\b\b\b\b\b\b\b\b\b\b\b\b\b\b\b\b\b\b\b\b\b\b\b\b\b\b\b\b\b\b\b\b\b\b\b\b\b\b\b\b\b\b\b\b\b\b\b\b\b\b\b\b\b\b\b\b\b\b\b\b\b\b\b\b\b\b\b\b\b\r102/250 [===========>..................] - ETA: 0s - loss: 0.3352 - accuracy: 0.8600",
                    "output_type": "stream"
                },
                {
                    "name": "stdout",
                    "text": "\b\b\b\b\b\b\b\b\b\b\b\b\b\b\b\b\b\b\b\b\b\b\b\b\b\b\b\b\b\b\b\b\b\b\b\b\b\b\b\b\b\b\b\b\b\b\b\b\b\b\b\b\b\b\b\b\b\b\b\b\b\b\b\b\b\b\b\b\b\b\b\b\b\b\b\b\b\b\b\b\b\b\b\b\r147/250 [================>.............] - ETA: 0s - loss: 0.3373 - accuracy: 0.8631",
                    "output_type": "stream"
                },
                {
                    "name": "stdout",
                    "text": "\b\b\b\b\b\b\b\b\b\b\b\b\b\b\b\b\b\b\b\b\b\b\b\b\b\b\b\b\b\b\b\b\b\b\b\b\b\b\b\b\b\b\b\b\b\b\b\b\b\b\b\b\b\b\b\b\b\b\b\b\b\b\b\b\b\b\b\b\b\b\b\b\b\b\b\b\b\b\b\b\b\b\b\b\r197/250 [======================>.......] - ETA: 0s - loss: 0.3374 - accuracy: 0.8636",
                    "output_type": "stream"
                },
                {
                    "name": "stdout",
                    "text": "\b\b\b\b\b\b\b\b\b\b\b\b\b\b\b\b\b\b\b\b\b\b\b\b\b\b\b\b\b\b\b\b\b\b\b\b\b\b\b\b\b\b\b\b\b\b\b\b\b\b\b\b\b\b\b\b\b\b\b\b\b\b\b\b\b\b\b\b\b\b\b\b\b\b\b\b\b\b\b\b\b\b\b\b\r248/250 [============================>.] - ETA: 0s - loss: 0.3402 - accuracy: 0.8625",
                    "output_type": "stream"
                },
                {
                    "name": "stdout",
                    "text": "\b\b\b\b\b\b\b\b\b\b\b\b\b\b\b\b\b\b\b\b\b\b\b\b\b\b\b\b\b\b\b\b\b\b\b\b\b\b\b\b\b\b\b\b\b\b\b\b\b\b\b\b\b\b\b\b\b\b\b\b\b\b\b\b\b\b\b\b\b\b\b\b\b\b\b\b\b\b\b\b\b\b\b\b\r250/250 [==============================] - 0s 1ms/step - loss: 0.3391 - accuracy: 0.8630\n",
                    "output_type": "stream"
                },
                {
                    "name": "stdout",
                    "text": "Epoch 49/100\n",
                    "output_type": "stream"
                },
                {
                    "name": "stdout",
                    "text": "\r  1/250 [..............................] - ETA: 0s - loss: 0.2325 - accuracy: 0.9062",
                    "output_type": "stream"
                },
                {
                    "name": "stdout",
                    "text": "\b\b\b\b\b\b\b\b\b\b\b\b\b\b\b\b\b\b\b\b\b\b\b\b\b\b\b\b\b\b\b\b\b\b\b\b\b\b\b\b\b\b\b\b\b\b\b\b\b\b\b\b\b\b\b\b\b\b\b\b\b\b\b\b\b\b\b\b\b\b\b\b\b\b\b\b\b\b\b\b\b\b\b\b\r 51/250 [=====>........................] - ETA: 0s - loss: 0.3495 - accuracy: 0.8572",
                    "output_type": "stream"
                },
                {
                    "name": "stdout",
                    "text": "\b\b\b\b\b\b\b\b\b\b\b\b\b\b\b\b\b\b\b\b\b\b\b\b\b\b\b\b\b\b\b\b\b\b\b\b\b\b\b\b\b\b\b\b\b\b\b\b\b\b\b\b\b\b\b\b\b\b\b\b\b\b\b\b\b\b\b\b\b\b\b\b\b\b\b\b\b\b\b\b\b\b\b\b\r107/250 [===========>..................] - ETA: 0s - loss: 0.3306 - accuracy: 0.8659",
                    "output_type": "stream"
                },
                {
                    "name": "stdout",
                    "text": "\b\b\b\b\b\b\b\b\b\b\b\b\b\b\b\b\b\b\b\b\b\b\b\b\b\b\b\b\b\b\b\b\b\b\b\b\b\b\b\b\b\b\b\b\b\b\b\b\b\b\b\b\b\b\b\b\b\b\b\b\b\b\b\b\b\b\b\b\b\b\b\b\b\b\b\b\b\b\b\b\b\b\b\b\r156/250 [=================>............] - ETA: 0s - loss: 0.3315 - accuracy: 0.8660",
                    "output_type": "stream"
                },
                {
                    "name": "stdout",
                    "text": "\b\b\b\b\b\b\b\b\b\b\b\b\b\b\b\b\b\b\b\b\b\b\b\b\b\b\b\b\b\b\b\b\b\b\b\b\b\b\b\b\b\b\b\b\b\b\b\b\b\b\b\b\b\b\b\b\b\b\b\b\b\b\b\b\b\b\b\b\b\b\b\b\b\b\b\b\b\b\b\b\b\b\b\b\r203/250 [=======================>......] - ETA: 0s - loss: 0.3377 - accuracy: 0.8616",
                    "output_type": "stream"
                },
                {
                    "name": "stdout",
                    "text": "\b\b\b\b\b\b\b\b\b\b\b\b\b\b\b\b\b\b\b\b\b\b\b\b\b\b\b\b\b\b\b\b\b\b\b\b\b\b\b\b\b\b\b\b\b\b\b\b\b\b\b\b\b\b\b\b\b\b\b\b\b\b\b\b\b\b\b\b\b\b\b\b\b\b\b\b\b\b\b\b\b\b\b\b\r250/250 [==============================] - ETA: 0s - loss: 0.3393 - accuracy: 0.8618",
                    "output_type": "stream"
                },
                {
                    "name": "stdout",
                    "text": "\b\b\b\b\b\b\b\b\b\b\b\b\b\b\b\b\b\b\b\b\b\b\b\b\b\b\b\b\b\b\b\b\b\b\b\b\b\b\b\b\b\b\b\b\b\b\b\b\b\b\b\b\b\b\b\b\b\b\b\b\b\b\b\b\b\b\b\b\b\b\b\b\b\b\b\b\b\b\b\b\b\b\b\b\r250/250 [==============================] - 0s 1ms/step - loss: 0.3393 - accuracy: 0.8618\n",
                    "output_type": "stream"
                },
                {
                    "name": "stdout",
                    "text": "Epoch 50/100\n",
                    "output_type": "stream"
                },
                {
                    "name": "stdout",
                    "text": "\r  1/250 [..............................] - ETA: 0s - loss: 0.2034 - accuracy: 0.9688",
                    "output_type": "stream"
                },
                {
                    "name": "stdout",
                    "text": "\b\b\b\b\b\b\b\b\b\b\b\b\b\b\b\b\b\b\b\b\b\b\b\b\b\b\b\b\b\b\b\b\b\b\b\b\b\b\b\b\b\b\b\b\b\b\b\b\b\b\b\b\b\b\b\b\b\b\b\b\b\b\b\b\b\b\b\b\b\b\b\b\b\b\b\b\b\b\b\b\b\b\b\b\r 54/250 [=====>........................] - ETA: 0s - loss: 0.3275 - accuracy: 0.8738",
                    "output_type": "stream"
                },
                {
                    "name": "stdout",
                    "text": "\b\b\b\b\b\b\b\b\b\b\b\b\b\b\b\b\b\b\b\b\b\b\b\b\b\b\b\b\b\b\b\b\b\b\b\b\b\b\b\b\b\b\b\b\b\b\b\b\b\b\b\b\b\b\b\b\b\b\b\b\b\b\b\b\b\b\b\b\b\b\b\b\b\b\b\b\b\b\b\b\b\b\b\b\r103/250 [===========>..................] - ETA: 0s - loss: 0.3257 - accuracy: 0.8711",
                    "output_type": "stream"
                },
                {
                    "name": "stdout",
                    "text": "\b\b\b\b\b\b\b\b\b\b\b\b\b\b\b\b\b\b\b\b\b\b\b\b\b\b\b\b\b\b\b\b\b\b\b\b\b\b\b\b\b\b\b\b\b\b\b\b\b\b\b\b\b\b\b\b\b\b\b\b\b\b\b\b\b\b\b\b\b\b\b\b\b\b\b\b\b\b\b\b\b\b\b\b\r158/250 [=================>............] - ETA: 0s - loss: 0.3335 - accuracy: 0.8685",
                    "output_type": "stream"
                },
                {
                    "name": "stdout",
                    "text": "\b\b\b\b\b\b\b\b\b\b\b\b\b\b\b\b\b\b\b\b\b\b\b\b\b\b\b\b\b\b\b\b\b\b\b\b\b\b\b\b\b\b\b\b\b\b\b\b\b\b\b\b\b\b\b\b\b\b\b\b\b\b\b\b\b\b\b\b\b\b\b\b\b\b\b\b\b\b\b\b\b\b\b\b\r210/250 [========================>.....] - ETA: 0s - loss: 0.3364 - accuracy: 0.8635",
                    "output_type": "stream"
                },
                {
                    "name": "stdout",
                    "text": "\b\b\b\b\b\b\b\b\b\b\b\b\b\b\b\b\b\b\b\b\b\b\b\b\b\b\b\b\b\b\b\b\b\b\b\b\b\b\b\b\b\b\b\b\b\b\b\b\b\b\b\b\b\b\b\b\b\b\b\b\b\b\b\b\b\b\b\b\b\b\b\b\b\b\b\b\b\b\b\b\b\b\b\b\r250/250 [==============================] - 0s 961us/step - loss: 0.3388 - accuracy: 0.8625\n",
                    "output_type": "stream"
                },
                {
                    "name": "stdout",
                    "text": "Epoch 51/100\n",
                    "output_type": "stream"
                },
                {
                    "name": "stdout",
                    "text": "\r  1/250 [..............................] - ETA: 0s - loss: 0.4944 - accuracy: 0.8438",
                    "output_type": "stream"
                },
                {
                    "name": "stdout",
                    "text": "\b\b\b\b\b\b\b\b\b\b\b\b\b\b\b\b\b\b\b\b\b\b\b\b\b\b\b\b\b\b\b\b\b\b\b\b\b\b\b\b\b\b\b\b\b\b\b\b\b\b\b\b\b\b\b\b\b\b\b\b\b\b\b\b\b\b\b\b\b\b\b\b\b\b\b\b\b\b\b\b\b\b\b\b\r 54/250 [=====>........................] - ETA: 0s - loss: 0.3305 - accuracy: 0.8675",
                    "output_type": "stream"
                },
                {
                    "name": "stdout",
                    "text": "\b\b\b\b\b\b\b\b\b\b\b\b\b\b\b\b\b\b\b\b\b\b\b\b\b\b\b\b\b\b\b\b\b\b\b\b\b\b\b\b\b\b\b\b\b\b\b\b\b\b\b\b\b\b\b\b\b\b\b\b\b\b\b\b\b\b\b\b\b\b\b\b\b\b\b\b\b\b\b\b\b\b\b\b\r101/250 [===========>..................] - ETA: 0s - loss: 0.3320 - accuracy: 0.8654",
                    "output_type": "stream"
                },
                {
                    "name": "stdout",
                    "text": "\b\b\b\b\b\b\b\b\b\b\b\b\b\b\b\b\b\b\b\b\b\b\b\b\b\b\b\b\b\b\b\b\b\b\b\b\b\b\b\b\b\b\b\b\b\b\b\b\b\b\b\b\b\b\b\b\b\b\b\b\b\b\b\b\b\b\b\b\b\b\b\b\b\b\b\b\b\b\b\b\b\b\b\b\r153/250 [=================>............] - ETA: 0s - loss: 0.3326 - accuracy: 0.8648",
                    "output_type": "stream"
                },
                {
                    "name": "stdout",
                    "text": "\b\b\b\b\b\b\b\b\b\b\b\b\b\b\b\b\b\b\b\b\b\b\b\b\b\b\b\b\b\b\b\b\b\b\b\b\b\b\b\b\b\b\b\b\b\b\b\b\b\b\b\b\b\b\b\b\b\b\b\b\b\b\b\b\b\b\b\b\b\b\b\b\b\b\b\b\b\b\b\b\b\b\b\b\r205/250 [=======================>......] - ETA: 0s - loss: 0.3353 - accuracy: 0.8642",
                    "output_type": "stream"
                },
                {
                    "name": "stdout",
                    "text": "\b\b\b\b\b\b\b\b\b\b\b\b\b\b\b\b\b\b\b\b\b\b\b\b\b\b\b\b\b\b\b\b\b\b\b\b\b\b\b\b\b\b\b\b\b\b\b\b\b\b\b\b\b\b\b\b\b\b\b\b\b\b\b\b\b\b\b\b\b\b\b\b\b\b\b\b\b\b\b\b\b\b\b\b\r250/250 [==============================] - 0s 1ms/step - loss: 0.3388 - accuracy: 0.8616\n",
                    "output_type": "stream"
                },
                {
                    "name": "stdout",
                    "text": "Epoch 52/100\n",
                    "output_type": "stream"
                },
                {
                    "name": "stdout",
                    "text": "\r  1/250 [..............................] - ETA: 0s - loss: 0.4605 - accuracy: 0.8125",
                    "output_type": "stream"
                },
                {
                    "name": "stdout",
                    "text": "\b\b\b\b\b\b\b\b\b\b\b\b\b\b\b\b\b\b\b\b\b\b\b\b\b\b\b\b\b\b\b\b\b\b\b\b\b\b\b\b\b\b\b\b\b\b\b\b\b\b\b\b\b\b\b\b\b\b\b\b\b\b\b\b\b\b\b\b\b\b\b\b\b\b\b\b\b\b\b\b\b\b\b\b\r 55/250 [=====>........................] - ETA: 0s - loss: 0.3143 - accuracy: 0.8750",
                    "output_type": "stream"
                },
                {
                    "name": "stdout",
                    "text": "\b\b\b\b\b\b\b\b\b\b\b\b\b\b\b\b\b\b\b\b\b\b\b\b\b\b\b\b\b\b\b\b\b\b\b\b\b\b\b\b\b\b\b\b\b\b\b\b\b\b\b\b\b\b\b\b\b\b\b\b\b\b\b\b\b\b\b\b\b\b\b\b\b\b\b\b\b\b\b\b\b\b\b\b\r106/250 [===========>..................] - ETA: 0s - loss: 0.3366 - accuracy: 0.8653",
                    "output_type": "stream"
                },
                {
                    "name": "stdout",
                    "text": "\b\b\b\b\b\b\b\b\b\b\b\b\b\b\b\b\b\b\b\b\b\b\b\b\b\b\b\b\b\b\b\b\b\b\b\b\b\b\b\b\b\b\b\b\b\b\b\b\b\b\b\b\b\b\b\b\b\b\b\b\b\b\b\b\b\b\b\b\b\b\b\b\b\b\b\b\b\b\b\b\b\b\b\b\r158/250 [=================>............] - ETA: 0s - loss: 0.3427 - accuracy: 0.8608",
                    "output_type": "stream"
                },
                {
                    "name": "stdout",
                    "text": "\b\b\b\b\b\b\b\b\b\b\b\b\b\b\b\b\b\b\b\b\b\b\b\b\b\b\b\b\b\b\b\b\b\b\b\b\b\b\b\b\b\b\b\b\b\b\b\b\b\b\b\b\b\b\b\b\b\b\b\b\b\b\b\b\b\b\b\b\b\b\b\b\b\b\b\b\b\b\b\b\b\b\b\b\r207/250 [=======================>......] - ETA: 0s - loss: 0.3368 - accuracy: 0.8625",
                    "output_type": "stream"
                },
                {
                    "name": "stdout",
                    "text": "\b\b\b\b\b\b\b\b\b\b\b\b\b\b\b\b\b\b\b\b\b\b\b\b\b\b\b\b\b\b\b\b\b\b\b\b\b\b\b\b\b\b\b\b\b\b\b\b\b\b\b\b\b\b\b\b\b\b\b\b\b\b\b\b\b\b\b\b\b\b\b\b\b\b\b\b\b\b\b\b\b\b\b\b\r250/250 [==============================] - 0s 993us/step - loss: 0.3385 - accuracy: 0.8629\n",
                    "output_type": "stream"
                },
                {
                    "name": "stdout",
                    "text": "Epoch 53/100\n",
                    "output_type": "stream"
                },
                {
                    "name": "stdout",
                    "text": "\r  1/250 [..............................] - ETA: 0s - loss: 0.3167 - accuracy: 0.8750",
                    "output_type": "stream"
                },
                {
                    "name": "stdout",
                    "text": "\b\b\b\b\b\b\b\b\b\b\b\b\b\b\b\b\b\b\b\b\b\b\b\b\b\b\b\b\b\b\b\b\b\b\b\b\b\b\b\b\b\b\b\b\b\b\b\b\b\b\b\b\b\b\b\b\b\b\b\b\b\b\b\b\b\b\b\b\b\b\b\b\b\b\b\b\b\b\b\b\b\b\b\b\r 49/250 [====>.........................] - ETA: 0s - loss: 0.3460 - accuracy: 0.8527",
                    "output_type": "stream"
                },
                {
                    "name": "stdout",
                    "text": "\b\b\b\b\b\b\b\b\b\b\b\b\b\b\b\b\b\b\b\b\b\b\b\b\b\b\b\b\b\b\b\b\b\b\b\b\b\b\b\b\b\b\b\b\b\b\b\b\b\b\b\b\b\b\b\b\b\b\b\b\b\b\b\b\b\b\b\b\b\b\b\b\b\b\b\b\b\b\b\b\b\b\b\b\r104/250 [===========>..................] - ETA: 0s - loss: 0.3364 - accuracy: 0.8621",
                    "output_type": "stream"
                },
                {
                    "name": "stdout",
                    "text": "\b\b\b\b\b\b\b\b\b\b\b\b\b\b\b\b\b\b\b\b\b\b\b\b\b\b\b\b\b\b\b\b\b\b\b\b\b\b\b\b\b\b\b\b\b\b\b\b\b\b\b\b\b\b\b\b\b\b\b\b\b\b\b\b\b\b\b\b\b\b\b\b\b\b\b\b\b\b\b\b\b\b\b\b\r156/250 [=================>............] - ETA: 0s - loss: 0.3386 - accuracy: 0.8600",
                    "output_type": "stream"
                },
                {
                    "name": "stdout",
                    "text": "\b\b\b\b\b\b\b\b\b\b\b\b\b\b\b\b\b\b\b\b\b\b\b\b\b\b\b\b\b\b\b\b\b\b\b\b\b\b\b\b\b\b\b\b\b\b\b\b\b\b\b\b\b\b\b\b\b\b\b\b\b\b\b\b\b\b\b\b\b\b\b\b\b\b\b\b\b\b\b\b\b\b\b\b\r205/250 [=======================>......] - ETA: 0s - loss: 0.3376 - accuracy: 0.8617",
                    "output_type": "stream"
                },
                {
                    "name": "stdout",
                    "text": "\b\b\b\b\b\b\b\b\b\b\b\b\b\b\b\b\b\b\b\b\b\b\b\b\b\b\b\b\b\b\b\b\b\b\b\b\b\b\b\b\b\b\b\b\b\b\b\b\b\b\b\b\b\b\b\b\b\b\b\b\b\b\b\b\b\b\b\b\b\b\b\b\b\b\b\b\b\b\b\b\b\b\b\b\r250/250 [==============================] - 0s 980us/step - loss: 0.3382 - accuracy: 0.8618\n",
                    "output_type": "stream"
                },
                {
                    "name": "stdout",
                    "text": "Epoch 54/100\n",
                    "output_type": "stream"
                },
                {
                    "name": "stdout",
                    "text": "\r  1/250 [..............................] - ETA: 0s - loss: 0.2521 - accuracy: 0.9062",
                    "output_type": "stream"
                },
                {
                    "name": "stdout",
                    "text": "\b\b\b\b\b\b\b\b\b\b\b\b\b\b\b\b\b\b\b\b\b\b\b\b\b\b\b\b\b\b\b\b\b\b\b\b\b\b\b\b\b\b\b\b\b\b\b\b\b\b\b\b\b\b\b\b\b\b\b\b\b\b\b\b\b\b\b\b\b\b\b\b\b\b\b\b\b\b\b\b\b\b\b\b\r 51/250 [=====>........................] - ETA: 0s - loss: 0.3471 - accuracy: 0.8523",
                    "output_type": "stream"
                },
                {
                    "name": "stdout",
                    "text": "\b\b\b\b\b\b\b\b\b\b\b\b\b\b\b\b\b\b\b\b\b\b\b\b\b\b\b\b\b\b\b\b\b\b\b\b\b\b\b\b\b\b\b\b\b\b\b\b\b\b\b\b\b\b\b\b\b\b\b\b\b\b\b\b\b\b\b\b\b\b\b\b\b\b\b\b\b\b\b\b\b\b\b\b\r 97/250 [==========>...................] - ETA: 0s - loss: 0.3421 - accuracy: 0.8621",
                    "output_type": "stream"
                },
                {
                    "name": "stdout",
                    "text": "\b\b\b\b\b\b\b\b\b\b\b\b\b\b\b\b\b\b\b\b\b\b\b\b\b\b\b\b\b\b\b\b\b\b\b\b\b\b\b\b\b\b\b\b\b\b\b\b\b\b\b\b\b\b\b\b\b\b\b\b\b\b\b\b\b\b\b\b\b\b\b\b\b\b\b\b\b\b\b\b\b\b\b\b\r153/250 [=================>............] - ETA: 0s - loss: 0.3399 - accuracy: 0.8638",
                    "output_type": "stream"
                },
                {
                    "name": "stdout",
                    "text": "\b\b\b\b\b\b\b\b\b\b\b\b\b\b\b\b\b\b\b\b\b\b\b\b\b\b\b\b\b\b\b\b\b\b\b\b\b\b\b\b\b\b\b\b\b\b\b\b\b\b\b\b\b\b\b\b\b\b\b\b\b\b\b\b\b\b\b\b\b\b\b\b\b\b\b\b\b\b\b\b\b\b\b\b\r201/250 [=======================>......] - ETA: 0s - loss: 0.3372 - accuracy: 0.8627",
                    "output_type": "stream"
                },
                {
                    "name": "stdout",
                    "text": "\b\b\b\b\b\b\b\b\b\b\b\b\b\b\b\b\b\b\b\b\b\b\b\b\b\b\b\b\b\b\b\b\b\b\b\b\b\b\b\b\b\b\b\b\b\b\b\b\b\b\b\b\b\b\b\b\b\b\b\b\b\b\b\b\b\b\b\b\b\b\b\b\b\b\b\b\b\b\b\b\b\b\b\b\r250/250 [==============================] - 0s 1ms/step - loss: 0.3381 - accuracy: 0.8633\n",
                    "output_type": "stream"
                },
                {
                    "name": "stdout",
                    "text": "Epoch 55/100\n",
                    "output_type": "stream"
                },
                {
                    "name": "stdout",
                    "text": "\r  1/250 [..............................] - ETA: 0s - loss: 0.4294 - accuracy: 0.7812",
                    "output_type": "stream"
                },
                {
                    "name": "stdout",
                    "text": "\b\b\b\b\b\b\b\b\b\b\b\b\b\b\b\b\b\b\b\b\b\b\b\b\b\b\b\b\b\b\b\b\b\b\b\b\b\b\b\b\b\b\b\b\b\b\b\b\b\b\b\b\b\b\b\b\b\b\b\b\b\b\b\b\b\b\b\b\b\b\b\b\b\b\b\b\b\b\b\b\b\b\b\b\r 49/250 [====>.........................] - ETA: 0s - loss: 0.3638 - accuracy: 0.8450",
                    "output_type": "stream"
                },
                {
                    "name": "stdout",
                    "text": "\b\b\b\b\b\b\b\b\b\b\b\b\b\b\b\b\b\b\b\b\b\b\b\b\b\b\b\b\b\b\b\b\b\b\b\b\b\b\b\b\b\b\b\b\b\b\b\b\b\b\b\b\b\b\b\b\b\b\b\b\b\b\b\b\b\b\b\b\b\b\b\b\b\b\b\b\b\b\b\b\b\b\b\b\r 95/250 [==========>...................] - ETA: 0s - loss: 0.3497 - accuracy: 0.8559",
                    "output_type": "stream"
                },
                {
                    "name": "stdout",
                    "text": "\b\b\b\b\b\b\b\b\b\b\b\b\b\b\b\b\b\b\b\b\b\b\b\b\b\b\b\b\b\b\b\b\b\b\b\b\b\b\b\b\b\b\b\b\b\b\b\b\b\b\b\b\b\b\b\b\b\b\b\b\b\b\b\b\b\b\b\b\b\b\b\b\b\b\b\b\b\b\b\b\b\b\b\b\r153/250 [=================>............] - ETA: 0s - loss: 0.3438 - accuracy: 0.8572",
                    "output_type": "stream"
                },
                {
                    "name": "stdout",
                    "text": "\b\b\b\b\b\b\b\b\b\b\b\b\b\b\b\b\b\b\b\b\b\b\b\b\b\b\b\b\b\b\b\b\b\b\b\b\b\b\b\b\b\b\b\b\b\b\b\b\b\b\b\b\b\b\b\b\b\b\b\b\b\b\b\b\b\b\b\b\b\b\b\b\b\b\b\b\b\b\b\b\b\b\b\b\r201/250 [=======================>......] - ETA: 0s - loss: 0.3407 - accuracy: 0.8595",
                    "output_type": "stream"
                },
                {
                    "name": "stdout",
                    "text": "\b\b\b\b\b\b\b\b\b\b\b\b\b\b\b\b\b\b\b\b\b\b\b\b\b\b\b\b\b\b\b\b\b\b\b\b\b\b\b\b\b\b\b\b\b\b\b\b\b\b\b\b\b\b\b\b\b\b\b\b\b\b\b\b\b\b\b\b\b\b\b\b\b\b\b\b\b\b\b\b\b\b\b\b\r250/250 [==============================] - 0s 1ms/step - loss: 0.3381 - accuracy: 0.8626\n",
                    "output_type": "stream"
                },
                {
                    "name": "stdout",
                    "text": "Epoch 56/100\n",
                    "output_type": "stream"
                },
                {
                    "name": "stdout",
                    "text": "\r  1/250 [..............................] - ETA: 0s - loss: 0.2806 - accuracy: 0.8750",
                    "output_type": "stream"
                },
                {
                    "name": "stdout",
                    "text": "\b\b\b\b\b\b\b\b\b\b\b\b\b\b\b\b\b\b\b\b\b\b\b\b\b\b\b\b\b\b\b\b\b\b\b\b\b\b\b\b\b\b\b\b\b\b\b\b\b\b\b\b\b\b\b\b\b\b\b\b\b\b\b\b\b\b\b\b\b\b\b\b\b\b\b\b\b\b\b\b\b\b\b\b\r 56/250 [=====>........................] - ETA: 0s - loss: 0.3191 - accuracy: 0.8756",
                    "output_type": "stream"
                },
                {
                    "name": "stdout",
                    "text": "\b\b\b\b\b\b\b\b\b\b\b\b\b\b\b\b\b\b\b\b\b\b\b\b\b\b\b\b\b\b\b\b\b\b\b\b\b\b\b\b\b\b\b\b\b\b\b\b\b\b\b\b\b\b\b\b\b\b\b\b\b\b\b\b\b\b\b\b\b\b\b\b\b\b\b\b\b\b\b\b\b\b\b\b\r106/250 [===========>..................] - ETA: 0s - loss: 0.3385 - accuracy: 0.8656",
                    "output_type": "stream"
                },
                {
                    "name": "stdout",
                    "text": "\b\b\b\b\b\b\b\b\b\b\b\b\b\b\b\b\b\b\b\b\b\b\b\b\b\b\b\b\b\b\b\b\b\b\b\b\b\b\b\b\b\b\b\b\b\b\b\b\b\b\b\b\b\b\b\b\b\b\b\b\b\b\b\b\b\b\b\b\b\b\b\b\b\b\b\b\b\b\b\b\b\b\b\b\r158/250 [=================>............] - ETA: 0s - loss: 0.3366 - accuracy: 0.8625",
                    "output_type": "stream"
                },
                {
                    "name": "stdout",
                    "text": "\b\b\b\b\b\b\b\b\b\b\b\b\b\b\b\b\b\b\b\b\b\b\b\b\b\b\b\b\b\b\b\b\b\b\b\b\b\b\b\b\b\b\b\b\b\b\b\b\b\b\b\b\b\b\b\b\b\b\b\b\b\b\b\b\b\b\b\b\b\b\b\b\b\b\b\b\b\b\b\b\b\b\b\b\r211/250 [========================>.....] - ETA: 0s - loss: 0.3428 - accuracy: 0.8612",
                    "output_type": "stream"
                },
                {
                    "name": "stdout",
                    "text": "\b\b\b\b\b\b\b\b\b\b\b\b\b\b\b\b\b\b\b\b\b\b\b\b\b\b\b\b\b\b\b\b\b\b\b\b\b\b\b\b\b\b\b\b\b\b\b\b\b\b\b\b\b\b\b\b\b\b\b\b\b\b\b\b\b\b\b\b\b\b\b\b\b\b\b\b\b\b\b\b\b\b\b\b\r250/250 [==============================] - 0s 990us/step - loss: 0.3377 - accuracy: 0.8635\n",
                    "output_type": "stream"
                },
                {
                    "name": "stdout",
                    "text": "Epoch 57/100\n",
                    "output_type": "stream"
                },
                {
                    "name": "stdout",
                    "text": "\r  1/250 [..............................] - ETA: 0s - loss: 0.5378 - accuracy: 0.8125",
                    "output_type": "stream"
                },
                {
                    "name": "stdout",
                    "text": "\b\b\b\b\b\b\b\b\b\b\b\b\b\b\b\b\b\b\b\b\b\b\b\b\b\b\b\b\b\b\b\b\b\b\b\b\b\b\b\b\b\b\b\b\b\b\b\b\b\b\b\b\b\b\b\b\b\b\b\b\b\b\b\b\b\b\b\b\b\b\b\b\b\b\b\b\b\b\b\b\b\b\b\b\r 57/250 [=====>........................] - ETA: 0s - loss: 0.3117 - accuracy: 0.8783",
                    "output_type": "stream"
                },
                {
                    "name": "stdout",
                    "text": "\b\b\b\b\b\b\b\b\b\b\b\b\b\b\b\b\b\b\b\b\b\b\b\b\b\b\b\b\b\b\b\b\b\b\b\b\b\b\b\b\b\b\b\b\b\b\b\b\b\b\b\b\b\b\b\b\b\b\b\b\b\b\b\b\b\b\b\b\b\b\b\b\b\b\b\b\b\b\b\b\b\b\b\b\r105/250 [===========>..................] - ETA: 0s - loss: 0.3186 - accuracy: 0.8765",
                    "output_type": "stream"
                },
                {
                    "name": "stdout",
                    "text": "\b\b\b\b\b\b\b\b\b\b\b\b\b\b\b\b\b\b\b\b\b\b\b\b\b\b\b\b\b\b\b\b\b\b\b\b\b\b\b\b\b\b\b\b\b\b\b\b\b\b\b\b\b\b\b\b\b\b\b\b\b\b\b\b\b\b\b\b\b\b\b\b\b\b\b\b\b\b\b\b\b\b\b\b\r159/250 [==================>...........] - ETA: 0s - loss: 0.3293 - accuracy: 0.8703",
                    "output_type": "stream"
                },
                {
                    "name": "stdout",
                    "text": "\b\b\b\b\b\b\b\b\b\b\b\b\b\b\b\b\b\b\b\b\b\b\b\b\b\b\b\b\b\b\b\b\b\b\b\b\b\b\b\b\b\b\b\b\b\b\b\b\b\b\b\b\b\b\b\b\b\b\b\b\b\b\b\b\b\b\b\b\b\b\b\b\b\b\b\b\b\b\b\b\b\b\b\b\r210/250 [========================>.....] - ETA: 0s - loss: 0.3357 - accuracy: 0.8659",
                    "output_type": "stream"
                },
                {
                    "name": "stdout",
                    "text": "\b\b\b\b\b\b\b\b\b\b\b\b\b\b\b\b\b\b\b\b\b\b\b\b\b\b\b\b\b\b\b\b\b\b\b\b\b\b\b\b\b\b\b\b\b\b\b\b\b\b\b\b\b\b\b\b\b\b\b\b\b\b\b\b\b\b\b\b\b\b\b\b\b\b\b\b\b\b\b\b\b\b\b\b\r250/250 [==============================] - 0s 1ms/step - loss: 0.3379 - accuracy: 0.8639\n",
                    "output_type": "stream"
                },
                {
                    "name": "stdout",
                    "text": "Epoch 58/100\n",
                    "output_type": "stream"
                },
                {
                    "name": "stdout",
                    "text": "\r  1/250 [..............................] - ETA: 0s - loss: 0.3467 - accuracy: 0.8750",
                    "output_type": "stream"
                },
                {
                    "name": "stdout",
                    "text": "\b\b\b\b\b\b\b\b\b\b\b\b\b\b\b\b\b\b\b\b\b\b\b\b\b\b\b\b\b\b\b\b\b\b\b\b\b\b\b\b\b\b\b\b\b\b\b\b\b\b\b\b\b\b\b\b\b\b\b\b\b\b\b\b\b\b\b\b\b\b\b\b\b\b\b\b\b\b\b\b\b\b\b\b\r 54/250 [=====>........................] - ETA: 0s - loss: 0.3170 - accuracy: 0.8721",
                    "output_type": "stream"
                },
                {
                    "name": "stdout",
                    "text": "\b\b\b\b\b\b\b\b\b\b\b\b\b\b\b\b\b\b\b\b\b\b\b\b\b\b\b\b\b\b\b\b\b\b\b\b\b\b\b\b\b\b\b\b\b\b\b\b\b\b\b\b\b\b\b\b\b\b\b\b\b\b\b\b\b\b\b\b\b\b\b\b\b\b\b\b\b\b\b\b\b\b\b\b\r105/250 [===========>..................] - ETA: 0s - loss: 0.3370 - accuracy: 0.8610",
                    "output_type": "stream"
                },
                {
                    "name": "stdout",
                    "text": "\b\b\b\b\b\b\b\b\b\b\b\b\b\b\b\b\b\b\b\b\b\b\b\b\b\b\b\b\b\b\b\b\b\b\b\b\b\b\b\b\b\b\b\b\b\b\b\b\b\b\b\b\b\b\b\b\b\b\b\b\b\b\b\b\b\b\b\b\b\b\b\b\b\b\b\b\b\b\b\b\b\b\b\b\r156/250 [=================>............] - ETA: 0s - loss: 0.3406 - accuracy: 0.8586",
                    "output_type": "stream"
                },
                {
                    "name": "stdout",
                    "text": "\b\b\b\b\b\b\b\b\b\b\b\b\b\b\b\b\b\b\b\b\b\b\b\b\b\b\b\b\b\b\b\b\b\b\b\b\b\b\b\b\b\b\b\b\b\b\b\b\b\b\b\b\b\b\b\b\b\b\b\b\b\b\b\b\b\b\b\b\b\b\b\b\b\b\b\b\b\b\b\b\b\b\b\b\r210/250 [========================>.....] - ETA: 0s - loss: 0.3407 - accuracy: 0.8607",
                    "output_type": "stream"
                },
                {
                    "name": "stdout",
                    "text": "\b\b\b\b\b\b\b\b\b\b\b\b\b\b\b\b\b\b\b\b\b\b\b\b\b\b\b\b\b\b\b\b\b\b\b\b\b\b\b\b\b\b\b\b\b\b\b\b\b\b\b\b\b\b\b\b\b\b\b\b\b\b\b\b\b\b\b\b\b\b\b\b\b\b\b\b\b\b\b\b\b\b\b\b\r250/250 [==============================] - 0s 985us/step - loss: 0.3378 - accuracy: 0.8631\n",
                    "output_type": "stream"
                },
                {
                    "name": "stdout",
                    "text": "Epoch 59/100\n",
                    "output_type": "stream"
                },
                {
                    "name": "stdout",
                    "text": "\r  1/250 [..............................] - ETA: 0s - loss: 0.2508 - accuracy: 0.9062",
                    "output_type": "stream"
                },
                {
                    "name": "stdout",
                    "text": "\b\b\b\b\b\b\b\b\b\b\b\b\b\b\b\b\b\b\b\b\b\b\b\b\b\b\b\b\b\b\b\b\b\b\b\b\b\b\b\b\b\b\b\b\b\b\b\b\b\b\b\b\b\b\b\b\b\b\b\b\b\b\b\b\b\b\b\b\b\b\b\b\b\b\b\b\b\b\b\b\b\b\b\b\r 57/250 [=====>........................] - ETA: 0s - loss: 0.3192 - accuracy: 0.8794",
                    "output_type": "stream"
                },
                {
                    "name": "stdout",
                    "text": "\b\b\b\b\b\b\b\b\b\b\b\b\b\b\b\b\b\b\b\b\b\b\b\b\b\b\b\b\b\b\b\b\b\b\b\b\b\b\b\b\b\b\b\b\b\b\b\b\b\b\b\b\b\b\b\b\b\b\b\b\b\b\b\b\b\b\b\b\b\b\b\b\b\b\b\b\b\b\b\b\b\b\b\b\r102/250 [===========>..................] - ETA: 0s - loss: 0.3258 - accuracy: 0.8729",
                    "output_type": "stream"
                },
                {
                    "name": "stdout",
                    "text": "\b\b\b\b\b\b\b\b\b\b\b\b\b\b\b\b\b\b\b\b\b\b\b\b\b\b\b\b\b\b\b\b\b\b\b\b\b\b\b\b\b\b\b\b\b\b\b\b\b\b\b\b\b\b\b\b\b\b\b\b\b\b\b\b\b\b\b\b\b\b\b\b\b\b\b\b\b\b\b\b\b\b\b\b\r157/250 [=================>............] - ETA: 0s - loss: 0.3331 - accuracy: 0.8660",
                    "output_type": "stream"
                },
                {
                    "name": "stdout",
                    "text": "\b\b\b\b\b\b\b\b\b\b\b\b\b\b\b\b\b\b\b\b\b\b\b\b\b\b\b\b\b\b\b\b\b\b\b\b\b\b\b\b\b\b\b\b\b\b\b\b\b\b\b\b\b\b\b\b\b\b\b\b\b\b\b\b\b\b\b\b\b\b\b\b\b\b\b\b\b\b\b\b\b\b\b\b\r209/250 [========================>.....] - ETA: 0s - loss: 0.3368 - accuracy: 0.8621",
                    "output_type": "stream"
                },
                {
                    "name": "stdout",
                    "text": "\b\b\b\b\b\b\b\b\b\b\b\b\b\b\b\b\b\b\b\b\b\b\b\b\b\b\b\b\b\b\b\b\b\b\b\b\b\b\b\b\b\b\b\b\b\b\b\b\b\b\b\b\b\b\b\b\b\b\b\b\b\b\b\b\b\b\b\b\b\b\b\b\b\b\b\b\b\b\b\b\b\b\b\b\r250/250 [==============================] - 0s 983us/step - loss: 0.3372 - accuracy: 0.8633\n",
                    "output_type": "stream"
                },
                {
                    "name": "stdout",
                    "text": "Epoch 60/100\n",
                    "output_type": "stream"
                },
                {
                    "name": "stdout",
                    "text": "\r  1/250 [..............................] - ETA: 0s - loss: 0.3759 - accuracy: 0.8125",
                    "output_type": "stream"
                },
                {
                    "name": "stdout",
                    "text": "\b\b\b\b\b\b\b\b\b\b\b\b\b\b\b\b\b\b\b\b\b\b\b\b\b\b\b\b\b\b\b\b\b\b\b\b\b\b\b\b\b\b\b\b\b\b\b\b\b\b\b\b\b\b\b\b\b\b\b\b\b\b\b\b\b\b\b\b\b\b\b\b\b\b\b\b\b\b\b\b\b\b\b\b\r 53/250 [=====>........................] - ETA: 0s - loss: 0.3481 - accuracy: 0.8567",
                    "output_type": "stream"
                },
                {
                    "name": "stdout",
                    "text": "\b\b\b\b\b\b\b\b\b\b\b\b\b\b\b\b\b\b\b\b\b\b\b\b\b\b\b\b\b\b\b\b\b\b\b\b\b\b\b\b\b\b\b\b\b\b\b\b\b\b\b\b\b\b\b\b\b\b\b\b\b\b\b\b\b\b\b\b\b\b\b\b\b\b\b\b\b\b\b\b\b\b\b\b\r 97/250 [==========>...................] - ETA: 0s - loss: 0.3434 - accuracy: 0.8579",
                    "output_type": "stream"
                },
                {
                    "name": "stdout",
                    "text": "\b\b\b\b\b\b\b\b\b\b\b\b\b\b\b\b\b\b\b\b\b\b\b\b\b\b\b\b\b\b\b\b\b\b\b\b\b\b\b\b\b\b\b\b\b\b\b\b\b\b\b\b\b\b\b\b\b\b\b\b\b\b\b\b\b\b\b\b\b\b\b\b\b\b\b\b\b\b\b\b\b\b\b\b\r153/250 [=================>............] - ETA: 0s - loss: 0.3465 - accuracy: 0.8611",
                    "output_type": "stream"
                },
                {
                    "name": "stdout",
                    "text": "\b\b\b\b\b\b\b\b\b\b\b\b\b\b\b\b\b\b\b\b\b\b\b\b\b\b\b\b\b\b\b\b\b\b\b\b\b\b\b\b\b\b\b\b\b\b\b\b\b\b\b\b\b\b\b\b\b\b\b\b\b\b\b\b\b\b\b\b\b\b\b\b\b\b\b\b\b\b\b\b\b\b\b\b\r201/250 [=======================>......] - ETA: 0s - loss: 0.3397 - accuracy: 0.8624",
                    "output_type": "stream"
                },
                {
                    "name": "stdout",
                    "text": "\b\b\b\b\b\b\b\b\b\b\b\b\b\b\b\b\b\b\b\b\b\b\b\b\b\b\b\b\b\b\b\b\b\b\b\b\b\b\b\b\b\b\b\b\b\b\b\b\b\b\b\b\b\b\b\b\b\b\b\b\b\b\b\b\b\b\b\b\b\b\b\b\b\b\b\b\b\b\b\b\b\b\b\b\r250/250 [==============================] - 0s 1ms/step - loss: 0.3370 - accuracy: 0.8630\n",
                    "output_type": "stream"
                },
                {
                    "name": "stdout",
                    "text": "Epoch 61/100\n",
                    "output_type": "stream"
                },
                {
                    "name": "stdout",
                    "text": "\r  1/250 [..............................] - ETA: 0s - loss: 0.2569 - accuracy: 0.8750",
                    "output_type": "stream"
                },
                {
                    "name": "stdout",
                    "text": "\b\b\b\b\b\b\b\b\b\b\b\b\b\b\b\b\b\b\b\b\b\b\b\b\b\b\b\b\b\b\b\b\b\b\b\b\b\b\b\b\b\b\b\b\b\b\b\b\b\b\b\b\b\b\b\b\b\b\b\b\b\b\b\b\b\b\b\b\b\b\b\b\b\b\b\b\b\b\b\b\b\b\b\b\r 55/250 [=====>........................] - ETA: 0s - loss: 0.3346 - accuracy: 0.8648",
                    "output_type": "stream"
                },
                {
                    "name": "stdout",
                    "text": "\b\b\b\b\b\b\b\b\b\b\b\b\b\b\b\b\b\b\b\b\b\b\b\b\b\b\b\b\b\b\b\b\b\b\b\b\b\b\b\b\b\b\b\b\b\b\b\b\b\b\b\b\b\b\b\b\b\b\b\b\b\b\b\b\b\b\b\b\b\b\b\b\b\b\b\b\b\b\b\b\b\b\b\b\r104/250 [===========>..................] - ETA: 0s - loss: 0.3394 - accuracy: 0.8639",
                    "output_type": "stream"
                },
                {
                    "name": "stdout",
                    "text": "\b\b\b\b\b\b\b\b\b\b\b\b\b\b\b\b\b\b\b\b\b\b\b\b\b\b\b\b\b\b\b\b\b\b\b\b\b\b\b\b\b\b\b\b\b\b\b\b\b\b\b\b\b\b\b\b\b\b\b\b\b\b\b\b\b\b\b\b\b\b\b\b\b\b\b\b\b\b\b\b\b\b\b\b\r158/250 [=================>............] - ETA: 0s - loss: 0.3307 - accuracy: 0.8649",
                    "output_type": "stream"
                },
                {
                    "name": "stdout",
                    "text": "\b\b\b\b\b\b\b\b\b\b\b\b\b\b\b\b\b\b\b\b\b\b\b\b\b\b\b\b\b\b\b\b\b\b\b\b\b\b\b\b\b\b\b\b\b\b\b\b\b\b\b\b\b\b\b\b\b\b\b\b\b\b\b\b\b\b\b\b\b\b\b\b\b\b\b\b\b\b\b\b\b\b\b\b\r210/250 [========================>.....] - ETA: 0s - loss: 0.3327 - accuracy: 0.8643",
                    "output_type": "stream"
                },
                {
                    "name": "stdout",
                    "text": "\b\b\b\b\b\b\b\b\b\b\b\b\b\b\b\b\b\b\b\b\b\b\b\b\b\b\b\b\b\b\b\b\b\b\b\b\b\b\b\b\b\b\b\b\b\b\b\b\b\b\b\b\b\b\b\b\b\b\b\b\b\b\b\b\b\b\b\b\b\b\b\b\b\b\b\b\b\b\b\b\b\b\b\b\r250/250 [==============================] - 0s 972us/step - loss: 0.3373 - accuracy: 0.8634\n",
                    "output_type": "stream"
                },
                {
                    "name": "stdout",
                    "text": "Epoch 62/100\n",
                    "output_type": "stream"
                },
                {
                    "name": "stdout",
                    "text": "\r  1/250 [..............................] - ETA: 0s - loss: 0.2511 - accuracy: 0.8750",
                    "output_type": "stream"
                },
                {
                    "name": "stdout",
                    "text": "\b\b\b\b\b\b\b\b\b\b\b\b\b\b\b\b\b\b\b\b\b\b\b\b\b\b\b\b\b\b\b\b\b\b\b\b\b\b\b\b\b\b\b\b\b\b\b\b\b\b\b\b\b\b\b\b\b\b\b\b\b\b\b\b\b\b\b\b\b\b\b\b\b\b\b\b\b\b\b\b\b\b\b\b\r 55/250 [=====>........................] - ETA: 0s - loss: 0.3314 - accuracy: 0.8619",
                    "output_type": "stream"
                },
                {
                    "name": "stdout",
                    "text": "\b\b\b\b\b\b\b\b\b\b\b\b\b\b\b\b\b\b\b\b\b\b\b\b\b\b\b\b\b\b\b\b\b\b\b\b\b\b\b\b\b\b\b\b\b\b\b\b\b\b\b\b\b\b\b\b\b\b\b\b\b\b\b\b\b\b\b\b\b\b\b\b\b\b\b\b\b\b\b\b\b\b\b\b\r106/250 [===========>..................] - ETA: 0s - loss: 0.3383 - accuracy: 0.8606",
                    "output_type": "stream"
                },
                {
                    "name": "stdout",
                    "text": "\b\b\b\b\b\b\b\b\b\b\b\b\b\b\b\b\b\b\b\b\b\b\b\b\b\b\b\b\b\b\b\b\b\b\b\b\b\b\b\b\b\b\b\b\b\b\b\b\b\b\b\b\b\b\b\b\b\b\b\b\b\b\b\b\b\b\b\b\b\b\b\b\b\b\b\b\b\b\b\b\b\b\b\b\r161/250 [==================>...........] - ETA: 0s - loss: 0.3459 - accuracy: 0.8573",
                    "output_type": "stream"
                },
                {
                    "name": "stdout",
                    "text": "\b\b\b\b\b\b\b\b\b\b\b\b\b\b\b\b\b\b\b\b\b\b\b\b\b\b\b\b\b\b\b\b\b\b\b\b\b\b\b\b\b\b\b\b\b\b\b\b\b\b\b\b\b\b\b\b\b\b\b\b\b\b\b\b\b\b\b\b\b\b\b\b\b\b\b\b\b\b\b\b\b\b\b\b\r211/250 [========================>.....] - ETA: 0s - loss: 0.3411 - accuracy: 0.8600",
                    "output_type": "stream"
                },
                {
                    "name": "stdout",
                    "text": "\b\b\b\b\b\b\b\b\b\b\b\b\b\b\b\b\b\b\b\b\b\b\b\b\b\b\b\b\b\b\b\b\b\b\b\b\b\b\b\b\b\b\b\b\b\b\b\b\b\b\b\b\b\b\b\b\b\b\b\b\b\b\b\b\b\b\b\b\b\b\b\b\b\b\b\b\b\b\b\b\b\b\b\b\r250/250 [==============================] - 0s 969us/step - loss: 0.3371 - accuracy: 0.8622\n",
                    "output_type": "stream"
                },
                {
                    "name": "stdout",
                    "text": "Epoch 63/100\n",
                    "output_type": "stream"
                },
                {
                    "name": "stdout",
                    "text": "\r  1/250 [..............................] - ETA: 0s - loss: 0.4709 - accuracy: 0.8438",
                    "output_type": "stream"
                },
                {
                    "name": "stdout",
                    "text": "\b\b\b\b\b\b\b\b\b\b\b\b\b\b\b\b\b\b\b\b\b\b\b\b\b\b\b\b\b\b\b\b\b\b\b\b\b\b\b\b\b\b\b\b\b\b\b\b\b\b\b\b\b\b\b\b\b\b\b\b\b\b\b\b\b\b\b\b\b\b\b\b\b\b\b\b\b\b\b\b\b\b\b\b\r 48/250 [====>.........................] - ETA: 0s - loss: 0.3332 - accuracy: 0.8704",
                    "output_type": "stream"
                },
                {
                    "name": "stdout",
                    "text": "\b\b\b\b\b\b\b\b\b\b\b\b\b\b\b\b\b\b\b\b\b\b\b\b\b\b\b\b\b\b\b\b\b\b\b\b\b\b\b\b\b\b\b\b\b\b\b\b\b\b\b\b\b\b\b\b\b\b\b\b\b\b\b\b\b\b\b\b\b\b\b\b\b\b\b\b\b\b\b\b\b\b\b\b\r102/250 [===========>..................] - ETA: 0s - loss: 0.3271 - accuracy: 0.8710",
                    "output_type": "stream"
                },
                {
                    "name": "stdout",
                    "text": "\b\b\b\b\b\b\b\b\b\b\b\b\b\b\b\b\b\b\b\b\b\b\b\b\b\b\b\b\b\b\b\b\b\b\b\b\b\b\b\b\b\b\b\b\b\b\b\b\b\b\b\b\b\b\b\b\b\b\b\b\b\b\b\b\b\b\b\b\b\b\b\b\b\b\b\b\b\b\b\b\b\b\b\b\r151/250 [=================>............] - ETA: 0s - loss: 0.3353 - accuracy: 0.8636",
                    "output_type": "stream"
                },
                {
                    "name": "stdout",
                    "text": "\b\b\b\b\b\b\b\b\b\b\b\b\b\b\b\b\b\b\b\b\b\b\b\b\b\b\b\b\b\b\b\b\b\b\b\b\b\b\b\b\b\b\b\b\b\b\b\b\b\b\b\b\b\b\b\b\b\b\b\b\b\b\b\b\b\b\b\b\b\b\b\b\b\b\b\b\b\b\b\b\b\b\b\b\r200/250 [=======================>......] - ETA: 0s - loss: 0.3361 - accuracy: 0.8625",
                    "output_type": "stream"
                },
                {
                    "name": "stdout",
                    "text": "\b\b\b\b\b\b\b\b\b\b\b\b\b\b\b\b\b\b\b\b\b\b\b\b\b\b\b\b\b\b\b\b\b\b\b\b\b\b\b\b\b\b\b\b\b\b\b\b\b\b\b\b\b\b\b\b\b\b\b\b\b\b\b\b\b\b\b\b\b\b\b\b\b\b\b\b\b\b\b\b\b\b\b\b\r250/250 [==============================] - 0s 1ms/step - loss: 0.3370 - accuracy: 0.8624\n",
                    "output_type": "stream"
                },
                {
                    "name": "stdout",
                    "text": "Epoch 64/100\n",
                    "output_type": "stream"
                },
                {
                    "name": "stdout",
                    "text": "\r  1/250 [..............................] - ETA: 0s - loss: 0.3388 - accuracy: 0.8125",
                    "output_type": "stream"
                },
                {
                    "name": "stdout",
                    "text": "\b\b\b\b\b\b\b\b\b\b\b\b\b\b\b\b\b\b\b\b\b\b\b\b\b\b\b\b\b\b\b\b\b\b\b\b\b\b\b\b\b\b\b\b\b\b\b\b\b\b\b\b\b\b\b\b\b\b\b\b\b\b\b\b\b\b\b\b\b\b\b\b\b\b\b\b\b\b\b\b\b\b\b\b\r 51/250 [=====>........................] - ETA: 0s - loss: 0.3190 - accuracy: 0.8713",
                    "output_type": "stream"
                },
                {
                    "name": "stdout",
                    "text": "\b\b\b\b\b\b\b\b\b\b\b\b\b\b\b\b\b\b\b\b\b\b\b\b\b\b\b\b\b\b\b\b\b\b\b\b\b\b\b\b\b\b\b\b\b\b\b\b\b\b\b\b\b\b\b\b\b\b\b\b\b\b\b\b\b\b\b\b\b\b\b\b\b\b\b\b\b\b\b\b\b\b\b\b\r106/250 [===========>..................] - ETA: 0s - loss: 0.3328 - accuracy: 0.8676",
                    "output_type": "stream"
                },
                {
                    "name": "stdout",
                    "text": "\b\b\b\b\b\b\b\b\b\b\b\b\b\b\b\b\b\b\b\b\b\b\b\b\b\b\b\b\b\b\b\b\b\b\b\b\b\b\b\b\b\b\b\b\b\b\b\b\b\b\b\b\b\b\b\b\b\b\b\b\b\b\b\b\b\b\b\b\b\b\b\b\b\b\b\b\b\b\b\b\b\b\b\b\r159/250 [==================>...........] - ETA: 0s - loss: 0.3335 - accuracy: 0.8679",
                    "output_type": "stream"
                },
                {
                    "name": "stdout",
                    "text": "\b\b\b\b\b\b\b\b\b\b\b\b\b\b\b\b\b\b\b\b\b\b\b\b\b\b\b\b\b\b\b\b\b\b\b\b\b\b\b\b\b\b\b\b\b\b\b\b\b\b\b\b\b\b\b\b\b\b\b\b\b\b\b\b\b\b\b\b\b\b\b\b\b\b\b\b\b\b\b\b\b\b\b\b\r205/250 [=======================>......] - ETA: 0s - loss: 0.3364 - accuracy: 0.8651",
                    "output_type": "stream"
                },
                {
                    "name": "stdout",
                    "text": "\b\b\b\b\b\b\b\b\b\b\b\b\b\b\b\b\b\b\b\b\b\b\b\b\b\b\b\b\b\b\b\b\b\b\b\b\b\b\b\b\b\b\b\b\b\b\b\b\b\b\b\b\b\b\b\b\b\b\b\b\b\b\b\b\b\b\b\b\b\b\b\b\b\b\b\b\b\b\b\b\b\b\b\b\r250/250 [==============================] - 0s 989us/step - loss: 0.3368 - accuracy: 0.8648\n",
                    "output_type": "stream"
                },
                {
                    "name": "stdout",
                    "text": "Epoch 65/100\n",
                    "output_type": "stream"
                },
                {
                    "name": "stdout",
                    "text": "\r  1/250 [..............................] - ETA: 0s - loss: 0.2183 - accuracy: 0.9375",
                    "output_type": "stream"
                },
                {
                    "name": "stdout",
                    "text": "\b\b\b\b\b\b\b\b\b\b\b\b\b\b\b\b\b\b\b\b\b\b\b\b\b\b\b\b\b\b\b\b\b\b\b\b\b\b\b\b\b\b\b\b\b\b\b\b\b\b\b\b\b\b\b\b\b\b\b\b\b\b\b\b\b\b\b\b\b\b\b\b\b\b\b\b\b\b\b\b\b\b\b\b\r 49/250 [====>.........................] - ETA: 0s - loss: 0.3261 - accuracy: 0.8712",
                    "output_type": "stream"
                },
                {
                    "name": "stdout",
                    "text": "\b\b\b\b\b\b\b\b\b\b\b\b\b\b\b\b\b\b\b\b\b\b\b\b\b\b\b\b\b\b\b\b\b\b\b\b\b\b\b\b\b\b\b\b\b\b\b\b\b\b\b\b\b\b\b\b\b\b\b\b\b\b\b\b\b\b\b\b\b\b\b\b\b\b\b\b\b\b\b\b\b\b\b\b\r102/250 [===========>..................] - ETA: 0s - loss: 0.3412 - accuracy: 0.8643",
                    "output_type": "stream"
                },
                {
                    "name": "stdout",
                    "text": "\b\b\b\b\b\b\b\b\b\b\b\b\b\b\b\b\b\b\b\b\b\b\b\b\b\b\b\b\b\b\b\b\b\b\b\b\b\b\b\b\b\b\b\b\b\b\b\b\b\b\b\b\b\b\b\b\b\b\b\b\b\b\b\b\b\b\b\b\b\b\b\b\b\b\b\b\b\b\b\b\b\b\b\b\r159/250 [==================>...........] - ETA: 0s - loss: 0.3416 - accuracy: 0.8616",
                    "output_type": "stream"
                },
                {
                    "name": "stdout",
                    "text": "\b\b\b\b\b\b\b\b\b\b\b\b\b\b\b\b\b\b\b\b\b\b\b\b\b\b\b\b\b\b\b\b\b\b\b\b\b\b\b\b\b\b\b\b\b\b\b\b\b\b\b\b\b\b\b\b\b\b\b\b\b\b\b\b\b\b\b\b\b\b\b\b\b\b\b\b\b\b\b\b\b\b\b\b\r208/250 [=======================>......] - ETA: 0s - loss: 0.3356 - accuracy: 0.8654",
                    "output_type": "stream"
                },
                {
                    "name": "stdout",
                    "text": "\b\b\b\b\b\b\b\b\b\b\b\b\b\b\b\b\b\b\b\b\b\b\b\b\b\b\b\b\b\b\b\b\b\b\b\b\b\b\b\b\b\b\b\b\b\b\b\b\b\b\b\b\b\b\b\b\b\b\b\b\b\b\b\b\b\b\b\b\b\b\b\b\b\b\b\b\b\b\b\b\b\b\b\b\r250/250 [==============================] - 0s 977us/step - loss: 0.3365 - accuracy: 0.8643\n",
                    "output_type": "stream"
                },
                {
                    "name": "stdout",
                    "text": "Epoch 66/100\n",
                    "output_type": "stream"
                },
                {
                    "name": "stdout",
                    "text": "\r  1/250 [..............................] - ETA: 0s - loss: 0.3640 - accuracy: 0.8438",
                    "output_type": "stream"
                },
                {
                    "name": "stdout",
                    "text": "\b\b\b\b\b\b\b\b\b\b\b\b\b\b\b\b\b\b\b\b\b\b\b\b\b\b\b\b\b\b\b\b\b\b\b\b\b\b\b\b\b\b\b\b\b\b\b\b\b\b\b\b\b\b\b\b\b\b\b\b\b\b\b\b\b\b\b\b\b\b\b\b\b\b\b\b\b\b\b\b\b\b\b\b\r 49/250 [====>.........................] - ETA: 0s - loss: 0.3265 - accuracy: 0.8731",
                    "output_type": "stream"
                },
                {
                    "name": "stdout",
                    "text": "\b\b\b\b\b\b\b\b\b\b\b\b\b\b\b\b\b\b\b\b\b\b\b\b\b\b\b\b\b\b\b\b\b\b\b\b\b\b\b\b\b\b\b\b\b\b\b\b\b\b\b\b\b\b\b\b\b\b\b\b\b\b\b\b\b\b\b\b\b\b\b\b\b\b\b\b\b\b\b\b\b\b\b\b\r107/250 [===========>..................] - ETA: 0s - loss: 0.3357 - accuracy: 0.8645",
                    "output_type": "stream"
                },
                {
                    "name": "stdout",
                    "text": "\b\b\b\b\b\b\b\b\b\b\b\b\b\b\b\b\b\b\b\b\b\b\b\b\b\b\b\b\b\b\b\b\b\b\b\b\b\b\b\b\b\b\b\b\b\b\b\b\b\b\b\b\b\b\b\b\b\b\b\b\b\b\b\b\b\b\b\b\b\b\b\b\b\b\b\b\b\b\b\b\b\b\b\b\r155/250 [=================>............] - ETA: 0s - loss: 0.3288 - accuracy: 0.8687",
                    "output_type": "stream"
                },
                {
                    "name": "stdout",
                    "text": "\b\b\b\b\b\b\b\b\b\b\b\b\b\b\b\b\b\b\b\b\b\b\b\b\b\b\b\b\b\b\b\b\b\b\b\b\b\b\b\b\b\b\b\b\b\b\b\b\b\b\b\b\b\b\b\b\b\b\b\b\b\b\b\b\b\b\b\b\b\b\b\b\b\b\b\b\b\b\b\b\b\b\b\b\r208/250 [=======================>......] - ETA: 0s - loss: 0.3330 - accuracy: 0.8667",
                    "output_type": "stream"
                },
                {
                    "name": "stdout",
                    "text": "\b\b\b\b\b\b\b\b\b\b\b\b\b\b\b\b\b\b\b\b\b\b\b\b\b\b\b\b\b\b\b\b\b\b\b\b\b\b\b\b\b\b\b\b\b\b\b\b\b\b\b\b\b\b\b\b\b\b\b\b\b\b\b\b\b\b\b\b\b\b\b\b\b\b\b\b\b\b\b\b\b\b\b\b\r250/250 [==============================] - 0s 987us/step - loss: 0.3366 - accuracy: 0.8643\n",
                    "output_type": "stream"
                },
                {
                    "name": "stdout",
                    "text": "Epoch 67/100\n",
                    "output_type": "stream"
                },
                {
                    "name": "stdout",
                    "text": "\r  1/250 [..............................] - ETA: 0s - loss: 0.1608 - accuracy: 0.9688",
                    "output_type": "stream"
                },
                {
                    "name": "stdout",
                    "text": "\b\b\b\b\b\b\b\b\b\b\b\b\b\b\b\b\b\b\b\b\b\b\b\b\b\b\b\b\b\b\b\b\b\b\b\b\b\b\b\b\b\b\b\b\b\b\b\b\b\b\b\b\b\b\b\b\b\b\b\b\b\b\b\b\b\b\b\b\b\b\b\b\b\b\b\b\b\b\b\b\b\b\b\b\r 52/250 [=====>........................] - ETA: 0s - loss: 0.3527 - accuracy: 0.8486",
                    "output_type": "stream"
                },
                {
                    "name": "stdout",
                    "text": "\b\b\b\b\b\b\b\b\b\b\b\b\b\b\b\b\b\b\b\b\b\b\b\b\b\b\b\b\b\b\b\b\b\b\b\b\b\b\b\b\b\b\b\b\b\b\b\b\b\b\b\b\b\b\b\b\b\b\b\b\b\b\b\b\b\b\b\b\b\b\b\b\b\b\b\b\b\b\b\b\b\b\b\b\r103/250 [===========>..................] - ETA: 0s - loss: 0.3340 - accuracy: 0.8604",
                    "output_type": "stream"
                },
                {
                    "name": "stdout",
                    "text": "\b\b\b\b\b\b\b\b\b\b\b\b\b\b\b\b\b\b\b\b\b\b\b\b\b\b\b\b\b\b\b\b\b\b\b\b\b\b\b\b\b\b\b\b\b\b\b\b\b\b\b\b\b\b\b\b\b\b\b\b\b\b\b\b\b\b\b\b\b\b\b\b\b\b\b\b\b\b\b\b\b\b\b\b\r149/250 [================>.............] - ETA: 0s - loss: 0.3281 - accuracy: 0.8645",
                    "output_type": "stream"
                },
                {
                    "name": "stdout",
                    "text": "\b\b\b\b\b\b\b\b\b\b\b\b\b\b\b\b\b\b\b\b\b\b\b\b\b\b\b\b\b\b\b\b\b\b\b\b\b\b\b\b\b\b\b\b\b\b\b\b\b\b\b\b\b\b\b\b\b\b\b\b\b\b\b\b\b\b\b\b\b\b\b\b\b\b\b\b\b\b\b\b\b\b\b\b\r205/250 [=======================>......] - ETA: 0s - loss: 0.3308 - accuracy: 0.8652",
                    "output_type": "stream"
                },
                {
                    "name": "stdout",
                    "text": "\b\b\b\b\b\b\b\b\b\b\b\b\b\b\b\b\b\b\b\b\b\b\b\b\b\b\b\b\b\b\b\b\b\b\b\b\b\b\b\b\b\b\b\b\b\b\b\b\b\b\b\b\b\b\b\b\b\b\b\b\b\b\b\b\b\b\b\b\b\b\b\b\b\b\b\b\b\b\b\b\b\b\b\b\r250/250 [==============================] - 0s 1ms/step - loss: 0.3364 - accuracy: 0.8630\n",
                    "output_type": "stream"
                },
                {
                    "name": "stdout",
                    "text": "Epoch 68/100\n",
                    "output_type": "stream"
                },
                {
                    "name": "stdout",
                    "text": "\r  1/250 [..............................] - ETA: 0s - loss: 0.5285 - accuracy: 0.7500",
                    "output_type": "stream"
                },
                {
                    "name": "stdout",
                    "text": "\b\b\b\b\b\b\b\b\b\b\b\b\b\b\b\b\b\b\b\b\b\b\b\b\b\b\b\b\b\b\b\b\b\b\b\b\b\b\b\b\b\b\b\b\b\b\b\b\b\b\b\b\b\b\b\b\b\b\b\b\b\b\b\b\b\b\b\b\b\b\b\b\b\b\b\b\b\b\b\b\b\b\b\b\r 55/250 [=====>........................] - ETA: 0s - loss: 0.3502 - accuracy: 0.8631",
                    "output_type": "stream"
                },
                {
                    "name": "stdout",
                    "text": "\b\b\b\b\b\b\b\b\b\b\b\b\b\b\b\b\b\b\b\b\b\b\b\b\b\b\b\b\b\b\b\b\b\b\b\b\b\b\b\b\b\b\b\b\b\b\b\b\b\b\b\b\b\b\b\b\b\b\b\b\b\b\b\b\b\b\b\b\b\b\b\b\b\b\b\b\b\b\b\b\b\b\b\b\r103/250 [===========>..................] - ETA: 0s - loss: 0.3416 - accuracy: 0.8620",
                    "output_type": "stream"
                },
                {
                    "name": "stdout",
                    "text": "\b\b\b\b\b\b\b\b\b\b\b\b\b\b\b\b\b\b\b\b\b\b\b\b\b\b\b\b\b\b\b\b\b\b\b\b\b\b\b\b\b\b\b\b\b\b\b\b\b\b\b\b\b\b\b\b\b\b\b\b\b\b\b\b\b\b\b\b\b\b\b\b\b\b\b\b\b\b\b\b\b\b\b\b\r159/250 [==================>...........] - ETA: 0s - loss: 0.3388 - accuracy: 0.8642",
                    "output_type": "stream"
                },
                {
                    "name": "stdout",
                    "text": "\b\b\b\b\b\b\b\b\b\b\b\b\b\b\b\b\b\b\b\b\b\b\b\b\b\b\b\b\b\b\b\b\b\b\b\b\b\b\b\b\b\b\b\b\b\b\b\b\b\b\b\b\b\b\b\b\b\b\b\b\b\b\b\b\b\b\b\b\b\b\b\b\b\b\b\b\b\b\b\b\b\b\b\b\r212/250 [========================>.....] - ETA: 0s - loss: 0.3377 - accuracy: 0.8654",
                    "output_type": "stream"
                },
                {
                    "name": "stdout",
                    "text": "\b\b\b\b\b\b\b\b\b\b\b\b\b\b\b\b\b\b\b\b\b\b\b\b\b\b\b\b\b\b\b\b\b\b\b\b\b\b\b\b\b\b\b\b\b\b\b\b\b\b\b\b\b\b\b\b\b\b\b\b\b\b\b\b\b\b\b\b\b\b\b\b\b\b\b\b\b\b\b\b\b\b\b\b\r250/250 [==============================] - 0s 985us/step - loss: 0.3364 - accuracy: 0.8649\n",
                    "output_type": "stream"
                },
                {
                    "name": "stdout",
                    "text": "Epoch 69/100\n",
                    "output_type": "stream"
                },
                {
                    "name": "stdout",
                    "text": "\r  1/250 [..............................] - ETA: 0s - loss: 0.1838 - accuracy: 0.9375",
                    "output_type": "stream"
                },
                {
                    "name": "stdout",
                    "text": "\b\b\b\b\b\b\b\b\b\b\b\b\b\b\b\b\b\b\b\b\b\b\b\b\b\b\b\b\b\b\b\b\b\b\b\b\b\b\b\b\b\b\b\b\b\b\b\b\b\b\b\b\b\b\b\b\b\b\b\b\b\b\b\b\b\b\b\b\b\b\b\b\b\b\b\b\b\b\b\b\b\b\b\b\r 55/250 [=====>........................] - ETA: 0s - loss: 0.3434 - accuracy: 0.8568",
                    "output_type": "stream"
                },
                {
                    "name": "stdout",
                    "text": "\b\b\b\b\b\b\b\b\b\b\b\b\b\b\b\b\b\b\b\b\b\b\b\b\b\b\b\b\b\b\b\b\b\b\b\b\b\b\b\b\b\b\b\b\b\b\b\b\b\b\b\b\b\b\b\b\b\b\b\b\b\b\b\b\b\b\b\b\b\b\b\b\b\b\b\b\b\b\b\b\b\b\b\b\r103/250 [===========>..................] - ETA: 0s - loss: 0.3394 - accuracy: 0.8613",
                    "output_type": "stream"
                },
                {
                    "name": "stdout",
                    "text": "\b\b\b\b\b\b\b\b\b\b\b\b\b\b\b\b\b\b\b\b\b\b\b\b\b\b\b\b\b\b\b\b\b\b\b\b\b\b\b\b\b\b\b\b\b\b\b\b\b\b\b\b\b\b\b\b\b\b\b\b\b\b\b\b\b\b\b\b\b\b\b\b\b\b\b\b\b\b\b\b\b\b\b\b\r156/250 [=================>............] - ETA: 0s - loss: 0.3410 - accuracy: 0.8612",
                    "output_type": "stream"
                },
                {
                    "name": "stdout",
                    "text": "\b\b\b\b\b\b\b\b\b\b\b\b\b\b\b\b\b\b\b\b\b\b\b\b\b\b\b\b\b\b\b\b\b\b\b\b\b\b\b\b\b\b\b\b\b\b\b\b\b\b\b\b\b\b\b\b\b\b\b\b\b\b\b\b\b\b\b\b\b\b\b\b\b\b\b\b\b\b\b\b\b\b\b\b\r207/250 [=======================>......] - ETA: 0s - loss: 0.3423 - accuracy: 0.8599",
                    "output_type": "stream"
                },
                {
                    "name": "stdout",
                    "text": "\b\b\b\b\b\b\b\b\b\b\b\b\b\b\b\b\b\b\b\b\b\b\b\b\b\b\b\b\b\b\b\b\b\b\b\b\b\b\b\b\b\b\b\b\b\b\b\b\b\b\b\b\b\b\b\b\b\b\b\b\b\b\b\b\b\b\b\b\b\b\b\b\b\b\b\b\b\b\b\b\b\b\b\b\r250/250 [==============================] - 0s 983us/step - loss: 0.3364 - accuracy: 0.8625\n",
                    "output_type": "stream"
                },
                {
                    "name": "stdout",
                    "text": "Epoch 70/100\n",
                    "output_type": "stream"
                },
                {
                    "name": "stdout",
                    "text": "\r  1/250 [..............................] - ETA: 0s - loss: 0.2522 - accuracy: 0.9062",
                    "output_type": "stream"
                },
                {
                    "name": "stdout",
                    "text": "\b\b\b\b\b\b\b\b\b\b\b\b\b\b\b\b\b\b\b\b\b\b\b\b\b\b\b\b\b\b\b\b\b\b\b\b\b\b\b\b\b\b\b\b\b\b\b\b\b\b\b\b\b\b\b\b\b\b\b\b\b\b\b\b\b\b\b\b\b\b\b\b\b\b\b\b\b\b\b\b\b\b\b\b\r 52/250 [=====>........................] - ETA: 0s - loss: 0.3284 - accuracy: 0.8642",
                    "output_type": "stream"
                },
                {
                    "name": "stdout",
                    "text": "\b\b\b\b\b\b\b\b\b\b\b\b\b\b\b\b\b\b\b\b\b\b\b\b\b\b\b\b\b\b\b\b\b\b\b\b\b\b\b\b\b\b\b\b\b\b\b\b\b\b\b\b\b\b\b\b\b\b\b\b\b\b\b\b\b\b\b\b\b\b\b\b\b\b\b\b\b\b\b\b\b\b\b\b\r102/250 [===========>..................] - ETA: 0s - loss: 0.3338 - accuracy: 0.8627",
                    "output_type": "stream"
                },
                {
                    "name": "stdout",
                    "text": "\b\b\b\b\b\b\b\b\b\b\b\b\b\b\b\b\b\b\b\b\b\b\b\b\b\b\b\b\b\b\b\b\b\b\b\b\b\b\b\b\b\b\b\b\b\b\b\b\b\b\b\b\b\b\b\b\b\b\b\b\b\b\b\b\b\b\b\b\b\b\b\b\b\b\b\b\b\b\b\b\b\b\b\b\r156/250 [=================>............] - ETA: 0s - loss: 0.3371 - accuracy: 0.8648",
                    "output_type": "stream"
                },
                {
                    "name": "stdout",
                    "text": "\b\b\b\b\b\b\b\b\b\b\b\b\b\b\b\b\b\b\b\b\b\b\b\b\b\b\b\b\b\b\b\b\b\b\b\b\b\b\b\b\b\b\b\b\b\b\b\b\b\b\b\b\b\b\b\b\b\b\b\b\b\b\b\b\b\b\b\b\b\b\b\b\b\b\b\b\b\b\b\b\b\b\b\b\r205/250 [=======================>......] - ETA: 0s - loss: 0.3322 - accuracy: 0.8652",
                    "output_type": "stream"
                },
                {
                    "name": "stdout",
                    "text": "\b\b\b\b\b\b\b\b\b\b\b\b\b\b\b\b\b\b\b\b\b\b\b\b\b\b\b\b\b\b\b\b\b\b\b\b\b\b\b\b\b\b\b\b\b\b\b\b\b\b\b\b\b\b\b\b\b\b\b\b\b\b\b\b\b\b\b\b\b\b\b\b\b\b\b\b\b\b\b\b\b\b\b\b\r250/250 [==============================] - 0s 979us/step - loss: 0.3360 - accuracy: 0.8636\n",
                    "output_type": "stream"
                },
                {
                    "name": "stdout",
                    "text": "Epoch 71/100\n",
                    "output_type": "stream"
                },
                {
                    "name": "stdout",
                    "text": "\r  1/250 [..............................] - ETA: 0s - loss: 0.3333 - accuracy: 0.8750",
                    "output_type": "stream"
                },
                {
                    "name": "stdout",
                    "text": "\b\b\b\b\b\b\b\b\b\b\b\b\b\b\b\b\b\b\b\b\b\b\b\b\b\b\b\b\b\b\b\b\b\b\b\b\b\b\b\b\b\b\b\b\b\b\b\b\b\b\b\b\b\b\b\b\b\b\b\b\b\b\b\b\b\b\b\b\b\b\b\b\b\b\b\b\b\b\b\b\b\b\b\b\r 49/250 [====>.........................] - ETA: 0s - loss: 0.3472 - accuracy: 0.8597",
                    "output_type": "stream"
                },
                {
                    "name": "stdout",
                    "text": "\b\b\b\b\b\b\b\b\b\b\b\b\b\b\b\b\b\b\b\b\b\b\b\b\b\b\b\b\b\b\b\b\b\b\b\b\b\b\b\b\b\b\b\b\b\b\b\b\b\b\b\b\b\b\b\b\b\b\b\b\b\b\b\b\b\b\b\b\b\b\b\b\b\b\b\b\b\b\b\b\b\b\b\b\r105/250 [===========>..................] - ETA: 0s - loss: 0.3318 - accuracy: 0.8628",
                    "output_type": "stream"
                },
                {
                    "name": "stdout",
                    "text": "\b\b\b\b\b\b\b\b\b\b\b\b\b\b\b\b\b\b\b\b\b\b\b\b\b\b\b\b\b\b\b\b\b\b\b\b\b\b\b\b\b\b\b\b\b\b\b\b\b\b\b\b\b\b\b\b\b\b\b\b\b\b\b\b\b\b\b\b\b\b\b\b\b\b\b\b\b\b\b\b\b\b\b\b\r151/250 [=================>............] - ETA: 0s - loss: 0.3312 - accuracy: 0.8626",
                    "output_type": "stream"
                },
                {
                    "name": "stdout",
                    "text": "\b\b\b\b\b\b\b\b\b\b\b\b\b\b\b\b\b\b\b\b\b\b\b\b\b\b\b\b\b\b\b\b\b\b\b\b\b\b\b\b\b\b\b\b\b\b\b\b\b\b\b\b\b\b\b\b\b\b\b\b\b\b\b\b\b\b\b\b\b\b\b\b\b\b\b\b\b\b\b\b\b\b\b\b\r200/250 [=======================>......] - ETA: 0s - loss: 0.3319 - accuracy: 0.8644",
                    "output_type": "stream"
                },
                {
                    "name": "stdout",
                    "text": "\b\b\b\b\b\b\b\b\b\b\b\b\b\b\b\b\b\b\b\b\b\b\b\b\b\b\b\b\b\b\b\b\b\b\b\b\b\b\b\b\b\b\b\b\b\b\b\b\b\b\b\b\b\b\b\b\b\b\b\b\b\b\b\b\b\b\b\b\b\b\b\b\b\b\b\b\b\b\b\b\b\b\b\b\r250/250 [==============================] - 0s 1ms/step - loss: 0.3360 - accuracy: 0.8637\n",
                    "output_type": "stream"
                },
                {
                    "name": "stdout",
                    "text": "Epoch 72/100\n",
                    "output_type": "stream"
                },
                {
                    "name": "stdout",
                    "text": "\r  1/250 [..............................] - ETA: 0s - loss: 0.4956 - accuracy: 0.8750",
                    "output_type": "stream"
                },
                {
                    "name": "stdout",
                    "text": "\b\b\b\b\b\b\b\b\b\b\b\b\b\b\b\b\b\b\b\b\b\b\b\b\b\b\b\b\b\b\b\b\b\b\b\b\b\b\b\b\b\b\b\b\b\b\b\b\b\b\b\b\b\b\b\b\b\b\b\b\b\b\b\b\b\b\b\b\b\b\b\b\b\b\b\b\b\b\b\b\b\b\b\b\r 48/250 [====>.........................] - ETA: 0s - loss: 0.3397 - accuracy: 0.8659",
                    "output_type": "stream"
                },
                {
                    "name": "stdout",
                    "text": "\b\b\b\b\b\b\b\b\b\b\b\b\b\b\b\b\b\b\b\b\b\b\b\b\b\b\b\b\b\b\b\b\b\b\b\b\b\b\b\b\b\b\b\b\b\b\b\b\b\b\b\b\b\b\b\b\b\b\b\b\b\b\b\b\b\b\b\b\b\b\b\b\b\b\b\b\b\b\b\b\b\b\b\b\r104/250 [===========>..................] - ETA: 0s - loss: 0.3418 - accuracy: 0.8651",
                    "output_type": "stream"
                },
                {
                    "name": "stdout",
                    "text": "\b\b\b\b\b\b\b\b\b\b\b\b\b\b\b\b\b\b\b\b\b\b\b\b\b\b\b\b\b\b\b\b\b\b\b\b\b\b\b\b\b\b\b\b\b\b\b\b\b\b\b\b\b\b\b\b\b\b\b\b\b\b\b\b\b\b\b\b\b\b\b\b\b\b\b\b\b\b\b\b\b\b\b\b\r145/250 [================>.............] - ETA: 0s - loss: 0.3390 - accuracy: 0.8662",
                    "output_type": "stream"
                },
                {
                    "name": "stdout",
                    "text": "\b\b\b\b\b\b\b\b\b\b\b\b\b\b\b\b\b\b\b\b\b\b\b\b\b\b\b\b\b\b\b\b\b\b\b\b\b\b\b\b\b\b\b\b\b\b\b\b\b\b\b\b\b\b\b\b\b\b\b\b\b\b\b\b\b\b\b\b\b\b\b\b\b\b\b\b\b\b\b\b\b\b\b\b\r197/250 [======================>.......] - ETA: 0s - loss: 0.3353 - accuracy: 0.8663",
                    "output_type": "stream"
                },
                {
                    "name": "stdout",
                    "text": "\b\b\b\b\b\b\b\b\b\b\b\b\b\b\b\b\b\b\b\b\b\b\b\b\b\b\b\b\b\b\b\b\b\b\b\b\b\b\b\b\b\b\b\b\b\b\b\b\b\b\b\b\b\b\b\b\b\b\b\b\b\b\b\b\b\b\b\b\b\b\b\b\b\b\b\b\b\b\b\b\b\b\b\b\r243/250 [============================>.] - ETA: 0s - loss: 0.3364 - accuracy: 0.8651",
                    "output_type": "stream"
                },
                {
                    "name": "stdout",
                    "text": "\b\b\b\b\b\b\b\b\b\b\b\b\b\b\b\b\b\b\b\b\b\b\b\b\b\b\b\b\b\b\b\b\b\b\b\b\b\b\b\b\b\b\b\b\b\b\b\b\b\b\b\b\b\b\b\b\b\b\b\b\b\b\b\b\b\b\b\b\b\b\b\b\b\b\b\b\b\b\b\b\b\b\b\b\r250/250 [==============================] - 0s 1ms/step - loss: 0.3361 - accuracy: 0.8651\n",
                    "output_type": "stream"
                },
                {
                    "name": "stdout",
                    "text": "Epoch 73/100\n",
                    "output_type": "stream"
                },
                {
                    "name": "stdout",
                    "text": "\r  1/250 [..............................] - ETA: 0s - loss: 0.1392 - accuracy: 1.0000",
                    "output_type": "stream"
                },
                {
                    "name": "stdout",
                    "text": "\b\b\b\b\b\b\b\b\b\b\b\b\b\b\b\b\b\b\b\b\b\b\b\b\b\b\b\b\b\b\b\b\b\b\b\b\b\b\b\b\b\b\b\b\b\b\b\b\b\b\b\b\b\b\b\b\b\b\b\b\b\b\b\b\b\b\b\b\b\b\b\b\b\b\b\b\b\b\b\b\b\b\b\b\r 54/250 [=====>........................] - ETA: 0s - loss: 0.3252 - accuracy: 0.8646",
                    "output_type": "stream"
                },
                {
                    "name": "stdout",
                    "text": "\b\b\b\b\b\b\b\b\b\b\b\b\b\b\b\b\b\b\b\b\b\b\b\b\b\b\b\b\b\b\b\b\b\b\b\b\b\b\b\b\b\b\b\b\b\b\b\b\b\b\b\b\b\b\b\b\b\b\b\b\b\b\b\b\b\b\b\b\b\b\b\b\b\b\b\b\b\b\b\b\b\b\b\b\r 99/250 [==========>...................] - ETA: 0s - loss: 0.3377 - accuracy: 0.8636",
                    "output_type": "stream"
                },
                {
                    "name": "stdout",
                    "text": "\b\b\b\b\b\b\b\b\b\b\b\b\b\b\b\b\b\b\b\b\b\b\b\b\b\b\b\b\b\b\b\b\b\b\b\b\b\b\b\b\b\b\b\b\b\b\b\b\b\b\b\b\b\b\b\b\b\b\b\b\b\b\b\b\b\b\b\b\b\b\b\b\b\b\b\b\b\b\b\b\b\b\b\b\r153/250 [=================>............] - ETA: 0s - loss: 0.3341 - accuracy: 0.8627",
                    "output_type": "stream"
                },
                {
                    "name": "stdout",
                    "text": "\b\b\b\b\b\b\b\b\b\b\b\b\b\b\b\b\b\b\b\b\b\b\b\b\b\b\b\b\b\b\b\b\b\b\b\b\b\b\b\b\b\b\b\b\b\b\b\b\b\b\b\b\b\b\b\b\b\b\b\b\b\b\b\b\b\b\b\b\b\b\b\b\b\b\b\b\b\b\b\b\b\b\b\b\r206/250 [=======================>......] - ETA: 0s - loss: 0.3318 - accuracy: 0.8659",
                    "output_type": "stream"
                },
                {
                    "name": "stdout",
                    "text": "\b\b\b\b\b\b\b\b\b\b\b\b\b\b\b\b\b\b\b\b\b\b\b\b\b\b\b\b\b\b\b\b\b\b\b\b\b\b\b\b\b\b\b\b\b\b\b\b\b\b\b\b\b\b\b\b\b\b\b\b\b\b\b\b\b\b\b\b\b\b\b\b\b\b\b\b\b\b\b\b\b\b\b\b\r250/250 [==============================] - 0s 1ms/step - loss: 0.3356 - accuracy: 0.8639\n",
                    "output_type": "stream"
                },
                {
                    "name": "stdout",
                    "text": "Epoch 74/100\n",
                    "output_type": "stream"
                },
                {
                    "name": "stdout",
                    "text": "\r  1/250 [..............................] - ETA: 0s - loss: 0.2835 - accuracy: 0.9062",
                    "output_type": "stream"
                },
                {
                    "name": "stdout",
                    "text": "\b\b\b\b\b\b\b\b\b\b\b\b\b\b\b\b\b\b\b\b\b\b\b\b\b\b\b\b\b\b\b\b\b\b\b\b\b\b\b\b\b\b\b\b\b\b\b\b\b\b\b\b\b\b\b\b\b\b\b\b\b\b\b\b\b\b\b\b\b\b\b\b\b\b\b\b\b\b\b\b\b\b\b\b\r 48/250 [====>.........................] - ETA: 0s - loss: 0.3420 - accuracy: 0.8594",
                    "output_type": "stream"
                },
                {
                    "name": "stdout",
                    "text": "\b\b\b\b\b\b\b\b\b\b\b\b\b\b\b\b\b\b\b\b\b\b\b\b\b\b\b\b\b\b\b\b\b\b\b\b\b\b\b\b\b\b\b\b\b\b\b\b\b\b\b\b\b\b\b\b\b\b\b\b\b\b\b\b\b\b\b\b\b\b\b\b\b\b\b\b\b\b\b\b\b\b\b\b\r 96/250 [==========>...................] - ETA: 0s - loss: 0.3295 - accuracy: 0.8636",
                    "output_type": "stream"
                },
                {
                    "name": "stdout",
                    "text": "\b\b\b\b\b\b\b\b\b\b\b\b\b\b\b\b\b\b\b\b\b\b\b\b\b\b\b\b\b\b\b\b\b\b\b\b\b\b\b\b\b\b\b\b\b\b\b\b\b\b\b\b\b\b\b\b\b\b\b\b\b\b\b\b\b\b\b\b\b\b\b\b\b\b\b\b\b\b\b\b\b\b\b\b\r150/250 [=================>............] - ETA: 0s - loss: 0.3300 - accuracy: 0.8644",
                    "output_type": "stream"
                },
                {
                    "name": "stdout",
                    "text": "\b\b\b\b\b\b\b\b\b\b\b\b\b\b\b\b\b\b\b\b\b\b\b\b\b\b\b\b\b\b\b\b\b\b\b\b\b\b\b\b\b\b\b\b\b\b\b\b\b\b\b\b\b\b\b\b\b\b\b\b\b\b\b\b\b\b\b\b\b\b\b\b\b\b\b\b\b\b\b\b\b\b\b\b\r199/250 [======================>.......] - ETA: 0s - loss: 0.3323 - accuracy: 0.8649",
                    "output_type": "stream"
                },
                {
                    "name": "stdout",
                    "text": "\b\b\b\b\b\b\b\b\b\b\b\b\b\b\b\b\b\b\b\b\b\b\b\b\b\b\b\b\b\b\b\b\b\b\b\b\b\b\b\b\b\b\b\b\b\b\b\b\b\b\b\b\b\b\b\b\b\b\b\b\b\b\b\b\b\b\b\b\b\b\b\b\b\b\b\b\b\b\b\b\b\b\b\b\r250/250 [==============================] - 0s 1ms/step - loss: 0.3359 - accuracy: 0.8633\n",
                    "output_type": "stream"
                },
                {
                    "name": "stdout",
                    "text": "Epoch 75/100\n",
                    "output_type": "stream"
                },
                {
                    "name": "stdout",
                    "text": "\r  1/250 [..............................] - ETA: 0s - loss: 0.2924 - accuracy: 0.9062",
                    "output_type": "stream"
                },
                {
                    "name": "stdout",
                    "text": "\b\b\b\b\b\b\b\b\b\b\b\b\b\b\b\b\b\b\b\b\b\b\b\b\b\b\b\b\b\b\b\b\b\b\b\b\b\b\b\b\b\b\b\b\b\b\b\b\b\b\b\b\b\b\b\b\b\b\b\b\b\b\b\b\b\b\b\b\b\b\b\b\b\b\b\b\b\b\b\b\b\b\b\b\r 48/250 [====>.........................] - ETA: 0s - loss: 0.3549 - accuracy: 0.8561",
                    "output_type": "stream"
                },
                {
                    "name": "stdout",
                    "text": "\b\b\b\b\b\b\b\b\b\b\b\b\b\b\b\b\b\b\b\b\b\b\b\b\b\b\b\b\b\b\b\b\b\b\b\b\b\b\b\b\b\b\b\b\b\b\b\b\b\b\b\b\b\b\b\b\b\b\b\b\b\b\b\b\b\b\b\b\b\b\b\b\b\b\b\b\b\b\b\b\b\b\b\b\r101/250 [===========>..................] - ETA: 0s - loss: 0.3390 - accuracy: 0.8620",
                    "output_type": "stream"
                },
                {
                    "name": "stdout",
                    "text": "\b\b\b\b\b\b\b\b\b\b\b\b\b\b\b\b\b\b\b\b\b\b\b\b\b\b\b\b\b\b\b\b\b\b\b\b\b\b\b\b\b\b\b\b\b\b\b\b\b\b\b\b\b\b\b\b\b\b\b\b\b\b\b\b\b\b\b\b\b\b\b\b\b\b\b\b\b\b\b\b\b\b\b\b\r149/250 [================>.............] - ETA: 0s - loss: 0.3294 - accuracy: 0.8691",
                    "output_type": "stream"
                },
                {
                    "name": "stdout",
                    "text": "\b\b\b\b\b\b\b\b\b\b\b\b\b\b\b\b\b\b\b\b\b\b\b\b\b\b\b\b\b\b\b\b\b\b\b\b\b\b\b\b\b\b\b\b\b\b\b\b\b\b\b\b\b\b\b\b\b\b\b\b\b\b\b\b\b\b\b\b\b\b\b\b\b\b\b\b\b\b\b\b\b\b\b\b\r196/250 [======================>.......] - ETA: 0s - loss: 0.3313 - accuracy: 0.8678",
                    "output_type": "stream"
                },
                {
                    "name": "stdout",
                    "text": "\b\b\b\b\b\b\b\b\b\b\b\b\b\b\b\b\b\b\b\b\b\b\b\b\b\b\b\b\b\b\b\b\b\b\b\b\b\b\b\b\b\b\b\b\b\b\b\b\b\b\b\b\b\b\b\b\b\b\b\b\b\b\b\b\b\b\b\b\b\b\b\b\b\b\b\b\b\b\b\b\b\b\b\b\r246/250 [============================>.] - ETA: 0s - loss: 0.3347 - accuracy: 0.8652",
                    "output_type": "stream"
                },
                {
                    "name": "stdout",
                    "text": "\b\b\b\b\b\b\b\b\b\b\b\b\b\b\b\b\b\b\b\b\b\b\b\b\b\b\b\b\b\b\b\b\b\b\b\b\b\b\b\b\b\b\b\b\b\b\b\b\b\b\b\b\b\b\b\b\b\b\b\b\b\b\b\b\b\b\b\b\b\b\b\b\b\b\b\b\b\b\b\b\b\b\b\b\r250/250 [==============================] - 0s 1ms/step - loss: 0.3359 - accuracy: 0.8637\n",
                    "output_type": "stream"
                },
                {
                    "name": "stdout",
                    "text": "Epoch 76/100\n",
                    "output_type": "stream"
                },
                {
                    "name": "stdout",
                    "text": "\r  1/250 [..............................] - ETA: 0s - loss: 0.3947 - accuracy: 0.8438",
                    "output_type": "stream"
                },
                {
                    "name": "stdout",
                    "text": "\b\b\b\b\b\b\b\b\b\b\b\b\b\b\b\b\b\b\b\b\b\b\b\b\b\b\b\b\b\b\b\b\b\b\b\b\b\b\b\b\b\b\b\b\b\b\b\b\b\b\b\b\b\b\b\b\b\b\b\b\b\b\b\b\b\b\b\b\b\b\b\b\b\b\b\b\b\b\b\b\b\b\b\b\r 50/250 [=====>........................] - ETA: 0s - loss: 0.3514 - accuracy: 0.8531",
                    "output_type": "stream"
                },
                {
                    "name": "stdout",
                    "text": "\b\b\b\b\b\b\b\b\b\b\b\b\b\b\b\b\b\b\b\b\b\b\b\b\b\b\b\b\b\b\b\b\b\b\b\b\b\b\b\b\b\b\b\b\b\b\b\b\b\b\b\b\b\b\b\b\b\b\b\b\b\b\b\b\b\b\b\b\b\b\b\b\b\b\b\b\b\b\b\b\b\b\b\b\r105/250 [===========>..................] - ETA: 0s - loss: 0.3377 - accuracy: 0.8625",
                    "output_type": "stream"
                },
                {
                    "name": "stdout",
                    "text": "\b\b\b\b\b\b\b\b\b\b\b\b\b\b\b\b\b\b\b\b\b\b\b\b\b\b\b\b\b\b\b\b\b\b\b\b\b\b\b\b\b\b\b\b\b\b\b\b\b\b\b\b\b\b\b\b\b\b\b\b\b\b\b\b\b\b\b\b\b\b\b\b\b\b\b\b\b\b\b\b\b\b\b\b\r153/250 [=================>............] - ETA: 0s - loss: 0.3351 - accuracy: 0.8644",
                    "output_type": "stream"
                },
                {
                    "name": "stdout",
                    "text": "\b\b\b\b\b\b\b\b\b\b\b\b\b\b\b\b\b\b\b\b\b\b\b\b\b\b\b\b\b\b\b\b\b\b\b\b\b\b\b\b\b\b\b\b\b\b\b\b\b\b\b\b\b\b\b\b\b\b\b\b\b\b\b\b\b\b\b\b\b\b\b\b\b\b\b\b\b\b\b\b\b\b\b\b\r206/250 [=======================>......] - ETA: 0s - loss: 0.3355 - accuracy: 0.8627",
                    "output_type": "stream"
                },
                {
                    "name": "stdout",
                    "text": "\b\b\b\b\b\b\b\b\b\b\b\b\b\b\b\b\b\b\b\b\b\b\b\b\b\b\b\b\b\b\b\b\b\b\b\b\b\b\b\b\b\b\b\b\b\b\b\b\b\b\b\b\b\b\b\b\b\b\b\b\b\b\b\b\b\b\b\b\b\b\b\b\b\b\b\b\b\b\b\b\b\b\b\b\r250/250 [==============================] - 0s 1ms/step - loss: 0.3358 - accuracy: 0.8634\n",
                    "output_type": "stream"
                },
                {
                    "name": "stdout",
                    "text": "Epoch 77/100\n",
                    "output_type": "stream"
                },
                {
                    "name": "stdout",
                    "text": "\r  1/250 [..............................] - ETA: 0s - loss: 0.2973 - accuracy: 0.8750",
                    "output_type": "stream"
                },
                {
                    "name": "stdout",
                    "text": "\b\b\b\b\b\b\b\b\b\b\b\b\b\b\b\b\b\b\b\b\b\b\b\b\b\b\b\b\b\b\b\b\b\b\b\b\b\b\b\b\b\b\b\b\b\b\b\b\b\b\b\b\b\b\b\b\b\b\b\b\b\b\b\b\b\b\b\b\b\b\b\b\b\b\b\b\b\b\b\b\b\b\b\b\r 52/250 [=====>........................] - ETA: 0s - loss: 0.3385 - accuracy: 0.8654",
                    "output_type": "stream"
                },
                {
                    "name": "stdout",
                    "text": "\b\b\b\b\b\b\b\b\b\b\b\b\b\b\b\b\b\b\b\b\b\b\b\b\b\b\b\b\b\b\b\b\b\b\b\b\b\b\b\b\b\b\b\b\b\b\b\b\b\b\b\b\b\b\b\b\b\b\b\b\b\b\b\b\b\b\b\b\b\b\b\b\b\b\b\b\b\b\b\b\b\b\b\b\r106/250 [===========>..................] - ETA: 0s - loss: 0.3365 - accuracy: 0.8653",
                    "output_type": "stream"
                },
                {
                    "name": "stdout",
                    "text": "\b\b\b\b\b\b\b\b\b\b\b\b\b\b\b\b\b\b\b\b\b\b\b\b\b\b\b\b\b\b\b\b\b\b\b\b\b\b\b\b\b\b\b\b\b\b\b\b\b\b\b\b\b\b\b\b\b\b\b\b\b\b\b\b\b\b\b\b\b\b\b\b\b\b\b\b\b\b\b\b\b\b\b\b\r161/250 [==================>...........] - ETA: 0s - loss: 0.3307 - accuracy: 0.8670",
                    "output_type": "stream"
                },
                {
                    "name": "stdout",
                    "text": "\b\b\b\b\b\b\b\b\b\b\b\b\b\b\b\b\b\b\b\b\b\b\b\b\b\b\b\b\b\b\b\b\b\b\b\b\b\b\b\b\b\b\b\b\b\b\b\b\b\b\b\b\b\b\b\b\b\b\b\b\b\b\b\b\b\b\b\b\b\b\b\b\b\b\b\b\b\b\b\b\b\b\b\b\r212/250 [========================>.....] - ETA: 0s - loss: 0.3358 - accuracy: 0.8638",
                    "output_type": "stream"
                },
                {
                    "name": "stdout",
                    "text": "\b\b\b\b\b\b\b\b\b\b\b\b\b\b\b\b\b\b\b\b\b\b\b\b\b\b\b\b\b\b\b\b\b\b\b\b\b\b\b\b\b\b\b\b\b\b\b\b\b\b\b\b\b\b\b\b\b\b\b\b\b\b\b\b\b\b\b\b\b\b\b\b\b\b\b\b\b\b\b\b\b\b\b\b\r250/250 [==============================] - 0s 967us/step - loss: 0.3353 - accuracy: 0.8641\n",
                    "output_type": "stream"
                },
                {
                    "name": "stdout",
                    "text": "Epoch 78/100\n",
                    "output_type": "stream"
                },
                {
                    "name": "stdout",
                    "text": "\r  1/250 [..............................] - ETA: 0s - loss: 0.3223 - accuracy: 0.8125",
                    "output_type": "stream"
                },
                {
                    "name": "stdout",
                    "text": "\b\b\b\b\b\b\b\b\b\b\b\b\b\b\b\b\b\b\b\b\b\b\b\b\b\b\b\b\b\b\b\b\b\b\b\b\b\b\b\b\b\b\b\b\b\b\b\b\b\b\b\b\b\b\b\b\b\b\b\b\b\b\b\b\b\b\b\b\b\b\b\b\b\b\b\b\b\b\b\b\b\b\b\b\r 53/250 [=====>........................] - ETA: 0s - loss: 0.3475 - accuracy: 0.8608",
                    "output_type": "stream"
                },
                {
                    "name": "stdout",
                    "text": "\b\b\b\b\b\b\b\b\b\b\b\b\b\b\b\b\b\b\b\b\b\b\b\b\b\b\b\b\b\b\b\b\b\b\b\b\b\b\b\b\b\b\b\b\b\b\b\b\b\b\b\b\b\b\b\b\b\b\b\b\b\b\b\b\b\b\b\b\b\b\b\b\b\b\b\b\b\b\b\b\b\b\b\b\r105/250 [===========>..................] - ETA: 0s - loss: 0.3455 - accuracy: 0.8622",
                    "output_type": "stream"
                },
                {
                    "name": "stdout",
                    "text": "\b\b\b\b\b\b\b\b\b\b\b\b\b\b\b\b\b\b\b\b\b\b\b\b\b\b\b\b\b\b\b\b\b\b\b\b\b\b\b\b\b\b\b\b\b\b\b\b\b\b\b\b\b\b\b\b\b\b\b\b\b\b\b\b\b\b\b\b\b\b\b\b\b\b\b\b\b\b\b\b\b\b\b\b\r159/250 [==================>...........] - ETA: 0s - loss: 0.3357 - accuracy: 0.8644",
                    "output_type": "stream"
                },
                {
                    "name": "stdout",
                    "text": "\b\b\b\b\b\b\b\b\b\b\b\b\b\b\b\b\b\b\b\b\b\b\b\b\b\b\b\b\b\b\b\b\b\b\b\b\b\b\b\b\b\b\b\b\b\b\b\b\b\b\b\b\b\b\b\b\b\b\b\b\b\b\b\b\b\b\b\b\b\b\b\b\b\b\b\b\b\b\b\b\b\b\b\b\r207/250 [=======================>......] - ETA: 0s - loss: 0.3368 - accuracy: 0.8643",
                    "output_type": "stream"
                },
                {
                    "name": "stdout",
                    "text": "\b\b\b\b\b\b\b\b\b\b\b\b\b\b\b\b\b\b\b\b\b\b\b\b\b\b\b\b\b\b\b\b\b\b\b\b\b\b\b\b\b\b\b\b\b\b\b\b\b\b\b\b\b\b\b\b\b\b\b\b\b\b\b\b\b\b\b\b\b\b\b\b\b\b\b\b\b\b\b\b\b\b\b\b\r250/250 [==============================] - 0s 969us/step - loss: 0.3356 - accuracy: 0.8640\n",
                    "output_type": "stream"
                },
                {
                    "name": "stdout",
                    "text": "Epoch 79/100\n",
                    "output_type": "stream"
                },
                {
                    "name": "stdout",
                    "text": "\r  1/250 [..............................] - ETA: 0s - loss: 0.2731 - accuracy: 0.9062",
                    "output_type": "stream"
                },
                {
                    "name": "stdout",
                    "text": "\b\b\b\b\b\b\b\b\b\b\b\b\b\b\b\b\b\b\b\b\b\b\b\b\b\b\b\b\b\b\b\b\b\b\b\b\b\b\b\b\b\b\b\b\b\b\b\b\b\b\b\b\b\b\b\b\b\b\b\b\b\b\b\b\b\b\b\b\b\b\b\b\b\b\b\b\b\b\b\b\b\b\b\b\r 51/250 [=====>........................] - ETA: 0s - loss: 0.3204 - accuracy: 0.8713",
                    "output_type": "stream"
                },
                {
                    "name": "stdout",
                    "text": "\b\b\b\b\b\b\b\b\b\b\b\b\b\b\b\b\b\b\b\b\b\b\b\b\b\b\b\b\b\b\b\b\b\b\b\b\b\b\b\b\b\b\b\b\b\b\b\b\b\b\b\b\b\b\b\b\b\b\b\b\b\b\b\b\b\b\b\b\b\b\b\b\b\b\b\b\b\b\b\b\b\b\b\b\r102/250 [===========>..................] - ETA: 0s - loss: 0.3264 - accuracy: 0.8680",
                    "output_type": "stream"
                },
                {
                    "name": "stdout",
                    "text": "\b\b\b\b\b\b\b\b\b\b\b\b\b\b\b\b\b\b\b\b\b\b\b\b\b\b\b\b\b\b\b\b\b\b\b\b\b\b\b\b\b\b\b\b\b\b\b\b\b\b\b\b\b\b\b\b\b\b\b\b\b\b\b\b\b\b\b\b\b\b\b\b\b\b\b\b\b\b\b\b\b\b\b\b\r147/250 [================>.............] - ETA: 0s - loss: 0.3296 - accuracy: 0.8661",
                    "output_type": "stream"
                },
                {
                    "name": "stdout",
                    "text": "\b\b\b\b\b\b\b\b\b\b\b\b\b\b\b\b\b\b\b\b\b\b\b\b\b\b\b\b\b\b\b\b\b\b\b\b\b\b\b\b\b\b\b\b\b\b\b\b\b\b\b\b\b\b\b\b\b\b\b\b\b\b\b\b\b\b\b\b\b\b\b\b\b\b\b\b\b\b\b\b\b\b\b\b\r198/250 [======================>.......] - ETA: 0s - loss: 0.3336 - accuracy: 0.8633",
                    "output_type": "stream"
                },
                {
                    "name": "stdout",
                    "text": "\b\b\b\b\b\b\b\b\b\b\b\b\b\b\b\b\b\b\b\b\b\b\b\b\b\b\b\b\b\b\b\b\b\b\b\b\b\b\b\b\b\b\b\b\b\b\b\b\b\b\b\b\b\b\b\b\b\b\b\b\b\b\b\b\b\b\b\b\b\b\b\b\b\b\b\b\b\b\b\b\b\b\b\b\r244/250 [============================>.] - ETA: 0s - loss: 0.3365 - accuracy: 0.8628",
                    "output_type": "stream"
                },
                {
                    "name": "stdout",
                    "text": "\b\b\b\b\b\b\b\b\b\b\b\b\b\b\b\b\b\b\b\b\b\b\b\b\b\b\b\b\b\b\b\b\b\b\b\b\b\b\b\b\b\b\b\b\b\b\b\b\b\b\b\b\b\b\b\b\b\b\b\b\b\b\b\b\b\b\b\b\b\b\b\b\b\b\b\b\b\b\b\b\b\b\b\b\r250/250 [==============================] - 0s 1ms/step - loss: 0.3354 - accuracy: 0.8635\n",
                    "output_type": "stream"
                },
                {
                    "name": "stdout",
                    "text": "Epoch 80/100\n",
                    "output_type": "stream"
                },
                {
                    "name": "stdout",
                    "text": "\r  1/250 [..............................] - ETA: 0s - loss: 0.2087 - accuracy: 0.9062",
                    "output_type": "stream"
                },
                {
                    "name": "stdout",
                    "text": "\b\b\b\b\b\b\b\b\b\b\b\b\b\b\b\b\b\b\b\b\b\b\b\b\b\b\b\b\b\b\b\b\b\b\b\b\b\b\b\b\b\b\b\b\b\b\b\b\b\b\b\b\b\b\b\b\b\b\b\b\b\b\b\b\b\b\b\b\b\b\b\b\b\b\b\b\b\b\b\b\b\b\b\b\r 54/250 [=====>........................] - ETA: 0s - loss: 0.3107 - accuracy: 0.8796",
                    "output_type": "stream"
                },
                {
                    "name": "stdout",
                    "text": "\b\b\b\b\b\b\b\b\b\b\b\b\b\b\b\b\b\b\b\b\b\b\b\b\b\b\b\b\b\b\b\b\b\b\b\b\b\b\b\b\b\b\b\b\b\b\b\b\b\b\b\b\b\b\b\b\b\b\b\b\b\b\b\b\b\b\b\b\b\b\b\b\b\b\b\b\b\b\b\b\b\b\b\b\r101/250 [===========>..................] - ETA: 0s - loss: 0.3135 - accuracy: 0.8769",
                    "output_type": "stream"
                },
                {
                    "name": "stdout",
                    "text": "\b\b\b\b\b\b\b\b\b\b\b\b\b\b\b\b\b\b\b\b\b\b\b\b\b\b\b\b\b\b\b\b\b\b\b\b\b\b\b\b\b\b\b\b\b\b\b\b\b\b\b\b\b\b\b\b\b\b\b\b\b\b\b\b\b\b\b\b\b\b\b\b\b\b\b\b\b\b\b\b\b\b\b\b\r154/250 [=================>............] - ETA: 0s - loss: 0.3166 - accuracy: 0.8734",
                    "output_type": "stream"
                },
                {
                    "name": "stdout",
                    "text": "\b\b\b\b\b\b\b\b\b\b\b\b\b\b\b\b\b\b\b\b\b\b\b\b\b\b\b\b\b\b\b\b\b\b\b\b\b\b\b\b\b\b\b\b\b\b\b\b\b\b\b\b\b\b\b\b\b\b\b\b\b\b\b\b\b\b\b\b\b\b\b\b\b\b\b\b\b\b\b\b\b\b\b\b\r207/250 [=======================>......] - ETA: 0s - loss: 0.3249 - accuracy: 0.8687",
                    "output_type": "stream"
                },
                {
                    "name": "stdout",
                    "text": "\b\b\b\b\b\b\b\b\b\b\b\b\b\b\b\b\b\b\b\b\b\b\b\b\b\b\b\b\b\b\b\b\b\b\b\b\b\b\b\b\b\b\b\b\b\b\b\b\b\b\b\b\b\b\b\b\b\b\b\b\b\b\b\b\b\b\b\b\b\b\b\b\b\b\b\b\b\b\b\b\b\b\b\b\r250/250 [==============================] - 0s 975us/step - loss: 0.3348 - accuracy: 0.8625\n",
                    "output_type": "stream"
                },
                {
                    "name": "stdout",
                    "text": "Epoch 81/100\n",
                    "output_type": "stream"
                },
                {
                    "name": "stdout",
                    "text": "\r  1/250 [..............................] - ETA: 0s - loss: 0.3016 - accuracy: 0.8750",
                    "output_type": "stream"
                },
                {
                    "name": "stdout",
                    "text": "\b\b\b\b\b\b\b\b\b\b\b\b\b\b\b\b\b\b\b\b\b\b\b\b\b\b\b\b\b\b\b\b\b\b\b\b\b\b\b\b\b\b\b\b\b\b\b\b\b\b\b\b\b\b\b\b\b\b\b\b\b\b\b\b\b\b\b\b\b\b\b\b\b\b\b\b\b\b\b\b\b\b\b\b\r 49/250 [====>.........................] - ETA: 0s - loss: 0.3540 - accuracy: 0.8508",
                    "output_type": "stream"
                },
                {
                    "name": "stdout",
                    "text": "\b\b\b\b\b\b\b\b\b\b\b\b\b\b\b\b\b\b\b\b\b\b\b\b\b\b\b\b\b\b\b\b\b\b\b\b\b\b\b\b\b\b\b\b\b\b\b\b\b\b\b\b\b\b\b\b\b\b\b\b\b\b\b\b\b\b\b\b\b\b\b\b\b\b\b\b\b\b\b\b\b\b\b\b\r 97/250 [==========>...................] - ETA: 0s - loss: 0.3408 - accuracy: 0.8621",
                    "output_type": "stream"
                },
                {
                    "name": "stdout",
                    "text": "\b\b\b\b\b\b\b\b\b\b\b\b\b\b\b\b\b\b\b\b\b\b\b\b\b\b\b\b\b\b\b\b\b\b\b\b\b\b\b\b\b\b\b\b\b\b\b\b\b\b\b\b\b\b\b\b\b\b\b\b\b\b\b\b\b\b\b\b\b\b\b\b\b\b\b\b\b\b\b\b\b\b\b\b\r152/250 [=================>............] - ETA: 0s - loss: 0.3466 - accuracy: 0.8581",
                    "output_type": "stream"
                },
                {
                    "name": "stdout",
                    "text": "\b\b\b\b\b\b\b\b\b\b\b\b\b\b\b\b\b\b\b\b\b\b\b\b\b\b\b\b\b\b\b\b\b\b\b\b\b\b\b\b\b\b\b\b\b\b\b\b\b\b\b\b\b\b\b\b\b\b\b\b\b\b\b\b\b\b\b\b\b\b\b\b\b\b\b\b\b\b\b\b\b\b\b\b\r206/250 [=======================>......] - ETA: 0s - loss: 0.3380 - accuracy: 0.8630",
                    "output_type": "stream"
                },
                {
                    "name": "stdout",
                    "text": "\b\b\b\b\b\b\b\b\b\b\b\b\b\b\b\b\b\b\b\b\b\b\b\b\b\b\b\b\b\b\b\b\b\b\b\b\b\b\b\b\b\b\b\b\b\b\b\b\b\b\b\b\b\b\b\b\b\b\b\b\b\b\b\b\b\b\b\b\b\b\b\b\b\b\b\b\b\b\b\b\b\b\b\b\r250/250 [==============================] - 0s 978us/step - loss: 0.3356 - accuracy: 0.8639\n",
                    "output_type": "stream"
                },
                {
                    "name": "stdout",
                    "text": "Epoch 82/100\n",
                    "output_type": "stream"
                },
                {
                    "name": "stdout",
                    "text": "\r  1/250 [..............................] - ETA: 0s - loss: 0.4494 - accuracy: 0.7812",
                    "output_type": "stream"
                },
                {
                    "name": "stdout",
                    "text": "\b\b\b\b\b\b\b\b\b\b\b\b\b\b\b\b\b\b\b\b\b\b\b\b\b\b\b\b\b\b\b\b\b\b\b\b\b\b\b\b\b\b\b\b\b\b\b\b\b\b\b\b\b\b\b\b\b\b\b\b\b\b\b\b\b\b\b\b\b\b\b\b\b\b\b\b\b\b\b\b\b\b\b\b\r 48/250 [====>.........................] - ETA: 0s - loss: 0.3567 - accuracy: 0.8516",
                    "output_type": "stream"
                },
                {
                    "name": "stdout",
                    "text": "\b\b\b\b\b\b\b\b\b\b\b\b\b\b\b\b\b\b\b\b\b\b\b\b\b\b\b\b\b\b\b\b\b\b\b\b\b\b\b\b\b\b\b\b\b\b\b\b\b\b\b\b\b\b\b\b\b\b\b\b\b\b\b\b\b\b\b\b\b\b\b\b\b\b\b\b\b\b\b\b\b\b\b\b\r100/250 [===========>..................] - ETA: 0s - loss: 0.3461 - accuracy: 0.8556",
                    "output_type": "stream"
                },
                {
                    "name": "stdout",
                    "text": "\b\b\b\b\b\b\b\b\b\b\b\b\b\b\b\b\b\b\b\b\b\b\b\b\b\b\b\b\b\b\b\b\b\b\b\b\b\b\b\b\b\b\b\b\b\b\b\b\b\b\b\b\b\b\b\b\b\b\b\b\b\b\b\b\b\b\b\b\b\b\b\b\b\b\b\b\b\b\b\b\b\b\b\b\r149/250 [================>.............] - ETA: 0s - loss: 0.3450 - accuracy: 0.8576",
                    "output_type": "stream"
                },
                {
                    "name": "stdout",
                    "text": "\b\b\b\b\b\b\b\b\b\b\b\b\b\b\b\b\b\b\b\b\b\b\b\b\b\b\b\b\b\b\b\b\b\b\b\b\b\b\b\b\b\b\b\b\b\b\b\b\b\b\b\b\b\b\b\b\b\b\b\b\b\b\b\b\b\b\b\b\b\b\b\b\b\b\b\b\b\b\b\b\b\b\b\b\r199/250 [======================>.......] - ETA: 0s - loss: 0.3397 - accuracy: 0.8593",
                    "output_type": "stream"
                },
                {
                    "name": "stdout",
                    "text": "\b\b\b\b\b\b\b\b\b\b\b\b\b\b\b\b\b\b\b\b\b\b\b\b\b\b\b\b\b\b\b\b\b\b\b\b\b\b\b\b\b\b\b\b\b\b\b\b\b\b\b\b\b\b\b\b\b\b\b\b\b\b\b\b\b\b\b\b\b\b\b\b\b\b\b\b\b\b\b\b\b\b\b\b\r245/250 [============================>.] - ETA: 0s - loss: 0.3342 - accuracy: 0.8636",
                    "output_type": "stream"
                },
                {
                    "name": "stdout",
                    "text": "\b\b\b\b\b\b\b\b\b\b\b\b\b\b\b\b\b\b\b\b\b\b\b\b\b\b\b\b\b\b\b\b\b\b\b\b\b\b\b\b\b\b\b\b\b\b\b\b\b\b\b\b\b\b\b\b\b\b\b\b\b\b\b\b\b\b\b\b\b\b\b\b\b\b\b\b\b\b\b\b\b\b\b\b\r250/250 [==============================] - 0s 1ms/step - loss: 0.3351 - accuracy: 0.8631\n",
                    "output_type": "stream"
                },
                {
                    "name": "stdout",
                    "text": "Epoch 83/100\n",
                    "output_type": "stream"
                },
                {
                    "name": "stdout",
                    "text": "\r  1/250 [..............................] - ETA: 0s - loss: 0.2608 - accuracy: 0.9062",
                    "output_type": "stream"
                },
                {
                    "name": "stdout",
                    "text": "\b\b\b\b\b\b\b\b\b\b\b\b\b\b\b\b\b\b\b\b\b\b\b\b\b\b\b\b\b\b\b\b\b\b\b\b\b\b\b\b\b\b\b\b\b\b\b\b\b\b\b\b\b\b\b\b\b\b\b\b\b\b\b\b\b\b\b\b\b\b\b\b\b\b\b\b\b\b\b\b\b\b\b\b\r 60/250 [======>.......................] - ETA: 0s - loss: 0.3368 - accuracy: 0.8620",
                    "output_type": "stream"
                },
                {
                    "name": "stdout",
                    "text": "\b\b\b\b\b\b\b\b\b\b\b\b\b\b\b\b\b\b\b\b\b\b\b\b\b\b\b\b\b\b\b\b\b\b\b\b\b\b\b\b\b\b\b\b\b\b\b\b\b\b\b\b\b\b\b\b\b\b\b\b\b\b\b\b\b\b\b\b\b\b\b\b\b\b\b\b\b\b\b\b\b\b\b\b\r108/250 [===========>..................] - ETA: 0s - loss: 0.3438 - accuracy: 0.8594",
                    "output_type": "stream"
                },
                {
                    "name": "stdout",
                    "text": "\b\b\b\b\b\b\b\b\b\b\b\b\b\b\b\b\b\b\b\b\b\b\b\b\b\b\b\b\b\b\b\b\b\b\b\b\b\b\b\b\b\b\b\b\b\b\b\b\b\b\b\b\b\b\b\b\b\b\b\b\b\b\b\b\b\b\b\b\b\b\b\b\b\b\b\b\b\b\b\b\b\b\b\b\r166/250 [==================>...........] - ETA: 0s - loss: 0.3456 - accuracy: 0.8599",
                    "output_type": "stream"
                },
                {
                    "name": "stdout",
                    "text": "\b\b\b\b\b\b\b\b\b\b\b\b\b\b\b\b\b\b\b\b\b\b\b\b\b\b\b\b\b\b\b\b\b\b\b\b\b\b\b\b\b\b\b\b\b\b\b\b\b\b\b\b\b\b\b\b\b\b\b\b\b\b\b\b\b\b\b\b\b\b\b\b\b\b\b\b\b\b\b\b\b\b\b\b\r216/250 [========================>.....] - ETA: 0s - loss: 0.3387 - accuracy: 0.8630",
                    "output_type": "stream"
                },
                {
                    "name": "stdout",
                    "text": "\b\b\b\b\b\b\b\b\b\b\b\b\b\b\b\b\b\b\b\b\b\b\b\b\b\b\b\b\b\b\b\b\b\b\b\b\b\b\b\b\b\b\b\b\b\b\b\b\b\b\b\b\b\b\b\b\b\b\b\b\b\b\b\b\b\b\b\b\b\b\b\b\b\b\b\b\b\b\b\b\b\b\b\b\r250/250 [==============================] - 0s 934us/step - loss: 0.3352 - accuracy: 0.8641\n",
                    "output_type": "stream"
                },
                {
                    "name": "stdout",
                    "text": "Epoch 84/100\n",
                    "output_type": "stream"
                },
                {
                    "name": "stdout",
                    "text": "\r  1/250 [..............................] - ETA: 0s - loss: 0.3594 - accuracy: 0.8438",
                    "output_type": "stream"
                },
                {
                    "name": "stdout",
                    "text": "\b\b\b\b\b\b\b\b\b\b\b\b\b\b\b\b\b\b\b\b\b\b\b\b\b\b\b\b\b\b\b\b\b\b\b\b\b\b\b\b\b\b\b\b\b\b\b\b\b\b\b\b\b\b\b\b\b\b\b\b\b\b\b\b\b\b\b\b\b\b\b\b\b\b\b\b\b\b\b\b\b\b\b\b\r 48/250 [====>.........................] - ETA: 0s - loss: 0.3237 - accuracy: 0.8698",
                    "output_type": "stream"
                },
                {
                    "name": "stdout",
                    "text": "\b\b\b\b\b\b\b\b\b\b\b\b\b\b\b\b\b\b\b\b\b\b\b\b\b\b\b\b\b\b\b\b\b\b\b\b\b\b\b\b\b\b\b\b\b\b\b\b\b\b\b\b\b\b\b\b\b\b\b\b\b\b\b\b\b\b\b\b\b\b\b\b\b\b\b\b\b\b\b\b\b\b\b\b\r103/250 [===========>..................] - ETA: 0s - loss: 0.3266 - accuracy: 0.8701",
                    "output_type": "stream"
                },
                {
                    "name": "stdout",
                    "text": "\b\b\b\b\b\b\b\b\b\b\b\b\b\b\b\b\b\b\b\b\b\b\b\b\b\b\b\b\b\b\b\b\b\b\b\b\b\b\b\b\b\b\b\b\b\b\b\b\b\b\b\b\b\b\b\b\b\b\b\b\b\b\b\b\b\b\b\b\b\b\b\b\b\b\b\b\b\b\b\b\b\b\b\b\r157/250 [=================>............] - ETA: 0s - loss: 0.3302 - accuracy: 0.8676",
                    "output_type": "stream"
                },
                {
                    "name": "stdout",
                    "text": "\b\b\b\b\b\b\b\b\b\b\b\b\b\b\b\b\b\b\b\b\b\b\b\b\b\b\b\b\b\b\b\b\b\b\b\b\b\b\b\b\b\b\b\b\b\b\b\b\b\b\b\b\b\b\b\b\b\b\b\b\b\b\b\b\b\b\b\b\b\b\b\b\b\b\b\b\b\b\b\b\b\b\b\b\r210/250 [========================>.....] - ETA: 0s - loss: 0.3288 - accuracy: 0.8692",
                    "output_type": "stream"
                },
                {
                    "name": "stdout",
                    "text": "\b\b\b\b\b\b\b\b\b\b\b\b\b\b\b\b\b\b\b\b\b\b\b\b\b\b\b\b\b\b\b\b\b\b\b\b\b\b\b\b\b\b\b\b\b\b\b\b\b\b\b\b\b\b\b\b\b\b\b\b\b\b\b\b\b\b\b\b\b\b\b\b\b\b\b\b\b\b\b\b\b\b\b\b\r250/250 [==============================] - 0s 971us/step - loss: 0.3351 - accuracy: 0.8654\n",
                    "output_type": "stream"
                },
                {
                    "name": "stdout",
                    "text": "Epoch 85/100\n",
                    "output_type": "stream"
                },
                {
                    "name": "stdout",
                    "text": "\r  1/250 [..............................] - ETA: 0s - loss: 0.2055 - accuracy: 0.9375",
                    "output_type": "stream"
                },
                {
                    "name": "stdout",
                    "text": "\b\b\b\b\b\b\b\b\b\b\b\b\b\b\b\b\b\b\b\b\b\b\b\b\b\b\b\b\b\b\b\b\b\b\b\b\b\b\b\b\b\b\b\b\b\b\b\b\b\b\b\b\b\b\b\b\b\b\b\b\b\b\b\b\b\b\b\b\b\b\b\b\b\b\b\b\b\b\b\b\b\b\b\b\r 38/250 [===>..........................] - ETA: 0s - loss: 0.3152 - accuracy: 0.8676",
                    "output_type": "stream"
                },
                {
                    "name": "stdout",
                    "text": "\b\b\b\b\b\b\b\b\b\b\b\b\b\b\b\b\b\b\b\b\b\b\b\b\b\b\b\b\b\b\b\b\b\b\b\b\b\b\b\b\b\b\b\b\b\b\b\b\b\b\b\b\b\b\b\b\b\b\b\b\b\b\b\b\b\b\b\b\b\b\b\b\b\b\b\b\b\b\b\b\b\b\b\b\r 57/250 [=====>........................] - ETA: 0s - loss: 0.3225 - accuracy: 0.8679",
                    "output_type": "stream"
                },
                {
                    "name": "stdout",
                    "text": "\b\b\b\b\b\b\b\b\b\b\b\b\b\b\b\b\b\b\b\b\b\b\b\b\b\b\b\b\b\b\b\b\b\b\b\b\b\b\b\b\b\b\b\b\b\b\b\b\b\b\b\b\b\b\b\b\b\b\b\b\b\b\b\b\b\b\b\b\b\b\b\b\b\b\b\b\b\b\b\b\b\b\b\b\r109/250 [============>.................] - ETA: 0s - loss: 0.3367 - accuracy: 0.8610",
                    "output_type": "stream"
                },
                {
                    "name": "stdout",
                    "text": "\b\b\b\b\b\b\b\b\b\b\b\b\b\b\b\b\b\b\b\b\b\b\b\b\b\b\b\b\b\b\b\b\b\b\b\b\b\b\b\b\b\b\b\b\b\b\b\b\b\b\b\b\b\b\b\b\b\b\b\b\b\b\b\b\b\b\b\b\b\b\b\b\b\b\b\b\b\b\b\b\b\b\b\b\r148/250 [================>.............] - ETA: 0s - loss: 0.3422 - accuracy: 0.8583",
                    "output_type": "stream"
                },
                {
                    "name": "stdout",
                    "text": "\b\b\b\b\b\b\b\b\b\b\b\b\b\b\b\b\b\b\b\b\b\b\b\b\b\b\b\b\b\b\b\b\b\b\b\b\b\b\b\b\b\b\b\b\b\b\b\b\b\b\b\b\b\b\b\b\b\b\b\b\b\b\b\b\b\b\b\b\b\b\b\b\b\b\b\b\b\b\b\b\b\b\b\b\r196/250 [======================>.......] - ETA: 0s - loss: 0.3365 - accuracy: 0.8619",
                    "output_type": "stream"
                },
                {
                    "name": "stdout",
                    "text": "\b\b\b\b\b\b\b\b\b\b\b\b\b\b\b\b\b\b\b\b\b\b\b\b\b\b\b\b\b\b\b\b\b\b\b\b\b\b\b\b\b\b\b\b\b\b\b\b\b\b\b\b\b\b\b\b\b\b\b\b\b\b\b\b\b\b\b\b\b\b\b\b\b\b\b\b\b\b\b\b\b\b\b\b\r247/250 [============================>.] - ETA: 0s - loss: 0.3344 - accuracy: 0.8630",
                    "output_type": "stream"
                },
                {
                    "name": "stdout",
                    "text": "\b\b\b\b\b\b\b\b\b\b\b\b\b\b\b\b\b\b\b\b\b\b\b\b\b\b\b\b\b\b\b\b\b\b\b\b\b\b\b\b\b\b\b\b\b\b\b\b\b\b\b\b\b\b\b\b\b\b\b\b\b\b\b\b\b\b\b\b\b\b\b\b\b\b\b\b\b\b\b\b\b\b\b\b\r250/250 [==============================] - 0s 1ms/step - loss: 0.3353 - accuracy: 0.8626\n",
                    "output_type": "stream"
                },
                {
                    "name": "stdout",
                    "text": "Epoch 86/100\n",
                    "output_type": "stream"
                },
                {
                    "name": "stdout",
                    "text": "\r  1/250 [..............................] - ETA: 0s - loss: 0.4954 - accuracy: 0.7500",
                    "output_type": "stream"
                },
                {
                    "name": "stdout",
                    "text": "\b\b\b\b\b\b\b\b\b\b\b\b\b\b\b\b\b\b\b\b\b\b\b\b\b\b\b\b\b\b\b\b\b\b\b\b\b\b\b\b\b\b\b\b\b\b\b\b\b\b\b\b\b\b\b\b\b\b\b\b\b\b\b\b\b\b\b\b\b\b\b\b\b\b\b\b\b\b\b\b\b\b\b\b\r 55/250 [=====>........................] - ETA: 0s - loss: 0.3331 - accuracy: 0.8625",
                    "output_type": "stream"
                },
                {
                    "name": "stdout",
                    "text": "\b\b\b\b\b\b\b\b\b\b\b\b\b\b\b\b\b\b\b\b\b\b\b\b\b\b\b\b\b\b\b\b\b\b\b\b\b\b\b\b\b\b\b\b\b\b\b\b\b\b\b\b\b\b\b\b\b\b\b\b\b\b\b\b\b\b\b\b\b\b\b\b\b\b\b\b\b\b\b\b\b\b\b\b\r104/250 [===========>..................] - ETA: 0s - loss: 0.3337 - accuracy: 0.8612",
                    "output_type": "stream"
                },
                {
                    "name": "stdout",
                    "text": "\b\b\b\b\b\b\b\b\b\b\b\b\b\b\b\b\b\b\b\b\b\b\b\b\b\b\b\b\b\b\b\b\b\b\b\b\b\b\b\b\b\b\b\b\b\b\b\b\b\b\b\b\b\b\b\b\b\b\b\b\b\b\b\b\b\b\b\b\b\b\b\b\b\b\b\b\b\b\b\b\b\b\b\b\r154/250 [=================>............] - ETA: 0s - loss: 0.3312 - accuracy: 0.8655",
                    "output_type": "stream"
                },
                {
                    "name": "stdout",
                    "text": "\b\b\b\b\b\b\b\b\b\b\b\b\b\b\b\b\b\b\b\b\b\b\b\b\b\b\b\b\b\b\b\b\b\b\b\b\b\b\b\b\b\b\b\b\b\b\b\b\b\b\b\b\b\b\b\b\b\b\b\b\b\b\b\b\b\b\b\b\b\b\b\b\b\b\b\b\b\b\b\b\b\b\b\b\r202/250 [=======================>......] - ETA: 0s - loss: 0.3296 - accuracy: 0.8674",
                    "output_type": "stream"
                },
                {
                    "name": "stdout",
                    "text": "\b\b\b\b\b\b\b\b\b\b\b\b\b\b\b\b\b\b\b\b\b\b\b\b\b\b\b\b\b\b\b\b\b\b\b\b\b\b\b\b\b\b\b\b\b\b\b\b\b\b\b\b\b\b\b\b\b\b\b\b\b\b\b\b\b\b\b\b\b\b\b\b\b\b\b\b\b\b\b\b\b\b\b\b\r250/250 [==============================] - 0s 983us/step - loss: 0.3353 - accuracy: 0.8645\n",
                    "output_type": "stream"
                },
                {
                    "name": "stdout",
                    "text": "Epoch 87/100\n",
                    "output_type": "stream"
                },
                {
                    "name": "stdout",
                    "text": "\r  1/250 [..............................] - ETA: 0s - loss: 0.3424 - accuracy: 0.8750",
                    "output_type": "stream"
                },
                {
                    "name": "stdout",
                    "text": "\b\b\b\b\b\b\b\b\b\b\b\b\b\b\b\b\b\b\b\b\b\b\b\b\b\b\b\b\b\b\b\b\b\b\b\b\b\b\b\b\b\b\b\b\b\b\b\b\b\b\b\b\b\b\b\b\b\b\b\b\b\b\b\b\b\b\b\b\b\b\b\b\b\b\b\b\b\b\b\b\b\b\b\b\r 47/250 [====>.........................] - ETA: 0s - loss: 0.3298 - accuracy: 0.8710",
                    "output_type": "stream"
                },
                {
                    "name": "stdout",
                    "text": "\b\b\b\b\b\b\b\b\b\b\b\b\b\b\b\b\b\b\b\b\b\b\b\b\b\b\b\b\b\b\b\b\b\b\b\b\b\b\b\b\b\b\b\b\b\b\b\b\b\b\b\b\b\b\b\b\b\b\b\b\b\b\b\b\b\b\b\b\b\b\b\b\b\b\b\b\b\b\b\b\b\b\b\b\r101/250 [===========>..................] - ETA: 0s - loss: 0.3273 - accuracy: 0.8685",
                    "output_type": "stream"
                },
                {
                    "name": "stdout",
                    "text": "\b\b\b\b\b\b\b\b\b\b\b\b\b\b\b\b\b\b\b\b\b\b\b\b\b\b\b\b\b\b\b\b\b\b\b\b\b\b\b\b\b\b\b\b\b\b\b\b\b\b\b\b\b\b\b\b\b\b\b\b\b\b\b\b\b\b\b\b\b\b\b\b\b\b\b\b\b\b\b\b\b\b\b\b\r146/250 [================>.............] - ETA: 0s - loss: 0.3278 - accuracy: 0.8694",
                    "output_type": "stream"
                },
                {
                    "name": "stdout",
                    "text": "\b\b\b\b\b\b\b\b\b\b\b\b\b\b\b\b\b\b\b\b\b\b\b\b\b\b\b\b\b\b\b\b\b\b\b\b\b\b\b\b\b\b\b\b\b\b\b\b\b\b\b\b\b\b\b\b\b\b\b\b\b\b\b\b\b\b\b\b\b\b\b\b\b\b\b\b\b\b\b\b\b\b\b\b\r197/250 [======================>.......] - ETA: 0s - loss: 0.3333 - accuracy: 0.8641",
                    "output_type": "stream"
                },
                {
                    "name": "stdout",
                    "text": "\b\b\b\b\b\b\b\b\b\b\b\b\b\b\b\b\b\b\b\b\b\b\b\b\b\b\b\b\b\b\b\b\b\b\b\b\b\b\b\b\b\b\b\b\b\b\b\b\b\b\b\b\b\b\b\b\b\b\b\b\b\b\b\b\b\b\b\b\b\b\b\b\b\b\b\b\b\b\b\b\b\b\b\b\r247/250 [============================>.] - ETA: 0s - loss: 0.3343 - accuracy: 0.8653",
                    "output_type": "stream"
                },
                {
                    "name": "stdout",
                    "text": "\b\b\b\b\b\b\b\b\b\b\b\b\b\b\b\b\b\b\b\b\b\b\b\b\b\b\b\b\b\b\b\b\b\b\b\b\b\b\b\b\b\b\b\b\b\b\b\b\b\b\b\b\b\b\b\b\b\b\b\b\b\b\b\b\b\b\b\b\b\b\b\b\b\b\b\b\b\b\b\b\b\b\b\b\r250/250 [==============================] - 0s 1ms/step - loss: 0.3351 - accuracy: 0.8648\n",
                    "output_type": "stream"
                },
                {
                    "name": "stdout",
                    "text": "Epoch 88/100\n",
                    "output_type": "stream"
                },
                {
                    "name": "stdout",
                    "text": "\r  1/250 [..............................] - ETA: 0s - loss: 0.4021 - accuracy: 0.8438",
                    "output_type": "stream"
                },
                {
                    "name": "stdout",
                    "text": "\b\b\b\b\b\b\b\b\b\b\b\b\b\b\b\b\b\b\b\b\b\b\b\b\b\b\b\b\b\b\b\b\b\b\b\b\b\b\b\b\b\b\b\b\b\b\b\b\b\b\b\b\b\b\b\b\b\b\b\b\b\b\b\b\b\b\b\b\b\b\b\b\b\b\b\b\b\b\b\b\b\b\b\b\r 52/250 [=====>........................] - ETA: 0s - loss: 0.3293 - accuracy: 0.8624",
                    "output_type": "stream"
                },
                {
                    "name": "stdout",
                    "text": "\b\b\b\b\b\b\b\b\b\b\b\b\b\b\b\b\b\b\b\b\b\b\b\b\b\b\b\b\b\b\b\b\b\b\b\b\b\b\b\b\b\b\b\b\b\b\b\b\b\b\b\b\b\b\b\b\b\b\b\b\b\b\b\b\b\b\b\b\b\b\b\b\b\b\b\b\b\b\b\b\b\b\b\b\r100/250 [===========>..................] - ETA: 0s - loss: 0.3308 - accuracy: 0.8641",
                    "output_type": "stream"
                },
                {
                    "name": "stdout",
                    "text": "\b\b\b\b\b\b\b\b\b\b\b\b\b\b\b\b\b\b\b\b\b\b\b\b\b\b\b\b\b\b\b\b\b\b\b\b\b\b\b\b\b\b\b\b\b\b\b\b\b\b\b\b\b\b\b\b\b\b\b\b\b\b\b\b\b\b\b\b\b\b\b\b\b\b\b\b\b\b\b\b\b\b\b\b\r154/250 [=================>............] - ETA: 0s - loss: 0.3319 - accuracy: 0.8675",
                    "output_type": "stream"
                },
                {
                    "name": "stdout",
                    "text": "\b\b\b\b\b\b\b\b\b\b\b\b\b\b\b\b\b\b\b\b\b\b\b\b\b\b\b\b\b\b\b\b\b\b\b\b\b\b\b\b\b\b\b\b\b\b\b\b\b\b\b\b\b\b\b\b\b\b\b\b\b\b\b\b\b\b\b\b\b\b\b\b\b\b\b\b\b\b\b\b\b\b\b\b\r198/250 [======================>.......] - ETA: 0s - loss: 0.3325 - accuracy: 0.8655",
                    "output_type": "stream"
                },
                {
                    "name": "stdout",
                    "text": "\b\b\b\b\b\b\b\b\b\b\b\b\b\b\b\b\b\b\b\b\b\b\b\b\b\b\b\b\b\b\b\b\b\b\b\b\b\b\b\b\b\b\b\b\b\b\b\b\b\b\b\b\b\b\b\b\b\b\b\b\b\b\b\b\b\b\b\b\b\b\b\b\b\b\b\b\b\b\b\b\b\b\b\b\r250/250 [==============================] - 0s 1ms/step - loss: 0.3348 - accuracy: 0.8641\n",
                    "output_type": "stream"
                },
                {
                    "name": "stdout",
                    "text": "Epoch 89/100\n",
                    "output_type": "stream"
                },
                {
                    "name": "stdout",
                    "text": "\r  1/250 [..............................] - ETA: 0s - loss: 0.3280 - accuracy: 0.8750",
                    "output_type": "stream"
                },
                {
                    "name": "stdout",
                    "text": "\b\b\b\b\b\b\b\b\b\b\b\b\b\b\b\b\b\b\b\b\b\b\b\b\b\b\b\b\b\b\b\b\b\b\b\b\b\b\b\b\b\b\b\b\b\b\b\b\b\b\b\b\b\b\b\b\b\b\b\b\b\b\b\b\b\b\b\b\b\b\b\b\b\b\b\b\b\b\b\b\b\b\b\b\r 50/250 [=====>........................] - ETA: 0s - loss: 0.3273 - accuracy: 0.8700",
                    "output_type": "stream"
                },
                {
                    "name": "stdout",
                    "text": "\b\b\b\b\b\b\b\b\b\b\b\b\b\b\b\b\b\b\b\b\b\b\b\b\b\b\b\b\b\b\b\b\b\b\b\b\b\b\b\b\b\b\b\b\b\b\b\b\b\b\b\b\b\b\b\b\b\b\b\b\b\b\b\b\b\b\b\b\b\b\b\b\b\b\b\b\b\b\b\b\b\b\b\b\r103/250 [===========>..................] - ETA: 0s - loss: 0.3304 - accuracy: 0.8695",
                    "output_type": "stream"
                },
                {
                    "name": "stdout",
                    "text": "\b\b\b\b\b\b\b\b\b\b\b\b\b\b\b\b\b\b\b\b\b\b\b\b\b\b\b\b\b\b\b\b\b\b\b\b\b\b\b\b\b\b\b\b\b\b\b\b\b\b\b\b\b\b\b\b\b\b\b\b\b\b\b\b\b\b\b\b\b\b\b\b\b\b\b\b\b\b\b\b\b\b\b\b\r149/250 [================>.............] - ETA: 0s - loss: 0.3352 - accuracy: 0.8656",
                    "output_type": "stream"
                },
                {
                    "name": "stdout",
                    "text": "\b\b\b\b\b\b\b\b\b\b\b\b\b\b\b\b\b\b\b\b\b\b\b\b\b\b\b\b\b\b\b\b\b\b\b\b\b\b\b\b\b\b\b\b\b\b\b\b\b\b\b\b\b\b\b\b\b\b\b\b\b\b\b\b\b\b\b\b\b\b\b\b\b\b\b\b\b\b\b\b\b\b\b\b\r200/250 [=======================>......] - ETA: 0s - loss: 0.3364 - accuracy: 0.8656",
                    "output_type": "stream"
                },
                {
                    "name": "stdout",
                    "text": "\b\b\b\b\b\b\b\b\b\b\b\b\b\b\b\b\b\b\b\b\b\b\b\b\b\b\b\b\b\b\b\b\b\b\b\b\b\b\b\b\b\b\b\b\b\b\b\b\b\b\b\b\b\b\b\b\b\b\b\b\b\b\b\b\b\b\b\b\b\b\b\b\b\b\b\b\b\b\b\b\b\b\b\b\r246/250 [============================>.] - ETA: 0s - loss: 0.3343 - accuracy: 0.8653",
                    "output_type": "stream"
                },
                {
                    "name": "stdout",
                    "text": "\b\b\b\b\b\b\b\b\b\b\b\b\b\b\b\b\b\b\b\b\b\b\b\b\b\b\b\b\b\b\b\b\b\b\b\b\b\b\b\b\b\b\b\b\b\b\b\b\b\b\b\b\b\b\b\b\b\b\b\b\b\b\b\b\b\b\b\b\b\b\b\b\b\b\b\b\b\b\b\b\b\b\b\b\r250/250 [==============================] - 0s 1ms/step - loss: 0.3349 - accuracy: 0.8655\n",
                    "output_type": "stream"
                },
                {
                    "name": "stdout",
                    "text": "Epoch 90/100\n",
                    "output_type": "stream"
                },
                {
                    "name": "stdout",
                    "text": "\r  1/250 [..............................] - ETA: 0s - loss: 0.3640 - accuracy: 0.8438",
                    "output_type": "stream"
                },
                {
                    "name": "stdout",
                    "text": "\b\b\b\b\b\b\b\b\b\b\b\b\b\b\b\b\b\b\b\b\b\b\b\b\b\b\b\b\b\b\b\b\b\b\b\b\b\b\b\b\b\b\b\b\b\b\b\b\b\b\b\b\b\b\b\b\b\b\b\b\b\b\b\b\b\b\b\b\b\b\b\b\b\b\b\b\b\b\b\b\b\b\b\b\r 53/250 [=====>........................] - ETA: 0s - loss: 0.3108 - accuracy: 0.8721",
                    "output_type": "stream"
                },
                {
                    "name": "stdout",
                    "text": "\b\b\b\b\b\b\b\b\b\b\b\b\b\b\b\b\b\b\b\b\b\b\b\b\b\b\b\b\b\b\b\b\b\b\b\b\b\b\b\b\b\b\b\b\b\b\b\b\b\b\b\b\b\b\b\b\b\b\b\b\b\b\b\b\b\b\b\b\b\b\b\b\b\b\b\b\b\b\b\b\b\b\b\b\r 98/250 [==========>...................] - ETA: 0s - loss: 0.3280 - accuracy: 0.8661",
                    "output_type": "stream"
                },
                {
                    "name": "stdout",
                    "text": "\b\b\b\b\b\b\b\b\b\b\b\b\b\b\b\b\b\b\b\b\b\b\b\b\b\b\b\b\b\b\b\b\b\b\b\b\b\b\b\b\b\b\b\b\b\b\b\b\b\b\b\b\b\b\b\b\b\b\b\b\b\b\b\b\b\b\b\b\b\b\b\b\b\b\b\b\b\b\b\b\b\b\b\b\r152/250 [=================>............] - ETA: 0s - loss: 0.3321 - accuracy: 0.8616",
                    "output_type": "stream"
                },
                {
                    "name": "stdout",
                    "text": "\b\b\b\b\b\b\b\b\b\b\b\b\b\b\b\b\b\b\b\b\b\b\b\b\b\b\b\b\b\b\b\b\b\b\b\b\b\b\b\b\b\b\b\b\b\b\b\b\b\b\b\b\b\b\b\b\b\b\b\b\b\b\b\b\b\b\b\b\b\b\b\b\b\b\b\b\b\b\b\b\b\b\b\b\r202/250 [=======================>......] - ETA: 0s - loss: 0.3349 - accuracy: 0.8619",
                    "output_type": "stream"
                },
                {
                    "name": "stdout",
                    "text": "\b\b\b\b\b\b\b\b\b\b\b\b\b\b\b\b\b\b\b\b\b\b\b\b\b\b\b\b\b\b\b\b\b\b\b\b\b\b\b\b\b\b\b\b\b\b\b\b\b\b\b\b\b\b\b\b\b\b\b\b\b\b\b\b\b\b\b\b\b\b\b\b\b\b\b\b\b\b\b\b\b\b\b\b\r250/250 [==============================] - 0s 997us/step - loss: 0.3351 - accuracy: 0.8634\n",
                    "output_type": "stream"
                },
                {
                    "name": "stdout",
                    "text": "Epoch 91/100\n",
                    "output_type": "stream"
                },
                {
                    "name": "stdout",
                    "text": "\r  1/250 [..............................] - ETA: 0s - loss: 0.2901 - accuracy: 0.8438",
                    "output_type": "stream"
                },
                {
                    "name": "stdout",
                    "text": "\b\b\b\b\b\b\b\b\b\b\b\b\b\b\b\b\b\b\b\b\b\b\b\b\b\b\b\b\b\b\b\b\b\b\b\b\b\b\b\b\b\b\b\b\b\b\b\b\b\b\b\b\b\b\b\b\b\b\b\b\b\b\b\b\b\b\b\b\b\b\b\b\b\b\b\b\b\b\b\b\b\b\b\b\r 44/250 [====>.........................] - ETA: 0s - loss: 0.3255 - accuracy: 0.8672",
                    "output_type": "stream"
                },
                {
                    "name": "stdout",
                    "text": "\b\b\b\b\b\b\b\b\b\b\b\b\b\b\b\b\b\b\b\b\b\b\b\b\b\b\b\b\b\b\b\b\b\b\b\b\b\b\b\b\b\b\b\b\b\b\b\b\b\b\b\b\b\b\b\b\b\b\b\b\b\b\b\b\b\b\b\b\b\b\b\b\b\b\b\b\b\b\b\b\b\b\b\b\r 97/250 [==========>...................] - ETA: 0s - loss: 0.3195 - accuracy: 0.8740",
                    "output_type": "stream"
                },
                {
                    "name": "stdout",
                    "text": "\b\b\b\b\b\b\b\b\b\b\b\b\b\b\b\b\b\b\b\b\b\b\b\b\b\b\b\b\b\b\b\b\b\b\b\b\b\b\b\b\b\b\b\b\b\b\b\b\b\b\b\b\b\b\b\b\b\b\b\b\b\b\b\b\b\b\b\b\b\b\b\b\b\b\b\b\b\b\b\b\b\b\b\b\r146/250 [================>.............] - ETA: 0s - loss: 0.3304 - accuracy: 0.8658",
                    "output_type": "stream"
                },
                {
                    "name": "stdout",
                    "text": "\b\b\b\b\b\b\b\b\b\b\b\b\b\b\b\b\b\b\b\b\b\b\b\b\b\b\b\b\b\b\b\b\b\b\b\b\b\b\b\b\b\b\b\b\b\b\b\b\b\b\b\b\b\b\b\b\b\b\b\b\b\b\b\b\b\b\b\b\b\b\b\b\b\b\b\b\b\b\b\b\b\b\b\b\r203/250 [=======================>......] - ETA: 0s - loss: 0.3372 - accuracy: 0.8615",
                    "output_type": "stream"
                },
                {
                    "name": "stdout",
                    "text": "\b\b\b\b\b\b\b\b\b\b\b\b\b\b\b\b\b\b\b\b\b\b\b\b\b\b\b\b\b\b\b\b\b\b\b\b\b\b\b\b\b\b\b\b\b\b\b\b\b\b\b\b\b\b\b\b\b\b\b\b\b\b\b\b\b\b\b\b\b\b\b\b\b\b\b\b\b\b\b\b\b\b\b\b\r250/250 [==============================] - ETA: 0s - loss: 0.3345 - accuracy: 0.8629",
                    "output_type": "stream"
                },
                {
                    "name": "stdout",
                    "text": "\b\b\b\b\b\b\b\b\b\b\b\b\b\b\b\b\b\b\b\b\b\b\b\b\b\b\b\b\b\b\b\b\b\b\b\b\b\b\b\b\b\b\b\b\b\b\b\b\b\b\b\b\b\b\b\b\b\b\b\b\b\b\b\b\b\b\b\b\b\b\b\b\b\b\b\b\b\b\b\b\b\b\b\b\r250/250 [==============================] - 0s 1ms/step - loss: 0.3345 - accuracy: 0.8629\n",
                    "output_type": "stream"
                },
                {
                    "name": "stdout",
                    "text": "Epoch 92/100\n",
                    "output_type": "stream"
                },
                {
                    "name": "stdout",
                    "text": "\r  1/250 [..............................] - ETA: 0s - loss: 0.2649 - accuracy: 0.9062",
                    "output_type": "stream"
                },
                {
                    "name": "stdout",
                    "text": "\b\b\b\b\b\b\b\b\b\b\b\b\b\b\b\b\b\b\b\b\b\b\b\b\b\b\b\b\b\b\b\b\b\b\b\b\b\b\b\b\b\b\b\b\b\b\b\b\b\b\b\b\b\b\b\b\b\b\b\b\b\b\b\b\b\b\b\b\b\b\b\b\b\b\b\b\b\b\b\b\b\b\b\b\r 55/250 [=====>........................] - ETA: 0s - loss: 0.3118 - accuracy: 0.8767",
                    "output_type": "stream"
                },
                {
                    "name": "stdout",
                    "text": "\b\b\b\b\b\b\b\b\b\b\b\b\b\b\b\b\b\b\b\b\b\b\b\b\b\b\b\b\b\b\b\b\b\b\b\b\b\b\b\b\b\b\b\b\b\b\b\b\b\b\b\b\b\b\b\b\b\b\b\b\b\b\b\b\b\b\b\b\b\b\b\b\b\b\b\b\b\b\b\b\b\b\b\b\r106/250 [===========>..................] - ETA: 0s - loss: 0.3267 - accuracy: 0.8703",
                    "output_type": "stream"
                },
                {
                    "name": "stdout",
                    "text": "\b\b\b\b\b\b\b\b\b\b\b\b\b\b\b\b\b\b\b\b\b\b\b\b\b\b\b\b\b\b\b\b\b\b\b\b\b\b\b\b\b\b\b\b\b\b\b\b\b\b\b\b\b\b\b\b\b\b\b\b\b\b\b\b\b\b\b\b\b\b\b\b\b\b\b\b\b\b\b\b\b\b\b\b\r163/250 [==================>...........] - ETA: 0s - loss: 0.3333 - accuracy: 0.8637",
                    "output_type": "stream"
                },
                {
                    "name": "stdout",
                    "text": "\b\b\b\b\b\b\b\b\b\b\b\b\b\b\b\b\b\b\b\b\b\b\b\b\b\b\b\b\b\b\b\b\b\b\b\b\b\b\b\b\b\b\b\b\b\b\b\b\b\b\b\b\b\b\b\b\b\b\b\b\b\b\b\b\b\b\b\b\b\b\b\b\b\b\b\b\b\b\b\b\b\b\b\b\r215/250 [========================>.....] - ETA: 0s - loss: 0.3340 - accuracy: 0.8651",
                    "output_type": "stream"
                },
                {
                    "name": "stdout",
                    "text": "\b\b\b\b\b\b\b\b\b\b\b\b\b\b\b\b\b\b\b\b\b\b\b\b\b\b\b\b\b\b\b\b\b\b\b\b\b\b\b\b\b\b\b\b\b\b\b\b\b\b\b\b\b\b\b\b\b\b\b\b\b\b\b\b\b\b\b\b\b\b\b\b\b\b\b\b\b\b\b\b\b\b\b\b\r250/250 [==============================] - 0s 949us/step - loss: 0.3341 - accuracy: 0.8649\n",
                    "output_type": "stream"
                },
                {
                    "name": "stdout",
                    "text": "Epoch 93/100\n",
                    "output_type": "stream"
                },
                {
                    "name": "stdout",
                    "text": "\r  1/250 [..............................] - ETA: 0s - loss: 0.2838 - accuracy: 0.9375",
                    "output_type": "stream"
                },
                {
                    "name": "stdout",
                    "text": "\b\b\b\b\b\b\b\b\b\b\b\b\b\b\b\b\b\b\b\b\b\b\b\b\b\b\b\b\b\b\b\b\b\b\b\b\b\b\b\b\b\b\b\b\b\b\b\b\b\b\b\b\b\b\b\b\b\b\b\b\b\b\b\b\b\b\b\b\b\b\b\b\b\b\b\b\b\b\b\b\b\b\b\b\r 54/250 [=====>........................] - ETA: 0s - loss: 0.3304 - accuracy: 0.8669",
                    "output_type": "stream"
                },
                {
                    "name": "stdout",
                    "text": "\b\b\b\b\b\b\b\b\b\b\b\b\b\b\b\b\b\b\b\b\b\b\b\b\b\b\b\b\b\b\b\b\b\b\b\b\b\b\b\b\b\b\b\b\b\b\b\b\b\b\b\b\b\b\b\b\b\b\b\b\b\b\b\b\b\b\b\b\b\b\b\b\b\b\b\b\b\b\b\b\b\b\b\b\r109/250 [============>.................] - ETA: 0s - loss: 0.3326 - accuracy: 0.8635",
                    "output_type": "stream"
                },
                {
                    "name": "stdout",
                    "text": "\b\b\b\b\b\b\b\b\b\b\b\b\b\b\b\b\b\b\b\b\b\b\b\b\b\b\b\b\b\b\b\b\b\b\b\b\b\b\b\b\b\b\b\b\b\b\b\b\b\b\b\b\b\b\b\b\b\b\b\b\b\b\b\b\b\b\b\b\b\b\b\b\b\b\b\b\b\b\b\b\b\b\b\b\r157/250 [=================>............] - ETA: 0s - loss: 0.3349 - accuracy: 0.8631",
                    "output_type": "stream"
                },
                {
                    "name": "stdout",
                    "text": "\b\b\b\b\b\b\b\b\b\b\b\b\b\b\b\b\b\b\b\b\b\b\b\b\b\b\b\b\b\b\b\b\b\b\b\b\b\b\b\b\b\b\b\b\b\b\b\b\b\b\b\b\b\b\b\b\b\b\b\b\b\b\b\b\b\b\b\b\b\b\b\b\b\b\b\b\b\b\b\b\b\b\b\b\r212/250 [========================>.....] - ETA: 0s - loss: 0.3377 - accuracy: 0.8614",
                    "output_type": "stream"
                },
                {
                    "name": "stdout",
                    "text": "\b\b\b\b\b\b\b\b\b\b\b\b\b\b\b\b\b\b\b\b\b\b\b\b\b\b\b\b\b\b\b\b\b\b\b\b\b\b\b\b\b\b\b\b\b\b\b\b\b\b\b\b\b\b\b\b\b\b\b\b\b\b\b\b\b\b\b\b\b\b\b\b\b\b\b\b\b\b\b\b\b\b\b\b\r250/250 [==============================] - 0s 964us/step - loss: 0.3345 - accuracy: 0.8635\n",
                    "output_type": "stream"
                },
                {
                    "name": "stdout",
                    "text": "Epoch 94/100\n",
                    "output_type": "stream"
                },
                {
                    "name": "stdout",
                    "text": "\r  1/250 [..............................] - ETA: 0s - loss: 0.2495 - accuracy: 0.9062",
                    "output_type": "stream"
                },
                {
                    "name": "stdout",
                    "text": "\b\b\b\b\b\b\b\b\b\b\b\b\b\b\b\b\b\b\b\b\b\b\b\b\b\b\b\b\b\b\b\b\b\b\b\b\b\b\b\b\b\b\b\b\b\b\b\b\b\b\b\b\b\b\b\b\b\b\b\b\b\b\b\b\b\b\b\b\b\b\b\b\b\b\b\b\b\b\b\b\b\b\b\b\r 59/250 [======>.......................] - ETA: 0s - loss: 0.3502 - accuracy: 0.8581",
                    "output_type": "stream"
                },
                {
                    "name": "stdout",
                    "text": "\b\b\b\b\b\b\b\b\b\b\b\b\b\b\b\b\b\b\b\b\b\b\b\b\b\b\b\b\b\b\b\b\b\b\b\b\b\b\b\b\b\b\b\b\b\b\b\b\b\b\b\b\b\b\b\b\b\b\b\b\b\b\b\b\b\b\b\b\b\b\b\b\b\b\b\b\b\b\b\b\b\b\b\b\r108/250 [===========>..................] - ETA: 0s - loss: 0.3467 - accuracy: 0.8576",
                    "output_type": "stream"
                },
                {
                    "name": "stdout",
                    "text": "\b\b\b\b\b\b\b\b\b\b\b\b\b\b\b\b\b\b\b\b\b\b\b\b\b\b\b\b\b\b\b\b\b\b\b\b\b\b\b\b\b\b\b\b\b\b\b\b\b\b\b\b\b\b\b\b\b\b\b\b\b\b\b\b\b\b\b\b\b\b\b\b\b\b\b\b\b\b\b\b\b\b\b\b\r161/250 [==================>...........] - ETA: 0s - loss: 0.3369 - accuracy: 0.8610",
                    "output_type": "stream"
                },
                {
                    "name": "stdout",
                    "text": "\b\b\b\b\b\b\b\b\b\b\b\b\b\b\b\b\b\b\b\b\b\b\b\b\b\b\b\b\b\b\b\b\b\b\b\b\b\b\b\b\b\b\b\b\b\b\b\b\b\b\b\b\b\b\b\b\b\b\b\b\b\b\b\b\b\b\b\b\b\b\b\b\b\b\b\b\b\b\b\b\b\b\b\b\r209/250 [========================>.....] - ETA: 0s - loss: 0.3367 - accuracy: 0.8623",
                    "output_type": "stream"
                },
                {
                    "name": "stdout",
                    "text": "\b\b\b\b\b\b\b\b\b\b\b\b\b\b\b\b\b\b\b\b\b\b\b\b\b\b\b\b\b\b\b\b\b\b\b\b\b\b\b\b\b\b\b\b\b\b\b\b\b\b\b\b\b\b\b\b\b\b\b\b\b\b\b\b\b\b\b\b\b\b\b\b\b\b\b\b\b\b\b\b\b\b\b\b\r250/250 [==============================] - 0s 985us/step - loss: 0.3341 - accuracy: 0.8636\n",
                    "output_type": "stream"
                },
                {
                    "name": "stdout",
                    "text": "Epoch 95/100\n",
                    "output_type": "stream"
                },
                {
                    "name": "stdout",
                    "text": "\r  1/250 [..............................] - ETA: 0s - loss: 0.4834 - accuracy: 0.8750",
                    "output_type": "stream"
                },
                {
                    "name": "stdout",
                    "text": "\b\b\b\b\b\b\b\b\b\b\b\b\b\b\b\b\b\b\b\b\b\b\b\b\b\b\b\b\b\b\b\b\b\b\b\b\b\b\b\b\b\b\b\b\b\b\b\b\b\b\b\b\b\b\b\b\b\b\b\b\b\b\b\b\b\b\b\b\b\b\b\b\b\b\b\b\b\b\b\b\b\b\b\b\r 48/250 [====>.........................] - ETA: 0s - loss: 0.3407 - accuracy: 0.8633",
                    "output_type": "stream"
                },
                {
                    "name": "stdout",
                    "text": "\b\b\b\b\b\b\b\b\b\b\b\b\b\b\b\b\b\b\b\b\b\b\b\b\b\b\b\b\b\b\b\b\b\b\b\b\b\b\b\b\b\b\b\b\b\b\b\b\b\b\b\b\b\b\b\b\b\b\b\b\b\b\b\b\b\b\b\b\b\b\b\b\b\b\b\b\b\b\b\b\b\b\b\b\r100/250 [===========>..................] - ETA: 0s - loss: 0.3384 - accuracy: 0.8637",
                    "output_type": "stream"
                },
                {
                    "name": "stdout",
                    "text": "\b\b\b\b\b\b\b\b\b\b\b\b\b\b\b\b\b\b\b\b\b\b\b\b\b\b\b\b\b\b\b\b\b\b\b\b\b\b\b\b\b\b\b\b\b\b\b\b\b\b\b\b\b\b\b\b\b\b\b\b\b\b\b\b\b\b\b\b\b\b\b\b\b\b\b\b\b\b\b\b\b\b\b\b\r147/250 [================>.............] - ETA: 0s - loss: 0.3377 - accuracy: 0.8650",
                    "output_type": "stream"
                },
                {
                    "name": "stdout",
                    "text": "\b\b\b\b\b\b\b\b\b\b\b\b\b\b\b\b\b\b\b\b\b\b\b\b\b\b\b\b\b\b\b\b\b\b\b\b\b\b\b\b\b\b\b\b\b\b\b\b\b\b\b\b\b\b\b\b\b\b\b\b\b\b\b\b\b\b\b\b\b\b\b\b\b\b\b\b\b\b\b\b\b\b\b\b\r197/250 [======================>.......] - ETA: 0s - loss: 0.3384 - accuracy: 0.8628",
                    "output_type": "stream"
                },
                {
                    "name": "stdout",
                    "text": "\b\b\b\b\b\b\b\b\b\b\b\b\b\b\b\b\b\b\b\b\b\b\b\b\b\b\b\b\b\b\b\b\b\b\b\b\b\b\b\b\b\b\b\b\b\b\b\b\b\b\b\b\b\b\b\b\b\b\b\b\b\b\b\b\b\b\b\b\b\b\b\b\b\b\b\b\b\b\b\b\b\b\b\b\r247/250 [============================>.] - ETA: 0s - loss: 0.3331 - accuracy: 0.8651",
                    "output_type": "stream"
                },
                {
                    "name": "stdout",
                    "text": "\b\b\b\b\b\b\b\b\b\b\b\b\b\b\b\b\b\b\b\b\b\b\b\b\b\b\b\b\b\b\b\b\b\b\b\b\b\b\b\b\b\b\b\b\b\b\b\b\b\b\b\b\b\b\b\b\b\b\b\b\b\b\b\b\b\b\b\b\b\b\b\b\b\b\b\b\b\b\b\b\b\b\b\b\r250/250 [==============================] - 0s 1ms/step - loss: 0.3339 - accuracy: 0.8648\n",
                    "output_type": "stream"
                },
                {
                    "name": "stdout",
                    "text": "Epoch 96/100\n",
                    "output_type": "stream"
                },
                {
                    "name": "stdout",
                    "text": "\r  1/250 [..............................] - ETA: 0s - loss: 0.4986 - accuracy: 0.8125",
                    "output_type": "stream"
                },
                {
                    "name": "stdout",
                    "text": "\b\b\b\b\b\b\b\b\b\b\b\b\b\b\b\b\b\b\b\b\b\b\b\b\b\b\b\b\b\b\b\b\b\b\b\b\b\b\b\b\b\b\b\b\b\b\b\b\b\b\b\b\b\b\b\b\b\b\b\b\b\b\b\b\b\b\b\b\b\b\b\b\b\b\b\b\b\b\b\b\b\b\b\b\r 55/250 [=====>........................] - ETA: 0s - loss: 0.3253 - accuracy: 0.8631",
                    "output_type": "stream"
                },
                {
                    "name": "stdout",
                    "text": "\b\b\b\b\b\b\b\b\b\b\b\b\b\b\b\b\b\b\b\b\b\b\b\b\b\b\b\b\b\b\b\b\b\b\b\b\b\b\b\b\b\b\b\b\b\b\b\b\b\b\b\b\b\b\b\b\b\b\b\b\b\b\b\b\b\b\b\b\b\b\b\b\b\b\b\b\b\b\b\b\b\b\b\b\r108/250 [===========>..................] - ETA: 0s - loss: 0.3254 - accuracy: 0.8640",
                    "output_type": "stream"
                },
                {
                    "name": "stdout",
                    "text": "\b\b\b\b\b\b\b\b\b\b\b\b\b\b\b\b\b\b\b\b\b\b\b\b\b\b\b\b\b\b\b\b\b\b\b\b\b\b\b\b\b\b\b\b\b\b\b\b\b\b\b\b\b\b\b\b\b\b\b\b\b\b\b\b\b\b\b\b\b\b\b\b\b\b\b\b\b\b\b\b\b\b\b\b\r167/250 [===================>..........] - ETA: 0s - loss: 0.3297 - accuracy: 0.8630",
                    "output_type": "stream"
                },
                {
                    "name": "stdout",
                    "text": "\b\b\b\b\b\b\b\b\b\b\b\b\b\b\b\b\b\b\b\b\b\b\b\b\b\b\b\b\b\b\b\b\b\b\b\b\b\b\b\b\b\b\b\b\b\b\b\b\b\b\b\b\b\b\b\b\b\b\b\b\b\b\b\b\b\b\b\b\b\b\b\b\b\b\b\b\b\b\b\b\b\b\b\b\r219/250 [=========================>....] - ETA: 0s - loss: 0.3294 - accuracy: 0.8644",
                    "output_type": "stream"
                },
                {
                    "name": "stdout",
                    "text": "\b\b\b\b\b\b\b\b\b\b\b\b\b\b\b\b\b\b\b\b\b\b\b\b\b\b\b\b\b\b\b\b\b\b\b\b\b\b\b\b\b\b\b\b\b\b\b\b\b\b\b\b\b\b\b\b\b\b\b\b\b\b\b\b\b\b\b\b\b\b\b\b\b\b\b\b\b\b\b\b\b\b\b\b\r250/250 [==============================] - 0s 948us/step - loss: 0.3336 - accuracy: 0.8640\n",
                    "output_type": "stream"
                },
                {
                    "name": "stdout",
                    "text": "Epoch 97/100\n",
                    "output_type": "stream"
                },
                {
                    "name": "stdout",
                    "text": "\r  1/250 [..............................] - ETA: 0s - loss: 0.1980 - accuracy: 0.9688",
                    "output_type": "stream"
                },
                {
                    "name": "stdout",
                    "text": "\b\b\b\b\b\b\b\b\b\b\b\b\b\b\b\b\b\b\b\b\b\b\b\b\b\b\b\b\b\b\b\b\b\b\b\b\b\b\b\b\b\b\b\b\b\b\b\b\b\b\b\b\b\b\b\b\b\b\b\b\b\b\b\b\b\b\b\b\b\b\b\b\b\b\b\b\b\b\b\b\b\b\b\b\r 50/250 [=====>........................] - ETA: 0s - loss: 0.3317 - accuracy: 0.8731",
                    "output_type": "stream"
                },
                {
                    "name": "stdout",
                    "text": "\b\b\b\b\b\b\b\b\b\b\b\b\b\b\b\b\b\b\b\b\b\b\b\b\b\b\b\b\b\b\b\b\b\b\b\b\b\b\b\b\b\b\b\b\b\b\b\b\b\b\b\b\b\b\b\b\b\b\b\b\b\b\b\b\b\b\b\b\b\b\b\b\b\b\b\b\b\b\b\b\b\b\b\b\r 97/250 [==========>...................] - ETA: 0s - loss: 0.3346 - accuracy: 0.8653",
                    "output_type": "stream"
                },
                {
                    "name": "stdout",
                    "text": "\b\b\b\b\b\b\b\b\b\b\b\b\b\b\b\b\b\b\b\b\b\b\b\b\b\b\b\b\b\b\b\b\b\b\b\b\b\b\b\b\b\b\b\b\b\b\b\b\b\b\b\b\b\b\b\b\b\b\b\b\b\b\b\b\b\b\b\b\b\b\b\b\b\b\b\b\b\b\b\b\b\b\b\b\r147/250 [================>.............] - ETA: 0s - loss: 0.3303 - accuracy: 0.8661",
                    "output_type": "stream"
                },
                {
                    "name": "stdout",
                    "text": "\b\b\b\b\b\b\b\b\b\b\b\b\b\b\b\b\b\b\b\b\b\b\b\b\b\b\b\b\b\b\b\b\b\b\b\b\b\b\b\b\b\b\b\b\b\b\b\b\b\b\b\b\b\b\b\b\b\b\b\b\b\b\b\b\b\b\b\b\b\b\b\b\b\b\b\b\b\b\b\b\b\b\b\b\r192/250 [======================>.......] - ETA: 0s - loss: 0.3285 - accuracy: 0.8680",
                    "output_type": "stream"
                },
                {
                    "name": "stdout",
                    "text": "\b\b\b\b\b\b\b\b\b\b\b\b\b\b\b\b\b\b\b\b\b\b\b\b\b\b\b\b\b\b\b\b\b\b\b\b\b\b\b\b\b\b\b\b\b\b\b\b\b\b\b\b\b\b\b\b\b\b\b\b\b\b\b\b\b\b\b\b\b\b\b\b\b\b\b\b\b\b\b\b\b\b\b\b\r245/250 [============================>.] - ETA: 0s - loss: 0.3344 - accuracy: 0.8640",
                    "output_type": "stream"
                },
                {
                    "name": "stdout",
                    "text": "\b\b\b\b\b\b\b\b\b\b\b\b\b\b\b\b\b\b\b\b\b\b\b\b\b\b\b\b\b\b\b\b\b\b\b\b\b\b\b\b\b\b\b\b\b\b\b\b\b\b\b\b\b\b\b\b\b\b\b\b\b\b\b\b\b\b\b\b\b\b\b\b\b\b\b\b\b\b\b\b\b\b\b\b\r250/250 [==============================] - 0s 1ms/step - loss: 0.3339 - accuracy: 0.8644\n",
                    "output_type": "stream"
                },
                {
                    "name": "stdout",
                    "text": "Epoch 98/100\n",
                    "output_type": "stream"
                },
                {
                    "name": "stdout",
                    "text": "\r  1/250 [..............................] - ETA: 0s - loss: 0.3696 - accuracy: 0.8438",
                    "output_type": "stream"
                },
                {
                    "name": "stdout",
                    "text": "\b\b\b\b\b\b\b\b\b\b\b\b\b\b\b\b\b\b\b\b\b\b\b\b\b\b\b\b\b\b\b\b\b\b\b\b\b\b\b\b\b\b\b\b\b\b\b\b\b\b\b\b\b\b\b\b\b\b\b\b\b\b\b\b\b\b\b\b\b\b\b\b\b\b\b\b\b\b\b\b\b\b\b\b\r 49/250 [====>.........................] - ETA: 0s - loss: 0.3398 - accuracy: 0.8603",
                    "output_type": "stream"
                },
                {
                    "name": "stdout",
                    "text": "\b\b\b\b\b\b\b\b\b\b\b\b\b\b\b\b\b\b\b\b\b\b\b\b\b\b\b\b\b\b\b\b\b\b\b\b\b\b\b\b\b\b\b\b\b\b\b\b\b\b\b\b\b\b\b\b\b\b\b\b\b\b\b\b\b\b\b\b\b\b\b\b\b\b\b\b\b\b\b\b\b\b\b\b\r101/250 [===========>..................] - ETA: 0s - loss: 0.3358 - accuracy: 0.8645",
                    "output_type": "stream"
                },
                {
                    "name": "stdout",
                    "text": "\b\b\b\b\b\b\b\b\b\b\b\b\b\b\b\b\b\b\b\b\b\b\b\b\b\b\b\b\b\b\b\b\b\b\b\b\b\b\b\b\b\b\b\b\b\b\b\b\b\b\b\b\b\b\b\b\b\b\b\b\b\b\b\b\b\b\b\b\b\b\b\b\b\b\b\b\b\b\b\b\b\b\b\b\r151/250 [=================>............] - ETA: 0s - loss: 0.3285 - accuracy: 0.8684",
                    "output_type": "stream"
                },
                {
                    "name": "stdout",
                    "text": "\b\b\b\b\b\b\b\b\b\b\b\b\b\b\b\b\b\b\b\b\b\b\b\b\b\b\b\b\b\b\b\b\b\b\b\b\b\b\b\b\b\b\b\b\b\b\b\b\b\b\b\b\b\b\b\b\b\b\b\b\b\b\b\b\b\b\b\b\b\b\b\b\b\b\b\b\b\b\b\b\b\b\b\b\r202/250 [=======================>......] - ETA: 0s - loss: 0.3311 - accuracy: 0.8668",
                    "output_type": "stream"
                },
                {
                    "name": "stdout",
                    "text": "\b\b\b\b\b\b\b\b\b\b\b\b\b\b\b\b\b\b\b\b\b\b\b\b\b\b\b\b\b\b\b\b\b\b\b\b\b\b\b\b\b\b\b\b\b\b\b\b\b\b\b\b\b\b\b\b\b\b\b\b\b\b\b\b\b\b\b\b\b\b\b\b\b\b\b\b\b\b\b\b\b\b\b\b\r250/250 [==============================] - ETA: 0s - loss: 0.3334 - accuracy: 0.8648",
                    "output_type": "stream"
                },
                {
                    "name": "stdout",
                    "text": "\b\b\b\b\b\b\b\b\b\b\b\b\b\b\b\b\b\b\b\b\b\b\b\b\b\b\b\b\b\b\b\b\b\b\b\b\b\b\b\b\b\b\b\b\b\b\b\b\b\b\b\b\b\b\b\b\b\b\b\b\b\b\b\b\b\b\b\b\b\b\b\b\b\b\b\b\b\b\b\b\b\b\b\b\r250/250 [==============================] - 0s 1ms/step - loss: 0.3334 - accuracy: 0.8648\n",
                    "output_type": "stream"
                },
                {
                    "name": "stdout",
                    "text": "Epoch 99/100\n",
                    "output_type": "stream"
                },
                {
                    "name": "stdout",
                    "text": "\r  1/250 [..............................] - ETA: 0s - loss: 0.3649 - accuracy: 0.7188",
                    "output_type": "stream"
                },
                {
                    "name": "stdout",
                    "text": "\b\b\b\b\b\b\b\b\b\b\b\b\b\b\b\b\b\b\b\b\b\b\b\b\b\b\b\b\b\b\b\b\b\b\b\b\b\b\b\b\b\b\b\b\b\b\b\b\b\b\b\b\b\b\b\b\b\b\b\b\b\b\b\b\b\b\b\b\b\b\b\b\b\b\b\b\b\b\b\b\b\b\b\b\r 51/250 [=====>........................] - ETA: 0s - loss: 0.3547 - accuracy: 0.8548",
                    "output_type": "stream"
                },
                {
                    "name": "stdout",
                    "text": "\b\b\b\b\b\b\b\b\b\b\b\b\b\b\b\b\b\b\b\b\b\b\b\b\b\b\b\b\b\b\b\b\b\b\b\b\b\b\b\b\b\b\b\b\b\b\b\b\b\b\b\b\b\b\b\b\b\b\b\b\b\b\b\b\b\b\b\b\b\b\b\b\b\b\b\b\b\b\b\b\b\b\b\b\r101/250 [===========>..................] - ETA: 0s - loss: 0.3424 - accuracy: 0.8614",
                    "output_type": "stream"
                },
                {
                    "name": "stdout",
                    "text": "\b\b\b\b\b\b\b\b\b\b\b\b\b\b\b\b\b\b\b\b\b\b\b\b\b\b\b\b\b\b\b\b\b\b\b\b\b\b\b\b\b\b\b\b\b\b\b\b\b\b\b\b\b\b\b\b\b\b\b\b\b\b\b\b\b\b\b\b\b\b\b\b\b\b\b\b\b\b\b\b\b\b\b\b\r149/250 [================>.............] - ETA: 0s - loss: 0.3404 - accuracy: 0.8612",
                    "output_type": "stream"
                },
                {
                    "name": "stdout",
                    "text": "\b\b\b\b\b\b\b\b\b\b\b\b\b\b\b\b\b\b\b\b\b\b\b\b\b\b\b\b\b\b\b\b\b\b\b\b\b\b\b\b\b\b\b\b\b\b\b\b\b\b\b\b\b\b\b\b\b\b\b\b\b\b\b\b\b\b\b\b\b\b\b\b\b\b\b\b\b\b\b\b\b\b\b\b\r199/250 [======================>.......] - ETA: 0s - loss: 0.3356 - accuracy: 0.8640",
                    "output_type": "stream"
                },
                {
                    "name": "stdout",
                    "text": "\b\b\b\b\b\b\b\b\b\b\b\b\b\b\b\b\b\b\b\b\b\b\b\b\b\b\b\b\b\b\b\b\b\b\b\b\b\b\b\b\b\b\b\b\b\b\b\b\b\b\b\b\b\b\b\b\b\b\b\b\b\b\b\b\b\b\b\b\b\b\b\b\b\b\b\b\b\b\b\b\b\b\b\b\r249/250 [============================>.] - ETA: 0s - loss: 0.3343 - accuracy: 0.8652",
                    "output_type": "stream"
                },
                {
                    "name": "stdout",
                    "text": "\b\b\b\b\b\b\b\b\b\b\b\b\b\b\b\b\b\b\b\b\b\b\b\b\b\b\b\b\b\b\b\b\b\b\b\b\b\b\b\b\b\b\b\b\b\b\b\b\b\b\b\b\b\b\b\b\b\b\b\b\b\b\b\b\b\b\b\b\b\b\b\b\b\b\b\b\b\b\b\b\b\b\b\b\r250/250 [==============================] - 0s 1ms/step - loss: 0.3341 - accuracy: 0.8650\n",
                    "output_type": "stream"
                },
                {
                    "name": "stdout",
                    "text": "Epoch 100/100\n",
                    "output_type": "stream"
                },
                {
                    "name": "stdout",
                    "text": "\r  1/250 [..............................] - ETA: 0s - loss: 0.3080 - accuracy: 0.9062",
                    "output_type": "stream"
                },
                {
                    "name": "stdout",
                    "text": "\b\b\b\b\b\b\b\b\b\b\b\b\b\b\b\b\b\b\b\b\b\b\b\b\b\b\b\b\b\b\b\b\b\b\b\b\b\b\b\b\b\b\b\b\b\b\b\b\b\b\b\b\b\b\b\b\b\b\b\b\b\b\b\b\b\b\b\b\b\b\b\b\b\b\b\b\b\b\b\b\b\b\b\b\r 49/250 [====>.........................] - ETA: 0s - loss: 0.3357 - accuracy: 0.8654",
                    "output_type": "stream"
                },
                {
                    "name": "stdout",
                    "text": "\b\b\b\b\b\b\b\b\b\b\b\b\b\b\b\b\b\b\b\b\b\b\b\b\b\b\b\b\b\b\b\b\b\b\b\b\b\b\b\b\b\b\b\b\b\b\b\b\b\b\b\b\b\b\b\b\b\b\b\b\b\b\b\b\b\b\b\b\b\b\b\b\b\b\b\b\b\b\b\b\b\b\b\b\r106/250 [===========>..................] - ETA: 0s - loss: 0.3311 - accuracy: 0.8694",
                    "output_type": "stream"
                },
                {
                    "name": "stdout",
                    "text": "\b\b\b\b\b\b\b\b\b\b\b\b\b\b\b\b\b\b\b\b\b\b\b\b\b\b\b\b\b\b\b\b\b\b\b\b\b\b\b\b\b\b\b\b\b\b\b\b\b\b\b\b\b\b\b\b\b\b\b\b\b\b\b\b\b\b\b\b\b\b\b\b\b\b\b\b\b\b\b\b\b\b\b\b\r158/250 [=================>............] - ETA: 0s - loss: 0.3391 - accuracy: 0.8629",
                    "output_type": "stream"
                },
                {
                    "name": "stdout",
                    "text": "\b\b\b\b\b\b\b\b\b\b\b\b\b\b\b\b\b\b\b\b\b\b\b\b\b\b\b\b\b\b\b\b\b\b\b\b\b\b\b\b\b\b\b\b\b\b\b\b\b\b\b\b\b\b\b\b\b\b\b\b\b\b\b\b\b\b\b\b\b\b\b\b\b\b\b\b\b\b\b\b\b\b\b\b\r206/250 [=======================>......] - ETA: 0s - loss: 0.3356 - accuracy: 0.8650",
                    "output_type": "stream"
                },
                {
                    "name": "stdout",
                    "text": "\b\b\b\b\b\b\b\b\b\b\b\b\b\b\b\b\b\b\b\b\b\b\b\b\b\b\b\b\b\b\b\b\b\b\b\b\b\b\b\b\b\b\b\b\b\b\b\b\b\b\b\b\b\b\b\b\b\b\b\b\b\b\b\b\b\b\b\b\b\b\b\b\b\b\b\b\b\b\b\b\b\b\b\b\r250/250 [==============================] - 0s 976us/step - loss: 0.3337 - accuracy: 0.8648\n",
                    "output_type": "stream"
                },
                {
                    "data": {
                        "text/plain": "<keras.callbacks.History at 0x210ef00b910>"
                    },
                    "metadata": {},
                    "execution_count": 16,
                    "output_type": "execute_result"
                }
            ],
            "execution_count": 16
        },
        {
            "cell_type": "code",
            "source": [
                "preds = ANN.predict(X_test) > 0.5\r\n",
                ""
            ],
            "metadata": {
                "azdata_cell_guid": "aa8d6858-e65f-4241-a52f-6e6730dad590",
                "language": "python"
            },
            "outputs": [
                {
                    "name": "stdout",
                    "text": "\r 1/63 [..............................] - ETA: 6s",
                    "output_type": "stream"
                },
                {
                    "name": "stdout",
                    "text": "\b\b\b\b\b\b\b\b\b\b\b\b\b\b\b\b\b\b\b\b\b\b\b\b\b\b\b\b\b\b\b\b\b\b\b\b\b\b\b\b\b\b\b\b\b\b\b\b\r63/63 [==============================] - ETA: 0s",
                    "output_type": "stream"
                },
                {
                    "name": "stdout",
                    "text": "\b\b\b\b\b\b\b\b\b\b\b\b\b\b\b\b\b\b\b\b\b\b\b\b\b\b\b\b\b\b\b\b\b\b\b\b\b\b\b\b\b\b\b\b\b\b\b\b\r63/63 [==============================] - 0s 837us/step\n",
                    "output_type": "stream"
                },
                {
                    "name": "stdout",
                    "text": "[[False]\n [False]\n [False]\n ...\n [False]\n [False]\n [False]]\n",
                    "output_type": "stream"
                }
            ],
            "execution_count": 17
        },
        {
            "cell_type": "code",
            "source": [
                "from sklearn.metrics import accuracy_score, confusion_matrix\r\n",
                "cm = confusion_matrix(Y_test,preds)\r\n",
                "acs = accuracy_score(Y_test,preds) "
            ],
            "metadata": {
                "language": "python",
                "azdata_cell_guid": "42453152-98fd-447e-bed5-8b422d14c0c6"
            },
            "outputs": [],
            "execution_count": 18
        },
        {
            "cell_type": "code",
            "source": [
                "print(cm)\r\n",
                "print(acs)"
            ],
            "metadata": {
                "language": "python",
                "azdata_cell_guid": "8412b891-718e-42c1-82df-774f4267e756"
            },
            "outputs": [
                {
                    "name": "stdout",
                    "text": "[[1535   50]\n [ 224  191]]\n0.863\n",
                    "output_type": "stream"
                }
            ],
            "execution_count": 21
        }
    ]
}