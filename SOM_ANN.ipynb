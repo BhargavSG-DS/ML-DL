{
    "metadata": {
        "kernelspec": {
            "name": "python3",
            "display_name": "Python 3 (ipykernel)",
            "language": "python"
        },
        "language_info": {
            "name": "python",
            "version": "3.11.1",
            "mimetype": "text/x-python",
            "codemirror_mode": {
                "name": "ipython",
                "version": 3
            },
            "pygments_lexer": "ipython3",
            "nbconvert_exporter": "python",
            "file_extension": ".py"
        }
    },
    "nbformat_minor": 2,
    "nbformat": 4,
    "cells": [
        {
            "cell_type": "markdown",
            "source": [
                "# Hybrid Deep Learning Model\n",
                "\n",
                "## SOMs with ANN for fraud Prediction.\n",
                "\n",
                "## Credit Card Fraud Detection and Prediction"
            ],
            "metadata": {
                "language": "python",
                "azdata_cell_guid": "19245de8-7ece-4a01-ab3d-8a95e3edb000"
            },
            "attachments": {}
        },
        {
            "cell_type": "markdown",
            "source": [
                "## SOM"
            ],
            "metadata": {
                "language": "",
                "azdata_cell_guid": "a98dd720-dd0d-4817-ae8f-40df7ec16807"
            },
            "attachments": {}
        },
        {
            "cell_type": "markdown",
            "source": [
                "### Importing the libraries"
            ],
            "metadata": {
                "language": "python",
                "azdata_cell_guid": "f9667e26-0fe6-474b-8757-a9115ea1e012"
            },
            "attachments": {}
        },
        {
            "cell_type": "code",
            "source": [
                "import numpy as np\r\n",
                "import pandas as pd\r\n",
                "import matplotlib.pyplot as plt\r\n",
                "\r\n",
                "from sklearn.preprocessing import MinMaxScaler\r\n",
                "from minisom import MiniSom\r\n",
                "from tensorflow.keras.models import Sequential\r\n",
                "from tensorflow.keras.layers import Dense\r\n",
                "\r\n",
                "from pylab import bone, pcolor, colorbar, plot, show"
            ],
            "metadata": {
                "azdata_cell_guid": "d228907a-a94d-4d42-8a6c-e9da4c002351",
                "language": "python",
                "tags": []
            },
            "outputs": [],
            "execution_count": 1
        },
        {
            "cell_type": "markdown",
            "source": [
                "### Getting the Dataset"
            ],
            "metadata": {
                "language": "python",
                "azdata_cell_guid": "f905faef-218e-467e-b45c-f7d0aa68103d"
            },
            "attachments": {}
        },
        {
            "cell_type": "code",
            "source": [
                "dataset = pd.read_csv(\"dataset/creditcard.csv\")"
            ],
            "metadata": {
                "language": "python",
                "azdata_cell_guid": "54b938f6-e864-4435-b149-1e7908f9b8e4"
            },
            "outputs": [],
            "execution_count": 2
        },
        {
            "cell_type": "code",
            "source": [
                "X = dataset.iloc[:,:-1].values\r\n",
                "y = dataset.iloc[:,-1].values"
            ],
            "metadata": {
                "language": "python",
                "azdata_cell_guid": "b320794a-60d6-4b22-a815-2e6a2dbf88b2"
            },
            "outputs": [],
            "execution_count": 3
        },
        {
            "cell_type": "markdown",
            "source": [
                "## Data Preprocessing"
            ],
            "metadata": {
                "language": "",
                "azdata_cell_guid": "12a7ee6e-2e4e-4eb0-bc40-deb5ee1720de"
            },
            "attachments": {}
        },
        {
            "cell_type": "markdown",
            "source": [
                "### Feature Scaling"
            ],
            "metadata": {
                "language": "",
                "azdata_cell_guid": "cf1ae514-38b6-41ee-a28f-3eb1a4192d70"
            },
            "attachments": {}
        },
        {
            "cell_type": "code",
            "source": [
                "sc = MinMaxScaler(feature_range=(0, 1))\r\n",
                "X = sc.fit_transform(X)"
            ],
            "metadata": {
                "language": "python",
                "azdata_cell_guid": "28521bd7-637b-44c6-9202-23082033c8ca"
            },
            "outputs": [],
            "execution_count": 4
        },
        {
            "cell_type": "markdown",
            "source": [
                "Initialize the model"
            ],
            "metadata": {
                "language": "python",
                "azdata_cell_guid": "82b79680-ca8b-408d-bd6b-17e949a93a47"
            },
            "attachments": {}
        },
        {
            "cell_type": "code",
            "source": [
                "som = MiniSom(x=10,y=10,input_len=X.shape[1],sigma=1.0,learning_rate=0.5)"
            ],
            "metadata": {
                "language": "python",
                "azdata_cell_guid": "fda45e92-520b-4035-84d1-61a2bd14e3e0"
            },
            "outputs": [],
            "execution_count": 5
        },
        {
            "cell_type": "markdown",
            "source": [
                "Train the model"
            ],
            "metadata": {
                "language": "",
                "azdata_cell_guid": "47bec87b-7e24-46a5-8b05-b42765d4a7d9"
            },
            "attachments": {}
        },
        {
            "cell_type": "code",
            "source": [
                "som.random_weights_init(X)\r\n",
                "som.train_random(data = X, num_iteration = 100)"
            ],
            "metadata": {
                "language": "python",
                "azdata_cell_guid": "b5d4a627-1934-49c8-aac2-c9a044e43be5"
            },
            "outputs": [],
            "execution_count": 6
        },
        {
            "cell_type": "markdown",
            "source": [
                "## Visualize the results"
            ],
            "metadata": {
                "language": "",
                "azdata_cell_guid": "2bf12e60-2fa7-49fe-b1ca-caaf8f7f5b3b"
            },
            "attachments": {}
        },
        {
            "cell_type": "code",
            "source": [
                "bone()\r\n",
                "pcolor(som.distance_map().T)\r\n",
                "colorbar()\r\n",
                "markers = ['o','s']\r\n",
                "colors = ['r','g']\r\n",
                "for i, x in enumerate(X):\r\n",
                "    w = som.winner(x)\r\n",
                "    plot(w[0] + 0.5, w[1] + 0.5, markers[y[i]],markeredgecolor=colors[y[i]],markerfacecolor=None,markersize=10,markeredgewidth=2)\r\n",
                "\r\n",
                "show()"
            ],
            "metadata": {
                "azdata_cell_guid": "70d5f111-8f57-4141-a733-2622b08f24a7",
                "language": "python"
            },
            "outputs": [],
            "execution_count": null
        },
        {
            "cell_type": "markdown",
            "source": [
                "## Finding the Frauds"
            ],
            "metadata": {
                "language": "",
                "azdata_cell_guid": "d301a42e-ca5e-4045-8156-a7edb348d920"
            },
            "attachments": {}
        },
        {
            "cell_type": "code",
            "source": [
                "mappings = som.win_map(X)\r\n",
                "frauds = mappings[(7,5)]\r\n",
                "frauds = sc.inverse_transform(frauds)"
            ],
            "metadata": {
                "azdata_cell_guid": "38b2fe32-af0c-4f2f-829e-0efe633ef54b",
                "language": "python"
            },
            "outputs": [],
            "execution_count": 10
        },
        {
            "cell_type": "markdown",
            "source": [
                "## ANN"
            ],
            "metadata": {
                "language": "python",
                "azdata_cell_guid": "5aa669b6-9fd4-426b-b160-91995b3fe45d"
            },
            "attachments": {}
        },
        {
            "cell_type": "markdown",
            "source": [
                "Creating the matrix of features"
            ],
            "metadata": {
                "language": "python",
                "azdata_cell_guid": "c99ee3da-b5e9-46dd-9cac-7cd42147dfd3"
            },
            "attachments": {}
        },
        {
            "cell_type": "code",
            "source": [
                "customers = dataset.iloc[:,1:-1].values\r\n",
                "is_fraud = np.zeros(len(dataset))"
            ],
            "metadata": {
                "language": "python",
                "azdata_cell_guid": "c45524e9-9d5f-4a76-9295-b63551546762",
                "tags": []
            },
            "outputs": [],
            "execution_count": 8
        },
        {
            "cell_type": "code",
            "source": [
                "for i in range(len(dataset)):\r\n",
                "    if dataset.iloc[i, 0] in frauds:\r\n",
                "        is_fraud[i] = 1"
            ],
            "metadata": {
                "language": "python",
                "azdata_cell_guid": "1740a8e5-f4ea-4876-be78-2bb86cb849cb"
            },
            "outputs": [],
            "execution_count": 11
        },
        {
            "cell_type": "code",
            "source": [
                "from sklearn.preprocessing import StandardScaler\r\n",
                "sc = StandardScaler()\r\n",
                "customers = sc.fit_transform(customers)"
            ],
            "metadata": {
                "language": "python",
                "azdata_cell_guid": "9e8dc70d-c571-4b8f-9bc5-e9bd8daa310f"
            },
            "outputs": [],
            "execution_count": 12
        },
        {
            "cell_type": "code",
            "source": [
                "ANN = Sequential()\r\n",
                "ANN.add(Dense(units=6, kernel_initializer = 'uniform',activation='relu',input_dim=customers.shape[1]))\r\n",
                "ANN.add(Dense(units=1, kernel_initializer = 'uniform',activation='sigmoid'))"
            ],
            "metadata": {
                "language": "python",
                "azdata_cell_guid": "4d13cae2-661a-40df-8497-1d105744e390"
            },
            "outputs": [],
            "execution_count": 13
        },
        {
            "cell_type": "code",
            "source": [
                "ANN.compile(optimizer='adam',loss='binary_crossentropy',metrics=['accuracy'])"
            ],
            "metadata": {
                "language": "python",
                "azdata_cell_guid": "33830d8b-785b-48ee-9bf4-f425188957ce"
            },
            "outputs": [],
            "execution_count": 14
        },
        {
            "cell_type": "code",
            "source": [
                "ANN.fit(customers, is_fraud, epochs = 3, verbose=2)"
            ],
            "metadata": {
                "language": "python",
                "azdata_cell_guid": "ecdce16a-8f5d-45cc-a0f7-2a5b4152d9b5"
            },
            "outputs": [
                {
                    "name": "stdout",
                    "text": "Epoch 1/3\n",
                    "output_type": "stream"
                },
                {
                    "name": "stdout",
                    "text": "8901/8901 - 42s - loss: 0.0603 - accuracy: 0.9862 - 42s/epoch - 5ms/step\n",
                    "output_type": "stream"
                },
                {
                    "name": "stdout",
                    "text": "Epoch 2/3\n",
                    "output_type": "stream"
                },
                {
                    "name": "stdout",
                    "text": "8901/8901 - 42s - loss: 0.0597 - accuracy: 0.9863 - 42s/epoch - 5ms/step\n",
                    "output_type": "stream"
                },
                {
                    "name": "stdout",
                    "text": "Epoch 3/3\n",
                    "output_type": "stream"
                },
                {
                    "name": "stdout",
                    "text": "8901/8901 - 42s - loss: 0.0594 - accuracy: 0.9865 - 42s/epoch - 5ms/step\n",
                    "output_type": "stream"
                },
                {
                    "data": {
                        "text/plain": "<keras.callbacks.History at 0x1d423fb0e50>"
                    },
                    "metadata": {},
                    "execution_count": 17,
                    "output_type": "execute_result"
                }
            ],
            "execution_count": 17
        },
        {
            "cell_type": "code",
            "source": [
                "y_pred = ANN.predict(customers,verbose=2)\r\n",
                "y_pred = np.concatenate((dataset.iloc[:,0:1].values, y_pred), axis = 1)"
            ],
            "metadata": {
                "language": "python",
                "azdata_cell_guid": "6403c735-c347-4f95-98e1-1ef247334563"
            },
            "outputs": [
                {
                    "name": "stdout",
                    "text": "8901/8901 - 6s - 6s/epoch - 715us/step\n",
                    "output_type": "stream"
                }
            ],
            "execution_count": 20
        },
        {
            "cell_type": "code",
            "source": [
                "y_pred = y_pred[y_pred[:, 1].argsort()]"
            ],
            "metadata": {
                "language": "python",
                "azdata_cell_guid": "40cb3c5c-6fed-480b-b6c1-895faf0050ea"
            },
            "outputs": [],
            "execution_count": 22
        },
        {
            "cell_type": "code",
            "source": [
                "print(y_pred)"
            ],
            "metadata": {
                "language": "python",
                "azdata_cell_guid": "6d4430c5-70e5-4460-bc5e-e4a6fed42ed6"
            },
            "outputs": [
                {
                    "name": "stdout",
                    "text": "[[1.66198000e+05 3.99217982e-32]\n [5.57090000e+04 3.32608455e-11]\n [1.32779000e+05 2.10648471e-10]\n ...\n [5.48590000e+04 5.90781093e-01]\n [7.77300000e+04 5.91814101e-01]\n [6.63830000e+04 6.00196958e-01]]\n",
                    "output_type": "stream"
                }
            ],
            "execution_count": 23
        }
    ]
}